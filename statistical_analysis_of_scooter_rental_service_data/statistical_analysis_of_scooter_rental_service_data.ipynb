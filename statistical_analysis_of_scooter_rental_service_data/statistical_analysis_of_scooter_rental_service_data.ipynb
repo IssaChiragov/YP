{
 "cells": [
  {
   "cell_type": "code",
   "execution_count": 1,
   "id": "72576667",
   "metadata": {},
   "outputs": [],
   "source": [
    "import pandas as pd\n",
    "import numpy as np\n",
    "import matplotlib.pyplot as plt\n",
    "from scipy import stats as st\n",
    "from scipy.stats import binom"
   ]
  },
  {
   "cell_type": "markdown",
   "id": "28f53a62",
   "metadata": {},
   "source": [
    "# Обшая информация о проекте"
   ]
  },
  {
   "cell_type": "markdown",
   "id": "3a1e3b78",
   "metadata": {},
   "source": [
    "**Заголовок:** Анализ популярного сервиса аренды самокатов GoFast.\n",
    "\n",
    "**Описание проекта:** В современном мире моблильность является одним из ключевым фактором, поэтому современные сервисы проката самоката набирают популярность. Одним из таких сервисов является GoFast. На основании собранных данных о пользователях и их поездках проведем сравнением тех, кто имеет подписку в сервисе с теми, кто её не имеет. Правильный анализ данных поможет GoFast улучшить свой сервис и повысить выручку компании.\n",
    "\n",
    "**Цель исследования:** Определить какие пользователи тратят больше времени на поездки и рассчитать выручку, которую они приносят. Также произвести сравнение данных о пользователях с подпиской и без.\n",
    "\n",
    "**Ход исследования:**\n",
    "\n",
    "- Подготовка данных: загрузка и изучение общей информации из представленных датасетов.\n",
    "- Предобработка данных: поиск пропущенных значений, корректировка типа данных, дубликатов и других аномалий.\n",
    "- Расширение набора данных: добавление новых столбцов, таких как месяц, в котором была совершена та или иная поездка, и выручки, которую принесли пользователи.\n",
    "- Статистический анализ данных: формирование и проверка гипотез о потраченном времени на поездки, о расстояние поездки и о ежемесячной выручке.\n",
    "\n",
    "**Общий вывод:** резюмирование полуенных результатов, формулировка ключевых выводов и результатов."
   ]
  },
  {
   "cell_type": "markdown",
   "id": "c42cbe00",
   "metadata": {},
   "source": [
    "#### Шаг 1. Загрузка данных"
   ]
  },
  {
   "cell_type": "markdown",
   "id": "39a6bfa1",
   "metadata": {},
   "source": [
    "##### Считаем CSV-файлы"
   ]
  },
  {
   "cell_type": "code",
   "execution_count": 2,
   "id": "eff9f206",
   "metadata": {},
   "outputs": [],
   "source": [
    "users = pd.read_csv('/datasets/users_go.csv')\n",
    "rides = pd.read_csv('/datasets/rides_go.csv')\n",
    "subscriptions = pd.read_csv('/datasets/subscriptions_go.csv')"
   ]
  },
  {
   "cell_type": "markdown",
   "id": "98db35b1",
   "metadata": {},
   "source": [
    "##### Выведим первые 10 строк каждого набора"
   ]
  },
  {
   "cell_type": "code",
   "execution_count": 3,
   "id": "5df26a8f",
   "metadata": {},
   "outputs": [
    {
     "data": {
      "text/html": [
       "<div>\n",
       "<style scoped>\n",
       "    .dataframe tbody tr th:only-of-type {\n",
       "        vertical-align: middle;\n",
       "    }\n",
       "\n",
       "    .dataframe tbody tr th {\n",
       "        vertical-align: top;\n",
       "    }\n",
       "\n",
       "    .dataframe thead th {\n",
       "        text-align: right;\n",
       "    }\n",
       "</style>\n",
       "<table border=\"1\" class=\"dataframe\">\n",
       "  <thead>\n",
       "    <tr style=\"text-align: right;\">\n",
       "      <th></th>\n",
       "      <th>user_id</th>\n",
       "      <th>name</th>\n",
       "      <th>age</th>\n",
       "      <th>city</th>\n",
       "      <th>subscription_type</th>\n",
       "    </tr>\n",
       "  </thead>\n",
       "  <tbody>\n",
       "    <tr>\n",
       "      <th>0</th>\n",
       "      <td>1</td>\n",
       "      <td>Кира</td>\n",
       "      <td>22</td>\n",
       "      <td>Тюмень</td>\n",
       "      <td>ultra</td>\n",
       "    </tr>\n",
       "    <tr>\n",
       "      <th>1</th>\n",
       "      <td>2</td>\n",
       "      <td>Станислав</td>\n",
       "      <td>31</td>\n",
       "      <td>Омск</td>\n",
       "      <td>ultra</td>\n",
       "    </tr>\n",
       "    <tr>\n",
       "      <th>2</th>\n",
       "      <td>3</td>\n",
       "      <td>Алексей</td>\n",
       "      <td>20</td>\n",
       "      <td>Москва</td>\n",
       "      <td>ultra</td>\n",
       "    </tr>\n",
       "    <tr>\n",
       "      <th>3</th>\n",
       "      <td>4</td>\n",
       "      <td>Константин</td>\n",
       "      <td>26</td>\n",
       "      <td>Ростов-на-Дону</td>\n",
       "      <td>ultra</td>\n",
       "    </tr>\n",
       "    <tr>\n",
       "      <th>4</th>\n",
       "      <td>5</td>\n",
       "      <td>Адель</td>\n",
       "      <td>28</td>\n",
       "      <td>Омск</td>\n",
       "      <td>ultra</td>\n",
       "    </tr>\n",
       "    <tr>\n",
       "      <th>5</th>\n",
       "      <td>6</td>\n",
       "      <td>Регина</td>\n",
       "      <td>25</td>\n",
       "      <td>Краснодар</td>\n",
       "      <td>ultra</td>\n",
       "    </tr>\n",
       "    <tr>\n",
       "      <th>6</th>\n",
       "      <td>7</td>\n",
       "      <td>Игорь</td>\n",
       "      <td>23</td>\n",
       "      <td>Омск</td>\n",
       "      <td>ultra</td>\n",
       "    </tr>\n",
       "    <tr>\n",
       "      <th>7</th>\n",
       "      <td>8</td>\n",
       "      <td>Юрий</td>\n",
       "      <td>23</td>\n",
       "      <td>Краснодар</td>\n",
       "      <td>ultra</td>\n",
       "    </tr>\n",
       "    <tr>\n",
       "      <th>8</th>\n",
       "      <td>9</td>\n",
       "      <td>Ян</td>\n",
       "      <td>21</td>\n",
       "      <td>Пятигорск</td>\n",
       "      <td>ultra</td>\n",
       "    </tr>\n",
       "    <tr>\n",
       "      <th>9</th>\n",
       "      <td>10</td>\n",
       "      <td>Валерий</td>\n",
       "      <td>18</td>\n",
       "      <td>Екатеринбург</td>\n",
       "      <td>ultra</td>\n",
       "    </tr>\n",
       "  </tbody>\n",
       "</table>\n",
       "</div>"
      ],
      "text/plain": [
       "   user_id        name  age            city subscription_type\n",
       "0        1        Кира   22          Тюмень             ultra\n",
       "1        2   Станислав   31            Омск             ultra\n",
       "2        3     Алексей   20          Москва             ultra\n",
       "3        4  Константин   26  Ростов-на-Дону             ultra\n",
       "4        5       Адель   28            Омск             ultra\n",
       "5        6      Регина   25       Краснодар             ultra\n",
       "6        7       Игорь   23            Омск             ultra\n",
       "7        8        Юрий   23       Краснодар             ultra\n",
       "8        9          Ян   21       Пятигорск             ultra\n",
       "9       10     Валерий   18    Екатеринбург             ultra"
      ]
     },
     "execution_count": 3,
     "metadata": {},
     "output_type": "execute_result"
    }
   ],
   "source": [
    "users.head(10)"
   ]
  },
  {
   "cell_type": "code",
   "execution_count": 4,
   "id": "9df1e362",
   "metadata": {},
   "outputs": [
    {
     "name": "stdout",
     "output_type": "stream",
     "text": [
      "<class 'pandas.core.frame.DataFrame'>\n",
      "RangeIndex: 1565 entries, 0 to 1564\n",
      "Data columns (total 5 columns):\n",
      " #   Column             Non-Null Count  Dtype \n",
      "---  ------             --------------  ----- \n",
      " 0   user_id            1565 non-null   int64 \n",
      " 1   name               1565 non-null   object\n",
      " 2   age                1565 non-null   int64 \n",
      " 3   city               1565 non-null   object\n",
      " 4   subscription_type  1565 non-null   object\n",
      "dtypes: int64(2), object(3)\n",
      "memory usage: 61.3+ KB\n"
     ]
    }
   ],
   "source": [
    "users.info()"
   ]
  },
  {
   "cell_type": "markdown",
   "id": "ec80b705",
   "metadata": {},
   "source": [
    "*Из данных о пользователях видно, что пропущенных значений нет и все столбцы имеют корректный тип данных.*"
   ]
  },
  {
   "cell_type": "code",
   "execution_count": 5,
   "id": "307057f5",
   "metadata": {},
   "outputs": [
    {
     "data": {
      "text/html": [
       "<div>\n",
       "<style scoped>\n",
       "    .dataframe tbody tr th:only-of-type {\n",
       "        vertical-align: middle;\n",
       "    }\n",
       "\n",
       "    .dataframe tbody tr th {\n",
       "        vertical-align: top;\n",
       "    }\n",
       "\n",
       "    .dataframe thead th {\n",
       "        text-align: right;\n",
       "    }\n",
       "</style>\n",
       "<table border=\"1\" class=\"dataframe\">\n",
       "  <thead>\n",
       "    <tr style=\"text-align: right;\">\n",
       "      <th></th>\n",
       "      <th>user_id</th>\n",
       "      <th>distance</th>\n",
       "      <th>duration</th>\n",
       "      <th>date</th>\n",
       "    </tr>\n",
       "  </thead>\n",
       "  <tbody>\n",
       "    <tr>\n",
       "      <th>0</th>\n",
       "      <td>1</td>\n",
       "      <td>4409.919140</td>\n",
       "      <td>25.599769</td>\n",
       "      <td>2021-01-01</td>\n",
       "    </tr>\n",
       "    <tr>\n",
       "      <th>1</th>\n",
       "      <td>1</td>\n",
       "      <td>2617.592153</td>\n",
       "      <td>15.816871</td>\n",
       "      <td>2021-01-18</td>\n",
       "    </tr>\n",
       "    <tr>\n",
       "      <th>2</th>\n",
       "      <td>1</td>\n",
       "      <td>754.159807</td>\n",
       "      <td>6.232113</td>\n",
       "      <td>2021-04-20</td>\n",
       "    </tr>\n",
       "    <tr>\n",
       "      <th>3</th>\n",
       "      <td>1</td>\n",
       "      <td>2694.783254</td>\n",
       "      <td>18.511000</td>\n",
       "      <td>2021-08-11</td>\n",
       "    </tr>\n",
       "    <tr>\n",
       "      <th>4</th>\n",
       "      <td>1</td>\n",
       "      <td>4028.687306</td>\n",
       "      <td>26.265803</td>\n",
       "      <td>2021-08-28</td>\n",
       "    </tr>\n",
       "    <tr>\n",
       "      <th>5</th>\n",
       "      <td>1</td>\n",
       "      <td>2770.890808</td>\n",
       "      <td>16.650138</td>\n",
       "      <td>2021-10-09</td>\n",
       "    </tr>\n",
       "    <tr>\n",
       "      <th>6</th>\n",
       "      <td>1</td>\n",
       "      <td>3039.020292</td>\n",
       "      <td>14.927879</td>\n",
       "      <td>2021-10-19</td>\n",
       "    </tr>\n",
       "    <tr>\n",
       "      <th>7</th>\n",
       "      <td>1</td>\n",
       "      <td>2842.118050</td>\n",
       "      <td>23.117468</td>\n",
       "      <td>2021-11-06</td>\n",
       "    </tr>\n",
       "    <tr>\n",
       "      <th>8</th>\n",
       "      <td>1</td>\n",
       "      <td>3412.690668</td>\n",
       "      <td>15.238072</td>\n",
       "      <td>2021-11-14</td>\n",
       "    </tr>\n",
       "    <tr>\n",
       "      <th>9</th>\n",
       "      <td>1</td>\n",
       "      <td>748.690645</td>\n",
       "      <td>15.041884</td>\n",
       "      <td>2021-11-22</td>\n",
       "    </tr>\n",
       "  </tbody>\n",
       "</table>\n",
       "</div>"
      ],
      "text/plain": [
       "   user_id     distance   duration        date\n",
       "0        1  4409.919140  25.599769  2021-01-01\n",
       "1        1  2617.592153  15.816871  2021-01-18\n",
       "2        1   754.159807   6.232113  2021-04-20\n",
       "3        1  2694.783254  18.511000  2021-08-11\n",
       "4        1  4028.687306  26.265803  2021-08-28\n",
       "5        1  2770.890808  16.650138  2021-10-09\n",
       "6        1  3039.020292  14.927879  2021-10-19\n",
       "7        1  2842.118050  23.117468  2021-11-06\n",
       "8        1  3412.690668  15.238072  2021-11-14\n",
       "9        1   748.690645  15.041884  2021-11-22"
      ]
     },
     "execution_count": 5,
     "metadata": {},
     "output_type": "execute_result"
    }
   ],
   "source": [
    "rides.head(10)"
   ]
  },
  {
   "cell_type": "code",
   "execution_count": 6,
   "id": "eab3e3a3",
   "metadata": {},
   "outputs": [
    {
     "name": "stdout",
     "output_type": "stream",
     "text": [
      "<class 'pandas.core.frame.DataFrame'>\n",
      "RangeIndex: 18068 entries, 0 to 18067\n",
      "Data columns (total 4 columns):\n",
      " #   Column    Non-Null Count  Dtype  \n",
      "---  ------    --------------  -----  \n",
      " 0   user_id   18068 non-null  int64  \n",
      " 1   distance  18068 non-null  float64\n",
      " 2   duration  18068 non-null  float64\n",
      " 3   date      18068 non-null  object \n",
      "dtypes: float64(2), int64(1), object(1)\n",
      "memory usage: 564.8+ KB\n"
     ]
    }
   ],
   "source": [
    "rides.info()"
   ]
  },
  {
   "cell_type": "markdown",
   "id": "c514387a",
   "metadata": {},
   "source": [
    "*Из данных о поездках каждого пользователя видно, что пропущенных значений нет и столбец с датой имеет вещественный тип данных.*"
   ]
  },
  {
   "cell_type": "code",
   "execution_count": 7,
   "id": "c748a10b",
   "metadata": {},
   "outputs": [
    {
     "data": {
      "text/html": [
       "<div>\n",
       "<style scoped>\n",
       "    .dataframe tbody tr th:only-of-type {\n",
       "        vertical-align: middle;\n",
       "    }\n",
       "\n",
       "    .dataframe tbody tr th {\n",
       "        vertical-align: top;\n",
       "    }\n",
       "\n",
       "    .dataframe thead th {\n",
       "        text-align: right;\n",
       "    }\n",
       "</style>\n",
       "<table border=\"1\" class=\"dataframe\">\n",
       "  <thead>\n",
       "    <tr style=\"text-align: right;\">\n",
       "      <th></th>\n",
       "      <th>subscription_type</th>\n",
       "      <th>minute_price</th>\n",
       "      <th>start_ride_price</th>\n",
       "      <th>subscription_fee</th>\n",
       "    </tr>\n",
       "  </thead>\n",
       "  <tbody>\n",
       "    <tr>\n",
       "      <th>0</th>\n",
       "      <td>free</td>\n",
       "      <td>8</td>\n",
       "      <td>50</td>\n",
       "      <td>0</td>\n",
       "    </tr>\n",
       "    <tr>\n",
       "      <th>1</th>\n",
       "      <td>ultra</td>\n",
       "      <td>6</td>\n",
       "      <td>0</td>\n",
       "      <td>199</td>\n",
       "    </tr>\n",
       "  </tbody>\n",
       "</table>\n",
       "</div>"
      ],
      "text/plain": [
       "  subscription_type  minute_price  start_ride_price  subscription_fee\n",
       "0              free             8                50                 0\n",
       "1             ultra             6                 0               199"
      ]
     },
     "execution_count": 7,
     "metadata": {},
     "output_type": "execute_result"
    }
   ],
   "source": [
    "subscriptions.head(10)"
   ]
  },
  {
   "cell_type": "code",
   "execution_count": 8,
   "id": "eb3075c2",
   "metadata": {},
   "outputs": [
    {
     "name": "stdout",
     "output_type": "stream",
     "text": [
      "<class 'pandas.core.frame.DataFrame'>\n",
      "RangeIndex: 2 entries, 0 to 1\n",
      "Data columns (total 4 columns):\n",
      " #   Column             Non-Null Count  Dtype \n",
      "---  ------             --------------  ----- \n",
      " 0   subscription_type  2 non-null      object\n",
      " 1   minute_price       2 non-null      int64 \n",
      " 2   start_ride_price   2 non-null      int64 \n",
      " 3   subscription_fee   2 non-null      int64 \n",
      "dtypes: int64(3), object(1)\n",
      "memory usage: 192.0+ bytes\n"
     ]
    }
   ],
   "source": [
    "subscriptions.info()"
   ]
  },
  {
   "cell_type": "markdown",
   "id": "4c1310f2",
   "metadata": {},
   "source": [
    "*Из данных о подписках видно, что пропущенных значений нет и все столбцы имеют корректный тип данных.*"
   ]
  },
  {
   "cell_type": "markdown",
   "id": "e95ebca7",
   "metadata": {},
   "source": [
    "#### Шаг 2. Предобработка данных"
   ]
  },
  {
   "cell_type": "markdown",
   "id": "32b3109e",
   "metadata": {},
   "source": [
    "##### Приведем столбец даты из данных о поездках пользователей к формату даты"
   ]
  },
  {
   "cell_type": "code",
   "execution_count": 9,
   "id": "48ab5a42",
   "metadata": {},
   "outputs": [],
   "source": [
    "rides['date'] = pd.to_datetime(rides['date'])"
   ]
  },
  {
   "cell_type": "code",
   "execution_count": 10,
   "id": "013723e0",
   "metadata": {},
   "outputs": [
    {
     "name": "stdout",
     "output_type": "stream",
     "text": [
      "<class 'pandas.core.frame.DataFrame'>\n",
      "RangeIndex: 18068 entries, 0 to 18067\n",
      "Data columns (total 4 columns):\n",
      " #   Column    Non-Null Count  Dtype         \n",
      "---  ------    --------------  -----         \n",
      " 0   user_id   18068 non-null  int64         \n",
      " 1   distance  18068 non-null  float64       \n",
      " 2   duration  18068 non-null  float64       \n",
      " 3   date      18068 non-null  datetime64[ns]\n",
      "dtypes: datetime64[ns](1), float64(2), int64(1)\n",
      "memory usage: 564.8 KB\n"
     ]
    }
   ],
   "source": [
    "rides.info()"
   ]
  },
  {
   "cell_type": "markdown",
   "id": "2582dec8",
   "metadata": {},
   "source": [
    "##### Создадим столбец с номером месяца в данных о поездках пользователей"
   ]
  },
  {
   "cell_type": "code",
   "execution_count": 11,
   "id": "d1f93a59",
   "metadata": {},
   "outputs": [],
   "source": [
    "rides['month'] = rides['date'].dt.month"
   ]
  },
  {
   "cell_type": "code",
   "execution_count": 12,
   "id": "e41bca7c",
   "metadata": {},
   "outputs": [
    {
     "data": {
      "text/html": [
       "<div>\n",
       "<style scoped>\n",
       "    .dataframe tbody tr th:only-of-type {\n",
       "        vertical-align: middle;\n",
       "    }\n",
       "\n",
       "    .dataframe tbody tr th {\n",
       "        vertical-align: top;\n",
       "    }\n",
       "\n",
       "    .dataframe thead th {\n",
       "        text-align: right;\n",
       "    }\n",
       "</style>\n",
       "<table border=\"1\" class=\"dataframe\">\n",
       "  <thead>\n",
       "    <tr style=\"text-align: right;\">\n",
       "      <th></th>\n",
       "      <th>user_id</th>\n",
       "      <th>distance</th>\n",
       "      <th>duration</th>\n",
       "      <th>date</th>\n",
       "      <th>month</th>\n",
       "    </tr>\n",
       "  </thead>\n",
       "  <tbody>\n",
       "    <tr>\n",
       "      <th>0</th>\n",
       "      <td>1</td>\n",
       "      <td>4409.919140</td>\n",
       "      <td>25.599769</td>\n",
       "      <td>2021-01-01</td>\n",
       "      <td>1</td>\n",
       "    </tr>\n",
       "    <tr>\n",
       "      <th>1</th>\n",
       "      <td>1</td>\n",
       "      <td>2617.592153</td>\n",
       "      <td>15.816871</td>\n",
       "      <td>2021-01-18</td>\n",
       "      <td>1</td>\n",
       "    </tr>\n",
       "    <tr>\n",
       "      <th>2</th>\n",
       "      <td>1</td>\n",
       "      <td>754.159807</td>\n",
       "      <td>6.232113</td>\n",
       "      <td>2021-04-20</td>\n",
       "      <td>4</td>\n",
       "    </tr>\n",
       "    <tr>\n",
       "      <th>3</th>\n",
       "      <td>1</td>\n",
       "      <td>2694.783254</td>\n",
       "      <td>18.511000</td>\n",
       "      <td>2021-08-11</td>\n",
       "      <td>8</td>\n",
       "    </tr>\n",
       "    <tr>\n",
       "      <th>4</th>\n",
       "      <td>1</td>\n",
       "      <td>4028.687306</td>\n",
       "      <td>26.265803</td>\n",
       "      <td>2021-08-28</td>\n",
       "      <td>8</td>\n",
       "    </tr>\n",
       "    <tr>\n",
       "      <th>5</th>\n",
       "      <td>1</td>\n",
       "      <td>2770.890808</td>\n",
       "      <td>16.650138</td>\n",
       "      <td>2021-10-09</td>\n",
       "      <td>10</td>\n",
       "    </tr>\n",
       "    <tr>\n",
       "      <th>6</th>\n",
       "      <td>1</td>\n",
       "      <td>3039.020292</td>\n",
       "      <td>14.927879</td>\n",
       "      <td>2021-10-19</td>\n",
       "      <td>10</td>\n",
       "    </tr>\n",
       "    <tr>\n",
       "      <th>7</th>\n",
       "      <td>1</td>\n",
       "      <td>2842.118050</td>\n",
       "      <td>23.117468</td>\n",
       "      <td>2021-11-06</td>\n",
       "      <td>11</td>\n",
       "    </tr>\n",
       "    <tr>\n",
       "      <th>8</th>\n",
       "      <td>1</td>\n",
       "      <td>3412.690668</td>\n",
       "      <td>15.238072</td>\n",
       "      <td>2021-11-14</td>\n",
       "      <td>11</td>\n",
       "    </tr>\n",
       "    <tr>\n",
       "      <th>9</th>\n",
       "      <td>1</td>\n",
       "      <td>748.690645</td>\n",
       "      <td>15.041884</td>\n",
       "      <td>2021-11-22</td>\n",
       "      <td>11</td>\n",
       "    </tr>\n",
       "  </tbody>\n",
       "</table>\n",
       "</div>"
      ],
      "text/plain": [
       "   user_id     distance   duration       date  month\n",
       "0        1  4409.919140  25.599769 2021-01-01      1\n",
       "1        1  2617.592153  15.816871 2021-01-18      1\n",
       "2        1   754.159807   6.232113 2021-04-20      4\n",
       "3        1  2694.783254  18.511000 2021-08-11      8\n",
       "4        1  4028.687306  26.265803 2021-08-28      8\n",
       "5        1  2770.890808  16.650138 2021-10-09     10\n",
       "6        1  3039.020292  14.927879 2021-10-19     10\n",
       "7        1  2842.118050  23.117468 2021-11-06     11\n",
       "8        1  3412.690668  15.238072 2021-11-14     11\n",
       "9        1   748.690645  15.041884 2021-11-22     11"
      ]
     },
     "execution_count": 12,
     "metadata": {},
     "output_type": "execute_result"
    }
   ],
   "source": [
    "rides.head(10)"
   ]
  },
  {
   "cell_type": "markdown",
   "id": "f3896dea",
   "metadata": {},
   "source": [
    "##### Проверим на наличие пропущенных значений в данных о пользователях и об их поездках"
   ]
  },
  {
   "cell_type": "markdown",
   "id": "2b7fe381",
   "metadata": {},
   "source": [
    "###### Поиск пропущенных значений"
   ]
  },
  {
   "cell_type": "markdown",
   "id": "df8d05bc",
   "metadata": {},
   "source": [
    "**Проверим данные о пользователях**"
   ]
  },
  {
   "cell_type": "code",
   "execution_count": 13,
   "id": "69c07c36",
   "metadata": {
    "scrolled": true
   },
   "outputs": [
    {
     "data": {
      "text/plain": [
       "array(['Кира', 'Станислав', 'Алексей', 'Константин', 'Адель', 'Регина',\n",
       "       'Игорь', 'Юрий', 'Ян', 'Валерий', 'Агата', 'Марк', 'Ева',\n",
       "       'Антонина', 'Валерия', 'Амалия', 'Даниил', 'Аделина', 'Святогор',\n",
       "       'Борис', 'Вероника', 'Ростислав', 'Назар', 'Эдуард', 'Василий',\n",
       "       'Денис', 'Тамара', 'Николай', 'Эвелина', 'Федор', 'Руслан', 'Иван',\n",
       "       'Любовь', 'Ярослава', 'Майя', 'Ильдар', 'Данила', 'Нина',\n",
       "       'Стефания', 'Ясмина', 'Дмитрий', 'Александр', 'Одиссей', 'Арсений',\n",
       "       'Алла', 'Таисия', 'Максим', 'Юлиана', 'Павел', 'Карина', 'Алиса',\n",
       "       'Лидия', 'Рамиль', 'Родион', 'Ника', 'Оксана', 'Анастасия',\n",
       "       'Маргарита', 'Вера', 'Тимур', 'Никита', 'Лев', 'Влад', 'Артур',\n",
       "       'Анна', 'Ольга', 'Вячеслав', 'Ксения', 'Виталина', 'Владислав',\n",
       "       'Тамерлан', 'Амина', 'Вадим', 'Олеся', 'Зарина', 'Егор', 'Гордей',\n",
       "       'Лилия', 'Святослав', 'Роберт', 'Амир', 'Влада', 'Богдан',\n",
       "       'Полина', 'Марат', 'Елисей', 'Макар', 'Алина', 'Глеб', 'Андрей',\n",
       "       'Альбина', 'Людмила', 'Марсель', 'Милена', 'Диана', 'Дарина',\n",
       "       'Данил', 'Артемий', 'Лиана', 'Альберт', 'Герман', 'Жанна', 'Нелли',\n",
       "       'Евгения', 'Ариана', 'Самира', 'Захар', 'Эльвира', 'Екатерина',\n",
       "       'Инна', 'Демид', 'Яна', 'Михаил', 'Татьяна', 'Степан', 'Мелания',\n",
       "       'Тимофей', 'Ирина', 'Анжелика', 'Владислава', 'Елизавета',\n",
       "       'Мадина', 'Снежана', 'Даниэль', 'Рустам', 'Каролина', 'Ангелина',\n",
       "       'Владимир', 'Виктория', 'Валентина', 'Семен', 'Арина', 'Лариса',\n",
       "       'Есения', 'Галина', 'Кирилл', 'Игнат', 'Виталий', 'Эмилия',\n",
       "       'Виолетта', 'Яромир', 'Софья', 'Мирослава', 'Евгений', 'Варвара',\n",
       "       'Платон', 'Наталия', 'Анатолий', 'Кристина', 'Всеволод', 'Дарья',\n",
       "       'Наташа', 'Мария', 'Марина', 'Василиса', 'Юлия', 'Илья', 'Злата',\n",
       "       'Роман', 'Наталья', 'Элина', 'Арсен', 'Айдар', 'Алия', 'Виктор',\n",
       "       'Мирон', 'Ульяна', 'Георгий', 'Петр', 'Эльмира', 'Олег', 'Дамир',\n",
       "       'Самир', 'Ярослав', 'Камилла', 'Сергей', 'Эмиль', 'Радмир',\n",
       "       'Савелий', 'Елена', 'Антон', 'Мирослав', 'София', 'Тихон', 'Артём',\n",
       "       'Давид', 'Григорий', 'Алёна', 'Светлана', 'Леонид', 'Александра',\n",
       "       'Василина', 'Милана', 'Матвей'], dtype=object)"
      ]
     },
     "execution_count": 13,
     "metadata": {},
     "output_type": "execute_result"
    }
   ],
   "source": [
    "users['name'].unique()"
   ]
  },
  {
   "cell_type": "code",
   "execution_count": 14,
   "id": "3bd4abdb",
   "metadata": {},
   "outputs": [
    {
     "data": {
      "text/plain": [
       "array(['Тюмень', 'Омск', 'Москва', 'Ростов-на-Дону', 'Краснодар',\n",
       "       'Пятигорск', 'Екатеринбург', 'Сочи'], dtype=object)"
      ]
     },
     "execution_count": 14,
     "metadata": {},
     "output_type": "execute_result"
    }
   ],
   "source": [
    "users['city'].unique()"
   ]
  },
  {
   "cell_type": "code",
   "execution_count": 15,
   "id": "a82c482b",
   "metadata": {},
   "outputs": [
    {
     "data": {
      "text/plain": [
       "array(['ultra', 'free'], dtype=object)"
      ]
     },
     "execution_count": 15,
     "metadata": {},
     "output_type": "execute_result"
    }
   ],
   "source": [
    "users['subscription_type'].unique()"
   ]
  },
  {
   "cell_type": "code",
   "execution_count": 16,
   "id": "485f21e3",
   "metadata": {},
   "outputs": [
    {
     "data": {
      "text/html": [
       "<div>\n",
       "<style scoped>\n",
       "    .dataframe tbody tr th:only-of-type {\n",
       "        vertical-align: middle;\n",
       "    }\n",
       "\n",
       "    .dataframe tbody tr th {\n",
       "        vertical-align: top;\n",
       "    }\n",
       "\n",
       "    .dataframe thead th {\n",
       "        text-align: right;\n",
       "    }\n",
       "</style>\n",
       "<table border=\"1\" class=\"dataframe\">\n",
       "  <thead>\n",
       "    <tr style=\"text-align: right;\">\n",
       "      <th></th>\n",
       "      <th>user_id</th>\n",
       "      <th>name</th>\n",
       "      <th>age</th>\n",
       "      <th>city</th>\n",
       "      <th>subscription_type</th>\n",
       "    </tr>\n",
       "  </thead>\n",
       "  <tbody>\n",
       "  </tbody>\n",
       "</table>\n",
       "</div>"
      ],
      "text/plain": [
       "Empty DataFrame\n",
       "Columns: [user_id, name, age, city, subscription_type]\n",
       "Index: []"
      ]
     },
     "execution_count": 16,
     "metadata": {},
     "output_type": "execute_result"
    }
   ],
   "source": [
    "users.loc[users['user_id'] == 0]"
   ]
  },
  {
   "cell_type": "code",
   "execution_count": 17,
   "id": "a6120203",
   "metadata": {},
   "outputs": [
    {
     "data": {
      "text/html": [
       "<div>\n",
       "<style scoped>\n",
       "    .dataframe tbody tr th:only-of-type {\n",
       "        vertical-align: middle;\n",
       "    }\n",
       "\n",
       "    .dataframe tbody tr th {\n",
       "        vertical-align: top;\n",
       "    }\n",
       "\n",
       "    .dataframe thead th {\n",
       "        text-align: right;\n",
       "    }\n",
       "</style>\n",
       "<table border=\"1\" class=\"dataframe\">\n",
       "  <thead>\n",
       "    <tr style=\"text-align: right;\">\n",
       "      <th></th>\n",
       "      <th>user_id</th>\n",
       "      <th>name</th>\n",
       "      <th>age</th>\n",
       "      <th>city</th>\n",
       "      <th>subscription_type</th>\n",
       "    </tr>\n",
       "  </thead>\n",
       "  <tbody>\n",
       "  </tbody>\n",
       "</table>\n",
       "</div>"
      ],
      "text/plain": [
       "Empty DataFrame\n",
       "Columns: [user_id, name, age, city, subscription_type]\n",
       "Index: []"
      ]
     },
     "execution_count": 17,
     "metadata": {},
     "output_type": "execute_result"
    }
   ],
   "source": [
    "    users.loc[users['age'] == 0]"
   ]
  },
  {
   "cell_type": "markdown",
   "id": "440990ae",
   "metadata": {},
   "source": [
    "*После анализа данных о пользователях видно, что пропущенных данных нет.*"
   ]
  },
  {
   "cell_type": "markdown",
   "id": "d01dcb4f",
   "metadata": {},
   "source": [
    "**Проверим данные о поездках пользователей**"
   ]
  },
  {
   "cell_type": "code",
   "execution_count": 18,
   "id": "6f116356",
   "metadata": {},
   "outputs": [
    {
     "data": {
      "text/html": [
       "<div>\n",
       "<style scoped>\n",
       "    .dataframe tbody tr th:only-of-type {\n",
       "        vertical-align: middle;\n",
       "    }\n",
       "\n",
       "    .dataframe tbody tr th {\n",
       "        vertical-align: top;\n",
       "    }\n",
       "\n",
       "    .dataframe thead th {\n",
       "        text-align: right;\n",
       "    }\n",
       "</style>\n",
       "<table border=\"1\" class=\"dataframe\">\n",
       "  <thead>\n",
       "    <tr style=\"text-align: right;\">\n",
       "      <th></th>\n",
       "      <th>user_id</th>\n",
       "      <th>distance</th>\n",
       "      <th>duration</th>\n",
       "      <th>date</th>\n",
       "      <th>month</th>\n",
       "    </tr>\n",
       "  </thead>\n",
       "  <tbody>\n",
       "  </tbody>\n",
       "</table>\n",
       "</div>"
      ],
      "text/plain": [
       "Empty DataFrame\n",
       "Columns: [user_id, distance, duration, date, month]\n",
       "Index: []"
      ]
     },
     "execution_count": 18,
     "metadata": {},
     "output_type": "execute_result"
    }
   ],
   "source": [
    "rides.loc[rides['user_id'] == 0]"
   ]
  },
  {
   "cell_type": "code",
   "execution_count": 19,
   "id": "8f494ffb",
   "metadata": {},
   "outputs": [
    {
     "data": {
      "text/html": [
       "<div>\n",
       "<style scoped>\n",
       "    .dataframe tbody tr th:only-of-type {\n",
       "        vertical-align: middle;\n",
       "    }\n",
       "\n",
       "    .dataframe tbody tr th {\n",
       "        vertical-align: top;\n",
       "    }\n",
       "\n",
       "    .dataframe thead th {\n",
       "        text-align: right;\n",
       "    }\n",
       "</style>\n",
       "<table border=\"1\" class=\"dataframe\">\n",
       "  <thead>\n",
       "    <tr style=\"text-align: right;\">\n",
       "      <th></th>\n",
       "      <th>user_id</th>\n",
       "      <th>distance</th>\n",
       "      <th>duration</th>\n",
       "      <th>date</th>\n",
       "      <th>month</th>\n",
       "    </tr>\n",
       "  </thead>\n",
       "  <tbody>\n",
       "  </tbody>\n",
       "</table>\n",
       "</div>"
      ],
      "text/plain": [
       "Empty DataFrame\n",
       "Columns: [user_id, distance, duration, date, month]\n",
       "Index: []"
      ]
     },
     "execution_count": 19,
     "metadata": {},
     "output_type": "execute_result"
    }
   ],
   "source": [
    "rides.loc[rides['distance'] == 0]"
   ]
  },
  {
   "cell_type": "code",
   "execution_count": 20,
   "id": "fad38dba",
   "metadata": {},
   "outputs": [
    {
     "data": {
      "text/html": [
       "<div>\n",
       "<style scoped>\n",
       "    .dataframe tbody tr th:only-of-type {\n",
       "        vertical-align: middle;\n",
       "    }\n",
       "\n",
       "    .dataframe tbody tr th {\n",
       "        vertical-align: top;\n",
       "    }\n",
       "\n",
       "    .dataframe thead th {\n",
       "        text-align: right;\n",
       "    }\n",
       "</style>\n",
       "<table border=\"1\" class=\"dataframe\">\n",
       "  <thead>\n",
       "    <tr style=\"text-align: right;\">\n",
       "      <th></th>\n",
       "      <th>user_id</th>\n",
       "      <th>distance</th>\n",
       "      <th>duration</th>\n",
       "      <th>date</th>\n",
       "      <th>month</th>\n",
       "    </tr>\n",
       "  </thead>\n",
       "  <tbody>\n",
       "  </tbody>\n",
       "</table>\n",
       "</div>"
      ],
      "text/plain": [
       "Empty DataFrame\n",
       "Columns: [user_id, distance, duration, date, month]\n",
       "Index: []"
      ]
     },
     "execution_count": 20,
     "metadata": {},
     "output_type": "execute_result"
    }
   ],
   "source": [
    "rides.loc[rides['duration'] == 0]"
   ]
  },
  {
   "cell_type": "markdown",
   "id": "82e6d13a",
   "metadata": {},
   "source": [
    "*После анализа данных о поездках пользователях видно, что пропущенных данных нет.*"
   ]
  },
  {
   "cell_type": "markdown",
   "id": "e35214f5",
   "metadata": {},
   "source": [
    "###### Поиск дубликатов"
   ]
  },
  {
   "cell_type": "markdown",
   "id": "c5764db2",
   "metadata": {},
   "source": [
    "**Проверим данные о пользователях на дубликаты**"
   ]
  },
  {
   "cell_type": "code",
   "execution_count": 21,
   "id": "38fd4b89",
   "metadata": {},
   "outputs": [
    {
     "data": {
      "text/plain": [
       "31"
      ]
     },
     "execution_count": 21,
     "metadata": {},
     "output_type": "execute_result"
    }
   ],
   "source": [
    "users.duplicated().sum()"
   ]
  },
  {
   "cell_type": "markdown",
   "id": "6f04a59b",
   "metadata": {},
   "source": [
    "Проверка на полные дубликаты выявила 31 дубликат. Это составляет примерно 2% от всех данных. Удалим их."
   ]
  },
  {
   "cell_type": "code",
   "execution_count": 22,
   "id": "45efdace",
   "metadata": {},
   "outputs": [],
   "source": [
    "users_correct = users.drop_duplicates().reset_index(drop=True)"
   ]
  },
  {
   "cell_type": "code",
   "execution_count": 23,
   "id": "fe87fdf2",
   "metadata": {},
   "outputs": [
    {
     "name": "stdout",
     "output_type": "stream",
     "text": [
      "<class 'pandas.core.frame.DataFrame'>\n",
      "RangeIndex: 1534 entries, 0 to 1533\n",
      "Data columns (total 5 columns):\n",
      " #   Column             Non-Null Count  Dtype \n",
      "---  ------             --------------  ----- \n",
      " 0   user_id            1534 non-null   int64 \n",
      " 1   name               1534 non-null   object\n",
      " 2   age                1534 non-null   int64 \n",
      " 3   city               1534 non-null   object\n",
      " 4   subscription_type  1534 non-null   object\n",
      "dtypes: int64(2), object(3)\n",
      "memory usage: 60.0+ KB\n"
     ]
    }
   ],
   "source": [
    "users_correct.info()"
   ]
  },
  {
   "cell_type": "code",
   "execution_count": 24,
   "id": "bee0f230",
   "metadata": {},
   "outputs": [
    {
     "data": {
      "text/plain": [
       "0"
      ]
     },
     "execution_count": 24,
     "metadata": {},
     "output_type": "execute_result"
    }
   ],
   "source": [
    "users_correct.duplicated(['user_id', 'subscription_type']).sum()"
   ]
  },
  {
   "cell_type": "markdown",
   "id": "4999967c",
   "metadata": {},
   "source": [
    "*Анализ на неполные дубликаты показал, что дубликатов в данных о пользователях не осталось.*"
   ]
  },
  {
   "cell_type": "markdown",
   "id": "a4939ca8",
   "metadata": {},
   "source": [
    "**Проверим данные о поездках пользователей на дубликаты**"
   ]
  },
  {
   "cell_type": "code",
   "execution_count": 25,
   "id": "962ab4f0",
   "metadata": {},
   "outputs": [
    {
     "data": {
      "text/plain": [
       "0"
      ]
     },
     "execution_count": 25,
     "metadata": {},
     "output_type": "execute_result"
    }
   ],
   "source": [
    "rides.duplicated().sum()"
   ]
  },
  {
   "cell_type": "markdown",
   "id": "6f5fd8e4",
   "metadata": {},
   "source": [
    "Проверка не выявила полные дубликаты. Проверим на неполные."
   ]
  },
  {
   "cell_type": "code",
   "execution_count": 26,
   "id": "b4a62834",
   "metadata": {},
   "outputs": [
    {
     "data": {
      "text/plain": [
       "0"
      ]
     },
     "execution_count": 26,
     "metadata": {},
     "output_type": "execute_result"
    }
   ],
   "source": [
    "rides.duplicated(['user_id', 'distance']).sum()"
   ]
  },
  {
   "cell_type": "code",
   "execution_count": 27,
   "id": "920712b7",
   "metadata": {},
   "outputs": [
    {
     "data": {
      "text/plain": [
       "5"
      ]
     },
     "execution_count": 27,
     "metadata": {},
     "output_type": "execute_result"
    }
   ],
   "source": [
    "rides.duplicated(['user_id', 'duration']).sum()"
   ]
  },
  {
   "cell_type": "markdown",
   "id": "a47d8dea",
   "metadata": {},
   "source": [
    "Проверка выявила неполные дубликаты при анализе столбцов user_id и duration. Количество 5, что составляет меньше 0.5%. Удалим их."
   ]
  },
  {
   "cell_type": "code",
   "execution_count": 28,
   "id": "272de2db",
   "metadata": {},
   "outputs": [],
   "source": [
    "rides_correct = rides.drop_duplicates(subset=['user_id', 'duration']).reset_index(drop=True)"
   ]
  },
  {
   "cell_type": "code",
   "execution_count": 29,
   "id": "ca80df31",
   "metadata": {},
   "outputs": [
    {
     "name": "stdout",
     "output_type": "stream",
     "text": [
      "<class 'pandas.core.frame.DataFrame'>\n",
      "RangeIndex: 18063 entries, 0 to 18062\n",
      "Data columns (total 5 columns):\n",
      " #   Column    Non-Null Count  Dtype         \n",
      "---  ------    --------------  -----         \n",
      " 0   user_id   18063 non-null  int64         \n",
      " 1   distance  18063 non-null  float64       \n",
      " 2   duration  18063 non-null  float64       \n",
      " 3   date      18063 non-null  datetime64[ns]\n",
      " 4   month     18063 non-null  int64         \n",
      "dtypes: datetime64[ns](1), float64(2), int64(2)\n",
      "memory usage: 705.7 KB\n"
     ]
    }
   ],
   "source": [
    "rides_correct.info()"
   ]
  },
  {
   "cell_type": "code",
   "execution_count": 30,
   "id": "b5c350ef",
   "metadata": {},
   "outputs": [
    {
     "name": "stdout",
     "output_type": "stream",
     "text": [
      "Самая ранняя дата 2021-01-01 00:00:00 и самая поздняя дата 2021-12-30 00:00:00. Из этого следует, что все данные за 2021 год.\n"
     ]
    }
   ],
   "source": [
    "print(f\"Самая ранняя дата {rides_correct['date'].min()} и самая поздняя дата {rides_correct['date'].max()}. \\\n",
    "Из этого следует, что все данные за 2021 год.\")"
   ]
  },
  {
   "cell_type": "code",
   "execution_count": 31,
   "id": "6c39dd0a",
   "metadata": {},
   "outputs": [],
   "source": [
    "rides_correct['distance'] = rides_correct['distance'].round(2)"
   ]
  },
  {
   "cell_type": "code",
   "execution_count": 32,
   "id": "15c7abfe",
   "metadata": {},
   "outputs": [
    {
     "data": {
      "text/html": [
       "<div>\n",
       "<style scoped>\n",
       "    .dataframe tbody tr th:only-of-type {\n",
       "        vertical-align: middle;\n",
       "    }\n",
       "\n",
       "    .dataframe tbody tr th {\n",
       "        vertical-align: top;\n",
       "    }\n",
       "\n",
       "    .dataframe thead th {\n",
       "        text-align: right;\n",
       "    }\n",
       "</style>\n",
       "<table border=\"1\" class=\"dataframe\">\n",
       "  <thead>\n",
       "    <tr style=\"text-align: right;\">\n",
       "      <th></th>\n",
       "      <th>user_id</th>\n",
       "      <th>distance</th>\n",
       "      <th>duration</th>\n",
       "      <th>date</th>\n",
       "      <th>month</th>\n",
       "    </tr>\n",
       "  </thead>\n",
       "  <tbody>\n",
       "    <tr>\n",
       "      <th>6531</th>\n",
       "      <td>701</td>\n",
       "      <td>4196.45</td>\n",
       "      <td>0.5</td>\n",
       "      <td>2021-08-31</td>\n",
       "      <td>8</td>\n",
       "    </tr>\n",
       "    <tr>\n",
       "      <th>6570</th>\n",
       "      <td>704</td>\n",
       "      <td>4830.82</td>\n",
       "      <td>0.5</td>\n",
       "      <td>2021-10-14</td>\n",
       "      <td>10</td>\n",
       "    </tr>\n",
       "    <tr>\n",
       "      <th>6680</th>\n",
       "      <td>712</td>\n",
       "      <td>4684.00</td>\n",
       "      <td>0.5</td>\n",
       "      <td>2021-03-04</td>\n",
       "      <td>3</td>\n",
       "    </tr>\n",
       "    <tr>\n",
       "      <th>6695</th>\n",
       "      <td>713</td>\n",
       "      <td>5215.64</td>\n",
       "      <td>0.5</td>\n",
       "      <td>2021-02-25</td>\n",
       "      <td>2</td>\n",
       "    </tr>\n",
       "    <tr>\n",
       "      <th>6768</th>\n",
       "      <td>718</td>\n",
       "      <td>5197.44</td>\n",
       "      <td>0.5</td>\n",
       "      <td>2021-02-11</td>\n",
       "      <td>2</td>\n",
       "    </tr>\n",
       "    <tr>\n",
       "      <th>...</th>\n",
       "      <td>...</td>\n",
       "      <td>...</td>\n",
       "      <td>...</td>\n",
       "      <td>...</td>\n",
       "      <td>...</td>\n",
       "    </tr>\n",
       "    <tr>\n",
       "      <th>16999</th>\n",
       "      <td>1460</td>\n",
       "      <td>5531.34</td>\n",
       "      <td>0.5</td>\n",
       "      <td>2021-01-19</td>\n",
       "      <td>1</td>\n",
       "    </tr>\n",
       "    <tr>\n",
       "      <th>17237</th>\n",
       "      <td>1477</td>\n",
       "      <td>6724.93</td>\n",
       "      <td>0.5</td>\n",
       "      <td>2021-01-12</td>\n",
       "      <td>1</td>\n",
       "    </tr>\n",
       "    <tr>\n",
       "      <th>17309</th>\n",
       "      <td>1483</td>\n",
       "      <td>4445.48</td>\n",
       "      <td>0.5</td>\n",
       "      <td>2021-03-06</td>\n",
       "      <td>3</td>\n",
       "    </tr>\n",
       "    <tr>\n",
       "      <th>17500</th>\n",
       "      <td>1496</td>\n",
       "      <td>5722.55</td>\n",
       "      <td>0.5</td>\n",
       "      <td>2021-02-14</td>\n",
       "      <td>2</td>\n",
       "    </tr>\n",
       "    <tr>\n",
       "      <th>17904</th>\n",
       "      <td>1524</td>\n",
       "      <td>4104.00</td>\n",
       "      <td>0.5</td>\n",
       "      <td>2021-06-18</td>\n",
       "      <td>6</td>\n",
       "    </tr>\n",
       "  </tbody>\n",
       "</table>\n",
       "<p>90 rows × 5 columns</p>\n",
       "</div>"
      ],
      "text/plain": [
       "       user_id  distance  duration       date  month\n",
       "6531       701   4196.45       0.5 2021-08-31      8\n",
       "6570       704   4830.82       0.5 2021-10-14     10\n",
       "6680       712   4684.00       0.5 2021-03-04      3\n",
       "6695       713   5215.64       0.5 2021-02-25      2\n",
       "6768       718   5197.44       0.5 2021-02-11      2\n",
       "...        ...       ...       ...        ...    ...\n",
       "16999     1460   5531.34       0.5 2021-01-19      1\n",
       "17237     1477   6724.93       0.5 2021-01-12      1\n",
       "17309     1483   4445.48       0.5 2021-03-06      3\n",
       "17500     1496   5722.55       0.5 2021-02-14      2\n",
       "17904     1524   4104.00       0.5 2021-06-18      6\n",
       "\n",
       "[90 rows x 5 columns]"
      ]
     },
     "execution_count": 32,
     "metadata": {},
     "output_type": "execute_result"
    }
   ],
   "source": [
    "rides_correct.loc[rides_correct['duration'] < 2]"
   ]
  },
  {
   "cell_type": "markdown",
   "id": "56ce633a",
   "metadata": {},
   "source": [
    "*Из анализа данных на аномалии видно, что в продолжительности поездки имеются аномалии (поездка не может длиться полминуты), но в данных о расстояние, которое преодолел пользователь, данные не похожи на аномальные. Поэтому удалять их не будем.*"
   ]
  },
  {
   "cell_type": "markdown",
   "id": "33fb6def",
   "metadata": {},
   "source": [
    "**Промежуточный вывод по преобработке данных:**\n",
    "\n",
    "- После анализа данных о пользователях видно, что пропущенных данных нет.\n",
    "- После анализа данных о поездках пользователях видно, что пропущенных данных нет.\n",
    "- Проверка на полные дубликаты в данных о пользователях выявила 31 дубликат. Это составляет примерно 2% от всех данных. Удалим их.\n",
    "- Проверка не выявила полные дубликаты. Проверка выявила неполные дубликаты при анализе столбцов user_id и duration. Количество 5, что составляет меньше 0.5%. Удалим их.\n",
    "- Самая ранняя дата 2021-01-01 00:00:00 и самая поздняя дата 2021-12-30 00:00:00. Из этого следует, что все данные за 2021 год.\n",
    "- Из анализа данных на аномалии видно, что в продолжительности поездки имеются аномалии (поездка не может длиться полминуты), но в данных о расстояние, которое преодолел пользователь, данные не похожи на аномальные. Поэтому удалять их не будем."
   ]
  },
  {
   "cell_type": "markdown",
   "id": "212593c7",
   "metadata": {},
   "source": [
    "#### Шаг 3. Исследовательский анализ данных"
   ]
  },
  {
   "cell_type": "markdown",
   "id": "e42a94e6",
   "metadata": {},
   "source": [
    "##### На основе данных о пользователях проанализируем как часто встречается города"
   ]
  },
  {
   "cell_type": "code",
   "execution_count": 33,
   "id": "e3a4274c",
   "metadata": {},
   "outputs": [
    {
     "name": "stdout",
     "output_type": "stream",
     "text": [
      "               user_id\n",
      "                 count\n",
      "city                  \n",
      "Москва             168\n",
      "Тюмень             180\n",
      "Омск               183\n",
      "Сочи               189\n",
      "Краснодар          193\n",
      "Ростов-на-Дону     198\n",
      "Екатеринбург       204\n",
      "Пятигорск          219\n"
     ]
    },
    {
     "data": {
      "image/png": "[encoded data removed]",
      "text/plain": [
       "<Figure size 1080x360 with 1 Axes>"
      ]
     },
     "metadata": {
      "needs_background": "light"
     },
     "output_type": "display_data"
    }
   ],
   "source": [
    "print(users_correct.groupby('city')[['user_id']].agg(['count']).sort_values(by=('user_id', 'count')))\n",
    "users_correct.groupby('city')[['user_id']].agg(['count']).sort_values(by=('user_id', 'count')) \\\n",
    ".plot(kind='bar', title='Частота встречаемости городов', figsize=(15, 5), legend=False, grid=True);"
   ]
  },
  {
   "cell_type": "markdown",
   "id": "237896de",
   "metadata": {},
   "source": [
    "*Из анализа данных о пользователях видно, что наибольшее количество пользователей из Пятигорска - 219 чел., а наименьшее из Москвы - 168 чел.*"
   ]
  },
  {
   "cell_type": "markdown",
   "id": "830428dc",
   "metadata": {},
   "source": [
    "##### На основе данных о пользователях проанализируем сколько пользователей пользуется подпиской, а сколько нет"
   ]
  },
  {
   "cell_type": "code",
   "execution_count": 34,
   "id": "27f0a8bc",
   "metadata": {},
   "outputs": [
    {
     "data": {
      "image/png": "[encoded data removed]",
      "text/plain": [
       "<Figure size 720x720 with 1 Axes>"
      ]
     },
     "metadata": {},
     "output_type": "display_data"
    }
   ],
   "source": [
    "(users_correct.pivot_table(index='subscription_type', values='user_id', aggfunc='count') \\\n",
    " .plot.pie(y='user_id', figsize=(10,10),  label='Количество пользователей', autopct='%1.1f%%', startangle=45, \n",
    "           title='Отношение пользователей `free` - без подписки, `ultra` - с подпиской, к общему количеству'))\n",
    "plt.axis('equal')\n",
    "plt.show()"
   ]
  },
  {
   "cell_type": "markdown",
   "id": "5d26cb1b",
   "metadata": {},
   "source": [
    "*Из анализа данных о пользователях видно, что большенство пользователей не пользуются подпиской - 54.4%, у которых имеется подписка - 45.6%.*"
   ]
  },
  {
   "cell_type": "markdown",
   "id": "3801c5be",
   "metadata": {},
   "source": [
    "##### На основе данных о пользователях проанализируем возраст пользователей"
   ]
  },
  {
   "cell_type": "code",
   "execution_count": 35,
   "id": "7642001b",
   "metadata": {},
   "outputs": [
    {
     "data": {
      "image/png": "[encoded data removed]",
      "text/plain": [
       "<Figure size 1080x360 with 1 Axes>"
      ]
     },
     "metadata": {
      "needs_background": "light"
     },
     "output_type": "display_data"
    }
   ],
   "source": [
    "(users_correct.pivot_table(index='age', values='user_id', aggfunc='count').sort_values(by='age', ascending=True) \\\n",
    " .plot(kind='bar' , grid=True, figsize=(15, 5)))\n",
    "plt.title('Количество пользователей по возрастам')\n",
    "plt.xlabel('Возраст')\n",
    "plt.ylabel('Количество')\n",
    "plt.show()"
   ]
  },
  {
   "cell_type": "code",
   "execution_count": 36,
   "id": "2e84648f",
   "metadata": {},
   "outputs": [
    {
     "name": "stdout",
     "output_type": "stream",
     "text": [
      "Среднее значение возраста пользователей 24.9\n"
     ]
    },
    {
     "data": {
      "text/plain": [
       "count    1534.000000\n",
       "mean       24.903520\n",
       "std         4.572367\n",
       "min        12.000000\n",
       "25%        22.000000\n",
       "50%        25.000000\n",
       "75%        28.000000\n",
       "max        43.000000\n",
       "Name: age, dtype: float64"
      ]
     },
     "execution_count": 36,
     "metadata": {},
     "output_type": "execute_result"
    }
   ],
   "source": [
    "print('Среднее значение возраста пользователей', users_correct['age'].mean().round(1))\n",
    "users_correct['age'].describe()"
   ]
  },
  {
   "cell_type": "markdown",
   "id": "c585e019",
   "metadata": {},
   "source": [
    "*Из анализа данных о пользователях видно, что средний возраст практически равен 25 лет. Также средний возраст практически равен медианному значению. Кроме того, возраст подчиняется нормальному распределению.*"
   ]
  },
  {
   "cell_type": "markdown",
   "id": "8ffd527f",
   "metadata": {},
   "source": [
    "##### На основе данных о поездках пользователей проанализируем расстояние, которое пользователь преодолел за одну поездку"
   ]
  },
  {
   "cell_type": "markdown",
   "id": "882cbda2",
   "metadata": {},
   "source": [
    "Для анализа данных о расстоянии поездки, добавим столбец distance_type. Логика следующая:\n",
    "- до 2000 м - до 2 км;\n",
    "- от 2000 до 4000 - от 2 до 4 км;\n",
    "- от 4000 до 6000 - от 4 до 6 км;\n",
    "- от 6000 - от 6 км."
   ]
  },
  {
   "cell_type": "code",
   "execution_count": 37,
   "id": "47bab534",
   "metadata": {},
   "outputs": [
    {
     "data": {
      "text/plain": [
       "count    18063.000000\n",
       "mean      3070.076461\n",
       "std       1116.383283\n",
       "min          0.860000\n",
       "25%       2542.800000\n",
       "50%       3133.370000\n",
       "75%       3775.405000\n",
       "max       7211.010000\n",
       "Name: distance, dtype: float64"
      ]
     },
     "execution_count": 37,
     "metadata": {},
     "output_type": "execute_result"
    }
   ],
   "source": [
    "rides_correct['distance'].describe()"
   ]
  },
  {
   "cell_type": "code",
   "execution_count": 38,
   "id": "cd0748bc",
   "metadata": {},
   "outputs": [
    {
     "data": {
      "image/png": "[encoded data removed]",
      "text/plain": [
       "<Figure size 1080x360 with 1 Axes>"
      ]
     },
     "metadata": {
      "needs_background": "light"
     },
     "output_type": "display_data"
    }
   ],
   "source": [
    "plt.figure(figsize=(15, 5))\n",
    "plt.hist(rides_correct['distance'], bins=500)\n",
    "plt.title('Количество поездок в зависимости от расстояния поездки')\n",
    "plt.xlabel('Расстояние в метрах')\n",
    "plt.ylabel('Количество поездок')\n",
    "plt.grid(True)\n",
    "plt.show()"
   ]
  },
  {
   "cell_type": "markdown",
   "id": "0921a202",
   "metadata": {},
   "source": [
    "*Из анализа данных о поездках пользователей видно, что медианное значение приблизительно равно 3133 метра. Также видно, что распределение отлично от нормального и имеет два пика: первый равняется примерно 700 метрам, а второй 3133 метра.*"
   ]
  },
  {
   "cell_type": "markdown",
   "id": "e8d68aca",
   "metadata": {},
   "source": [
    "##### На основе данных о поездках пользователей проанализируем продолжительность каждой поездки"
   ]
  },
  {
   "cell_type": "code",
   "execution_count": 39,
   "id": "925e09c5",
   "metadata": {},
   "outputs": [
    {
     "data": {
      "text/plain": [
       "count    18063.000000\n",
       "mean        17.809801\n",
       "std          6.085085\n",
       "min          0.500000\n",
       "25%         13.602014\n",
       "50%         17.682157\n",
       "75%         21.725539\n",
       "max         40.823963\n",
       "Name: duration, dtype: float64"
      ]
     },
     "execution_count": 39,
     "metadata": {},
     "output_type": "execute_result"
    }
   ],
   "source": [
    "rides_correct['duration'].describe()"
   ]
  },
  {
   "cell_type": "code",
   "execution_count": 40,
   "id": "39689d89",
   "metadata": {},
   "outputs": [
    {
     "data": {
      "image/png": "[encoded data removed]",
      "text/plain": [
       "<Figure size 1080x360 with 1 Axes>"
      ]
     },
     "metadata": {
      "needs_background": "light"
     },
     "output_type": "display_data"
    }
   ],
   "source": [
    "plt.figure(figsize=(15, 5))\n",
    "plt.hist(rides_correct['duration'], bins=50)\n",
    "plt.title('Количество поездок в зависимости от продолжительности')\n",
    "plt.xlabel('продолжительность поездки')\n",
    "plt.ylabel('Количество поездок')\n",
    "plt.grid(True)\n",
    "plt.show()"
   ]
  },
  {
   "cell_type": "code",
   "execution_count": 41,
   "id": "4647e01d",
   "metadata": {},
   "outputs": [
    {
     "data": {
      "image/png": "[encoded data removed]",
      "text/plain": [
       "<Figure size 1080x360 with 1 Axes>"
      ]
     },
     "metadata": {
      "needs_background": "light"
     },
     "output_type": "display_data"
    },
    {
     "data": {
      "image/png": "[encoded data removed]",
      "text/plain": [
       "<Figure size 1080x360 with 1 Axes>"
      ]
     },
     "metadata": {
      "needs_background": "light"
     },
     "output_type": "display_data"
    },
    {
     "name": "stdout",
     "output_type": "stream",
     "text": [
      "Максимальная скорость перемещения (метр/мин) 14422.02\n"
     ]
    }
   ],
   "source": [
    "plt.figure(figsize=(15, 5))\n",
    "plt.hist(rides_correct['distance'] / rides_correct['duration'])\n",
    "plt.title('Количество поездок с определенной скоростью')\n",
    "plt.xlabel('Рассояние / Время (Метр/Мин)')\n",
    "plt.ylabel('Количество поездок')\n",
    "plt.grid(True)\n",
    "plt.show()\n",
    "\n",
    "plt.figure(figsize=(15, 5))\n",
    "plt.hist(rides_correct['distance'] / rides_correct['duration'], bins=100)\n",
    "plt.title('Количество поездок с определенной скоростью')\n",
    "plt.xlabel('Расстояние / Время (Метр/Мин)')\n",
    "plt.ylabel('Количество поездок')\n",
    "plt.grid(True)\n",
    "plt.show()\n",
    "\n",
    "print('Максимальная скорость перемещения (метр/мин)', (rides_correct['distance'] / rides_correct['duration']).max())"
   ]
  },
  {
   "cell_type": "markdown",
   "id": "706578cc",
   "metadata": {},
   "source": [
    "*Из анализа данных о поездках пользователей видно, что среднее расстояниие составляет примерно 18 метров. Также видно, что в данных присутсвуют аномальные значения (около 100 поездок меньше 1 метра, скорость перемещения достигает 14 тыс метров/мин, что является невозможным).*"
   ]
  },
  {
   "cell_type": "markdown",
   "id": "4ef51331",
   "metadata": {},
   "source": [
    "#### Шаг 4. Объединение данных"
   ]
  },
  {
   "cell_type": "markdown",
   "id": "2b8b203c",
   "metadata": {},
   "source": [
    "##### Объединим данные о пользователях с данными о поездках и подписках"
   ]
  },
  {
   "cell_type": "code",
   "execution_count": 42,
   "id": "6bf288b5",
   "metadata": {},
   "outputs": [],
   "source": [
    "users_rides = users_correct.merge(rides_correct, how='left', on='user_id')"
   ]
  },
  {
   "cell_type": "code",
   "execution_count": 43,
   "id": "d28135b2",
   "metadata": {},
   "outputs": [],
   "source": [
    "users_rides_subscr = users_rides.merge(subscriptions, how='left', on='subscription_type')"
   ]
  },
  {
   "cell_type": "code",
   "execution_count": 44,
   "id": "b956404b",
   "metadata": {
    "scrolled": true
   },
   "outputs": [
    {
     "data": {
      "text/html": [
       "<div>\n",
       "<style scoped>\n",
       "    .dataframe tbody tr th:only-of-type {\n",
       "        vertical-align: middle;\n",
       "    }\n",
       "\n",
       "    .dataframe tbody tr th {\n",
       "        vertical-align: top;\n",
       "    }\n",
       "\n",
       "    .dataframe thead th {\n",
       "        text-align: right;\n",
       "    }\n",
       "</style>\n",
       "<table border=\"1\" class=\"dataframe\">\n",
       "  <thead>\n",
       "    <tr style=\"text-align: right;\">\n",
       "      <th></th>\n",
       "      <th>user_id</th>\n",
       "      <th>name</th>\n",
       "      <th>age</th>\n",
       "      <th>city</th>\n",
       "      <th>subscription_type</th>\n",
       "      <th>distance</th>\n",
       "      <th>duration</th>\n",
       "      <th>date</th>\n",
       "      <th>month</th>\n",
       "      <th>minute_price</th>\n",
       "      <th>start_ride_price</th>\n",
       "      <th>subscription_fee</th>\n",
       "    </tr>\n",
       "  </thead>\n",
       "  <tbody>\n",
       "    <tr>\n",
       "      <th>0</th>\n",
       "      <td>1</td>\n",
       "      <td>Кира</td>\n",
       "      <td>22</td>\n",
       "      <td>Тюмень</td>\n",
       "      <td>ultra</td>\n",
       "      <td>4409.92</td>\n",
       "      <td>25.599769</td>\n",
       "      <td>2021-01-01</td>\n",
       "      <td>1</td>\n",
       "      <td>6</td>\n",
       "      <td>0</td>\n",
       "      <td>199</td>\n",
       "    </tr>\n",
       "    <tr>\n",
       "      <th>1</th>\n",
       "      <td>1</td>\n",
       "      <td>Кира</td>\n",
       "      <td>22</td>\n",
       "      <td>Тюмень</td>\n",
       "      <td>ultra</td>\n",
       "      <td>2617.59</td>\n",
       "      <td>15.816871</td>\n",
       "      <td>2021-01-18</td>\n",
       "      <td>1</td>\n",
       "      <td>6</td>\n",
       "      <td>0</td>\n",
       "      <td>199</td>\n",
       "    </tr>\n",
       "    <tr>\n",
       "      <th>2</th>\n",
       "      <td>1</td>\n",
       "      <td>Кира</td>\n",
       "      <td>22</td>\n",
       "      <td>Тюмень</td>\n",
       "      <td>ultra</td>\n",
       "      <td>754.16</td>\n",
       "      <td>6.232113</td>\n",
       "      <td>2021-04-20</td>\n",
       "      <td>4</td>\n",
       "      <td>6</td>\n",
       "      <td>0</td>\n",
       "      <td>199</td>\n",
       "    </tr>\n",
       "    <tr>\n",
       "      <th>3</th>\n",
       "      <td>1</td>\n",
       "      <td>Кира</td>\n",
       "      <td>22</td>\n",
       "      <td>Тюмень</td>\n",
       "      <td>ultra</td>\n",
       "      <td>2694.78</td>\n",
       "      <td>18.511000</td>\n",
       "      <td>2021-08-11</td>\n",
       "      <td>8</td>\n",
       "      <td>6</td>\n",
       "      <td>0</td>\n",
       "      <td>199</td>\n",
       "    </tr>\n",
       "    <tr>\n",
       "      <th>4</th>\n",
       "      <td>1</td>\n",
       "      <td>Кира</td>\n",
       "      <td>22</td>\n",
       "      <td>Тюмень</td>\n",
       "      <td>ultra</td>\n",
       "      <td>4028.69</td>\n",
       "      <td>26.265803</td>\n",
       "      <td>2021-08-28</td>\n",
       "      <td>8</td>\n",
       "      <td>6</td>\n",
       "      <td>0</td>\n",
       "      <td>199</td>\n",
       "    </tr>\n",
       "    <tr>\n",
       "      <th>5</th>\n",
       "      <td>1</td>\n",
       "      <td>Кира</td>\n",
       "      <td>22</td>\n",
       "      <td>Тюмень</td>\n",
       "      <td>ultra</td>\n",
       "      <td>2770.89</td>\n",
       "      <td>16.650138</td>\n",
       "      <td>2021-10-09</td>\n",
       "      <td>10</td>\n",
       "      <td>6</td>\n",
       "      <td>0</td>\n",
       "      <td>199</td>\n",
       "    </tr>\n",
       "    <tr>\n",
       "      <th>6</th>\n",
       "      <td>1</td>\n",
       "      <td>Кира</td>\n",
       "      <td>22</td>\n",
       "      <td>Тюмень</td>\n",
       "      <td>ultra</td>\n",
       "      <td>3039.02</td>\n",
       "      <td>14.927879</td>\n",
       "      <td>2021-10-19</td>\n",
       "      <td>10</td>\n",
       "      <td>6</td>\n",
       "      <td>0</td>\n",
       "      <td>199</td>\n",
       "    </tr>\n",
       "    <tr>\n",
       "      <th>7</th>\n",
       "      <td>1</td>\n",
       "      <td>Кира</td>\n",
       "      <td>22</td>\n",
       "      <td>Тюмень</td>\n",
       "      <td>ultra</td>\n",
       "      <td>2842.12</td>\n",
       "      <td>23.117468</td>\n",
       "      <td>2021-11-06</td>\n",
       "      <td>11</td>\n",
       "      <td>6</td>\n",
       "      <td>0</td>\n",
       "      <td>199</td>\n",
       "    </tr>\n",
       "    <tr>\n",
       "      <th>8</th>\n",
       "      <td>1</td>\n",
       "      <td>Кира</td>\n",
       "      <td>22</td>\n",
       "      <td>Тюмень</td>\n",
       "      <td>ultra</td>\n",
       "      <td>3412.69</td>\n",
       "      <td>15.238072</td>\n",
       "      <td>2021-11-14</td>\n",
       "      <td>11</td>\n",
       "      <td>6</td>\n",
       "      <td>0</td>\n",
       "      <td>199</td>\n",
       "    </tr>\n",
       "    <tr>\n",
       "      <th>9</th>\n",
       "      <td>1</td>\n",
       "      <td>Кира</td>\n",
       "      <td>22</td>\n",
       "      <td>Тюмень</td>\n",
       "      <td>ultra</td>\n",
       "      <td>748.69</td>\n",
       "      <td>15.041884</td>\n",
       "      <td>2021-11-22</td>\n",
       "      <td>11</td>\n",
       "      <td>6</td>\n",
       "      <td>0</td>\n",
       "      <td>199</td>\n",
       "    </tr>\n",
       "    <tr>\n",
       "      <th>10</th>\n",
       "      <td>1</td>\n",
       "      <td>Кира</td>\n",
       "      <td>22</td>\n",
       "      <td>Тюмень</td>\n",
       "      <td>ultra</td>\n",
       "      <td>4031.02</td>\n",
       "      <td>17.674448</td>\n",
       "      <td>2021-12-14</td>\n",
       "      <td>12</td>\n",
       "      <td>6</td>\n",
       "      <td>0</td>\n",
       "      <td>199</td>\n",
       "    </tr>\n",
       "    <tr>\n",
       "      <th>11</th>\n",
       "      <td>1</td>\n",
       "      <td>Кира</td>\n",
       "      <td>22</td>\n",
       "      <td>Тюмень</td>\n",
       "      <td>ultra</td>\n",
       "      <td>2720.61</td>\n",
       "      <td>9.529463</td>\n",
       "      <td>2021-12-22</td>\n",
       "      <td>12</td>\n",
       "      <td>6</td>\n",
       "      <td>0</td>\n",
       "      <td>199</td>\n",
       "    </tr>\n",
       "    <tr>\n",
       "      <th>12</th>\n",
       "      <td>2</td>\n",
       "      <td>Станислав</td>\n",
       "      <td>31</td>\n",
       "      <td>Омск</td>\n",
       "      <td>ultra</td>\n",
       "      <td>3105.09</td>\n",
       "      <td>24.307514</td>\n",
       "      <td>2021-03-15</td>\n",
       "      <td>3</td>\n",
       "      <td>6</td>\n",
       "      <td>0</td>\n",
       "      <td>199</td>\n",
       "    </tr>\n",
       "    <tr>\n",
       "      <th>13</th>\n",
       "      <td>2</td>\n",
       "      <td>Станислав</td>\n",
       "      <td>31</td>\n",
       "      <td>Омск</td>\n",
       "      <td>ultra</td>\n",
       "      <td>3053.52</td>\n",
       "      <td>11.543256</td>\n",
       "      <td>2021-03-18</td>\n",
       "      <td>3</td>\n",
       "      <td>6</td>\n",
       "      <td>0</td>\n",
       "      <td>199</td>\n",
       "    </tr>\n",
       "    <tr>\n",
       "      <th>14</th>\n",
       "      <td>2</td>\n",
       "      <td>Станислав</td>\n",
       "      <td>31</td>\n",
       "      <td>Омск</td>\n",
       "      <td>ultra</td>\n",
       "      <td>4029.12</td>\n",
       "      <td>25.109188</td>\n",
       "      <td>2021-03-23</td>\n",
       "      <td>3</td>\n",
       "      <td>6</td>\n",
       "      <td>0</td>\n",
       "      <td>199</td>\n",
       "    </tr>\n",
       "    <tr>\n",
       "      <th>15</th>\n",
       "      <td>2</td>\n",
       "      <td>Станислав</td>\n",
       "      <td>31</td>\n",
       "      <td>Омск</td>\n",
       "      <td>ultra</td>\n",
       "      <td>2805.79</td>\n",
       "      <td>20.652145</td>\n",
       "      <td>2021-04-08</td>\n",
       "      <td>4</td>\n",
       "      <td>6</td>\n",
       "      <td>0</td>\n",
       "      <td>199</td>\n",
       "    </tr>\n",
       "    <tr>\n",
       "      <th>16</th>\n",
       "      <td>2</td>\n",
       "      <td>Станислав</td>\n",
       "      <td>31</td>\n",
       "      <td>Омск</td>\n",
       "      <td>ultra</td>\n",
       "      <td>3358.60</td>\n",
       "      <td>18.396489</td>\n",
       "      <td>2021-04-13</td>\n",
       "      <td>4</td>\n",
       "      <td>6</td>\n",
       "      <td>0</td>\n",
       "      <td>199</td>\n",
       "    </tr>\n",
       "    <tr>\n",
       "      <th>17</th>\n",
       "      <td>2</td>\n",
       "      <td>Станислав</td>\n",
       "      <td>31</td>\n",
       "      <td>Омск</td>\n",
       "      <td>ultra</td>\n",
       "      <td>3255.34</td>\n",
       "      <td>13.851127</td>\n",
       "      <td>2021-06-20</td>\n",
       "      <td>6</td>\n",
       "      <td>6</td>\n",
       "      <td>0</td>\n",
       "      <td>199</td>\n",
       "    </tr>\n",
       "    <tr>\n",
       "      <th>18</th>\n",
       "      <td>2</td>\n",
       "      <td>Станислав</td>\n",
       "      <td>31</td>\n",
       "      <td>Омск</td>\n",
       "      <td>ultra</td>\n",
       "      <td>3942.82</td>\n",
       "      <td>20.142725</td>\n",
       "      <td>2021-07-02</td>\n",
       "      <td>7</td>\n",
       "      <td>6</td>\n",
       "      <td>0</td>\n",
       "      <td>199</td>\n",
       "    </tr>\n",
       "    <tr>\n",
       "      <th>19</th>\n",
       "      <td>2</td>\n",
       "      <td>Станислав</td>\n",
       "      <td>31</td>\n",
       "      <td>Омск</td>\n",
       "      <td>ultra</td>\n",
       "      <td>2837.91</td>\n",
       "      <td>26.027432</td>\n",
       "      <td>2021-07-18</td>\n",
       "      <td>7</td>\n",
       "      <td>6</td>\n",
       "      <td>0</td>\n",
       "      <td>199</td>\n",
       "    </tr>\n",
       "    <tr>\n",
       "      <th>20</th>\n",
       "      <td>2</td>\n",
       "      <td>Станислав</td>\n",
       "      <td>31</td>\n",
       "      <td>Омск</td>\n",
       "      <td>ultra</td>\n",
       "      <td>923.01</td>\n",
       "      <td>6.914760</td>\n",
       "      <td>2021-08-03</td>\n",
       "      <td>8</td>\n",
       "      <td>6</td>\n",
       "      <td>0</td>\n",
       "      <td>199</td>\n",
       "    </tr>\n",
       "    <tr>\n",
       "      <th>21</th>\n",
       "      <td>2</td>\n",
       "      <td>Станислав</td>\n",
       "      <td>31</td>\n",
       "      <td>Омск</td>\n",
       "      <td>ultra</td>\n",
       "      <td>2824.64</td>\n",
       "      <td>18.779128</td>\n",
       "      <td>2021-10-27</td>\n",
       "      <td>10</td>\n",
       "      <td>6</td>\n",
       "      <td>0</td>\n",
       "      <td>199</td>\n",
       "    </tr>\n",
       "    <tr>\n",
       "      <th>22</th>\n",
       "      <td>2</td>\n",
       "      <td>Станислав</td>\n",
       "      <td>31</td>\n",
       "      <td>Омск</td>\n",
       "      <td>ultra</td>\n",
       "      <td>3828.25</td>\n",
       "      <td>11.920514</td>\n",
       "      <td>2021-12-18</td>\n",
       "      <td>12</td>\n",
       "      <td>6</td>\n",
       "      <td>0</td>\n",
       "      <td>199</td>\n",
       "    </tr>\n",
       "    <tr>\n",
       "      <th>23</th>\n",
       "      <td>3</td>\n",
       "      <td>Алексей</td>\n",
       "      <td>20</td>\n",
       "      <td>Москва</td>\n",
       "      <td>ultra</td>\n",
       "      <td>3061.78</td>\n",
       "      <td>12.654443</td>\n",
       "      <td>2021-01-31</td>\n",
       "      <td>1</td>\n",
       "      <td>6</td>\n",
       "      <td>0</td>\n",
       "      <td>199</td>\n",
       "    </tr>\n",
       "    <tr>\n",
       "      <th>24</th>\n",
       "      <td>3</td>\n",
       "      <td>Алексей</td>\n",
       "      <td>20</td>\n",
       "      <td>Москва</td>\n",
       "      <td>ultra</td>\n",
       "      <td>2560.50</td>\n",
       "      <td>16.534984</td>\n",
       "      <td>2021-02-24</td>\n",
       "      <td>2</td>\n",
       "      <td>6</td>\n",
       "      <td>0</td>\n",
       "      <td>199</td>\n",
       "    </tr>\n",
       "    <tr>\n",
       "      <th>25</th>\n",
       "      <td>3</td>\n",
       "      <td>Алексей</td>\n",
       "      <td>20</td>\n",
       "      <td>Москва</td>\n",
       "      <td>ultra</td>\n",
       "      <td>2860.66</td>\n",
       "      <td>21.033653</td>\n",
       "      <td>2021-02-26</td>\n",
       "      <td>2</td>\n",
       "      <td>6</td>\n",
       "      <td>0</td>\n",
       "      <td>199</td>\n",
       "    </tr>\n",
       "    <tr>\n",
       "      <th>26</th>\n",
       "      <td>3</td>\n",
       "      <td>Алексей</td>\n",
       "      <td>20</td>\n",
       "      <td>Москва</td>\n",
       "      <td>ultra</td>\n",
       "      <td>2956.65</td>\n",
       "      <td>20.671364</td>\n",
       "      <td>2021-04-12</td>\n",
       "      <td>4</td>\n",
       "      <td>6</td>\n",
       "      <td>0</td>\n",
       "      <td>199</td>\n",
       "    </tr>\n",
       "    <tr>\n",
       "      <th>27</th>\n",
       "      <td>3</td>\n",
       "      <td>Алексей</td>\n",
       "      <td>20</td>\n",
       "      <td>Москва</td>\n",
       "      <td>ultra</td>\n",
       "      <td>2756.98</td>\n",
       "      <td>18.519025</td>\n",
       "      <td>2021-05-07</td>\n",
       "      <td>5</td>\n",
       "      <td>6</td>\n",
       "      <td>0</td>\n",
       "      <td>199</td>\n",
       "    </tr>\n",
       "    <tr>\n",
       "      <th>28</th>\n",
       "      <td>3</td>\n",
       "      <td>Алексей</td>\n",
       "      <td>20</td>\n",
       "      <td>Москва</td>\n",
       "      <td>ultra</td>\n",
       "      <td>2837.32</td>\n",
       "      <td>24.476276</td>\n",
       "      <td>2021-05-21</td>\n",
       "      <td>5</td>\n",
       "      <td>6</td>\n",
       "      <td>0</td>\n",
       "      <td>199</td>\n",
       "    </tr>\n",
       "    <tr>\n",
       "      <th>29</th>\n",
       "      <td>3</td>\n",
       "      <td>Алексей</td>\n",
       "      <td>20</td>\n",
       "      <td>Москва</td>\n",
       "      <td>ultra</td>\n",
       "      <td>3469.73</td>\n",
       "      <td>18.409201</td>\n",
       "      <td>2021-05-22</td>\n",
       "      <td>5</td>\n",
       "      <td>6</td>\n",
       "      <td>0</td>\n",
       "      <td>199</td>\n",
       "    </tr>\n",
       "  </tbody>\n",
       "</table>\n",
       "</div>"
      ],
      "text/plain": [
       "    user_id       name  age    city subscription_type  distance   duration  \\\n",
       "0         1       Кира   22  Тюмень             ultra   4409.92  25.599769   \n",
       "1         1       Кира   22  Тюмень             ultra   2617.59  15.816871   \n",
       "2         1       Кира   22  Тюмень             ultra    754.16   6.232113   \n",
       "3         1       Кира   22  Тюмень             ultra   2694.78  18.511000   \n",
       "4         1       Кира   22  Тюмень             ultra   4028.69  26.265803   \n",
       "5         1       Кира   22  Тюмень             ultra   2770.89  16.650138   \n",
       "6         1       Кира   22  Тюмень             ultra   3039.02  14.927879   \n",
       "7         1       Кира   22  Тюмень             ultra   2842.12  23.117468   \n",
       "8         1       Кира   22  Тюмень             ultra   3412.69  15.238072   \n",
       "9         1       Кира   22  Тюмень             ultra    748.69  15.041884   \n",
       "10        1       Кира   22  Тюмень             ultra   4031.02  17.674448   \n",
       "11        1       Кира   22  Тюмень             ultra   2720.61   9.529463   \n",
       "12        2  Станислав   31    Омск             ultra   3105.09  24.307514   \n",
       "13        2  Станислав   31    Омск             ultra   3053.52  11.543256   \n",
       "14        2  Станислав   31    Омск             ultra   4029.12  25.109188   \n",
       "15        2  Станислав   31    Омск             ultra   2805.79  20.652145   \n",
       "16        2  Станислав   31    Омск             ultra   3358.60  18.396489   \n",
       "17        2  Станислав   31    Омск             ultra   3255.34  13.851127   \n",
       "18        2  Станислав   31    Омск             ultra   3942.82  20.142725   \n",
       "19        2  Станислав   31    Омск             ultra   2837.91  26.027432   \n",
       "20        2  Станислав   31    Омск             ultra    923.01   6.914760   \n",
       "21        2  Станислав   31    Омск             ultra   2824.64  18.779128   \n",
       "22        2  Станислав   31    Омск             ultra   3828.25  11.920514   \n",
       "23        3    Алексей   20  Москва             ultra   3061.78  12.654443   \n",
       "24        3    Алексей   20  Москва             ultra   2560.50  16.534984   \n",
       "25        3    Алексей   20  Москва             ultra   2860.66  21.033653   \n",
       "26        3    Алексей   20  Москва             ultra   2956.65  20.671364   \n",
       "27        3    Алексей   20  Москва             ultra   2756.98  18.519025   \n",
       "28        3    Алексей   20  Москва             ultra   2837.32  24.476276   \n",
       "29        3    Алексей   20  Москва             ultra   3469.73  18.409201   \n",
       "\n",
       "         date  month  minute_price  start_ride_price  subscription_fee  \n",
       "0  2021-01-01      1             6                 0               199  \n",
       "1  2021-01-18      1             6                 0               199  \n",
       "2  2021-04-20      4             6                 0               199  \n",
       "3  2021-08-11      8             6                 0               199  \n",
       "4  2021-08-28      8             6                 0               199  \n",
       "5  2021-10-09     10             6                 0               199  \n",
       "6  2021-10-19     10             6                 0               199  \n",
       "7  2021-11-06     11             6                 0               199  \n",
       "8  2021-11-14     11             6                 0               199  \n",
       "9  2021-11-22     11             6                 0               199  \n",
       "10 2021-12-14     12             6                 0               199  \n",
       "11 2021-12-22     12             6                 0               199  \n",
       "12 2021-03-15      3             6                 0               199  \n",
       "13 2021-03-18      3             6                 0               199  \n",
       "14 2021-03-23      3             6                 0               199  \n",
       "15 2021-04-08      4             6                 0               199  \n",
       "16 2021-04-13      4             6                 0               199  \n",
       "17 2021-06-20      6             6                 0               199  \n",
       "18 2021-07-02      7             6                 0               199  \n",
       "19 2021-07-18      7             6                 0               199  \n",
       "20 2021-08-03      8             6                 0               199  \n",
       "21 2021-10-27     10             6                 0               199  \n",
       "22 2021-12-18     12             6                 0               199  \n",
       "23 2021-01-31      1             6                 0               199  \n",
       "24 2021-02-24      2             6                 0               199  \n",
       "25 2021-02-26      2             6                 0               199  \n",
       "26 2021-04-12      4             6                 0               199  \n",
       "27 2021-05-07      5             6                 0               199  \n",
       "28 2021-05-21      5             6                 0               199  \n",
       "29 2021-05-22      5             6                 0               199  "
      ]
     },
     "execution_count": 44,
     "metadata": {},
     "output_type": "execute_result"
    }
   ],
   "source": [
    "users_rides_subscr.head(30)"
   ]
  },
  {
   "cell_type": "code",
   "execution_count": 45,
   "id": "efd010e1",
   "metadata": {},
   "outputs": [
    {
     "name": "stdout",
     "output_type": "stream",
     "text": [
      "<class 'pandas.core.frame.DataFrame'>\n",
      "Int64Index: 18063 entries, 0 to 18062\n",
      "Data columns (total 12 columns):\n",
      " #   Column             Non-Null Count  Dtype         \n",
      "---  ------             --------------  -----         \n",
      " 0   user_id            18063 non-null  int64         \n",
      " 1   name               18063 non-null  object        \n",
      " 2   age                18063 non-null  int64         \n",
      " 3   city               18063 non-null  object        \n",
      " 4   subscription_type  18063 non-null  object        \n",
      " 5   distance           18063 non-null  float64       \n",
      " 6   duration           18063 non-null  float64       \n",
      " 7   date               18063 non-null  datetime64[ns]\n",
      " 8   month              18063 non-null  int64         \n",
      " 9   minute_price       18063 non-null  int64         \n",
      " 10  start_ride_price   18063 non-null  int64         \n",
      " 11  subscription_fee   18063 non-null  int64         \n",
      "dtypes: datetime64[ns](1), float64(2), int64(6), object(3)\n",
      "memory usage: 1.8+ MB\n"
     ]
    }
   ],
   "source": [
    "users_rides_subscr.info()"
   ]
  },
  {
   "cell_type": "code",
   "execution_count": 46,
   "id": "916dd3a0",
   "metadata": {},
   "outputs": [
    {
     "data": {
      "text/html": [
       "<div>\n",
       "<style scoped>\n",
       "    .dataframe tbody tr th:only-of-type {\n",
       "        vertical-align: middle;\n",
       "    }\n",
       "\n",
       "    .dataframe tbody tr th {\n",
       "        vertical-align: top;\n",
       "    }\n",
       "\n",
       "    .dataframe thead th {\n",
       "        text-align: right;\n",
       "    }\n",
       "</style>\n",
       "<table border=\"1\" class=\"dataframe\">\n",
       "  <thead>\n",
       "    <tr style=\"text-align: right;\">\n",
       "      <th></th>\n",
       "      <th>user_id</th>\n",
       "      <th>name</th>\n",
       "      <th>age</th>\n",
       "      <th>city</th>\n",
       "      <th>subscription_type</th>\n",
       "      <th>distance</th>\n",
       "      <th>duration</th>\n",
       "      <th>date</th>\n",
       "      <th>month</th>\n",
       "      <th>minute_price</th>\n",
       "      <th>start_ride_price</th>\n",
       "      <th>subscription_fee</th>\n",
       "    </tr>\n",
       "  </thead>\n",
       "  <tbody>\n",
       "  </tbody>\n",
       "</table>\n",
       "</div>"
      ],
      "text/plain": [
       "Empty DataFrame\n",
       "Columns: [user_id, name, age, city, subscription_type, distance, duration, date, month, minute_price, start_ride_price, subscription_fee]\n",
       "Index: []"
      ]
     },
     "execution_count": 46,
     "metadata": {},
     "output_type": "execute_result"
    }
   ],
   "source": [
    "users_rides_subscr[users_rides_subscr.isna().any(axis=1)]"
   ]
  },
  {
   "cell_type": "markdown",
   "id": "a1a33daf",
   "metadata": {},
   "source": [
    "##### Создадим два датафреймя с пользователями с подпиской и без"
   ]
  },
  {
   "cell_type": "code",
   "execution_count": 47,
   "id": "65dbb348",
   "metadata": {},
   "outputs": [],
   "source": [
    "users_rides_subscr_free = users_rides_subscr.query('subscription_type == \"free\"')"
   ]
  },
  {
   "cell_type": "code",
   "execution_count": 48,
   "id": "012550f6",
   "metadata": {},
   "outputs": [],
   "source": [
    "users_rides_subscr_ultra = users_rides_subscr.query('subscription_type == \"ultra\"')"
   ]
  },
  {
   "cell_type": "markdown",
   "id": "c1bf82fb",
   "metadata": {},
   "source": [
    "##### На основе датафреймов из 4.2 произведем анализ данных о расстоянии и времени поездок"
   ]
  },
  {
   "cell_type": "markdown",
   "id": "bc15fd08",
   "metadata": {},
   "source": [
    "###### Сравним расстояние у пользователей с подпиской и без"
   ]
  },
  {
   "cell_type": "code",
   "execution_count": 49,
   "id": "d5325e7e",
   "metadata": {},
   "outputs": [
    {
     "data": {
      "image/png": "[encoded data removed]",
      "text/plain": [
       "<Figure size 1080x360 with 1 Axes>"
      ]
     },
     "metadata": {
      "needs_background": "light"
     },
     "output_type": "display_data"
    }
   ],
   "source": [
    "plt.figure(figsize=(15, 5))\n",
    "plt.hist([users_rides_subscr_free['distance'], users_rides_subscr_ultra['distance']], bins=50, label=['free', 'ultra'])\n",
    "plt.legend(loc='upper right')\n",
    "plt.title('Количество поездок в зависимости расстояния поездки')\n",
    "plt.xlabel('Расстояние в метрах')\n",
    "plt.ylabel('Количество поездок')\n",
    "plt.grid(True)\n",
    "plt.show()"
   ]
  },
  {
   "cell_type": "code",
   "execution_count": 50,
   "id": "75f67571",
   "metadata": {},
   "outputs": [
    {
     "data": {
      "text/plain": [
       "count    11563.000000\n",
       "mean      3044.572846\n",
       "std       1245.581044\n",
       "min          0.860000\n",
       "25%       2366.400000\n",
       "50%       3114.280000\n",
       "75%       3903.810000\n",
       "max       7211.010000\n",
       "Name: distance, dtype: float64"
      ]
     },
     "execution_count": 50,
     "metadata": {},
     "output_type": "execute_result"
    }
   ],
   "source": [
    "users_rides_subscr_free['distance'].describe()"
   ]
  },
  {
   "cell_type": "code",
   "execution_count": 51,
   "id": "f6edb5b7",
   "metadata": {},
   "outputs": [
    {
     "data": {
      "text/plain": [
       "count    6500.000000\n",
       "mean     3115.445431\n",
       "std       836.895369\n",
       "min       244.210000\n",
       "25%      2785.447500\n",
       "50%      3148.640000\n",
       "75%      3560.577500\n",
       "max      5699.770000\n",
       "Name: distance, dtype: float64"
      ]
     },
     "execution_count": 51,
     "metadata": {},
     "output_type": "execute_result"
    }
   ],
   "source": [
    "users_rides_subscr_ultra['distance'].describe()"
   ]
  },
  {
   "cell_type": "markdown",
   "id": "03d14b2b",
   "metadata": {},
   "source": [
    "*Из анализа данных о расстояние поездок пользователей с подпиской и без видно, что сохраняется распределение относительно исходного датафрейма (п.3.4). Также видно, что среднее расстояние пользователей с подпиской больше (3149 метров), чем без (3045 метров). Кроме того, видно, что среднее значение дополнительного пика с подпиской больше (1000 метров), чем без (500 метров).*"
   ]
  },
  {
   "cell_type": "markdown",
   "id": "40baaefc",
   "metadata": {},
   "source": [
    "###### Сравним время поездки у пользователей с подпиской и без"
   ]
  },
  {
   "cell_type": "code",
   "execution_count": 52,
   "id": "92d8360d",
   "metadata": {},
   "outputs": [
    {
     "data": {
      "image/png": "[encoded data removed]",
      "text/plain": [
       "<Figure size 1080x360 with 1 Axes>"
      ]
     },
     "metadata": {
      "needs_background": "light"
     },
     "output_type": "display_data"
    }
   ],
   "source": [
    "plt.figure(figsize=(15, 5))\n",
    "plt.hist([users_rides_subscr_free['duration'], users_rides_subscr_ultra['duration']], bins=30, label=['free', 'ultra'])\n",
    "plt.legend(loc='upper right')\n",
    "plt.title('Количество поездок в зависимости от продолжительности')\n",
    "plt.xlabel('продолжительность поездки')\n",
    "plt.ylabel('Количество поездок')\n",
    "plt.grid(True)\n",
    "plt.show()"
   ]
  },
  {
   "cell_type": "code",
   "execution_count": 53,
   "id": "f4685b42",
   "metadata": {},
   "outputs": [
    {
     "data": {
      "text/plain": [
       "count    11563.000000\n",
       "mean        17.398213\n",
       "std          6.318411\n",
       "min          0.500000\n",
       "25%         12.962980\n",
       "50%         17.334630\n",
       "75%         21.601341\n",
       "max         34.948498\n",
       "Name: duration, dtype: float64"
      ]
     },
     "execution_count": 53,
     "metadata": {},
     "output_type": "execute_result"
    }
   ],
   "source": [
    "users_rides_subscr_free['duration'].describe()"
   ]
  },
  {
   "cell_type": "code",
   "execution_count": 54,
   "id": "4efee30a",
   "metadata": {},
   "outputs": [
    {
     "data": {
      "text/plain": [
       "count    6500.000000\n",
       "mean       18.541985\n",
       "std         5.572048\n",
       "min         3.760353\n",
       "25%        14.524654\n",
       "50%        18.178153\n",
       "75%        21.884129\n",
       "max        40.823963\n",
       "Name: duration, dtype: float64"
      ]
     },
     "execution_count": 54,
     "metadata": {},
     "output_type": "execute_result"
    }
   ],
   "source": [
    "users_rides_subscr_ultra['duration'].describe()"
   ]
  },
  {
   "cell_type": "markdown",
   "id": "6435ad49",
   "metadata": {},
   "source": [
    "*Из анализа данных о продолжительности поездок пользователей с подпиской и без видно, что сохраняется распределение относительно исходного датафрейма (п.3.5). Также видно, что среднее время поездки пользователей с подпиской больше (18.5 мин), чем без (17.4 мин).*"
   ]
  },
  {
   "cell_type": "markdown",
   "id": "402d620f",
   "metadata": {},
   "source": [
    "#### Шаг 5. Подсчёт выручки"
   ]
  },
  {
   "cell_type": "markdown",
   "id": "9a32e954",
   "metadata": {},
   "source": [
    "##### На основе датафрейма из 4.1 найдём суммарное расстояние, количество поездок и суммарное время для каждого пользователя за каждый месяц"
   ]
  },
  {
   "cell_type": "code",
   "execution_count": 55,
   "id": "53049e0a",
   "metadata": {
    "scrolled": true
   },
   "outputs": [
    {
     "data": {
      "text/html": [
       "<div>\n",
       "<style scoped>\n",
       "    .dataframe tbody tr th:only-of-type {\n",
       "        vertical-align: middle;\n",
       "    }\n",
       "\n",
       "    .dataframe tbody tr th {\n",
       "        vertical-align: top;\n",
       "    }\n",
       "\n",
       "    .dataframe thead th {\n",
       "        text-align: right;\n",
       "    }\n",
       "</style>\n",
       "<table border=\"1\" class=\"dataframe\">\n",
       "  <thead>\n",
       "    <tr style=\"text-align: right;\">\n",
       "      <th></th>\n",
       "      <th></th>\n",
       "      <th></th>\n",
       "      <th>count</th>\n",
       "      <th>distance</th>\n",
       "      <th>duration</th>\n",
       "      <th>minute_price</th>\n",
       "      <th>start_ride_price</th>\n",
       "      <th>subscription_fee</th>\n",
       "    </tr>\n",
       "    <tr>\n",
       "      <th>user_id</th>\n",
       "      <th>month</th>\n",
       "      <th>subscription_type</th>\n",
       "      <th></th>\n",
       "      <th></th>\n",
       "      <th></th>\n",
       "      <th></th>\n",
       "      <th></th>\n",
       "      <th></th>\n",
       "    </tr>\n",
       "  </thead>\n",
       "  <tbody>\n",
       "    <tr>\n",
       "      <th rowspan=\"6\" valign=\"top\">1</th>\n",
       "      <th>1</th>\n",
       "      <th>ultra</th>\n",
       "      <td>2</td>\n",
       "      <td>7027.51</td>\n",
       "      <td>41.416640</td>\n",
       "      <td>6</td>\n",
       "      <td>0</td>\n",
       "      <td>199</td>\n",
       "    </tr>\n",
       "    <tr>\n",
       "      <th>4</th>\n",
       "      <th>ultra</th>\n",
       "      <td>1</td>\n",
       "      <td>754.16</td>\n",
       "      <td>6.232113</td>\n",
       "      <td>6</td>\n",
       "      <td>0</td>\n",
       "      <td>199</td>\n",
       "    </tr>\n",
       "    <tr>\n",
       "      <th>8</th>\n",
       "      <th>ultra</th>\n",
       "      <td>2</td>\n",
       "      <td>6723.47</td>\n",
       "      <td>44.776802</td>\n",
       "      <td>6</td>\n",
       "      <td>0</td>\n",
       "      <td>199</td>\n",
       "    </tr>\n",
       "    <tr>\n",
       "      <th>10</th>\n",
       "      <th>ultra</th>\n",
       "      <td>2</td>\n",
       "      <td>5809.91</td>\n",
       "      <td>31.578017</td>\n",
       "      <td>6</td>\n",
       "      <td>0</td>\n",
       "      <td>199</td>\n",
       "    </tr>\n",
       "    <tr>\n",
       "      <th>11</th>\n",
       "      <th>ultra</th>\n",
       "      <td>3</td>\n",
       "      <td>7003.50</td>\n",
       "      <td>53.397424</td>\n",
       "      <td>6</td>\n",
       "      <td>0</td>\n",
       "      <td>199</td>\n",
       "    </tr>\n",
       "    <tr>\n",
       "      <th>12</th>\n",
       "      <th>ultra</th>\n",
       "      <td>2</td>\n",
       "      <td>6751.63</td>\n",
       "      <td>27.203912</td>\n",
       "      <td>6</td>\n",
       "      <td>0</td>\n",
       "      <td>199</td>\n",
       "    </tr>\n",
       "    <tr>\n",
       "      <th rowspan=\"4\" valign=\"top\">2</th>\n",
       "      <th>3</th>\n",
       "      <th>ultra</th>\n",
       "      <td>3</td>\n",
       "      <td>10187.73</td>\n",
       "      <td>60.959959</td>\n",
       "      <td>6</td>\n",
       "      <td>0</td>\n",
       "      <td>199</td>\n",
       "    </tr>\n",
       "    <tr>\n",
       "      <th>4</th>\n",
       "      <th>ultra</th>\n",
       "      <td>2</td>\n",
       "      <td>6164.39</td>\n",
       "      <td>39.048633</td>\n",
       "      <td>6</td>\n",
       "      <td>0</td>\n",
       "      <td>199</td>\n",
       "    </tr>\n",
       "    <tr>\n",
       "      <th>6</th>\n",
       "      <th>ultra</th>\n",
       "      <td>1</td>\n",
       "      <td>3255.34</td>\n",
       "      <td>13.851127</td>\n",
       "      <td>6</td>\n",
       "      <td>0</td>\n",
       "      <td>199</td>\n",
       "    </tr>\n",
       "    <tr>\n",
       "      <th>7</th>\n",
       "      <th>ultra</th>\n",
       "      <td>2</td>\n",
       "      <td>6780.73</td>\n",
       "      <td>46.170157</td>\n",
       "      <td>6</td>\n",
       "      <td>0</td>\n",
       "      <td>199</td>\n",
       "    </tr>\n",
       "  </tbody>\n",
       "</table>\n",
       "</div>"
      ],
      "text/plain": [
       "                                 count  distance   duration  minute_price  \\\n",
       "user_id month subscription_type                                             \n",
       "1       1     ultra                  2   7027.51  41.416640             6   \n",
       "        4     ultra                  1    754.16   6.232113             6   \n",
       "        8     ultra                  2   6723.47  44.776802             6   \n",
       "        10    ultra                  2   5809.91  31.578017             6   \n",
       "        11    ultra                  3   7003.50  53.397424             6   \n",
       "        12    ultra                  2   6751.63  27.203912             6   \n",
       "2       3     ultra                  3  10187.73  60.959959             6   \n",
       "        4     ultra                  2   6164.39  39.048633             6   \n",
       "        6     ultra                  1   3255.34  13.851127             6   \n",
       "        7     ultra                  2   6780.73  46.170157             6   \n",
       "\n",
       "                                 start_ride_price  subscription_fee  \n",
       "user_id month subscription_type                                      \n",
       "1       1     ultra                             0               199  \n",
       "        4     ultra                             0               199  \n",
       "        8     ultra                             0               199  \n",
       "        10    ultra                             0               199  \n",
       "        11    ultra                             0               199  \n",
       "        12    ultra                             0               199  \n",
       "2       3     ultra                             0               199  \n",
       "        4     ultra                             0               199  \n",
       "        6     ultra                             0               199  \n",
       "        7     ultra                             0               199  "
      ]
     },
     "execution_count": 55,
     "metadata": {},
     "output_type": "execute_result"
    }
   ],
   "source": [
    "sum_each_user = pd.pivot_table(users_rides_subscr, \n",
    "                               index=['user_id', 'month', 'subscription_type'],\n",
    "                               values=['distance', 'duration', 'minute_price', 'start_ride_price', 'subscription_fee'], \n",
    "                               aggfunc=({'distance':{'count', 'sum'}, 'duration': 'sum', 'minute_price': 'mean', \n",
    "                                         'start_ride_price': 'mean', 'subscription_fee': 'mean'}))\n",
    "sum_each_user.columns = ['count', 'distance', 'duration', 'minute_price', 'start_ride_price', 'subscription_fee']\n",
    "sum_each_user.head(10)"
   ]
  },
  {
   "cell_type": "markdown",
   "id": "5bddf27f",
   "metadata": {},
   "source": [
    "##### Добавим столбец с выручкой по каждому клиенту"
   ]
  },
  {
   "cell_type": "markdown",
   "id": "b0deaca9",
   "metadata": {},
   "source": [
    "Округлим данные по столбцу продолжительность поездки и добавим столбец выручка"
   ]
  },
  {
   "cell_type": "code",
   "execution_count": 56,
   "id": "4e2cd825",
   "metadata": {},
   "outputs": [],
   "source": [
    "sum_each_user['duration'] = np.ceil(sum_each_user['duration']).astype('int')"
   ]
  },
  {
   "cell_type": "code",
   "execution_count": 57,
   "id": "ad59f71e",
   "metadata": {},
   "outputs": [
    {
     "data": {
      "text/html": [
       "<div>\n",
       "<style scoped>\n",
       "    .dataframe tbody tr th:only-of-type {\n",
       "        vertical-align: middle;\n",
       "    }\n",
       "\n",
       "    .dataframe tbody tr th {\n",
       "        vertical-align: top;\n",
       "    }\n",
       "\n",
       "    .dataframe thead th {\n",
       "        text-align: right;\n",
       "    }\n",
       "</style>\n",
       "<table border=\"1\" class=\"dataframe\">\n",
       "  <thead>\n",
       "    <tr style=\"text-align: right;\">\n",
       "      <th></th>\n",
       "      <th></th>\n",
       "      <th></th>\n",
       "      <th>count</th>\n",
       "      <th>distance</th>\n",
       "      <th>duration</th>\n",
       "      <th>minute_price</th>\n",
       "      <th>start_ride_price</th>\n",
       "      <th>subscription_fee</th>\n",
       "      <th>revenue</th>\n",
       "    </tr>\n",
       "    <tr>\n",
       "      <th>user_id</th>\n",
       "      <th>month</th>\n",
       "      <th>subscription_type</th>\n",
       "      <th></th>\n",
       "      <th></th>\n",
       "      <th></th>\n",
       "      <th></th>\n",
       "      <th></th>\n",
       "      <th></th>\n",
       "      <th></th>\n",
       "    </tr>\n",
       "  </thead>\n",
       "  <tbody>\n",
       "    <tr>\n",
       "      <th rowspan=\"5\" valign=\"top\">1</th>\n",
       "      <th>1</th>\n",
       "      <th>ultra</th>\n",
       "      <td>2</td>\n",
       "      <td>7027.51</td>\n",
       "      <td>42</td>\n",
       "      <td>6</td>\n",
       "      <td>0</td>\n",
       "      <td>199</td>\n",
       "      <td>451</td>\n",
       "    </tr>\n",
       "    <tr>\n",
       "      <th>4</th>\n",
       "      <th>ultra</th>\n",
       "      <td>1</td>\n",
       "      <td>754.16</td>\n",
       "      <td>7</td>\n",
       "      <td>6</td>\n",
       "      <td>0</td>\n",
       "      <td>199</td>\n",
       "      <td>241</td>\n",
       "    </tr>\n",
       "    <tr>\n",
       "      <th>8</th>\n",
       "      <th>ultra</th>\n",
       "      <td>2</td>\n",
       "      <td>6723.47</td>\n",
       "      <td>45</td>\n",
       "      <td>6</td>\n",
       "      <td>0</td>\n",
       "      <td>199</td>\n",
       "      <td>469</td>\n",
       "    </tr>\n",
       "    <tr>\n",
       "      <th>10</th>\n",
       "      <th>ultra</th>\n",
       "      <td>2</td>\n",
       "      <td>5809.91</td>\n",
       "      <td>32</td>\n",
       "      <td>6</td>\n",
       "      <td>0</td>\n",
       "      <td>199</td>\n",
       "      <td>391</td>\n",
       "    </tr>\n",
       "    <tr>\n",
       "      <th>11</th>\n",
       "      <th>ultra</th>\n",
       "      <td>3</td>\n",
       "      <td>7003.50</td>\n",
       "      <td>54</td>\n",
       "      <td>6</td>\n",
       "      <td>0</td>\n",
       "      <td>199</td>\n",
       "      <td>523</td>\n",
       "    </tr>\n",
       "    <tr>\n",
       "      <th>...</th>\n",
       "      <th>...</th>\n",
       "      <th>...</th>\n",
       "      <td>...</td>\n",
       "      <td>...</td>\n",
       "      <td>...</td>\n",
       "      <td>...</td>\n",
       "      <td>...</td>\n",
       "      <td>...</td>\n",
       "      <td>...</td>\n",
       "    </tr>\n",
       "    <tr>\n",
       "      <th rowspan=\"5\" valign=\"top\">1534</th>\n",
       "      <th>6</th>\n",
       "      <th>free</th>\n",
       "      <td>2</td>\n",
       "      <td>3409.47</td>\n",
       "      <td>25</td>\n",
       "      <td>8</td>\n",
       "      <td>50</td>\n",
       "      <td>0</td>\n",
       "      <td>300</td>\n",
       "    </tr>\n",
       "    <tr>\n",
       "      <th>8</th>\n",
       "      <th>free</th>\n",
       "      <td>2</td>\n",
       "      <td>7622.45</td>\n",
       "      <td>48</td>\n",
       "      <td>8</td>\n",
       "      <td>50</td>\n",
       "      <td>0</td>\n",
       "      <td>484</td>\n",
       "    </tr>\n",
       "    <tr>\n",
       "      <th>9</th>\n",
       "      <th>free</th>\n",
       "      <td>1</td>\n",
       "      <td>4928.17</td>\n",
       "      <td>23</td>\n",
       "      <td>8</td>\n",
       "      <td>50</td>\n",
       "      <td>0</td>\n",
       "      <td>234</td>\n",
       "    </tr>\n",
       "    <tr>\n",
       "      <th>11</th>\n",
       "      <th>free</th>\n",
       "      <td>4</td>\n",
       "      <td>13350.02</td>\n",
       "      <td>77</td>\n",
       "      <td>8</td>\n",
       "      <td>50</td>\n",
       "      <td>0</td>\n",
       "      <td>816</td>\n",
       "    </tr>\n",
       "    <tr>\n",
       "      <th>12</th>\n",
       "      <th>free</th>\n",
       "      <td>1</td>\n",
       "      <td>2371.71</td>\n",
       "      <td>16</td>\n",
       "      <td>8</td>\n",
       "      <td>50</td>\n",
       "      <td>0</td>\n",
       "      <td>178</td>\n",
       "    </tr>\n",
       "  </tbody>\n",
       "</table>\n",
       "<p>11329 rows × 7 columns</p>\n",
       "</div>"
      ],
      "text/plain": [
       "                                 count  distance  duration  minute_price  \\\n",
       "user_id month subscription_type                                            \n",
       "1       1     ultra                  2   7027.51        42             6   \n",
       "        4     ultra                  1    754.16         7             6   \n",
       "        8     ultra                  2   6723.47        45             6   \n",
       "        10    ultra                  2   5809.91        32             6   \n",
       "        11    ultra                  3   7003.50        54             6   \n",
       "...                                ...       ...       ...           ...   \n",
       "1534    6     free                   2   3409.47        25             8   \n",
       "        8     free                   2   7622.45        48             8   \n",
       "        9     free                   1   4928.17        23             8   \n",
       "        11    free                   4  13350.02        77             8   \n",
       "        12    free                   1   2371.71        16             8   \n",
       "\n",
       "                                 start_ride_price  subscription_fee  revenue  \n",
       "user_id month subscription_type                                               \n",
       "1       1     ultra                             0               199      451  \n",
       "        4     ultra                             0               199      241  \n",
       "        8     ultra                             0               199      469  \n",
       "        10    ultra                             0               199      391  \n",
       "        11    ultra                             0               199      523  \n",
       "...                                           ...               ...      ...  \n",
       "1534    6     free                             50                 0      300  \n",
       "        8     free                             50                 0      484  \n",
       "        9     free                             50                 0      234  \n",
       "        11    free                             50                 0      816  \n",
       "        12    free                             50                 0      178  \n",
       "\n",
       "[11329 rows x 7 columns]"
      ]
     },
     "execution_count": 57,
     "metadata": {},
     "output_type": "execute_result"
    }
   ],
   "source": [
    "sum_each_user['revenue'] = sum_each_user['start_ride_price'] * sum_each_user['count'] \\\n",
    "+ sum_each_user['minute_price'] * sum_each_user['duration'] + sum_each_user['subscription_fee']\n",
    "sum_each_user"
   ]
  },
  {
   "cell_type": "markdown",
   "id": "03ddeb0b",
   "metadata": {},
   "source": [
    "Сгруппируем по каждому пользователю и найдём сумму, который потратил каждый пользователь. Также построим гистограмму."
   ]
  },
  {
   "cell_type": "code",
   "execution_count": 58,
   "id": "e3f5f0ad",
   "metadata": {},
   "outputs": [
    {
     "name": "stdout",
     "output_type": "stream",
     "text": [
      "        revenue\n",
      "            sum\n",
      "user_id        \n",
      "1          2442\n",
      "2          2593\n",
      "3          2809\n",
      "4          2940\n",
      "5          2660\n",
      "...         ...\n",
      "1530       3218\n",
      "1531       4454\n",
      "1532       2378\n",
      "1533       2610\n",
      "1534       2522\n",
      "\n",
      "[1534 rows x 1 columns]\n"
     ]
    },
    {
     "data": {
      "image/png": "[encoded data removed]",
      "text/plain": [
       "<Figure size 1080x360 with 1 Axes>"
      ]
     },
     "metadata": {
      "needs_background": "light"
     },
     "output_type": "display_data"
    }
   ],
   "source": [
    "print(sum_each_user.groupby('user_id')[['revenue']].agg(['sum']))\n",
    "sum_each_user.groupby('user_id')[['revenue']].agg(['sum']).hist(bins=50, figsize=(15, 5));"
   ]
  },
  {
   "cell_type": "code",
   "execution_count": 59,
   "id": "9cdf15b0",
   "metadata": {},
   "outputs": [
    {
     "name": "stdout",
     "output_type": "stream",
     "text": [
      "Сумма, которую потратили пользователи за год, составляет 3853403 рублей.\n"
     ]
    }
   ],
   "source": [
    "print(f\"Сумма, которую потратили пользователи за год, составляет {sum_each_user['revenue'].sum()} рублей.\")"
   ]
  },
  {
   "cell_type": "markdown",
   "id": "41545ac0",
   "metadata": {},
   "source": [
    "#### Шаг 6. Проверка гипотез"
   ]
  },
  {
   "cell_type": "markdown",
   "id": "31ca9ce0",
   "metadata": {},
   "source": [
    "##### Проверим трят ли пользователи с подпиской больше времени на поездку или нет"
   ]
  },
  {
   "cell_type": "markdown",
   "id": "aa095fe2",
   "metadata": {},
   "source": [
    "Выдвинем гипотезы:\n",
    "\n",
    "Н0: Средняя продолжительность поездок с подпиской и без равна\n",
    "\n",
    "Н1: Средняя продолжительность поездок с подпиской больше продолжительности поездок без подписок \n",
    "\n",
    "Проверим гипотезы, используем исходные данные о продолжительности каждой сессии — отдельно для подписчиков и тех, у кого нет подписки."
   ]
  },
  {
   "cell_type": "code",
   "execution_count": 60,
   "id": "ad54f94e",
   "metadata": {},
   "outputs": [
    {
     "name": "stdout",
     "output_type": "stream",
     "text": [
      "2.9055924182441005e-34\n",
      "Отвергаем нулевую гипотезу\n"
     ]
    }
   ],
   "source": [
    "results = st.ttest_ind(users_rides_subscr_ultra['duration'], users_rides_subscr_free['duration'], equal_var=True, \n",
    "                       alternative='greater')\n",
    "print(results.pvalue)\n",
    "\n",
    "alpha = 0.05\n",
    "if results.pvalue < alpha:\n",
    "    print('Отвергаем нулевую гипотезу')\n",
    "else:\n",
    "    print('Не отвергаем нулевую гипотезу')"
   ]
  },
  {
   "cell_type": "markdown",
   "id": "e86ddfe6",
   "metadata": {},
   "source": [
    "*Нулевая гипотеза отвергнута. Есть основания полагать, что средняя продолжительность поездки с подпиской выше, чем без неё. Гистограммы из п.4.3.2 могут это подтверждать.*"
   ]
  },
  {
   "cell_type": "markdown",
   "id": "82a372ea",
   "metadata": {},
   "source": [
    "##### Проверим гипотезу о том, что среднее расстояние одной поездки не может превышать 3130 метров у пользователей с подпиской"
   ]
  },
  {
   "cell_type": "markdown",
   "id": "745b45ed",
   "metadata": {},
   "source": [
    "Выдвинем гипотезы:\n",
    "\n",
    "Н0: Среднее расстояние пользователей с подпиской равно 3130 метрам\n",
    "\n",
    "Н1: Среднее расстояние пользователей с подпиской больше 3130 метрам\n",
    "\n",
    "Проверим гипотезы, используем исходные данные о расстояние каждой сессии для подписчиков."
   ]
  },
  {
   "cell_type": "code",
   "execution_count": 61,
   "id": "d572d09e",
   "metadata": {},
   "outputs": [
    {
     "name": "stdout",
     "output_type": "stream",
     "text": [
      "0.9195362605842414\n",
      "Не отвергаем нулевую гипотезу\n"
     ]
    }
   ],
   "source": [
    "distance = 3130\n",
    "results = st.ttest_1samp(users_rides_subscr_ultra['distance'], distance, alternative='greater')\n",
    "print(results.pvalue)\n",
    "\n",
    "alpha = 0.05\n",
    "if results.pvalue < alpha:\n",
    "    print('Отвергаем нулевую гипотезу')\n",
    "else:\n",
    "    print('Не отвергаем нулевую гипотезу')"
   ]
  },
  {
   "cell_type": "markdown",
   "id": "6a1f15fc",
   "metadata": {},
   "source": [
    "*Не отвергаем нулеваю гипотезу. Есть основания полагать, что среднее расстояние поездки с подпиской не превышает 3130 метров. Гистограммы из п.4.3.1 могут это подтверждать.*"
   ]
  },
  {
   "cell_type": "markdown",
   "id": "2bdd6c7a",
   "metadata": {},
   "source": [
    "##### Проверим гипотезу о том, что средняя помесечная выручка от пользователей с подпиской выше, чем без"
   ]
  },
  {
   "cell_type": "markdown",
   "id": "dc144a27",
   "metadata": {},
   "source": [
    "Выдвинем гипотезы:\n",
    "\n",
    "Н0: Средняя помесечная выручка от пользователей с подпиской и без равна\n",
    "\n",
    "Н1: Средняя помесечная выручка от пользователей с подпиской больше, чем без \n",
    "\n",
    "Проверим гипотезы, используем расчетные данные о выручке из п.5.2"
   ]
  },
  {
   "cell_type": "code",
   "execution_count": 62,
   "id": "d6696363",
   "metadata": {
    "scrolled": true
   },
   "outputs": [
    {
     "name": "stdout",
     "output_type": "stream",
     "text": [
      "3.475692762040471e-35\n",
      "Отвергаем нулевую гипотезу\n"
     ]
    }
   ],
   "source": [
    "results = st.ttest_ind(sum_each_user.loc[sum_each_user['subscription_fee'] > 0, 'revenue'],\n",
    "                       sum_each_user.loc[sum_each_user['subscription_fee'] == 0, 'revenue'], equal_var=True, \n",
    "                       alternative='greater')\n",
    "print(results.pvalue)\n",
    "\n",
    "alpha = 0.05\n",
    "if results.pvalue < alpha:\n",
    "    print('Отвергаем нулевую гипотезу')\n",
    "else:\n",
    "    print('Не отвергаем нулевую гипотезу')"
   ]
  },
  {
   "cell_type": "markdown",
   "id": "e878753b",
   "metadata": {},
   "source": [
    "*Нулевая гипотеза отвергнута. Есть основания полагать, что средняя помесечная выручка с подпиской выше, чем без неё.*"
   ]
  },
  {
   "cell_type": "markdown",
   "id": "61b2db01",
   "metadata": {},
   "source": [
    "##### Проверка гипотезы об изменениях в службе техподдержки"
   ]
  },
  {
   "cell_type": "markdown",
   "id": "35b99650",
   "metadata": {},
   "source": [
    "Теоретически это две зависимые выборки, иначе - парные. Если в данных некоторая переменная измеряется дважды (количество обращений до обновления и после него) для одних и тех же объектов (пользователь) и имеют одинаковые размеры, тогда можно применить метод scipy.stats.ttest_rel(), при проверке на то что, истинное среднее значение генеральной выборки до изменения больше, чем истинное среднее значение генеральной совокупности после изменения следует указать alternative=\"less\".\n",
    "\n",
    "Если требования к зависимым выборкам не выполняются, можно воспользоваться методом scipy.stats.ttest_ind()."
   ]
  },
  {
   "cell_type": "markdown",
   "id": "61213c5e",
   "metadata": {},
   "source": [
    "#### Шаг 7. Распределения"
   ]
  },
  {
   "cell_type": "markdown",
   "id": "779ba1db",
   "metadata": {},
   "source": [
    "##### Проверка акции с промокодами"
   ]
  },
  {
   "cell_type": "code",
   "execution_count": 63,
   "id": "95cd1d51",
   "metadata": {},
   "outputs": [
    {
     "name": "stdout",
     "output_type": "stream",
     "text": [
      "При раздаче промокодов в количестве 1161 вероятность, не выполнить план меньше 5.0 %\n"
     ]
    },
    {
     "data": {
      "image/png": "[encoded data removed]",
      "text/plain": [
       "<Figure size 1080x360 with 1 Axes>"
      ]
     },
     "metadata": {
      "needs_background": "light"
     },
     "output_type": "display_data"
    }
   ],
   "source": [
    "n = 1000\n",
    "p = 0.1\n",
    "k = 99\n",
    "binom_cdf = 0.05\n",
    "\n",
    "while binom_cdf < binom.cdf(k, n, p):\n",
    "    n += 1\n",
    "print(f'При раздаче промокодов в количестве {n} вероятность, не выполнить план меньше {binom.cdf(k, n, p).round(2)*100} %')\n",
    "\n",
    "# зададим мат.ожидание и ст.отклонение нормального распределения равными\n",
    "# мат.ожиданию и ст.отклонению биномиального распределения\n",
    "mu = n * p\n",
    "sigma = (n * p * (1 - p))**0.5\n",
    "\n",
    "arange = np.arange((mu - 4 * sigma),(mu + 4 * sigma),1)\n",
    "\n",
    "plt.figure(figsize=(15, 5))\n",
    "plt.plot(arange, st.norm.pdf(arange, mu, sigma), 'b-')\n",
    "plt.axvline(x=k, color='red')\n",
    "plt.axvline(x=mu, color='green')\n",
    "plt.grid(True)\n",
    "plt.show()"
   ]
  },
  {
   "cell_type": "markdown",
   "id": "a6bbc2fe",
   "metadata": {},
   "source": [
    "*Необходимо раздать как минимум 1161 промокодов для того, чтобы 100 существующих подписчиков продлили подписки (10% от получивших промокоды) с вероятностью 5% не выполнить план.*"
   ]
  },
  {
   "cell_type": "markdown",
   "id": "f4169e62",
   "metadata": {},
   "source": [
    "##### Проверка рассылок push-уведомлений"
   ]
  },
  {
   "cell_type": "code",
   "execution_count": 64,
   "id": "5b80ab84",
   "metadata": {},
   "outputs": [
    {
     "name": "stdout",
     "output_type": "stream",
     "text": [
      "Вероятность открытия сообщений: 0.15371708296369768\n"
     ]
    },
    {
     "data": {
      "image/png": "[encoded data removed]",
      "text/plain": [
       "<Figure size 1080x360 with 1 Axes>"
      ]
     },
     "metadata": {
      "needs_background": "light"
     },
     "output_type": "display_data"
    }
   ],
   "source": [
    "# параметры биномиального распределения\n",
    "n = 1000000\n",
    "p = 0.4\n",
    "k = 399500\n",
    "# зададим мат.ожидание и ст.отклонение нормального распределения равными\n",
    "# мат.ожиданию и ст.отклонению биномиального распределения\n",
    "mu = n * p\n",
    "sigma = (n * p * (1 - p))**0.5\n",
    "\n",
    "# задаём нормальное распределение\n",
    "distr = st.norm(mu, sigma) \n",
    "\n",
    "# считаем вероятность хвоста слева от 399.5 тысяч\n",
    "result = distr.cdf(k)\n",
    "print('Вероятность открытия сообщений:', result)\n",
    "\n",
    "arange = np.arange((mu - 4 * sigma),(mu + 4 * sigma),1)\n",
    "plt.figure(figsize=(15, 5))\n",
    "plt.plot(arange, st.norm.pdf(arange, mu, sigma), 'b-')\n",
    "plt.xticks(rotation=90)\n",
    "plt.axvline(x=k, color='red')\n",
    "plt.axvline(x=mu, color='green')\n",
    "plt.grid(True)\n",
    "plt.show()"
   ]
  },
  {
   "cell_type": "markdown",
   "id": "293fb0bb",
   "metadata": {},
   "source": [
    "*Если разослать 1 млн уведомлений, с вероятностью их открытия около 40%, то вероятность того, что их откроют менее 399,5 тыс пользователей равна 15,37%.*"
   ]
  },
  {
   "cell_type": "markdown",
   "id": "53bcb376",
   "metadata": {},
   "source": [
    "# Выводы"
   ]
  },
  {
   "cell_type": "markdown",
   "id": "9a2b9b20",
   "metadata": {},
   "source": [
    "Из анализа данных следует:\n",
    "1. пропущенных значений нет в данных о пользователей и все столбцы имеют корректный тип данных.\n",
    "2. пропущенных значений нет в данных о поездках пользователей и столбец с датой имеет вещественный тип данных.\n",
    "3. пропущенных значений нет в данных о подписках и все столбцы имеют корректный тип данных.\n",
    "4. наибольшее количество пользователей из Пятигорска - 219 чел., а наименьшее из Москвы - 168 чел.\n",
    "5. большенство пользователей не пользуются подпиской - 54.4%, у которых имеется подписка - 45.6%.\n",
    "6. средний возраст практически равен 25 лет. Также средний возраст практически равен медианному значению. Кроме того, возраст подчиняется нормальному распределению.\n",
    "7. медианное значение приблизительно равно 3133 метра. Также видно, что распределение отлично от нормального и имеет два пика: первый равняется примерно 700 метрам, а второй 3133 метра.\n",
    "8. среднее расстояниие составляет примерно 18 метров. Также видно, что в данных присутсвуют аномальные значения (около 100 поездок меньше 1 метра, скорость перемещения достигает 14 тыс метров/мин, что является невозможным).\n",
    "9. расстояние поездок пользователей с подпиской и без видно, что сохраняется распределение относительно исходного датафрейма. Также видно, что среднее расстояние пользователей с подпиской больше (3149 метров), чем без (3045 метров). Кроме того, видно, что среднее значение дополнительного пика с подпиской больше (1000 метров), чем без (500 метров).\n",
    "10. продолжительности поездок пользователей с подпиской и без видно, что сохраняется распределение относительно исходного датафрейма. Также видно, что среднее время поездки пользователей с подпиской больше (18.5 мин), чем без (17.4 мин).\n",
    "\n",
    "Проверка гипотез показало следующее:\n",
    "1. гипотезу о том, что средняя продолжительность поездок с подпиской и без равны отвергается. Есть основания полагать, что средняя продолжительность поездки с подпиской выше, чем без неё.\n",
    "2. гипотезу о том, что среднее расстояние пользователей с подпиской равно 3130 метрам не отвергается. Есть основания полагать, что среднее расстояние поездки с подпиской не превышает 3130 метров.\n",
    "3. гипотеза о том, что средняя помесечная выручка от пользователей с подпиской и без равны отвергается. Есть основания полагать, что средняя помесечная выручка с подпиской выше, чем без неё.\n",
    "\n",
    "Проверка по распределению показало следующее:\n",
    "1. необходимо раздать как минимум 1161 промокодов для того, чтобы 100 существующих подписчиков продлили подписки (10% от получивших промокоды) с вероятностью 5% не выполнить план.\n",
    "2. если разослать 1 млн уведомлений, с вероятностью их открытия около 40%, то вероятность того, что их откроют менее 399,5 тыс пользователей равна 15,37%."
   ]
  }
 ],
 "metadata": {
  "ExecuteTimeLog": [
   {
    "duration": 436,
    "start_time": "2024-07-08T16:43:05.014Z"
   },
   {
    "duration": 207,
    "start_time": "2024-07-08T16:43:05.455Z"
   },
   {
    "duration": 17,
    "start_time": "2024-07-08T16:51:00.103Z"
   },
   {
    "duration": 15,
    "start_time": "2024-07-08T16:51:55.339Z"
   },
   {
    "duration": 12,
    "start_time": "2024-07-08T16:56:15.651Z"
   },
   {
    "duration": 73,
    "start_time": "2024-07-08T16:56:32.812Z"
   },
   {
    "duration": 11,
    "start_time": "2024-07-08T16:56:51.509Z"
   },
   {
    "duration": 12,
    "start_time": "2024-07-08T16:57:36.323Z"
   },
   {
    "duration": 11,
    "start_time": "2024-07-08T17:00:37.803Z"
   },
   {
    "duration": 8,
    "start_time": "2024-07-08T17:01:04.939Z"
   },
   {
    "duration": 418,
    "start_time": "2024-07-08T17:03:27.367Z"
   },
   {
    "duration": 76,
    "start_time": "2024-07-08T17:03:27.787Z"
   },
   {
    "duration": 17,
    "start_time": "2024-07-08T17:03:27.864Z"
   },
   {
    "duration": 17,
    "start_time": "2024-07-08T17:03:27.882Z"
   },
   {
    "duration": 9,
    "start_time": "2024-07-08T17:03:27.901Z"
   },
   {
    "duration": 11,
    "start_time": "2024-07-08T17:03:27.912Z"
   },
   {
    "duration": 24,
    "start_time": "2024-07-08T17:03:27.925Z"
   },
   {
    "duration": 14,
    "start_time": "2024-07-08T17:03:27.952Z"
   },
   {
    "duration": 9,
    "start_time": "2024-07-08T17:17:53.829Z"
   },
   {
    "duration": 11,
    "start_time": "2024-07-08T17:18:08.847Z"
   },
   {
    "duration": 6,
    "start_time": "2024-07-08T17:38:41.842Z"
   },
   {
    "duration": 9,
    "start_time": "2024-07-08T17:38:56.181Z"
   },
   {
    "duration": 7,
    "start_time": "2024-07-08T17:49:57.521Z"
   },
   {
    "duration": 6,
    "start_time": "2024-07-08T17:51:12.165Z"
   },
   {
    "duration": 5,
    "start_time": "2024-07-08T17:52:04.784Z"
   },
   {
    "duration": 12,
    "start_time": "2024-07-08T17:54:13.413Z"
   },
   {
    "duration": 10,
    "start_time": "2024-07-08T17:54:30.031Z"
   },
   {
    "duration": 97,
    "start_time": "2024-07-08T17:59:21.275Z"
   },
   {
    "duration": 10,
    "start_time": "2024-07-08T17:59:49.560Z"
   },
   {
    "duration": 7,
    "start_time": "2024-07-08T18:00:12.212Z"
   },
   {
    "duration": 8,
    "start_time": "2024-07-08T18:00:33.808Z"
   },
   {
    "duration": 7,
    "start_time": "2024-07-08T18:06:54.168Z"
   },
   {
    "duration": 10,
    "start_time": "2024-07-08T18:12:48.979Z"
   },
   {
    "duration": 14,
    "start_time": "2024-07-08T18:13:14.727Z"
   },
   {
    "duration": 6,
    "start_time": "2024-07-08T18:17:07.929Z"
   },
   {
    "duration": 16,
    "start_time": "2024-07-08T18:17:39.641Z"
   },
   {
    "duration": 6,
    "start_time": "2024-07-08T18:20:30.076Z"
   },
   {
    "duration": 9,
    "start_time": "2024-07-08T18:24:38.361Z"
   },
   {
    "duration": 7,
    "start_time": "2024-07-08T18:27:47.999Z"
   },
   {
    "duration": 6,
    "start_time": "2024-07-08T18:28:17.325Z"
   },
   {
    "duration": 13,
    "start_time": "2024-07-08T18:36:39.927Z"
   },
   {
    "duration": 9,
    "start_time": "2024-07-08T18:42:03.190Z"
   },
   {
    "duration": 12,
    "start_time": "2024-07-08T18:43:00.055Z"
   },
   {
    "duration": 10,
    "start_time": "2024-07-08T18:46:27.994Z"
   },
   {
    "duration": 14,
    "start_time": "2024-07-08T18:46:29.040Z"
   },
   {
    "duration": 453,
    "start_time": "2024-07-08T18:46:55.053Z"
   },
   {
    "duration": 82,
    "start_time": "2024-07-08T18:46:55.508Z"
   },
   {
    "duration": 15,
    "start_time": "2024-07-08T18:46:55.592Z"
   },
   {
    "duration": 11,
    "start_time": "2024-07-08T18:46:55.610Z"
   },
   {
    "duration": 12,
    "start_time": "2024-07-08T18:46:55.623Z"
   },
   {
    "duration": 27,
    "start_time": "2024-07-08T18:46:55.637Z"
   },
   {
    "duration": 8,
    "start_time": "2024-07-08T18:46:55.666Z"
   },
   {
    "duration": 16,
    "start_time": "2024-07-08T18:46:55.675Z"
   },
   {
    "duration": 7,
    "start_time": "2024-07-08T18:46:55.693Z"
   },
   {
    "duration": 10,
    "start_time": "2024-07-08T18:46:55.704Z"
   },
   {
    "duration": 4,
    "start_time": "2024-07-08T18:46:55.715Z"
   },
   {
    "duration": 36,
    "start_time": "2024-07-08T18:46:55.721Z"
   },
   {
    "duration": 6,
    "start_time": "2024-07-08T18:46:55.759Z"
   },
   {
    "duration": 5,
    "start_time": "2024-07-08T18:46:55.766Z"
   },
   {
    "duration": 9,
    "start_time": "2024-07-08T18:46:55.772Z"
   },
   {
    "duration": 9,
    "start_time": "2024-07-08T18:46:55.782Z"
   },
   {
    "duration": 7,
    "start_time": "2024-07-08T18:46:55.792Z"
   },
   {
    "duration": 46,
    "start_time": "2024-07-08T18:46:55.801Z"
   },
   {
    "duration": 11,
    "start_time": "2024-07-08T18:46:55.849Z"
   },
   {
    "duration": 8,
    "start_time": "2024-07-08T18:46:55.862Z"
   },
   {
    "duration": 12,
    "start_time": "2024-07-08T18:46:55.872Z"
   },
   {
    "duration": 13,
    "start_time": "2024-07-08T18:46:55.885Z"
   },
   {
    "duration": 29,
    "start_time": "2024-07-08T18:46:55.900Z"
   },
   {
    "duration": 17,
    "start_time": "2024-07-08T18:46:55.930Z"
   },
   {
    "duration": 11,
    "start_time": "2024-07-08T18:46:55.949Z"
   },
   {
    "duration": 8,
    "start_time": "2024-07-08T18:46:55.962Z"
   },
   {
    "duration": 14,
    "start_time": "2024-07-08T18:46:55.972Z"
   },
   {
    "duration": 8,
    "start_time": "2024-07-08T18:46:55.989Z"
   },
   {
    "duration": 11,
    "start_time": "2024-07-08T18:46:55.998Z"
   },
   {
    "duration": 348,
    "start_time": "2024-07-09T15:53:06.162Z"
   },
   {
    "duration": 301,
    "start_time": "2024-07-09T15:53:06.512Z"
   },
   {
    "duration": 14,
    "start_time": "2024-07-09T15:53:06.815Z"
   },
   {
    "duration": 9,
    "start_time": "2024-07-09T15:53:06.831Z"
   },
   {
    "duration": 13,
    "start_time": "2024-07-09T15:53:06.842Z"
   },
   {
    "duration": 11,
    "start_time": "2024-07-09T15:53:06.856Z"
   },
   {
    "duration": 8,
    "start_time": "2024-07-09T15:53:06.868Z"
   },
   {
    "duration": 14,
    "start_time": "2024-07-09T15:53:06.877Z"
   },
   {
    "duration": 6,
    "start_time": "2024-07-09T15:53:06.909Z"
   },
   {
    "duration": 16,
    "start_time": "2024-07-09T15:53:06.918Z"
   },
   {
    "duration": 5,
    "start_time": "2024-07-09T15:53:06.936Z"
   },
   {
    "duration": 21,
    "start_time": "2024-07-09T15:53:06.942Z"
   },
   {
    "duration": 13,
    "start_time": "2024-07-09T15:53:06.965Z"
   },
   {
    "duration": 5,
    "start_time": "2024-07-09T15:53:06.979Z"
   },
   {
    "duration": 5,
    "start_time": "2024-07-09T15:53:06.985Z"
   },
   {
    "duration": 19,
    "start_time": "2024-07-09T15:53:06.991Z"
   },
   {
    "duration": 10,
    "start_time": "2024-07-09T15:53:07.011Z"
   },
   {
    "duration": 16,
    "start_time": "2024-07-09T15:53:07.023Z"
   },
   {
    "duration": 8,
    "start_time": "2024-07-09T15:53:07.040Z"
   },
   {
    "duration": 10,
    "start_time": "2024-07-09T15:53:07.050Z"
   },
   {
    "duration": 64,
    "start_time": "2024-07-09T15:53:07.061Z"
   },
   {
    "duration": 8,
    "start_time": "2024-07-09T15:53:07.126Z"
   },
   {
    "duration": 26,
    "start_time": "2024-07-09T15:53:07.135Z"
   },
   {
    "duration": 5,
    "start_time": "2024-07-09T15:53:07.162Z"
   },
   {
    "duration": 9,
    "start_time": "2024-07-09T15:53:07.168Z"
   },
   {
    "duration": 8,
    "start_time": "2024-07-09T15:53:07.178Z"
   },
   {
    "duration": 5,
    "start_time": "2024-07-09T15:53:07.187Z"
   },
   {
    "duration": 23,
    "start_time": "2024-07-09T15:53:07.195Z"
   },
   {
    "duration": 16,
    "start_time": "2024-07-09T15:53:07.219Z"
   },
   {
    "duration": 16204,
    "start_time": "2024-07-09T16:02:55.459Z"
   },
   {
    "duration": 180,
    "start_time": "2024-07-09T16:03:50.894Z"
   },
   {
    "duration": 178,
    "start_time": "2024-07-09T16:05:02.880Z"
   },
   {
    "duration": 301,
    "start_time": "2024-07-09T16:14:37.643Z"
   },
   {
    "duration": 185,
    "start_time": "2024-07-09T16:16:41.046Z"
   },
   {
    "duration": 169,
    "start_time": "2024-07-09T16:17:12.993Z"
   },
   {
    "duration": 137,
    "start_time": "2024-07-09T16:17:37.955Z"
   },
   {
    "duration": 3,
    "start_time": "2024-07-09T16:33:48.372Z"
   },
   {
    "duration": 4,
    "start_time": "2024-07-09T16:35:25.751Z"
   },
   {
    "duration": 147,
    "start_time": "2024-07-09T16:36:54.337Z"
   },
   {
    "duration": 3,
    "start_time": "2024-07-09T17:04:46.688Z"
   },
   {
    "duration": 8,
    "start_time": "2024-07-09T17:05:53.233Z"
   },
   {
    "duration": 161,
    "start_time": "2024-07-09T17:06:52.925Z"
   },
   {
    "duration": 147,
    "start_time": "2024-07-09T17:11:24.091Z"
   },
   {
    "duration": 419,
    "start_time": "2024-07-09T18:20:35.003Z"
   },
   {
    "duration": 66,
    "start_time": "2024-07-09T18:20:35.425Z"
   },
   {
    "duration": 13,
    "start_time": "2024-07-09T18:20:35.492Z"
   },
   {
    "duration": 17,
    "start_time": "2024-07-09T18:20:35.507Z"
   },
   {
    "duration": 17,
    "start_time": "2024-07-09T18:20:35.526Z"
   },
   {
    "duration": 68,
    "start_time": "2024-07-09T18:20:35.544Z"
   },
   {
    "duration": 52,
    "start_time": "2024-07-09T18:20:35.613Z"
   },
   {
    "duration": 9,
    "start_time": "2024-07-09T18:20:35.667Z"
   },
   {
    "duration": 6,
    "start_time": "2024-07-09T18:20:35.678Z"
   },
   {
    "duration": 9,
    "start_time": "2024-07-09T18:20:35.687Z"
   },
   {
    "duration": 19,
    "start_time": "2024-07-09T18:20:35.697Z"
   },
   {
    "duration": 13,
    "start_time": "2024-07-09T18:20:35.718Z"
   },
   {
    "duration": 5,
    "start_time": "2024-07-09T18:20:35.732Z"
   },
   {
    "duration": 6,
    "start_time": "2024-07-09T18:20:35.738Z"
   },
   {
    "duration": 14,
    "start_time": "2024-07-09T18:20:35.745Z"
   },
   {
    "duration": 25,
    "start_time": "2024-07-09T18:20:35.761Z"
   },
   {
    "duration": 5,
    "start_time": "2024-07-09T18:20:35.787Z"
   },
   {
    "duration": 8,
    "start_time": "2024-07-09T18:20:35.794Z"
   },
   {
    "duration": 6,
    "start_time": "2024-07-09T18:20:35.803Z"
   },
   {
    "duration": 30,
    "start_time": "2024-07-09T18:20:35.810Z"
   },
   {
    "duration": 32,
    "start_time": "2024-07-09T18:20:35.841Z"
   },
   {
    "duration": 4,
    "start_time": "2024-07-09T18:20:35.875Z"
   },
   {
    "duration": 12,
    "start_time": "2024-07-09T18:20:35.880Z"
   },
   {
    "duration": 9,
    "start_time": "2024-07-09T18:20:35.894Z"
   },
   {
    "duration": 7,
    "start_time": "2024-07-09T18:20:35.904Z"
   },
   {
    "duration": 5,
    "start_time": "2024-07-09T18:20:35.912Z"
   },
   {
    "duration": 10,
    "start_time": "2024-07-09T18:20:35.918Z"
   },
   {
    "duration": 66,
    "start_time": "2024-07-09T18:20:35.931Z"
   },
   {
    "duration": 15,
    "start_time": "2024-07-09T18:20:35.998Z"
   },
   {
    "duration": 364,
    "start_time": "2024-07-09T18:20:36.014Z"
   },
   {
    "duration": 157,
    "start_time": "2024-07-09T18:20:36.379Z"
   },
   {
    "duration": 4,
    "start_time": "2024-07-09T18:20:36.537Z"
   },
   {
    "duration": 18,
    "start_time": "2024-07-09T18:20:36.542Z"
   },
   {
    "duration": 132,
    "start_time": "2024-07-09T18:20:36.561Z"
   },
   {
    "duration": 2,
    "start_time": "2024-07-09T18:20:36.695Z"
   },
   {
    "duration": 23,
    "start_time": "2024-07-09T18:20:36.709Z"
   },
   {
    "duration": 149,
    "start_time": "2024-07-09T18:20:36.733Z"
   },
   {
    "duration": 3,
    "start_time": "2024-07-09T18:20:36.883Z"
   },
   {
    "duration": 3,
    "start_time": "2024-07-09T18:22:27.526Z"
   },
   {
    "duration": 12,
    "start_time": "2024-07-09T18:23:08.130Z"
   },
   {
    "duration": 144,
    "start_time": "2024-07-09T18:24:05.969Z"
   },
   {
    "duration": 13,
    "start_time": "2024-07-09T18:37:28.847Z"
   },
   {
    "duration": 17,
    "start_time": "2024-07-09T18:37:46.979Z"
   },
   {
    "duration": 13,
    "start_time": "2024-07-09T18:55:11.530Z"
   },
   {
    "duration": 18,
    "start_time": "2024-07-09T18:55:26.434Z"
   },
   {
    "duration": 416,
    "start_time": "2024-07-10T16:11:26.469Z"
   },
   {
    "duration": 314,
    "start_time": "2024-07-10T16:11:26.887Z"
   },
   {
    "duration": 16,
    "start_time": "2024-07-10T16:11:27.202Z"
   },
   {
    "duration": 22,
    "start_time": "2024-07-10T16:11:27.220Z"
   },
   {
    "duration": 55,
    "start_time": "2024-07-10T16:11:27.243Z"
   },
   {
    "duration": 30,
    "start_time": "2024-07-10T16:11:27.299Z"
   },
   {
    "duration": 52,
    "start_time": "2024-07-10T16:11:27.330Z"
   },
   {
    "duration": 30,
    "start_time": "2024-07-10T16:11:27.383Z"
   },
   {
    "duration": 16,
    "start_time": "2024-07-10T16:11:27.415Z"
   },
   {
    "duration": 15,
    "start_time": "2024-07-10T16:11:27.433Z"
   },
   {
    "duration": 5,
    "start_time": "2024-07-10T16:11:27.450Z"
   },
   {
    "duration": 17,
    "start_time": "2024-07-10T16:11:27.457Z"
   },
   {
    "duration": 72,
    "start_time": "2024-07-10T16:11:27.476Z"
   },
   {
    "duration": 17,
    "start_time": "2024-07-10T16:11:27.549Z"
   },
   {
    "duration": 6,
    "start_time": "2024-07-10T16:11:27.568Z"
   },
   {
    "duration": 20,
    "start_time": "2024-07-10T16:11:27.575Z"
   },
   {
    "duration": 11,
    "start_time": "2024-07-10T16:11:27.597Z"
   },
   {
    "duration": 15,
    "start_time": "2024-07-10T16:11:27.609Z"
   },
   {
    "duration": 15,
    "start_time": "2024-07-10T16:11:27.625Z"
   },
   {
    "duration": 20,
    "start_time": "2024-07-10T16:11:27.642Z"
   },
   {
    "duration": 21,
    "start_time": "2024-07-10T16:11:27.663Z"
   },
   {
    "duration": 6,
    "start_time": "2024-07-10T16:11:27.686Z"
   },
   {
    "duration": 25,
    "start_time": "2024-07-10T16:11:27.694Z"
   },
   {
    "duration": 15,
    "start_time": "2024-07-10T16:11:27.720Z"
   },
   {
    "duration": 25,
    "start_time": "2024-07-10T16:11:27.736Z"
   },
   {
    "duration": 10,
    "start_time": "2024-07-10T16:11:27.763Z"
   },
   {
    "duration": 16,
    "start_time": "2024-07-10T16:11:27.774Z"
   },
   {
    "duration": 14,
    "start_time": "2024-07-10T16:11:27.793Z"
   },
   {
    "duration": 18,
    "start_time": "2024-07-10T16:11:27.808Z"
   },
   {
    "duration": 597,
    "start_time": "2024-07-10T16:11:27.828Z"
   },
   {
    "duration": 167,
    "start_time": "2024-07-10T16:11:28.427Z"
   },
   {
    "duration": 3,
    "start_time": "2024-07-10T16:11:28.596Z"
   },
   {
    "duration": 18,
    "start_time": "2024-07-10T16:11:28.600Z"
   },
   {
    "duration": 158,
    "start_time": "2024-07-10T16:11:28.619Z"
   },
   {
    "duration": 7,
    "start_time": "2024-07-10T16:11:28.778Z"
   },
   {
    "duration": 42,
    "start_time": "2024-07-10T16:11:28.787Z"
   },
   {
    "duration": 180,
    "start_time": "2024-07-10T16:11:28.831Z"
   },
   {
    "duration": 3,
    "start_time": "2024-07-10T16:11:29.012Z"
   },
   {
    "duration": 26,
    "start_time": "2024-07-10T16:11:29.017Z"
   },
   {
    "duration": 223,
    "start_time": "2024-07-10T16:11:29.044Z"
   },
   {
    "duration": 23,
    "start_time": "2024-07-10T16:11:29.268Z"
   },
   {
    "duration": 9,
    "start_time": "2024-07-10T16:11:29.293Z"
   },
   {
    "duration": 20,
    "start_time": "2024-07-10T16:11:29.303Z"
   },
   {
    "duration": 95,
    "start_time": "2024-07-10T16:18:07.154Z"
   },
   {
    "duration": 10,
    "start_time": "2024-07-10T16:18:26.991Z"
   },
   {
    "duration": 7,
    "start_time": "2024-07-10T16:18:42.695Z"
   },
   {
    "duration": 14,
    "start_time": "2024-07-10T16:19:00.410Z"
   },
   {
    "duration": 6,
    "start_time": "2024-07-10T16:19:39.916Z"
   },
   {
    "duration": 159,
    "start_time": "2024-07-10T16:24:28.291Z"
   },
   {
    "duration": 158,
    "start_time": "2024-07-10T16:27:47.391Z"
   },
   {
    "duration": 158,
    "start_time": "2024-07-10T16:31:38.153Z"
   },
   {
    "duration": 148,
    "start_time": "2024-07-10T16:34:31.130Z"
   },
   {
    "duration": 2,
    "start_time": "2024-07-10T16:38:15.893Z"
   },
   {
    "duration": 26,
    "start_time": "2024-07-10T17:09:45.380Z"
   },
   {
    "duration": 56,
    "start_time": "2024-07-10T17:09:59.661Z"
   },
   {
    "duration": 26,
    "start_time": "2024-07-10T17:11:54.893Z"
   },
   {
    "duration": 56,
    "start_time": "2024-07-10T17:12:09.403Z"
   },
   {
    "duration": 55,
    "start_time": "2024-07-10T17:13:56.170Z"
   },
   {
    "duration": 26,
    "start_time": "2024-07-10T17:18:45.663Z"
   },
   {
    "duration": 45,
    "start_time": "2024-07-10T17:22:42.872Z"
   },
   {
    "duration": 41,
    "start_time": "2024-07-10T17:24:16.784Z"
   },
   {
    "duration": 43,
    "start_time": "2024-07-10T17:24:40.475Z"
   },
   {
    "duration": 42,
    "start_time": "2024-07-10T17:25:32.020Z"
   },
   {
    "duration": 4,
    "start_time": "2024-07-10T18:32:08.094Z"
   },
   {
    "duration": 9,
    "start_time": "2024-07-10T18:35:06.885Z"
   },
   {
    "duration": 17,
    "start_time": "2024-07-10T18:35:35.161Z"
   },
   {
    "duration": 4,
    "start_time": "2024-07-10T18:37:33.991Z"
   },
   {
    "duration": 15,
    "start_time": "2024-07-10T18:37:35.427Z"
   },
   {
    "duration": 15,
    "start_time": "2024-07-10T18:38:19.842Z"
   },
   {
    "duration": 15,
    "start_time": "2024-07-10T18:38:44.175Z"
   },
   {
    "duration": 12,
    "start_time": "2024-07-10T18:51:38.575Z"
   },
   {
    "duration": 9,
    "start_time": "2024-07-10T18:52:05.391Z"
   },
   {
    "duration": 855,
    "start_time": "2024-07-10T18:52:14.982Z"
   },
   {
    "duration": 8,
    "start_time": "2024-07-10T18:53:12.124Z"
   },
   {
    "duration": 8,
    "start_time": "2024-07-10T18:54:32.291Z"
   },
   {
    "duration": 17564,
    "start_time": "2024-07-10T18:55:05.485Z"
   },
   {
    "duration": 171,
    "start_time": "2024-07-10T19:00:45.177Z"
   },
   {
    "duration": 153,
    "start_time": "2024-07-10T19:02:48.824Z"
   },
   {
    "duration": 240,
    "start_time": "2024-07-10T19:05:45.058Z"
   },
   {
    "duration": 460,
    "start_time": "2024-07-10T19:05:54.677Z"
   },
   {
    "duration": 203,
    "start_time": "2024-07-10T19:07:55.435Z"
   },
   {
    "duration": 208,
    "start_time": "2024-07-10T19:11:20.649Z"
   },
   {
    "duration": 62,
    "start_time": "2024-07-10T19:13:41.761Z"
   },
   {
    "duration": 67,
    "start_time": "2024-07-10T19:13:52.702Z"
   },
   {
    "duration": 3,
    "start_time": "2024-07-10T19:15:00.749Z"
   },
   {
    "duration": 3,
    "start_time": "2024-07-10T19:15:15.027Z"
   },
   {
    "duration": 385,
    "start_time": "2024-07-10T19:15:39.316Z"
   },
   {
    "duration": 67,
    "start_time": "2024-07-10T19:15:39.703Z"
   },
   {
    "duration": 14,
    "start_time": "2024-07-10T19:15:39.772Z"
   },
   {
    "duration": 15,
    "start_time": "2024-07-10T19:15:39.788Z"
   },
   {
    "duration": 10,
    "start_time": "2024-07-10T19:15:39.805Z"
   },
   {
    "duration": 12,
    "start_time": "2024-07-10T19:15:39.816Z"
   },
   {
    "duration": 7,
    "start_time": "2024-07-10T19:15:39.829Z"
   },
   {
    "duration": 9,
    "start_time": "2024-07-10T19:15:39.837Z"
   },
   {
    "duration": 8,
    "start_time": "2024-07-10T19:15:39.847Z"
   },
   {
    "duration": 31,
    "start_time": "2024-07-10T19:15:39.857Z"
   },
   {
    "duration": 5,
    "start_time": "2024-07-10T19:15:39.890Z"
   },
   {
    "duration": 15,
    "start_time": "2024-07-10T19:15:39.896Z"
   },
   {
    "duration": 18,
    "start_time": "2024-07-10T19:15:39.912Z"
   },
   {
    "duration": 5,
    "start_time": "2024-07-10T19:15:39.931Z"
   },
   {
    "duration": 4,
    "start_time": "2024-07-10T19:15:39.937Z"
   },
   {
    "duration": 15,
    "start_time": "2024-07-10T19:15:39.942Z"
   },
   {
    "duration": 6,
    "start_time": "2024-07-10T19:15:39.958Z"
   },
   {
    "duration": 25,
    "start_time": "2024-07-10T19:15:39.966Z"
   },
   {
    "duration": 7,
    "start_time": "2024-07-10T19:15:39.992Z"
   },
   {
    "duration": 25,
    "start_time": "2024-07-10T19:15:40.001Z"
   },
   {
    "duration": 23,
    "start_time": "2024-07-10T19:15:40.027Z"
   },
   {
    "duration": 27,
    "start_time": "2024-07-10T19:15:40.051Z"
   },
   {
    "duration": 13,
    "start_time": "2024-07-10T19:15:40.080Z"
   },
   {
    "duration": 71,
    "start_time": "2024-07-10T19:15:40.095Z"
   },
   {
    "duration": 9,
    "start_time": "2024-07-10T19:15:40.167Z"
   },
   {
    "duration": 6,
    "start_time": "2024-07-10T19:15:40.177Z"
   },
   {
    "duration": 10,
    "start_time": "2024-07-10T19:15:40.185Z"
   },
   {
    "duration": 8,
    "start_time": "2024-07-10T19:15:40.198Z"
   },
   {
    "duration": 11,
    "start_time": "2024-07-10T19:15:40.207Z"
   },
   {
    "duration": 418,
    "start_time": "2024-07-10T19:15:40.219Z"
   },
   {
    "duration": 153,
    "start_time": "2024-07-10T19:15:40.639Z"
   },
   {
    "duration": 4,
    "start_time": "2024-07-10T19:15:40.793Z"
   },
   {
    "duration": 7,
    "start_time": "2024-07-10T19:15:40.799Z"
   },
   {
    "duration": 159,
    "start_time": "2024-07-10T19:15:40.807Z"
   },
   {
    "duration": 3,
    "start_time": "2024-07-10T19:15:40.967Z"
   },
   {
    "duration": 62,
    "start_time": "2024-07-10T19:15:40.971Z"
   },
   {
    "duration": 153,
    "start_time": "2024-07-10T19:15:41.035Z"
   },
   {
    "duration": 4,
    "start_time": "2024-07-10T19:15:41.189Z"
   },
   {
    "duration": 15,
    "start_time": "2024-07-10T19:15:41.194Z"
   },
   {
    "duration": 208,
    "start_time": "2024-07-10T19:15:41.211Z"
   },
   {
    "duration": 11,
    "start_time": "2024-07-10T19:15:41.421Z"
   },
   {
    "duration": 9,
    "start_time": "2024-07-10T19:15:41.433Z"
   },
   {
    "duration": 20,
    "start_time": "2024-07-10T19:15:41.444Z"
   },
   {
    "duration": 10,
    "start_time": "2024-07-10T19:15:41.486Z"
   },
   {
    "duration": 6,
    "start_time": "2024-07-10T19:15:41.498Z"
   },
   {
    "duration": 181,
    "start_time": "2024-07-10T19:15:41.506Z"
   },
   {
    "duration": 163,
    "start_time": "2024-07-10T19:15:41.688Z"
   },
   {
    "duration": 160,
    "start_time": "2024-07-10T19:15:41.852Z"
   },
   {
    "duration": 159,
    "start_time": "2024-07-10T19:15:42.014Z"
   },
   {
    "duration": 49,
    "start_time": "2024-07-10T19:15:42.175Z"
   },
   {
    "duration": 4,
    "start_time": "2024-07-10T19:15:42.226Z"
   },
   {
    "duration": 17,
    "start_time": "2024-07-10T19:15:42.231Z"
   },
   {
    "duration": 223,
    "start_time": "2024-07-10T19:15:42.249Z"
   },
   {
    "duration": 12,
    "start_time": "2024-07-10T19:15:42.474Z"
   },
   {
    "duration": 396,
    "start_time": "2024-07-11T17:39:45.331Z"
   },
   {
    "duration": 305,
    "start_time": "2024-07-11T17:39:45.729Z"
   },
   {
    "duration": 16,
    "start_time": "2024-07-11T17:39:46.036Z"
   },
   {
    "duration": 11,
    "start_time": "2024-07-11T17:39:46.054Z"
   },
   {
    "duration": 9,
    "start_time": "2024-07-11T17:39:46.066Z"
   },
   {
    "duration": 12,
    "start_time": "2024-07-11T17:39:46.077Z"
   },
   {
    "duration": 7,
    "start_time": "2024-07-11T17:39:46.090Z"
   },
   {
    "duration": 15,
    "start_time": "2024-07-11T17:39:46.098Z"
   },
   {
    "duration": 7,
    "start_time": "2024-07-11T17:39:46.115Z"
   },
   {
    "duration": 12,
    "start_time": "2024-07-11T17:39:46.125Z"
   },
   {
    "duration": 7,
    "start_time": "2024-07-11T17:39:46.138Z"
   },
   {
    "duration": 9,
    "start_time": "2024-07-11T17:39:46.146Z"
   },
   {
    "duration": 10,
    "start_time": "2024-07-11T17:39:46.156Z"
   },
   {
    "duration": 4,
    "start_time": "2024-07-11T17:39:46.168Z"
   },
   {
    "duration": 35,
    "start_time": "2024-07-11T17:39:46.173Z"
   },
   {
    "duration": 10,
    "start_time": "2024-07-11T17:39:46.210Z"
   },
   {
    "duration": 8,
    "start_time": "2024-07-11T17:39:46.222Z"
   },
   {
    "duration": 12,
    "start_time": "2024-07-11T17:39:46.231Z"
   },
   {
    "duration": 7,
    "start_time": "2024-07-11T17:39:46.244Z"
   },
   {
    "duration": 6,
    "start_time": "2024-07-11T17:39:46.252Z"
   },
   {
    "duration": 7,
    "start_time": "2024-07-11T17:39:46.260Z"
   },
   {
    "duration": 5,
    "start_time": "2024-07-11T17:39:46.268Z"
   },
   {
    "duration": 44,
    "start_time": "2024-07-11T17:39:46.274Z"
   },
   {
    "duration": 7,
    "start_time": "2024-07-11T17:39:46.319Z"
   },
   {
    "duration": 10,
    "start_time": "2024-07-11T17:39:46.327Z"
   },
   {
    "duration": 7,
    "start_time": "2024-07-11T17:39:46.339Z"
   },
   {
    "duration": 7,
    "start_time": "2024-07-11T17:39:46.347Z"
   },
   {
    "duration": 6,
    "start_time": "2024-07-11T17:39:46.358Z"
   },
   {
    "duration": 47,
    "start_time": "2024-07-11T17:39:46.365Z"
   },
   {
    "duration": 573,
    "start_time": "2024-07-11T17:39:46.414Z"
   },
   {
    "duration": 166,
    "start_time": "2024-07-11T17:39:46.988Z"
   },
   {
    "duration": 3,
    "start_time": "2024-07-11T17:39:47.156Z"
   },
   {
    "duration": 9,
    "start_time": "2024-07-11T17:39:47.160Z"
   },
   {
    "duration": 183,
    "start_time": "2024-07-11T17:39:47.170Z"
   },
   {
    "duration": 3,
    "start_time": "2024-07-11T17:39:47.355Z"
   },
   {
    "duration": 22,
    "start_time": "2024-07-11T17:39:47.360Z"
   },
   {
    "duration": 171,
    "start_time": "2024-07-11T17:39:47.383Z"
   },
   {
    "duration": 4,
    "start_time": "2024-07-11T17:39:47.555Z"
   },
   {
    "duration": 97,
    "start_time": "2024-07-11T17:39:47.560Z"
   },
   {
    "duration": 208,
    "start_time": "2024-07-11T17:39:47.659Z"
   },
   {
    "duration": 10,
    "start_time": "2024-07-11T17:39:47.869Z"
   },
   {
    "duration": 29,
    "start_time": "2024-07-11T17:39:47.881Z"
   },
   {
    "duration": 20,
    "start_time": "2024-07-11T17:39:47.912Z"
   },
   {
    "duration": 10,
    "start_time": "2024-07-11T17:39:47.934Z"
   },
   {
    "duration": 6,
    "start_time": "2024-07-11T17:39:47.945Z"
   },
   {
    "duration": 190,
    "start_time": "2024-07-11T17:39:47.952Z"
   },
   {
    "duration": 181,
    "start_time": "2024-07-11T17:39:48.144Z"
   },
   {
    "duration": 161,
    "start_time": "2024-07-11T17:39:48.326Z"
   },
   {
    "duration": 161,
    "start_time": "2024-07-11T17:39:48.489Z"
   },
   {
    "duration": 44,
    "start_time": "2024-07-11T17:39:48.652Z"
   },
   {
    "duration": 13,
    "start_time": "2024-07-11T17:39:48.697Z"
   },
   {
    "duration": 16,
    "start_time": "2024-07-11T17:39:48.711Z"
   },
   {
    "duration": 229,
    "start_time": "2024-07-11T17:39:48.729Z"
   },
   {
    "duration": 3,
    "start_time": "2024-07-11T17:39:48.960Z"
   },
   {
    "duration": 74,
    "start_time": "2024-07-11T17:51:21.252Z"
   },
   {
    "duration": 469,
    "start_time": "2024-07-11T17:51:59.350Z"
   },
   {
    "duration": 834,
    "start_time": "2024-07-11T17:52:03.436Z"
   },
   {
    "duration": 67,
    "start_time": "2024-07-11T17:52:04.272Z"
   },
   {
    "duration": 14,
    "start_time": "2024-07-11T17:52:04.341Z"
   },
   {
    "duration": 10,
    "start_time": "2024-07-11T17:52:04.357Z"
   },
   {
    "duration": 16,
    "start_time": "2024-07-11T17:52:04.369Z"
   },
   {
    "duration": 15,
    "start_time": "2024-07-11T17:52:04.387Z"
   },
   {
    "duration": 8,
    "start_time": "2024-07-11T17:52:04.403Z"
   },
   {
    "duration": 21,
    "start_time": "2024-07-11T17:52:04.413Z"
   },
   {
    "duration": 61,
    "start_time": "2024-07-11T17:52:04.436Z"
   },
   {
    "duration": 11,
    "start_time": "2024-07-11T17:52:04.500Z"
   },
   {
    "duration": 12,
    "start_time": "2024-07-11T17:52:04.513Z"
   },
   {
    "duration": 11,
    "start_time": "2024-07-11T17:52:04.526Z"
   },
   {
    "duration": 52,
    "start_time": "2024-07-11T17:52:04.538Z"
   },
   {
    "duration": 47,
    "start_time": "2024-07-11T17:52:04.592Z"
   },
   {
    "duration": 9,
    "start_time": "2024-07-11T17:52:04.641Z"
   },
   {
    "duration": 11,
    "start_time": "2024-07-11T17:52:04.651Z"
   },
   {
    "duration": 6,
    "start_time": "2024-07-11T17:52:04.664Z"
   },
   {
    "duration": 12,
    "start_time": "2024-07-11T17:52:04.671Z"
   },
   {
    "duration": 6,
    "start_time": "2024-07-11T17:52:04.684Z"
   },
   {
    "duration": 10,
    "start_time": "2024-07-11T17:52:04.691Z"
   },
   {
    "duration": 6,
    "start_time": "2024-07-11T17:52:04.702Z"
   },
   {
    "duration": 5,
    "start_time": "2024-07-11T17:52:04.709Z"
   },
   {
    "duration": 12,
    "start_time": "2024-07-11T17:52:04.716Z"
   },
   {
    "duration": 6,
    "start_time": "2024-07-11T17:52:04.730Z"
   },
   {
    "duration": 9,
    "start_time": "2024-07-11T17:52:04.737Z"
   },
   {
    "duration": 7,
    "start_time": "2024-07-11T17:52:04.748Z"
   },
   {
    "duration": 7,
    "start_time": "2024-07-11T17:52:04.756Z"
   },
   {
    "duration": 7,
    "start_time": "2024-07-11T17:52:04.809Z"
   },
   {
    "duration": 10,
    "start_time": "2024-07-11T17:52:04.818Z"
   },
   {
    "duration": 426,
    "start_time": "2024-07-11T17:52:04.829Z"
   },
   {
    "duration": 162,
    "start_time": "2024-07-11T17:52:05.256Z"
   },
   {
    "duration": 3,
    "start_time": "2024-07-11T17:52:05.419Z"
   },
   {
    "duration": 13,
    "start_time": "2024-07-11T17:52:05.424Z"
   },
   {
    "duration": 157,
    "start_time": "2024-07-11T17:52:05.439Z"
   },
   {
    "duration": 10,
    "start_time": "2024-07-11T17:52:05.598Z"
   },
   {
    "duration": 91,
    "start_time": "2024-07-11T17:52:05.609Z"
   },
   {
    "duration": 163,
    "start_time": "2024-07-11T17:52:05.701Z"
   },
   {
    "duration": 3,
    "start_time": "2024-07-11T17:52:05.865Z"
   },
   {
    "duration": 10,
    "start_time": "2024-07-11T17:52:05.870Z"
   },
   {
    "duration": 163,
    "start_time": "2024-07-11T17:52:05.882Z"
   },
   {
    "duration": 10,
    "start_time": "2024-07-11T17:52:06.047Z"
   },
   {
    "duration": 10,
    "start_time": "2024-07-11T17:52:06.058Z"
   },
   {
    "duration": 48,
    "start_time": "2024-07-11T17:52:06.069Z"
   },
   {
    "duration": 59,
    "start_time": "2024-07-11T17:52:06.119Z"
   },
   {
    "duration": 7,
    "start_time": "2024-07-11T17:52:06.180Z"
   },
   {
    "duration": 181,
    "start_time": "2024-07-11T17:52:06.188Z"
   },
   {
    "duration": 166,
    "start_time": "2024-07-11T17:52:06.371Z"
   },
   {
    "duration": 165,
    "start_time": "2024-07-11T17:52:06.539Z"
   },
   {
    "duration": 161,
    "start_time": "2024-07-11T17:52:06.706Z"
   },
   {
    "duration": 52,
    "start_time": "2024-07-11T17:52:06.868Z"
   },
   {
    "duration": 3,
    "start_time": "2024-07-11T17:52:06.922Z"
   },
   {
    "duration": 18,
    "start_time": "2024-07-11T17:52:06.926Z"
   },
   {
    "duration": 234,
    "start_time": "2024-07-11T17:52:06.945Z"
   },
   {
    "duration": 3,
    "start_time": "2024-07-11T17:52:07.181Z"
   },
   {
    "duration": 5,
    "start_time": "2024-07-11T17:52:07.186Z"
   },
   {
    "duration": 5,
    "start_time": "2024-07-11T17:54:01.596Z"
   },
   {
    "duration": 3,
    "start_time": "2024-07-11T18:02:21.253Z"
   },
   {
    "duration": 1042,
    "start_time": "2024-07-11T18:02:25.330Z"
   },
   {
    "duration": 67,
    "start_time": "2024-07-11T18:02:26.374Z"
   },
   {
    "duration": 13,
    "start_time": "2024-07-11T18:02:26.442Z"
   },
   {
    "duration": 42,
    "start_time": "2024-07-11T18:02:26.457Z"
   },
   {
    "duration": 55,
    "start_time": "2024-07-11T18:02:26.500Z"
   },
   {
    "duration": 32,
    "start_time": "2024-07-11T18:02:26.556Z"
   },
   {
    "duration": 21,
    "start_time": "2024-07-11T18:02:26.590Z"
   },
   {
    "duration": 76,
    "start_time": "2024-07-11T18:02:26.612Z"
   },
   {
    "duration": 19,
    "start_time": "2024-07-11T18:02:26.689Z"
   },
   {
    "duration": 18,
    "start_time": "2024-07-11T18:02:26.711Z"
   },
   {
    "duration": 18,
    "start_time": "2024-07-11T18:02:26.731Z"
   },
   {
    "duration": 10,
    "start_time": "2024-07-11T18:02:26.750Z"
   },
   {
    "duration": 19,
    "start_time": "2024-07-11T18:02:26.762Z"
   },
   {
    "duration": 24,
    "start_time": "2024-07-11T18:02:26.783Z"
   },
   {
    "duration": 14,
    "start_time": "2024-07-11T18:02:26.808Z"
   },
   {
    "duration": 14,
    "start_time": "2024-07-11T18:02:26.823Z"
   },
   {
    "duration": 26,
    "start_time": "2024-07-11T18:02:26.839Z"
   },
   {
    "duration": 27,
    "start_time": "2024-07-11T18:02:26.867Z"
   },
   {
    "duration": 9,
    "start_time": "2024-07-11T18:02:26.896Z"
   },
   {
    "duration": 8,
    "start_time": "2024-07-11T18:02:26.907Z"
   },
   {
    "duration": 12,
    "start_time": "2024-07-11T18:02:26.916Z"
   },
   {
    "duration": 6,
    "start_time": "2024-07-11T18:02:26.930Z"
   },
   {
    "duration": 19,
    "start_time": "2024-07-11T18:02:26.937Z"
   },
   {
    "duration": 5,
    "start_time": "2024-07-11T18:02:26.958Z"
   },
   {
    "duration": 13,
    "start_time": "2024-07-11T18:02:26.965Z"
   },
   {
    "duration": 18,
    "start_time": "2024-07-11T18:02:26.980Z"
   },
   {
    "duration": 12,
    "start_time": "2024-07-11T18:02:26.999Z"
   },
   {
    "duration": 19,
    "start_time": "2024-07-11T18:02:27.015Z"
   },
   {
    "duration": 16,
    "start_time": "2024-07-11T18:02:27.036Z"
   },
   {
    "duration": 209,
    "start_time": "2024-07-11T18:02:27.053Z"
   },
   {
    "duration": 191,
    "start_time": "2024-07-11T18:02:27.263Z"
   },
   {
    "duration": 3,
    "start_time": "2024-07-11T18:02:27.456Z"
   },
   {
    "duration": 37,
    "start_time": "2024-07-11T18:02:27.460Z"
   },
   {
    "duration": 150,
    "start_time": "2024-07-11T18:02:27.499Z"
   },
   {
    "duration": 3,
    "start_time": "2024-07-11T18:02:27.651Z"
   },
   {
    "duration": 113,
    "start_time": "2024-07-11T18:02:27.655Z"
   },
   {
    "duration": 172,
    "start_time": "2024-07-11T18:02:27.770Z"
   },
   {
    "duration": 3,
    "start_time": "2024-07-11T18:02:27.944Z"
   },
   {
    "duration": 18,
    "start_time": "2024-07-11T18:02:27.948Z"
   },
   {
    "duration": 172,
    "start_time": "2024-07-11T18:02:27.968Z"
   },
   {
    "duration": 11,
    "start_time": "2024-07-11T18:02:28.141Z"
   },
   {
    "duration": 10,
    "start_time": "2024-07-11T18:02:28.153Z"
   },
   {
    "duration": 20,
    "start_time": "2024-07-11T18:02:28.165Z"
   },
   {
    "duration": 30,
    "start_time": "2024-07-11T18:02:28.187Z"
   },
   {
    "duration": 8,
    "start_time": "2024-07-11T18:02:28.219Z"
   },
   {
    "duration": 190,
    "start_time": "2024-07-11T18:02:28.228Z"
   },
   {
    "duration": 179,
    "start_time": "2024-07-11T18:02:28.419Z"
   },
   {
    "duration": 158,
    "start_time": "2024-07-11T18:02:28.606Z"
   },
   {
    "duration": 162,
    "start_time": "2024-07-11T18:02:28.766Z"
   },
   {
    "duration": 43,
    "start_time": "2024-07-11T18:02:28.929Z"
   },
   {
    "duration": 4,
    "start_time": "2024-07-11T18:02:28.973Z"
   },
   {
    "duration": 99,
    "start_time": "2024-07-11T18:02:28.978Z"
   },
   {
    "duration": 221,
    "start_time": "2024-07-11T18:02:29.079Z"
   },
   {
    "duration": 8,
    "start_time": "2024-07-11T18:02:29.301Z"
   },
   {
    "duration": 80,
    "start_time": "2024-07-11T18:02:29.310Z"
   },
   {
    "duration": 178,
    "start_time": "2024-07-11T18:04:48.518Z"
   },
   {
    "duration": 99,
    "start_time": "2024-07-11T18:06:53.109Z"
   },
   {
    "duration": 326,
    "start_time": "2024-07-11T18:07:02.695Z"
   },
   {
    "duration": 219,
    "start_time": "2024-07-11T18:07:24.197Z"
   },
   {
    "duration": 297,
    "start_time": "2024-07-11T18:07:41.001Z"
   },
   {
    "duration": 177,
    "start_time": "2024-07-11T18:07:53.213Z"
   },
   {
    "duration": 8,
    "start_time": "2024-07-11T18:08:50.251Z"
   },
   {
    "duration": 9,
    "start_time": "2024-07-11T18:11:50.724Z"
   },
   {
    "duration": 824,
    "start_time": "2024-07-11T18:12:12.457Z"
   },
   {
    "duration": 730,
    "start_time": "2024-07-11T18:12:52.455Z"
   },
   {
    "duration": 836,
    "start_time": "2024-07-11T18:13:33.718Z"
   },
   {
    "duration": 720,
    "start_time": "2024-07-11T18:14:18.581Z"
   },
   {
    "duration": 885,
    "start_time": "2024-07-11T18:16:57.559Z"
   },
   {
    "duration": 770,
    "start_time": "2024-07-11T18:17:17.055Z"
   },
   {
    "duration": 863,
    "start_time": "2024-07-11T18:17:44.953Z"
   },
   {
    "duration": 849,
    "start_time": "2024-07-11T18:18:43.328Z"
   },
   {
    "duration": 774,
    "start_time": "2024-07-11T18:19:01.418Z"
   },
   {
    "duration": 883,
    "start_time": "2024-07-11T18:22:34.938Z"
   },
   {
    "duration": 745,
    "start_time": "2024-07-11T18:22:44.682Z"
   },
   {
    "duration": 864,
    "start_time": "2024-07-11T18:22:51.943Z"
   },
   {
    "duration": 766,
    "start_time": "2024-07-11T18:23:05.687Z"
   },
   {
    "duration": 928,
    "start_time": "2024-07-11T18:23:12.000Z"
   },
   {
    "duration": 9,
    "start_time": "2024-07-11T18:26:24.348Z"
   },
   {
    "duration": 197,
    "start_time": "2024-07-11T18:27:09.702Z"
   },
   {
    "duration": 224,
    "start_time": "2024-07-11T18:27:34.564Z"
   },
   {
    "duration": 211,
    "start_time": "2024-07-11T18:27:46.099Z"
   },
   {
    "duration": 216,
    "start_time": "2024-07-11T18:27:55.922Z"
   },
   {
    "duration": 13,
    "start_time": "2024-07-11T18:30:16.258Z"
   },
   {
    "duration": 567,
    "start_time": "2024-07-11T18:30:29.626Z"
   },
   {
    "duration": 458,
    "start_time": "2024-07-11T18:31:14.053Z"
   },
   {
    "duration": 462,
    "start_time": "2024-07-11T18:31:58.205Z"
   },
   {
    "duration": 322,
    "start_time": "2024-07-11T18:46:30.222Z"
   },
   {
    "duration": 12,
    "start_time": "2024-07-11T18:48:44.948Z"
   },
   {
    "duration": 8,
    "start_time": "2024-07-11T18:49:05.538Z"
   },
   {
    "duration": 7,
    "start_time": "2024-07-11T18:49:21.166Z"
   },
   {
    "duration": 255,
    "start_time": "2024-07-11T18:58:56.821Z"
   },
   {
    "duration": 9,
    "start_time": "2024-07-11T19:02:02.938Z"
   },
   {
    "duration": 8,
    "start_time": "2024-07-11T19:02:21.877Z"
   },
   {
    "duration": 1157,
    "start_time": "2024-07-11T19:03:33.424Z"
   },
   {
    "duration": 67,
    "start_time": "2024-07-11T19:03:34.583Z"
   },
   {
    "duration": 13,
    "start_time": "2024-07-11T19:03:34.652Z"
   },
   {
    "duration": 28,
    "start_time": "2024-07-11T19:03:34.667Z"
   },
   {
    "duration": 28,
    "start_time": "2024-07-11T19:03:34.696Z"
   },
   {
    "duration": 28,
    "start_time": "2024-07-11T19:03:34.725Z"
   },
   {
    "duration": 32,
    "start_time": "2024-07-11T19:03:34.755Z"
   },
   {
    "duration": 27,
    "start_time": "2024-07-11T19:03:34.789Z"
   },
   {
    "duration": 78,
    "start_time": "2024-07-11T19:03:34.817Z"
   },
   {
    "duration": 12,
    "start_time": "2024-07-11T19:03:34.898Z"
   },
   {
    "duration": 16,
    "start_time": "2024-07-11T19:03:34.911Z"
   },
   {
    "duration": 28,
    "start_time": "2024-07-11T19:03:34.928Z"
   },
   {
    "duration": 16,
    "start_time": "2024-07-11T19:03:34.958Z"
   },
   {
    "duration": 23,
    "start_time": "2024-07-11T19:03:34.976Z"
   },
   {
    "duration": 16,
    "start_time": "2024-07-11T19:03:35.000Z"
   },
   {
    "duration": 36,
    "start_time": "2024-07-11T19:03:35.017Z"
   },
   {
    "duration": 18,
    "start_time": "2024-07-11T19:03:35.054Z"
   },
   {
    "duration": 23,
    "start_time": "2024-07-11T19:03:35.073Z"
   },
   {
    "duration": 29,
    "start_time": "2024-07-11T19:03:35.098Z"
   },
   {
    "duration": 18,
    "start_time": "2024-07-11T19:03:35.128Z"
   },
   {
    "duration": 24,
    "start_time": "2024-07-11T19:03:35.147Z"
   },
   {
    "duration": 21,
    "start_time": "2024-07-11T19:03:35.172Z"
   },
   {
    "duration": 16,
    "start_time": "2024-07-11T19:03:35.194Z"
   },
   {
    "duration": 24,
    "start_time": "2024-07-11T19:03:35.211Z"
   },
   {
    "duration": 28,
    "start_time": "2024-07-11T19:03:35.236Z"
   },
   {
    "duration": 13,
    "start_time": "2024-07-11T19:03:35.266Z"
   },
   {
    "duration": 32,
    "start_time": "2024-07-11T19:03:35.280Z"
   },
   {
    "duration": 20,
    "start_time": "2024-07-11T19:03:35.316Z"
   },
   {
    "duration": 21,
    "start_time": "2024-07-11T19:03:35.338Z"
   },
   {
    "duration": 203,
    "start_time": "2024-07-11T19:03:35.360Z"
   },
   {
    "duration": 195,
    "start_time": "2024-07-11T19:03:35.565Z"
   },
   {
    "duration": 305,
    "start_time": "2024-07-11T19:03:35.762Z"
   },
   {
    "duration": 9,
    "start_time": "2024-07-11T19:03:36.068Z"
   },
   {
    "duration": 13,
    "start_time": "2024-07-11T19:03:36.078Z"
   },
   {
    "duration": 841,
    "start_time": "2024-07-11T19:03:36.093Z"
   },
   {
    "duration": 9,
    "start_time": "2024-07-11T19:03:36.935Z"
   },
   {
    "duration": 255,
    "start_time": "2024-07-11T19:03:36.945Z"
   },
   {
    "duration": 495,
    "start_time": "2024-07-11T19:03:37.202Z"
   },
   {
    "duration": 16,
    "start_time": "2024-07-11T19:03:37.698Z"
   },
   {
    "duration": 28,
    "start_time": "2024-07-11T19:03:37.716Z"
   },
   {
    "duration": 37,
    "start_time": "2024-07-11T19:03:37.746Z"
   },
   {
    "duration": 10,
    "start_time": "2024-07-11T19:03:37.785Z"
   },
   {
    "duration": 9,
    "start_time": "2024-07-11T19:03:37.797Z"
   },
   {
    "duration": 325,
    "start_time": "2024-07-11T19:03:37.809Z"
   },
   {
    "duration": 9,
    "start_time": "2024-07-11T19:03:38.135Z"
   },
   {
    "duration": 18,
    "start_time": "2024-07-11T19:03:38.145Z"
   },
   {
    "duration": 261,
    "start_time": "2024-07-11T19:03:38.165Z"
   },
   {
    "duration": 8,
    "start_time": "2024-07-11T19:03:38.428Z"
   },
   {
    "duration": 8,
    "start_time": "2024-07-11T19:03:38.437Z"
   },
   {
    "duration": 63,
    "start_time": "2024-07-11T19:03:38.446Z"
   },
   {
    "duration": 4,
    "start_time": "2024-07-11T19:03:38.510Z"
   },
   {
    "duration": 20,
    "start_time": "2024-07-11T19:03:38.516Z"
   },
   {
    "duration": 226,
    "start_time": "2024-07-11T19:03:38.538Z"
   },
   {
    "duration": 4,
    "start_time": "2024-07-11T19:03:38.766Z"
   },
   {
    "duration": 5,
    "start_time": "2024-07-11T19:03:38.771Z"
   },
   {
    "duration": 5,
    "start_time": "2024-07-11T19:19:35.579Z"
   },
   {
    "duration": 6,
    "start_time": "2024-07-11T19:21:24.503Z"
   },
   {
    "duration": 5,
    "start_time": "2024-07-11T19:22:22.540Z"
   },
   {
    "duration": 1173,
    "start_time": "2024-07-11T19:26:05.587Z"
   },
   {
    "duration": 68,
    "start_time": "2024-07-11T19:26:06.762Z"
   },
   {
    "duration": 14,
    "start_time": "2024-07-11T19:26:06.831Z"
   },
   {
    "duration": 15,
    "start_time": "2024-07-11T19:26:06.847Z"
   },
   {
    "duration": 19,
    "start_time": "2024-07-11T19:26:06.863Z"
   },
   {
    "duration": 12,
    "start_time": "2024-07-11T19:26:06.884Z"
   },
   {
    "duration": 10,
    "start_time": "2024-07-11T19:26:06.898Z"
   },
   {
    "duration": 60,
    "start_time": "2024-07-11T19:26:06.910Z"
   },
   {
    "duration": 33,
    "start_time": "2024-07-11T19:26:06.972Z"
   },
   {
    "duration": 10,
    "start_time": "2024-07-11T19:26:07.008Z"
   },
   {
    "duration": 5,
    "start_time": "2024-07-11T19:26:07.020Z"
   },
   {
    "duration": 10,
    "start_time": "2024-07-11T19:26:07.026Z"
   },
   {
    "duration": 8,
    "start_time": "2024-07-11T19:26:07.038Z"
   },
   {
    "duration": 5,
    "start_time": "2024-07-11T19:26:07.047Z"
   },
   {
    "duration": 4,
    "start_time": "2024-07-11T19:26:07.053Z"
   },
   {
    "duration": 14,
    "start_time": "2024-07-11T19:26:07.059Z"
   },
   {
    "duration": 35,
    "start_time": "2024-07-11T19:26:07.075Z"
   },
   {
    "duration": 8,
    "start_time": "2024-07-11T19:26:07.112Z"
   },
   {
    "duration": 7,
    "start_time": "2024-07-11T19:26:07.122Z"
   },
   {
    "duration": 8,
    "start_time": "2024-07-11T19:26:07.131Z"
   },
   {
    "duration": 7,
    "start_time": "2024-07-11T19:26:07.140Z"
   },
   {
    "duration": 5,
    "start_time": "2024-07-11T19:26:07.149Z"
   },
   {
    "duration": 52,
    "start_time": "2024-07-11T19:26:07.156Z"
   },
   {
    "duration": 13,
    "start_time": "2024-07-11T19:26:07.210Z"
   },
   {
    "duration": 8,
    "start_time": "2024-07-11T19:26:07.225Z"
   },
   {
    "duration": 10,
    "start_time": "2024-07-11T19:26:07.235Z"
   },
   {
    "duration": 5,
    "start_time": "2024-07-11T19:26:07.247Z"
   },
   {
    "duration": 6,
    "start_time": "2024-07-11T19:26:07.256Z"
   },
   {
    "duration": 12,
    "start_time": "2024-07-11T19:26:07.264Z"
   },
   {
    "duration": 246,
    "start_time": "2024-07-11T19:26:07.279Z"
   },
   {
    "duration": 200,
    "start_time": "2024-07-11T19:26:07.527Z"
   },
   {
    "duration": 335,
    "start_time": "2024-07-11T19:26:07.729Z"
   },
   {
    "duration": 9,
    "start_time": "2024-07-11T19:26:08.065Z"
   },
   {
    "duration": 9,
    "start_time": "2024-07-11T19:26:08.075Z"
   },
   {
    "duration": 859,
    "start_time": "2024-07-11T19:26:08.086Z"
   },
   {
    "duration": 8,
    "start_time": "2024-07-11T19:26:08.947Z"
   },
   {
    "duration": 232,
    "start_time": "2024-07-11T19:26:08.956Z"
   },
   {
    "duration": 467,
    "start_time": "2024-07-11T19:26:09.190Z"
   },
   {
    "duration": 9,
    "start_time": "2024-07-11T19:26:09.658Z"
   },
   {
    "duration": 8,
    "start_time": "2024-07-11T19:26:09.669Z"
   },
   {
    "duration": 33,
    "start_time": "2024-07-11T19:26:09.679Z"
   },
   {
    "duration": 9,
    "start_time": "2024-07-11T19:26:09.714Z"
   },
   {
    "duration": 7,
    "start_time": "2024-07-11T19:26:09.724Z"
   },
   {
    "duration": 327,
    "start_time": "2024-07-11T19:26:09.732Z"
   },
   {
    "duration": 8,
    "start_time": "2024-07-11T19:26:10.060Z"
   },
   {
    "duration": 22,
    "start_time": "2024-07-11T19:26:10.070Z"
   },
   {
    "duration": 265,
    "start_time": "2024-07-11T19:26:10.094Z"
   },
   {
    "duration": 9,
    "start_time": "2024-07-11T19:26:10.360Z"
   },
   {
    "duration": 14,
    "start_time": "2024-07-11T19:26:10.371Z"
   },
   {
    "duration": 57,
    "start_time": "2024-07-11T19:26:10.387Z"
   },
   {
    "duration": 3,
    "start_time": "2024-07-11T19:26:10.446Z"
   },
   {
    "duration": 19,
    "start_time": "2024-07-11T19:26:10.451Z"
   },
   {
    "duration": 228,
    "start_time": "2024-07-11T19:26:10.471Z"
   },
   {
    "duration": 8,
    "start_time": "2024-07-11T19:26:10.701Z"
   },
   {
    "duration": 59,
    "start_time": "2024-07-11T19:26:10.710Z"
   },
   {
    "duration": 5,
    "start_time": "2024-07-11T19:26:10.770Z"
   },
   {
    "duration": 1314,
    "start_time": "2024-07-12T16:46:05.056Z"
   },
   {
    "duration": 280,
    "start_time": "2024-07-12T16:46:06.372Z"
   },
   {
    "duration": 13,
    "start_time": "2024-07-12T16:46:06.654Z"
   },
   {
    "duration": 64,
    "start_time": "2024-07-12T16:46:06.668Z"
   },
   {
    "duration": 10,
    "start_time": "2024-07-12T16:46:06.734Z"
   },
   {
    "duration": 16,
    "start_time": "2024-07-12T16:46:06.747Z"
   },
   {
    "duration": 10,
    "start_time": "2024-07-12T16:46:06.765Z"
   },
   {
    "duration": 16,
    "start_time": "2024-07-12T16:46:06.776Z"
   },
   {
    "duration": 9,
    "start_time": "2024-07-12T16:46:06.794Z"
   },
   {
    "duration": 11,
    "start_time": "2024-07-12T16:46:06.806Z"
   },
   {
    "duration": 5,
    "start_time": "2024-07-12T16:46:06.819Z"
   },
   {
    "duration": 40,
    "start_time": "2024-07-12T16:46:06.826Z"
   },
   {
    "duration": 7,
    "start_time": "2024-07-12T16:46:06.868Z"
   },
   {
    "duration": 5,
    "start_time": "2024-07-12T16:46:06.877Z"
   },
   {
    "duration": 4,
    "start_time": "2024-07-12T16:46:06.884Z"
   },
   {
    "duration": 8,
    "start_time": "2024-07-12T16:46:06.890Z"
   },
   {
    "duration": 6,
    "start_time": "2024-07-12T16:46:06.900Z"
   },
   {
    "duration": 59,
    "start_time": "2024-07-12T16:46:06.908Z"
   },
   {
    "duration": 9,
    "start_time": "2024-07-12T16:46:06.968Z"
   },
   {
    "duration": 13,
    "start_time": "2024-07-12T16:46:06.979Z"
   },
   {
    "duration": 8,
    "start_time": "2024-07-12T16:46:06.994Z"
   },
   {
    "duration": 7,
    "start_time": "2024-07-12T16:46:07.003Z"
   },
   {
    "duration": 13,
    "start_time": "2024-07-12T16:46:07.012Z"
   },
   {
    "duration": 7,
    "start_time": "2024-07-12T16:46:07.060Z"
   },
   {
    "duration": 9,
    "start_time": "2024-07-12T16:46:07.069Z"
   },
   {
    "duration": 6,
    "start_time": "2024-07-12T16:46:07.079Z"
   },
   {
    "duration": 7,
    "start_time": "2024-07-12T16:46:07.087Z"
   },
   {
    "duration": 8,
    "start_time": "2024-07-12T16:46:07.099Z"
   },
   {
    "duration": 30,
    "start_time": "2024-07-12T16:46:07.108Z"
   },
   {
    "duration": 233,
    "start_time": "2024-07-12T16:46:07.141Z"
   },
   {
    "duration": 189,
    "start_time": "2024-07-12T16:46:07.376Z"
   },
   {
    "duration": 311,
    "start_time": "2024-07-12T16:46:07.566Z"
   },
   {
    "duration": 13,
    "start_time": "2024-07-12T16:46:07.878Z"
   },
   {
    "duration": 9,
    "start_time": "2024-07-12T16:46:07.893Z"
   },
   {
    "duration": 928,
    "start_time": "2024-07-12T16:46:07.904Z"
   },
   {
    "duration": 9,
    "start_time": "2024-07-12T16:46:08.834Z"
   },
   {
    "duration": 245,
    "start_time": "2024-07-12T16:46:08.845Z"
   },
   {
    "duration": 466,
    "start_time": "2024-07-12T16:46:09.092Z"
   },
   {
    "duration": 8,
    "start_time": "2024-07-12T16:46:09.561Z"
   },
   {
    "duration": 9,
    "start_time": "2024-07-12T16:46:09.571Z"
   },
   {
    "duration": 17,
    "start_time": "2024-07-12T16:46:09.581Z"
   },
   {
    "duration": 10,
    "start_time": "2024-07-12T16:46:09.599Z"
   },
   {
    "duration": 6,
    "start_time": "2024-07-12T16:46:09.611Z"
   },
   {
    "duration": 382,
    "start_time": "2024-07-12T16:46:09.618Z"
   },
   {
    "duration": 10,
    "start_time": "2024-07-12T16:46:10.002Z"
   },
   {
    "duration": 40,
    "start_time": "2024-07-12T16:46:10.013Z"
   },
   {
    "duration": 258,
    "start_time": "2024-07-12T16:46:10.055Z"
   },
   {
    "duration": 8,
    "start_time": "2024-07-12T16:46:10.315Z"
   },
   {
    "duration": 15,
    "start_time": "2024-07-12T16:46:10.325Z"
   },
   {
    "duration": 134,
    "start_time": "2024-07-12T16:46:10.342Z"
   },
   {
    "duration": 4,
    "start_time": "2024-07-12T16:46:10.478Z"
   },
   {
    "duration": 28,
    "start_time": "2024-07-12T16:46:10.484Z"
   },
   {
    "duration": 294,
    "start_time": "2024-07-12T16:46:10.514Z"
   },
   {
    "duration": 3,
    "start_time": "2024-07-12T16:46:10.810Z"
   },
   {
    "duration": 21,
    "start_time": "2024-07-12T16:46:10.815Z"
   },
   {
    "duration": 35,
    "start_time": "2024-07-12T16:46:10.838Z"
   },
   {
    "duration": 11,
    "start_time": "2024-07-12T17:05:25.669Z"
   },
   {
    "duration": 441,
    "start_time": "2024-07-12T17:15:51.386Z"
   },
   {
    "duration": 299,
    "start_time": "2024-07-12T17:17:00.809Z"
   },
   {
    "duration": 288,
    "start_time": "2024-07-12T17:25:00.476Z"
   },
   {
    "duration": 1146,
    "start_time": "2024-07-12T17:49:04.984Z"
   },
   {
    "duration": 67,
    "start_time": "2024-07-12T17:49:06.131Z"
   },
   {
    "duration": 13,
    "start_time": "2024-07-12T17:49:06.199Z"
   },
   {
    "duration": 10,
    "start_time": "2024-07-12T17:49:06.214Z"
   },
   {
    "duration": 9,
    "start_time": "2024-07-12T17:49:06.226Z"
   },
   {
    "duration": 11,
    "start_time": "2024-07-12T17:49:06.236Z"
   },
   {
    "duration": 13,
    "start_time": "2024-07-12T17:49:06.248Z"
   },
   {
    "duration": 9,
    "start_time": "2024-07-12T17:49:06.263Z"
   },
   {
    "duration": 11,
    "start_time": "2024-07-12T17:49:06.273Z"
   },
   {
    "duration": 10,
    "start_time": "2024-07-12T17:49:06.287Z"
   },
   {
    "duration": 5,
    "start_time": "2024-07-12T17:49:06.299Z"
   },
   {
    "duration": 20,
    "start_time": "2024-07-12T17:49:06.305Z"
   },
   {
    "duration": 54,
    "start_time": "2024-07-12T17:49:06.327Z"
   },
   {
    "duration": 5,
    "start_time": "2024-07-12T17:49:06.382Z"
   },
   {
    "duration": 7,
    "start_time": "2024-07-12T17:49:06.388Z"
   },
   {
    "duration": 8,
    "start_time": "2024-07-12T17:49:06.396Z"
   },
   {
    "duration": 7,
    "start_time": "2024-07-12T17:49:06.405Z"
   },
   {
    "duration": 12,
    "start_time": "2024-07-12T17:49:06.414Z"
   },
   {
    "duration": 9,
    "start_time": "2024-07-12T17:49:06.427Z"
   },
   {
    "duration": 9,
    "start_time": "2024-07-12T17:49:06.437Z"
   },
   {
    "duration": 18,
    "start_time": "2024-07-12T17:49:06.447Z"
   },
   {
    "duration": 4,
    "start_time": "2024-07-12T17:49:06.467Z"
   },
   {
    "duration": 9,
    "start_time": "2024-07-12T17:49:06.473Z"
   },
   {
    "duration": 5,
    "start_time": "2024-07-12T17:49:06.484Z"
   },
   {
    "duration": 8,
    "start_time": "2024-07-12T17:49:06.490Z"
   },
   {
    "duration": 6,
    "start_time": "2024-07-12T17:49:06.499Z"
   },
   {
    "duration": 17,
    "start_time": "2024-07-12T17:49:06.506Z"
   },
   {
    "duration": 35,
    "start_time": "2024-07-12T17:49:06.526Z"
   },
   {
    "duration": 12,
    "start_time": "2024-07-12T17:49:06.562Z"
   },
   {
    "duration": 187,
    "start_time": "2024-07-12T17:49:06.575Z"
   },
   {
    "duration": 170,
    "start_time": "2024-07-12T17:49:06.764Z"
   },
   {
    "duration": 307,
    "start_time": "2024-07-12T17:49:06.936Z"
   },
   {
    "duration": 9,
    "start_time": "2024-07-12T17:49:07.244Z"
   },
   {
    "duration": 20,
    "start_time": "2024-07-12T17:49:07.260Z"
   },
   {
    "duration": 853,
    "start_time": "2024-07-12T17:49:07.281Z"
   },
   {
    "duration": 10,
    "start_time": "2024-07-12T17:49:08.136Z"
   },
   {
    "duration": 207,
    "start_time": "2024-07-12T17:49:08.160Z"
   },
   {
    "duration": 444,
    "start_time": "2024-07-12T17:49:08.369Z"
   },
   {
    "duration": 9,
    "start_time": "2024-07-12T17:49:08.815Z"
   },
   {
    "duration": 9,
    "start_time": "2024-07-12T17:49:08.826Z"
   },
   {
    "duration": 36,
    "start_time": "2024-07-12T17:49:08.837Z"
   },
   {
    "duration": 9,
    "start_time": "2024-07-12T17:49:08.875Z"
   },
   {
    "duration": 5,
    "start_time": "2024-07-12T17:49:08.885Z"
   },
   {
    "duration": 318,
    "start_time": "2024-07-12T17:49:08.892Z"
   },
   {
    "duration": 7,
    "start_time": "2024-07-12T17:49:09.212Z"
   },
   {
    "duration": 21,
    "start_time": "2024-07-12T17:49:09.221Z"
   },
   {
    "duration": 231,
    "start_time": "2024-07-12T17:49:09.243Z"
   },
   {
    "duration": 8,
    "start_time": "2024-07-12T17:49:09.475Z"
   },
   {
    "duration": 7,
    "start_time": "2024-07-12T17:49:09.484Z"
   },
   {
    "duration": 41,
    "start_time": "2024-07-12T17:49:09.493Z"
   },
   {
    "duration": 28,
    "start_time": "2024-07-12T17:49:09.535Z"
   },
   {
    "duration": 16,
    "start_time": "2024-07-12T17:49:09.565Z"
   },
   {
    "duration": 220,
    "start_time": "2024-07-12T17:49:09.582Z"
   },
   {
    "duration": 4,
    "start_time": "2024-07-12T17:49:09.804Z"
   },
   {
    "duration": 7,
    "start_time": "2024-07-12T17:49:09.810Z"
   },
   {
    "duration": 5,
    "start_time": "2024-07-12T17:49:09.818Z"
   },
   {
    "duration": 36,
    "start_time": "2024-07-12T17:49:09.827Z"
   },
   {
    "duration": 397,
    "start_time": "2024-07-12T17:49:09.864Z"
   },
   {
    "duration": 298,
    "start_time": "2024-07-12T17:49:10.263Z"
   },
   {
    "duration": 1363,
    "start_time": "2024-07-13T04:09:45.267Z"
   },
   {
    "duration": 275,
    "start_time": "2024-07-13T04:09:46.631Z"
   },
   {
    "duration": 13,
    "start_time": "2024-07-13T04:09:46.907Z"
   },
   {
    "duration": 31,
    "start_time": "2024-07-13T04:09:46.922Z"
   },
   {
    "duration": 15,
    "start_time": "2024-07-13T04:09:46.955Z"
   },
   {
    "duration": 10,
    "start_time": "2024-07-13T04:09:46.972Z"
   },
   {
    "duration": 6,
    "start_time": "2024-07-13T04:09:46.984Z"
   },
   {
    "duration": 11,
    "start_time": "2024-07-13T04:09:46.991Z"
   },
   {
    "duration": 7,
    "start_time": "2024-07-13T04:09:47.004Z"
   },
   {
    "duration": 11,
    "start_time": "2024-07-13T04:09:47.013Z"
   },
   {
    "duration": 5,
    "start_time": "2024-07-13T04:09:47.025Z"
   },
   {
    "duration": 36,
    "start_time": "2024-07-13T04:09:47.031Z"
   },
   {
    "duration": 4,
    "start_time": "2024-07-13T04:09:47.069Z"
   },
   {
    "duration": 4,
    "start_time": "2024-07-13T04:09:47.075Z"
   },
   {
    "duration": 4,
    "start_time": "2024-07-13T04:09:47.080Z"
   },
   {
    "duration": 8,
    "start_time": "2024-07-13T04:09:47.085Z"
   },
   {
    "duration": 6,
    "start_time": "2024-07-13T04:09:47.094Z"
   },
   {
    "duration": 13,
    "start_time": "2024-07-13T04:09:47.101Z"
   },
   {
    "duration": 45,
    "start_time": "2024-07-13T04:09:47.115Z"
   },
   {
    "duration": 8,
    "start_time": "2024-07-13T04:09:47.162Z"
   },
   {
    "duration": 6,
    "start_time": "2024-07-13T04:09:47.171Z"
   },
   {
    "duration": 5,
    "start_time": "2024-07-13T04:09:47.178Z"
   },
   {
    "duration": 9,
    "start_time": "2024-07-13T04:09:47.185Z"
   },
   {
    "duration": 10,
    "start_time": "2024-07-13T04:09:47.196Z"
   },
   {
    "duration": 11,
    "start_time": "2024-07-13T04:09:47.207Z"
   },
   {
    "duration": 43,
    "start_time": "2024-07-13T04:09:47.219Z"
   },
   {
    "duration": 7,
    "start_time": "2024-07-13T04:09:47.263Z"
   },
   {
    "duration": 7,
    "start_time": "2024-07-13T04:09:47.273Z"
   },
   {
    "duration": 10,
    "start_time": "2024-07-13T04:09:47.281Z"
   },
   {
    "duration": 216,
    "start_time": "2024-07-13T04:09:47.293Z"
   },
   {
    "duration": 191,
    "start_time": "2024-07-13T04:09:47.510Z"
   },
   {
    "duration": 309,
    "start_time": "2024-07-13T04:09:47.703Z"
   },
   {
    "duration": 9,
    "start_time": "2024-07-13T04:09:48.013Z"
   },
   {
    "duration": 9,
    "start_time": "2024-07-13T04:09:48.024Z"
   },
   {
    "duration": 796,
    "start_time": "2024-07-13T04:09:48.034Z"
   },
   {
    "duration": 9,
    "start_time": "2024-07-13T04:09:48.832Z"
   },
   {
    "duration": 225,
    "start_time": "2024-07-13T04:09:48.843Z"
   },
   {
    "duration": 463,
    "start_time": "2024-07-13T04:09:49.070Z"
   },
   {
    "duration": 12,
    "start_time": "2024-07-13T04:09:49.535Z"
   },
   {
    "duration": 21,
    "start_time": "2024-07-13T04:09:49.549Z"
   },
   {
    "duration": 23,
    "start_time": "2024-07-13T04:09:49.572Z"
   },
   {
    "duration": 9,
    "start_time": "2024-07-13T04:09:49.597Z"
   },
   {
    "duration": 5,
    "start_time": "2024-07-13T04:09:49.608Z"
   },
   {
    "duration": 333,
    "start_time": "2024-07-13T04:09:49.615Z"
   },
   {
    "duration": 17,
    "start_time": "2024-07-13T04:09:49.949Z"
   },
   {
    "duration": 22,
    "start_time": "2024-07-13T04:09:49.967Z"
   },
   {
    "duration": 243,
    "start_time": "2024-07-13T04:09:49.991Z"
   },
   {
    "duration": 8,
    "start_time": "2024-07-13T04:09:50.236Z"
   },
   {
    "duration": 15,
    "start_time": "2024-07-13T04:09:50.246Z"
   },
   {
    "duration": 43,
    "start_time": "2024-07-13T04:09:50.263Z"
   },
   {
    "duration": 4,
    "start_time": "2024-07-13T04:09:50.307Z"
   },
   {
    "duration": 18,
    "start_time": "2024-07-13T04:09:50.313Z"
   },
   {
    "duration": 231,
    "start_time": "2024-07-13T04:09:50.332Z"
   },
   {
    "duration": 4,
    "start_time": "2024-07-13T04:09:50.565Z"
   },
   {
    "duration": 6,
    "start_time": "2024-07-13T04:09:50.570Z"
   },
   {
    "duration": 13,
    "start_time": "2024-07-13T04:09:50.578Z"
   },
   {
    "duration": 8,
    "start_time": "2024-07-13T04:09:50.593Z"
   },
   {
    "duration": 507,
    "start_time": "2024-07-13T04:09:50.602Z"
   },
   {
    "duration": 296,
    "start_time": "2024-07-13T04:09:51.111Z"
   },
   {
    "duration": 15,
    "start_time": "2024-07-13T04:30:33.234Z"
   },
   {
    "duration": 55,
    "start_time": "2024-07-13T10:21:44.676Z"
   },
   {
    "duration": 1187,
    "start_time": "2024-07-13T10:21:57.636Z"
   },
   {
    "duration": 286,
    "start_time": "2024-07-13T10:21:58.825Z"
   },
   {
    "duration": 14,
    "start_time": "2024-07-13T10:21:59.121Z"
   },
   {
    "duration": 10,
    "start_time": "2024-07-13T10:21:59.137Z"
   },
   {
    "duration": 8,
    "start_time": "2024-07-13T10:21:59.148Z"
   },
   {
    "duration": 9,
    "start_time": "2024-07-13T10:21:59.158Z"
   },
   {
    "duration": 5,
    "start_time": "2024-07-13T10:21:59.169Z"
   },
   {
    "duration": 50,
    "start_time": "2024-07-13T10:21:59.175Z"
   },
   {
    "duration": 7,
    "start_time": "2024-07-13T10:21:59.226Z"
   },
   {
    "duration": 17,
    "start_time": "2024-07-13T10:21:59.235Z"
   },
   {
    "duration": 3,
    "start_time": "2024-07-13T10:21:59.254Z"
   },
   {
    "duration": 10,
    "start_time": "2024-07-13T10:21:59.258Z"
   },
   {
    "duration": 24,
    "start_time": "2024-07-13T10:21:59.270Z"
   },
   {
    "duration": 27,
    "start_time": "2024-07-13T10:21:59.295Z"
   },
   {
    "duration": 5,
    "start_time": "2024-07-13T10:21:59.324Z"
   },
   {
    "duration": 7,
    "start_time": "2024-07-13T10:21:59.330Z"
   },
   {
    "duration": 7,
    "start_time": "2024-07-13T10:21:59.338Z"
   },
   {
    "duration": 8,
    "start_time": "2024-07-13T10:21:59.346Z"
   },
   {
    "duration": 6,
    "start_time": "2024-07-13T10:21:59.355Z"
   },
   {
    "duration": 19,
    "start_time": "2024-07-13T10:21:59.362Z"
   },
   {
    "duration": 12,
    "start_time": "2024-07-13T10:21:59.383Z"
   },
   {
    "duration": 3,
    "start_time": "2024-07-13T10:21:59.397Z"
   },
   {
    "duration": 24,
    "start_time": "2024-07-13T10:21:59.401Z"
   },
   {
    "duration": 10,
    "start_time": "2024-07-13T10:21:59.426Z"
   },
   {
    "duration": 13,
    "start_time": "2024-07-13T10:21:59.437Z"
   },
   {
    "duration": 5,
    "start_time": "2024-07-13T10:21:59.451Z"
   },
   {
    "duration": 11,
    "start_time": "2024-07-13T10:21:59.457Z"
   },
   {
    "duration": 8,
    "start_time": "2024-07-13T10:21:59.472Z"
   },
   {
    "duration": 9,
    "start_time": "2024-07-13T10:21:59.481Z"
   },
   {
    "duration": 24,
    "start_time": "2024-07-13T10:21:59.491Z"
   },
   {
    "duration": 172,
    "start_time": "2024-07-13T10:21:59.516Z"
   },
   {
    "duration": 173,
    "start_time": "2024-07-13T10:21:59.689Z"
   },
   {
    "duration": 266,
    "start_time": "2024-07-13T10:21:59.863Z"
   },
   {
    "duration": 8,
    "start_time": "2024-07-13T10:22:00.130Z"
   },
   {
    "duration": 33,
    "start_time": "2024-07-13T10:22:00.139Z"
   },
   {
    "duration": 724,
    "start_time": "2024-07-13T10:22:00.173Z"
   },
   {
    "duration": 18,
    "start_time": "2024-07-13T10:22:00.899Z"
   },
   {
    "duration": 211,
    "start_time": "2024-07-13T10:22:00.920Z"
   },
   {
    "duration": 418,
    "start_time": "2024-07-13T10:22:01.132Z"
   },
   {
    "duration": 8,
    "start_time": "2024-07-13T10:22:01.551Z"
   },
   {
    "duration": 241,
    "start_time": "2024-07-13T10:22:01.560Z"
   },
   {
    "duration": 40,
    "start_time": "2024-07-13T10:22:01.802Z"
   },
   {
    "duration": 35,
    "start_time": "2024-07-13T10:22:01.844Z"
   },
   {
    "duration": 43,
    "start_time": "2024-07-13T10:22:01.880Z"
   },
   {
    "duration": 281,
    "start_time": "2024-07-13T10:22:01.924Z"
   },
   {
    "duration": 16,
    "start_time": "2024-07-13T10:22:02.206Z"
   },
   {
    "duration": 31,
    "start_time": "2024-07-13T10:22:02.223Z"
   },
   {
    "duration": 216,
    "start_time": "2024-07-13T10:22:02.255Z"
   },
   {
    "duration": 6,
    "start_time": "2024-07-13T10:22:02.473Z"
   },
   {
    "duration": 13,
    "start_time": "2024-07-13T10:22:02.480Z"
   },
   {
    "duration": 50,
    "start_time": "2024-07-13T10:22:02.494Z"
   },
   {
    "duration": 4,
    "start_time": "2024-07-13T10:22:02.546Z"
   },
   {
    "duration": 15,
    "start_time": "2024-07-13T10:22:02.551Z"
   },
   {
    "duration": 196,
    "start_time": "2024-07-13T10:22:02.568Z"
   },
   {
    "duration": 3,
    "start_time": "2024-07-13T10:22:02.766Z"
   },
   {
    "duration": 9,
    "start_time": "2024-07-13T10:22:02.771Z"
   },
   {
    "duration": 46,
    "start_time": "2024-07-13T10:22:02.781Z"
   },
   {
    "duration": 19,
    "start_time": "2024-07-13T10:22:02.828Z"
   },
   {
    "duration": 377,
    "start_time": "2024-07-13T10:22:02.848Z"
   },
   {
    "duration": 268,
    "start_time": "2024-07-13T10:22:03.227Z"
   },
   {
    "duration": 4,
    "start_time": "2024-07-13T10:22:42.634Z"
   },
   {
    "duration": 3,
    "start_time": "2024-07-13T10:23:48.148Z"
   },
   {
    "duration": 13,
    "start_time": "2024-07-13T10:24:43.222Z"
   },
   {
    "duration": 120,
    "start_time": "2024-07-13T10:34:22.078Z"
   },
   {
    "duration": 29,
    "start_time": "2024-07-13T10:35:06.231Z"
   },
   {
    "duration": 204,
    "start_time": "2024-07-13T10:35:36.257Z"
   },
   {
    "duration": 39,
    "start_time": "2024-07-13T10:35:52.611Z"
   },
   {
    "duration": 168,
    "start_time": "2024-07-13T10:36:10.284Z"
   },
   {
    "duration": 179,
    "start_time": "2024-07-13T10:36:41.694Z"
   },
   {
    "duration": 11,
    "start_time": "2024-07-13T10:51:57.878Z"
   },
   {
    "duration": 8,
    "start_time": "2024-07-13T10:53:51.673Z"
   },
   {
    "duration": 11,
    "start_time": "2024-07-13T10:55:50.422Z"
   },
   {
    "duration": 11,
    "start_time": "2024-07-13T10:56:07.249Z"
   },
   {
    "duration": 62,
    "start_time": "2024-07-13T10:56:53.563Z"
   },
   {
    "duration": 21,
    "start_time": "2024-07-13T10:57:13.451Z"
   },
   {
    "duration": 1000,
    "start_time": "2024-07-13T10:57:40.134Z"
   },
   {
    "duration": 74,
    "start_time": "2024-07-13T10:57:41.135Z"
   },
   {
    "duration": 16,
    "start_time": "2024-07-13T10:57:41.210Z"
   },
   {
    "duration": 15,
    "start_time": "2024-07-13T10:57:41.228Z"
   },
   {
    "duration": 17,
    "start_time": "2024-07-13T10:57:41.244Z"
   },
   {
    "duration": 33,
    "start_time": "2024-07-13T10:57:41.262Z"
   },
   {
    "duration": 21,
    "start_time": "2024-07-13T10:57:41.296Z"
   },
   {
    "duration": 19,
    "start_time": "2024-07-13T10:57:41.318Z"
   },
   {
    "duration": 6,
    "start_time": "2024-07-13T10:57:41.338Z"
   },
   {
    "duration": 8,
    "start_time": "2024-07-13T10:57:41.347Z"
   },
   {
    "duration": 3,
    "start_time": "2024-07-13T10:57:41.357Z"
   },
   {
    "duration": 8,
    "start_time": "2024-07-13T10:57:41.361Z"
   },
   {
    "duration": 9,
    "start_time": "2024-07-13T10:57:41.370Z"
   },
   {
    "duration": 3,
    "start_time": "2024-07-13T10:57:41.380Z"
   },
   {
    "duration": 40,
    "start_time": "2024-07-13T10:57:41.384Z"
   },
   {
    "duration": 9,
    "start_time": "2024-07-13T10:57:41.426Z"
   },
   {
    "duration": 6,
    "start_time": "2024-07-13T10:57:41.436Z"
   },
   {
    "duration": 14,
    "start_time": "2024-07-13T10:57:41.443Z"
   },
   {
    "duration": 7,
    "start_time": "2024-07-13T10:57:41.459Z"
   },
   {
    "duration": 11,
    "start_time": "2024-07-13T10:57:41.467Z"
   },
   {
    "duration": 6,
    "start_time": "2024-07-13T10:57:41.479Z"
   },
   {
    "duration": 5,
    "start_time": "2024-07-13T10:57:41.487Z"
   },
   {
    "duration": 36,
    "start_time": "2024-07-13T10:57:41.493Z"
   },
   {
    "duration": 5,
    "start_time": "2024-07-13T10:57:41.530Z"
   },
   {
    "duration": 7,
    "start_time": "2024-07-13T10:57:41.536Z"
   },
   {
    "duration": 6,
    "start_time": "2024-07-13T10:57:41.544Z"
   },
   {
    "duration": 6,
    "start_time": "2024-07-13T10:57:41.551Z"
   },
   {
    "duration": 6,
    "start_time": "2024-07-13T10:57:41.562Z"
   },
   {
    "duration": 55,
    "start_time": "2024-07-13T10:57:41.570Z"
   },
   {
    "duration": 5,
    "start_time": "2024-07-13T10:57:41.626Z"
   },
   {
    "duration": 3,
    "start_time": "2024-07-13T10:57:41.632Z"
   },
   {
    "duration": 11,
    "start_time": "2024-07-13T10:57:41.636Z"
   },
   {
    "duration": 178,
    "start_time": "2024-07-13T10:57:41.649Z"
   },
   {
    "duration": 165,
    "start_time": "2024-07-13T10:57:41.829Z"
   },
   {
    "duration": 271,
    "start_time": "2024-07-13T10:57:41.996Z"
   },
   {
    "duration": 8,
    "start_time": "2024-07-13T10:57:42.268Z"
   },
   {
    "duration": 8,
    "start_time": "2024-07-13T10:57:42.277Z"
   },
   {
    "duration": 698,
    "start_time": "2024-07-13T10:57:42.286Z"
   },
   {
    "duration": 6,
    "start_time": "2024-07-13T10:57:42.985Z"
   },
   {
    "duration": 204,
    "start_time": "2024-07-13T10:57:42.993Z"
   },
   {
    "duration": 401,
    "start_time": "2024-07-13T10:57:43.198Z"
   },
   {
    "duration": 16,
    "start_time": "2024-07-13T10:57:43.601Z"
   },
   {
    "duration": 13,
    "start_time": "2024-07-13T10:57:43.621Z"
   },
   {
    "duration": 25,
    "start_time": "2024-07-13T10:57:43.636Z"
   },
   {
    "duration": 15,
    "start_time": "2024-07-13T10:57:43.662Z"
   },
   {
    "duration": 8,
    "start_time": "2024-07-13T10:57:43.678Z"
   },
   {
    "duration": 34,
    "start_time": "2024-07-13T10:57:43.687Z"
   },
   {
    "duration": 280,
    "start_time": "2024-07-13T10:57:43.725Z"
   },
   {
    "duration": 18,
    "start_time": "2024-07-13T10:57:44.006Z"
   },
   {
    "duration": 23,
    "start_time": "2024-07-13T10:57:44.025Z"
   },
   {
    "duration": 215,
    "start_time": "2024-07-13T10:57:44.050Z"
   },
   {
    "duration": 6,
    "start_time": "2024-07-13T10:57:44.266Z"
   },
   {
    "duration": 21,
    "start_time": "2024-07-13T10:57:44.274Z"
   },
   {
    "duration": 37,
    "start_time": "2024-07-13T10:57:44.297Z"
   },
   {
    "duration": 3,
    "start_time": "2024-07-13T10:57:44.335Z"
   },
   {
    "duration": 27,
    "start_time": "2024-07-13T10:57:44.339Z"
   },
   {
    "duration": 177,
    "start_time": "2024-07-13T10:57:44.367Z"
   },
   {
    "duration": 3,
    "start_time": "2024-07-13T10:57:44.545Z"
   },
   {
    "duration": 5,
    "start_time": "2024-07-13T10:57:44.550Z"
   },
   {
    "duration": 16,
    "start_time": "2024-07-13T10:57:44.556Z"
   },
   {
    "duration": 9,
    "start_time": "2024-07-13T10:57:44.573Z"
   },
   {
    "duration": 372,
    "start_time": "2024-07-13T10:57:44.583Z"
   },
   {
    "duration": 270,
    "start_time": "2024-07-13T10:57:44.957Z"
   },
   {
    "duration": 105,
    "start_time": "2024-07-13T10:59:08.730Z"
   },
   {
    "duration": 17,
    "start_time": "2024-07-13T10:59:30.405Z"
   },
   {
    "duration": 1001,
    "start_time": "2024-07-13T11:00:29.735Z"
   },
   {
    "duration": 66,
    "start_time": "2024-07-13T11:00:30.737Z"
   },
   {
    "duration": 23,
    "start_time": "2024-07-13T11:00:30.805Z"
   },
   {
    "duration": 146,
    "start_time": "2024-07-13T11:00:30.830Z"
   },
   {
    "duration": 57,
    "start_time": "2024-07-13T11:00:30.978Z"
   },
   {
    "duration": 52,
    "start_time": "2024-07-13T11:00:31.036Z"
   },
   {
    "duration": 36,
    "start_time": "2024-07-13T11:00:31.090Z"
   },
   {
    "duration": 40,
    "start_time": "2024-07-13T11:00:31.128Z"
   },
   {
    "duration": 34,
    "start_time": "2024-07-13T11:00:31.169Z"
   },
   {
    "duration": 45,
    "start_time": "2024-07-13T11:00:31.206Z"
   },
   {
    "duration": 32,
    "start_time": "2024-07-13T11:00:31.253Z"
   },
   {
    "duration": 53,
    "start_time": "2024-07-13T11:00:31.286Z"
   },
   {
    "duration": 146,
    "start_time": "2024-07-13T11:00:31.341Z"
   },
   {
    "duration": 86,
    "start_time": "2024-07-13T11:00:31.488Z"
   },
   {
    "duration": 18,
    "start_time": "2024-07-13T11:00:31.576Z"
   },
   {
    "duration": 91,
    "start_time": "2024-07-13T11:00:31.596Z"
   },
   {
    "duration": 72,
    "start_time": "2024-07-13T11:00:31.689Z"
   },
   {
    "duration": 11,
    "start_time": "2024-07-13T11:00:31.762Z"
   },
   {
    "duration": 6,
    "start_time": "2024-07-13T11:00:31.774Z"
   },
   {
    "duration": 12,
    "start_time": "2024-07-13T11:00:31.782Z"
   },
   {
    "duration": 8,
    "start_time": "2024-07-13T11:00:31.796Z"
   },
   {
    "duration": 6,
    "start_time": "2024-07-13T11:00:31.805Z"
   },
   {
    "duration": 10,
    "start_time": "2024-07-13T11:00:31.822Z"
   },
   {
    "duration": 9,
    "start_time": "2024-07-13T11:00:31.833Z"
   },
   {
    "duration": 40,
    "start_time": "2024-07-13T11:00:31.844Z"
   },
   {
    "duration": 7,
    "start_time": "2024-07-13T11:00:31.886Z"
   },
   {
    "duration": 6,
    "start_time": "2024-07-13T11:00:31.895Z"
   },
   {
    "duration": 16,
    "start_time": "2024-07-13T11:00:31.906Z"
   },
   {
    "duration": 20,
    "start_time": "2024-07-13T11:00:31.924Z"
   },
   {
    "duration": 5,
    "start_time": "2024-07-13T11:00:31.946Z"
   },
   {
    "duration": 6,
    "start_time": "2024-07-13T11:00:31.952Z"
   },
   {
    "duration": 14,
    "start_time": "2024-07-13T11:00:31.959Z"
   },
   {
    "duration": 189,
    "start_time": "2024-07-13T11:00:31.974Z"
   },
   {
    "duration": 169,
    "start_time": "2024-07-13T11:00:32.165Z"
   },
   {
    "duration": 264,
    "start_time": "2024-07-13T11:00:32.336Z"
   },
   {
    "duration": 19,
    "start_time": "2024-07-13T11:00:32.602Z"
   },
   {
    "duration": 8,
    "start_time": "2024-07-13T11:00:32.628Z"
   },
   {
    "duration": 688,
    "start_time": "2024-07-13T11:00:32.637Z"
   },
   {
    "duration": 9,
    "start_time": "2024-07-13T11:00:33.327Z"
   },
   {
    "duration": 208,
    "start_time": "2024-07-13T11:00:33.338Z"
   },
   {
    "duration": 410,
    "start_time": "2024-07-13T11:00:33.547Z"
   },
   {
    "duration": 7,
    "start_time": "2024-07-13T11:00:33.959Z"
   },
   {
    "duration": 7,
    "start_time": "2024-07-13T11:00:33.968Z"
   },
   {
    "duration": 47,
    "start_time": "2024-07-13T11:00:33.976Z"
   },
   {
    "duration": 21,
    "start_time": "2024-07-13T11:00:34.024Z"
   },
   {
    "duration": 11,
    "start_time": "2024-07-13T11:00:34.047Z"
   },
   {
    "duration": 6,
    "start_time": "2024-07-13T11:00:34.060Z"
   },
   {
    "duration": 9,
    "start_time": "2024-07-13T11:00:34.067Z"
   },
   {
    "duration": 270,
    "start_time": "2024-07-13T11:00:34.078Z"
   },
   {
    "duration": 7,
    "start_time": "2024-07-13T11:00:34.349Z"
   },
   {
    "duration": 6,
    "start_time": "2024-07-13T11:00:34.358Z"
   },
   {
    "duration": 264,
    "start_time": "2024-07-13T11:00:34.365Z"
   },
   {
    "duration": 7,
    "start_time": "2024-07-13T11:00:34.630Z"
   },
   {
    "duration": 6,
    "start_time": "2024-07-13T11:00:34.639Z"
   },
   {
    "duration": 41,
    "start_time": "2024-07-13T11:00:34.647Z"
   },
   {
    "duration": 4,
    "start_time": "2024-07-13T11:00:34.689Z"
   },
   {
    "duration": 29,
    "start_time": "2024-07-13T11:00:34.694Z"
   },
   {
    "duration": 193,
    "start_time": "2024-07-13T11:00:34.724Z"
   },
   {
    "duration": 7,
    "start_time": "2024-07-13T11:00:34.918Z"
   },
   {
    "duration": 19,
    "start_time": "2024-07-13T11:00:34.926Z"
   },
   {
    "duration": 5,
    "start_time": "2024-07-13T11:00:34.946Z"
   },
   {
    "duration": 6,
    "start_time": "2024-07-13T11:00:34.952Z"
   },
   {
    "duration": 339,
    "start_time": "2024-07-13T11:00:34.960Z"
   },
   {
    "duration": 289,
    "start_time": "2024-07-13T11:00:35.300Z"
   },
   {
    "duration": 422,
    "start_time": "2024-07-13T11:04:08.858Z"
   },
   {
    "duration": 291,
    "start_time": "2024-07-13T11:05:55.618Z"
   },
   {
    "duration": 55,
    "start_time": "2024-07-13T11:06:16.112Z"
   },
   {
    "duration": 4,
    "start_time": "2024-07-13T11:07:18.702Z"
   },
   {
    "duration": 18,
    "start_time": "2024-07-13T11:07:19.748Z"
   },
   {
    "duration": 1038,
    "start_time": "2024-07-13T11:07:36.218Z"
   },
   {
    "duration": 73,
    "start_time": "2024-07-13T11:07:37.258Z"
   },
   {
    "duration": 13,
    "start_time": "2024-07-13T11:07:37.333Z"
   },
   {
    "duration": 10,
    "start_time": "2024-07-13T11:07:37.348Z"
   },
   {
    "duration": 9,
    "start_time": "2024-07-13T11:07:37.359Z"
   },
   {
    "duration": 9,
    "start_time": "2024-07-13T11:07:37.369Z"
   },
   {
    "duration": 20,
    "start_time": "2024-07-13T11:07:37.379Z"
   },
   {
    "duration": 25,
    "start_time": "2024-07-13T11:07:37.400Z"
   },
   {
    "duration": 9,
    "start_time": "2024-07-13T11:07:37.427Z"
   },
   {
    "duration": 11,
    "start_time": "2024-07-13T11:07:37.439Z"
   },
   {
    "duration": 4,
    "start_time": "2024-07-13T11:07:37.452Z"
   },
   {
    "duration": 8,
    "start_time": "2024-07-13T11:07:37.457Z"
   },
   {
    "duration": 4,
    "start_time": "2024-07-13T11:07:37.467Z"
   },
   {
    "duration": 10,
    "start_time": "2024-07-13T11:07:37.472Z"
   },
   {
    "duration": 5,
    "start_time": "2024-07-13T11:07:37.484Z"
   },
   {
    "duration": 31,
    "start_time": "2024-07-13T11:07:37.490Z"
   },
   {
    "duration": 8,
    "start_time": "2024-07-13T11:07:37.523Z"
   },
   {
    "duration": 8,
    "start_time": "2024-07-13T11:07:37.532Z"
   },
   {
    "duration": 7,
    "start_time": "2024-07-13T11:07:37.541Z"
   },
   {
    "duration": 6,
    "start_time": "2024-07-13T11:07:37.549Z"
   },
   {
    "duration": 5,
    "start_time": "2024-07-13T11:07:37.557Z"
   },
   {
    "duration": 4,
    "start_time": "2024-07-13T11:07:37.563Z"
   },
   {
    "duration": 57,
    "start_time": "2024-07-13T11:07:37.569Z"
   },
   {
    "duration": 5,
    "start_time": "2024-07-13T11:07:37.628Z"
   },
   {
    "duration": 9,
    "start_time": "2024-07-13T11:07:37.634Z"
   },
   {
    "duration": 6,
    "start_time": "2024-07-13T11:07:37.644Z"
   },
   {
    "duration": 5,
    "start_time": "2024-07-13T11:07:37.651Z"
   },
   {
    "duration": 6,
    "start_time": "2024-07-13T11:07:37.659Z"
   },
   {
    "duration": 8,
    "start_time": "2024-07-13T11:07:37.666Z"
   },
   {
    "duration": 4,
    "start_time": "2024-07-13T11:07:37.675Z"
   },
   {
    "duration": 3,
    "start_time": "2024-07-13T11:07:37.680Z"
   },
   {
    "duration": 21,
    "start_time": "2024-07-13T11:07:37.721Z"
   },
   {
    "duration": 218,
    "start_time": "2024-07-13T11:07:37.743Z"
   },
   {
    "duration": 181,
    "start_time": "2024-07-13T11:07:37.962Z"
   },
   {
    "duration": 260,
    "start_time": "2024-07-13T11:07:38.144Z"
   },
   {
    "duration": 21,
    "start_time": "2024-07-13T11:07:38.406Z"
   },
   {
    "duration": 15,
    "start_time": "2024-07-13T11:07:38.429Z"
   },
   {
    "duration": 735,
    "start_time": "2024-07-13T11:07:38.445Z"
   },
   {
    "duration": 7,
    "start_time": "2024-07-13T11:07:39.181Z"
   },
   {
    "duration": 208,
    "start_time": "2024-07-13T11:07:39.189Z"
   },
   {
    "duration": 404,
    "start_time": "2024-07-13T11:07:39.399Z"
   },
   {
    "duration": 22,
    "start_time": "2024-07-13T11:07:39.804Z"
   },
   {
    "duration": 16,
    "start_time": "2024-07-13T11:07:39.834Z"
   },
   {
    "duration": 15,
    "start_time": "2024-07-13T11:07:39.851Z"
   },
   {
    "duration": 13,
    "start_time": "2024-07-13T11:07:39.867Z"
   },
   {
    "duration": 12,
    "start_time": "2024-07-13T11:07:39.881Z"
   },
   {
    "duration": 6,
    "start_time": "2024-07-13T11:07:39.895Z"
   },
   {
    "duration": 13,
    "start_time": "2024-07-13T11:07:39.903Z"
   },
   {
    "duration": 266,
    "start_time": "2024-07-13T11:07:39.917Z"
   },
   {
    "duration": 9,
    "start_time": "2024-07-13T11:07:40.185Z"
   },
   {
    "duration": 35,
    "start_time": "2024-07-13T11:07:40.195Z"
   },
   {
    "duration": 247,
    "start_time": "2024-07-13T11:07:40.231Z"
   },
   {
    "duration": 7,
    "start_time": "2024-07-13T11:07:40.480Z"
   },
   {
    "duration": 6,
    "start_time": "2024-07-13T11:07:40.488Z"
   },
   {
    "duration": 63,
    "start_time": "2024-07-13T11:07:40.495Z"
   },
   {
    "duration": 3,
    "start_time": "2024-07-13T11:07:40.560Z"
   },
   {
    "duration": 16,
    "start_time": "2024-07-13T11:07:40.564Z"
   },
   {
    "duration": 199,
    "start_time": "2024-07-13T11:07:40.581Z"
   },
   {
    "duration": 4,
    "start_time": "2024-07-13T11:07:40.781Z"
   },
   {
    "duration": 5,
    "start_time": "2024-07-13T11:07:40.786Z"
   },
   {
    "duration": 24,
    "start_time": "2024-07-13T11:07:40.793Z"
   },
   {
    "duration": 12,
    "start_time": "2024-07-13T11:07:40.822Z"
   },
   {
    "duration": 355,
    "start_time": "2024-07-13T11:07:40.836Z"
   },
   {
    "duration": 285,
    "start_time": "2024-07-13T11:07:41.192Z"
   },
   {
    "duration": 1038,
    "start_time": "2024-07-13T11:23:48.087Z"
   },
   {
    "duration": 66,
    "start_time": "2024-07-13T11:23:49.128Z"
   },
   {
    "duration": 11,
    "start_time": "2024-07-13T11:23:49.196Z"
   },
   {
    "duration": 21,
    "start_time": "2024-07-13T11:23:49.208Z"
   },
   {
    "duration": 7,
    "start_time": "2024-07-13T11:23:49.231Z"
   },
   {
    "duration": 10,
    "start_time": "2024-07-13T11:23:49.239Z"
   },
   {
    "duration": 6,
    "start_time": "2024-07-13T11:23:49.250Z"
   },
   {
    "duration": 12,
    "start_time": "2024-07-13T11:23:49.257Z"
   },
   {
    "duration": 7,
    "start_time": "2024-07-13T11:23:49.271Z"
   },
   {
    "duration": 9,
    "start_time": "2024-07-13T11:23:49.281Z"
   },
   {
    "duration": 30,
    "start_time": "2024-07-13T11:23:49.291Z"
   },
   {
    "duration": 8,
    "start_time": "2024-07-13T11:23:49.323Z"
   },
   {
    "duration": 6,
    "start_time": "2024-07-13T11:23:49.333Z"
   },
   {
    "duration": 9,
    "start_time": "2024-07-13T11:23:49.340Z"
   },
   {
    "duration": 18,
    "start_time": "2024-07-13T11:23:49.350Z"
   },
   {
    "duration": 9,
    "start_time": "2024-07-13T11:23:49.370Z"
   },
   {
    "duration": 7,
    "start_time": "2024-07-13T11:23:49.380Z"
   },
   {
    "duration": 7,
    "start_time": "2024-07-13T11:23:49.389Z"
   },
   {
    "duration": 25,
    "start_time": "2024-07-13T11:23:49.397Z"
   },
   {
    "duration": 9,
    "start_time": "2024-07-13T11:23:49.424Z"
   },
   {
    "duration": 11,
    "start_time": "2024-07-13T11:23:49.434Z"
   },
   {
    "duration": 30,
    "start_time": "2024-07-13T11:23:49.447Z"
   },
   {
    "duration": 11,
    "start_time": "2024-07-13T11:23:49.479Z"
   },
   {
    "duration": 5,
    "start_time": "2024-07-13T11:23:49.491Z"
   },
   {
    "duration": 8,
    "start_time": "2024-07-13T11:23:49.497Z"
   },
   {
    "duration": 17,
    "start_time": "2024-07-13T11:23:49.506Z"
   },
   {
    "duration": 6,
    "start_time": "2024-07-13T11:23:49.525Z"
   },
   {
    "duration": 6,
    "start_time": "2024-07-13T11:23:49.534Z"
   },
   {
    "duration": 22,
    "start_time": "2024-07-13T11:23:49.541Z"
   },
   {
    "duration": 11,
    "start_time": "2024-07-13T11:23:49.565Z"
   },
   {
    "duration": 3,
    "start_time": "2024-07-13T11:23:49.577Z"
   },
   {
    "duration": 12,
    "start_time": "2024-07-13T11:23:49.581Z"
   },
   {
    "duration": 174,
    "start_time": "2024-07-13T11:23:49.594Z"
   },
   {
    "duration": 171,
    "start_time": "2024-07-13T11:23:49.769Z"
   },
   {
    "duration": 258,
    "start_time": "2024-07-13T11:23:49.942Z"
   },
   {
    "duration": 24,
    "start_time": "2024-07-13T11:23:50.202Z"
   },
   {
    "duration": 13,
    "start_time": "2024-07-13T11:23:50.227Z"
   },
   {
    "duration": 713,
    "start_time": "2024-07-13T11:23:50.242Z"
   },
   {
    "duration": 7,
    "start_time": "2024-07-13T11:23:50.957Z"
   },
   {
    "duration": 201,
    "start_time": "2024-07-13T11:23:50.965Z"
   },
   {
    "duration": 402,
    "start_time": "2024-07-13T11:23:51.167Z"
   },
   {
    "duration": 8,
    "start_time": "2024-07-13T11:23:51.570Z"
   },
   {
    "duration": 8,
    "start_time": "2024-07-13T11:23:51.579Z"
   },
   {
    "duration": 33,
    "start_time": "2024-07-13T11:23:51.588Z"
   },
   {
    "duration": 40,
    "start_time": "2024-07-13T11:23:51.622Z"
   },
   {
    "duration": 26,
    "start_time": "2024-07-13T11:23:51.663Z"
   },
   {
    "duration": 7,
    "start_time": "2024-07-13T11:23:51.690Z"
   },
   {
    "duration": 6,
    "start_time": "2024-07-13T11:23:51.698Z"
   },
   {
    "duration": 290,
    "start_time": "2024-07-13T11:23:51.705Z"
   },
   {
    "duration": 7,
    "start_time": "2024-07-13T11:23:51.996Z"
   },
   {
    "duration": 51,
    "start_time": "2024-07-13T11:23:52.004Z"
   },
   {
    "duration": 223,
    "start_time": "2024-07-13T11:23:52.057Z"
   },
   {
    "duration": 7,
    "start_time": "2024-07-13T11:23:52.281Z"
   },
   {
    "duration": 5,
    "start_time": "2024-07-13T11:23:52.289Z"
   },
   {
    "duration": 63,
    "start_time": "2024-07-13T11:23:52.296Z"
   },
   {
    "duration": 4,
    "start_time": "2024-07-13T11:23:52.360Z"
   },
   {
    "duration": 29,
    "start_time": "2024-07-13T11:23:52.365Z"
   },
   {
    "duration": 182,
    "start_time": "2024-07-13T11:23:52.395Z"
   },
   {
    "duration": 3,
    "start_time": "2024-07-13T11:23:52.578Z"
   },
   {
    "duration": 5,
    "start_time": "2024-07-13T11:23:52.582Z"
   },
   {
    "duration": 4,
    "start_time": "2024-07-13T11:23:52.588Z"
   },
   {
    "duration": 24,
    "start_time": "2024-07-13T11:23:52.593Z"
   },
   {
    "duration": 383,
    "start_time": "2024-07-13T11:23:52.618Z"
   },
   {
    "duration": 277,
    "start_time": "2024-07-13T11:23:53.003Z"
   },
   {
    "duration": 1185,
    "start_time": "2024-07-13T15:08:01.654Z"
   },
   {
    "duration": 286,
    "start_time": "2024-07-13T15:08:02.841Z"
   },
   {
    "duration": 18,
    "start_time": "2024-07-13T15:08:03.129Z"
   },
   {
    "duration": 16,
    "start_time": "2024-07-13T15:08:03.149Z"
   },
   {
    "duration": 15,
    "start_time": "2024-07-13T15:08:03.167Z"
   },
   {
    "duration": 21,
    "start_time": "2024-07-13T15:08:03.183Z"
   },
   {
    "duration": 7,
    "start_time": "2024-07-13T15:08:03.206Z"
   },
   {
    "duration": 10,
    "start_time": "2024-07-13T15:08:03.214Z"
   },
   {
    "duration": 40,
    "start_time": "2024-07-13T15:08:03.226Z"
   },
   {
    "duration": 11,
    "start_time": "2024-07-13T15:08:03.268Z"
   },
   {
    "duration": 5,
    "start_time": "2024-07-13T15:08:03.281Z"
   },
   {
    "duration": 9,
    "start_time": "2024-07-13T15:08:03.288Z"
   },
   {
    "duration": 28,
    "start_time": "2024-07-13T15:08:03.298Z"
   },
   {
    "duration": 5,
    "start_time": "2024-07-13T15:08:03.329Z"
   },
   {
    "duration": 15,
    "start_time": "2024-07-13T15:08:03.336Z"
   },
   {
    "duration": 9,
    "start_time": "2024-07-13T15:08:03.352Z"
   },
   {
    "duration": 7,
    "start_time": "2024-07-13T15:08:03.362Z"
   },
   {
    "duration": 19,
    "start_time": "2024-07-13T15:08:03.370Z"
   },
   {
    "duration": 7,
    "start_time": "2024-07-13T15:08:03.391Z"
   },
   {
    "duration": 12,
    "start_time": "2024-07-13T15:08:03.399Z"
   },
   {
    "duration": 7,
    "start_time": "2024-07-13T15:08:03.412Z"
   },
   {
    "duration": 5,
    "start_time": "2024-07-13T15:08:03.420Z"
   },
   {
    "duration": 11,
    "start_time": "2024-07-13T15:08:03.427Z"
   },
   {
    "duration": 42,
    "start_time": "2024-07-13T15:08:03.440Z"
   },
   {
    "duration": 8,
    "start_time": "2024-07-13T15:08:03.484Z"
   },
   {
    "duration": 6,
    "start_time": "2024-07-13T15:08:03.494Z"
   },
   {
    "duration": 6,
    "start_time": "2024-07-13T15:08:03.501Z"
   },
   {
    "duration": 6,
    "start_time": "2024-07-13T15:08:03.508Z"
   },
   {
    "duration": 10,
    "start_time": "2024-07-13T15:08:03.516Z"
   },
   {
    "duration": 6,
    "start_time": "2024-07-13T15:08:03.528Z"
   },
   {
    "duration": 21,
    "start_time": "2024-07-13T15:08:03.535Z"
   },
   {
    "duration": 16,
    "start_time": "2024-07-13T15:08:03.582Z"
   },
   {
    "duration": 218,
    "start_time": "2024-07-13T15:08:03.599Z"
   },
   {
    "duration": 229,
    "start_time": "2024-07-13T15:08:03.819Z"
   },
   {
    "duration": 335,
    "start_time": "2024-07-13T15:08:04.050Z"
   },
   {
    "duration": 10,
    "start_time": "2024-07-13T15:08:04.386Z"
   },
   {
    "duration": 8,
    "start_time": "2024-07-13T15:08:04.398Z"
   },
   {
    "duration": 925,
    "start_time": "2024-07-13T15:08:04.408Z"
   },
   {
    "duration": 9,
    "start_time": "2024-07-13T15:08:05.335Z"
   },
   {
    "duration": 237,
    "start_time": "2024-07-13T15:08:05.346Z"
   },
   {
    "duration": 479,
    "start_time": "2024-07-13T15:08:05.587Z"
   },
   {
    "duration": 19,
    "start_time": "2024-07-13T15:08:06.068Z"
   },
   {
    "duration": 58,
    "start_time": "2024-07-13T15:08:06.089Z"
   },
   {
    "duration": 19,
    "start_time": "2024-07-13T15:08:06.149Z"
   },
   {
    "duration": 16,
    "start_time": "2024-07-13T15:08:06.170Z"
   },
   {
    "duration": 15,
    "start_time": "2024-07-13T15:08:06.187Z"
   },
   {
    "duration": 12,
    "start_time": "2024-07-13T15:08:06.204Z"
   },
   {
    "duration": 21,
    "start_time": "2024-07-13T15:08:06.218Z"
   },
   {
    "duration": 326,
    "start_time": "2024-07-13T15:08:06.240Z"
   },
   {
    "duration": 14,
    "start_time": "2024-07-13T15:08:06.568Z"
   },
   {
    "duration": 9,
    "start_time": "2024-07-13T15:08:06.584Z"
   },
   {
    "duration": 297,
    "start_time": "2024-07-13T15:08:06.595Z"
   },
   {
    "duration": 9,
    "start_time": "2024-07-13T15:08:06.894Z"
   },
   {
    "duration": 8,
    "start_time": "2024-07-13T15:08:06.905Z"
   },
   {
    "duration": 74,
    "start_time": "2024-07-13T15:08:06.915Z"
   },
   {
    "duration": 4,
    "start_time": "2024-07-13T15:08:06.991Z"
   },
   {
    "duration": 21,
    "start_time": "2024-07-13T15:08:06.997Z"
   },
   {
    "duration": 261,
    "start_time": "2024-07-13T15:08:07.021Z"
   },
   {
    "duration": 3,
    "start_time": "2024-07-13T15:08:07.284Z"
   },
   {
    "duration": 5,
    "start_time": "2024-07-13T15:08:07.289Z"
   },
   {
    "duration": 11,
    "start_time": "2024-07-13T15:08:07.295Z"
   },
   {
    "duration": 7,
    "start_time": "2024-07-13T15:08:07.308Z"
   },
   {
    "duration": 456,
    "start_time": "2024-07-13T15:08:07.316Z"
   },
   {
    "duration": 307,
    "start_time": "2024-07-13T15:08:07.781Z"
   }
  ],
  "kernelspec": {
   "display_name": "Python 3 (ipykernel)",
   "language": "python",
   "name": "python3"
  },
  "language_info": {
   "codemirror_mode": {
    "name": "ipython",
    "version": 3
   },
   "file_extension": ".py",
   "mimetype": "text/x-python",
   "name": "python",
   "nbconvert_exporter": "python",
   "pygments_lexer": "ipython3",
   "version": "3.11.5"
  },
  "toc": {
   "base_numbering": 1,
   "nav_menu": {},
   "number_sections": true,
   "sideBar": true,
   "skip_h1_title": true,
   "title_cell": "Table of Contents",
   "title_sidebar": "Contents",
   "toc_cell": false,
   "toc_position": {},
   "toc_section_display": true,
   "toc_window_display": false
  }
 },
 "nbformat": 4,
 "nbformat_minor": 5
}
