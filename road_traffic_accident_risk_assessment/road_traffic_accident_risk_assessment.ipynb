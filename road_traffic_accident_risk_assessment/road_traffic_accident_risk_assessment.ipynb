{
 "cells": [
  {
   "cell_type": "markdown",
   "id": "87feabf0",
   "metadata": {
    "ExecuteTime": {
     "end_time": "2022-05-05T04:58:05.692448Z",
     "start_time": "2022-05-05T04:58:05.688565Z"
    },
    "id": "87feabf0"
   },
   "source": [
    "# Оценка рисков ДТП"
   ]
  },
  {
   "cell_type": "markdown",
   "id": "df532447",
   "metadata": {
    "ExecuteTime": {
     "end_time": "2022-05-05T04:58:05.692448Z",
     "start_time": "2022-05-05T04:58:05.688565Z"
    },
    "id": "df532447"
   },
   "source": [
    "## Описание задачи"
   ]
  },
  {
   "cell_type": "markdown",
   "id": "8d61ff44",
   "metadata": {
    "id": "8d61ff44"
   },
   "source": [
    "- Заказчик каршеринговая компания\n",
    "- Нужно оценить риск ДТП по выбранному маршруту движения\n",
    "- Под риском понимается вероятность ДТП с любым повреждением транспортного средства\n",
    "- Как только водитель забронировал автомобиль, сел за руль и выбрал маршрут, система должна оценить уровень риска\n",
    "- Если уровень риска высок, водитель увидит предупреждение и рекомендации по маршруту\n",
    "- Идея создания такой системы находится в стадии предварительного обсуждения и проработки. Чёткого алгоритма работы и подобных решений на рынке ещё не существует. Текущая задача — понять, возможно ли предсказывать ДТП, опираясь на исторические данные одного из регионов\n",
    "\n",
    "\n",
    "- Провести статистический анализ факторов ДТП\n",
    "  1. Выясните, в какие месяцы происходит наибольшее количество аварий. Проанализируйте весь период наблюдений (таблица `collisions`).\n",
    "    - Постройте график\n",
    "  2. Скоро состоится первое совещание вашей рабочей группы. Чтобы обсуждение было конструктивным, каждый сотрудник должен понимать данные. Для этого вы должны создать подходящие аналитические задачи и поручить их решение коллегам. Примеры задач:\n",
    "    - Проведите анализ серьёзности повреждений транспортного средства, исходя из состояния дороги в момент ДТП (связать `collisions` и `parties`)\n",
    "    - Найдите самые частые причины ДТП (таблица `parties`)\n",
    "    1. Создайте не менее шести задач для коллег. Опирайтесь на примеры и таблицы\n",
    "    2. Пропишите порядок решения для двух задач из списка. Обязательное условие — решение этих задач должно включать связь не менее 2-х таблиц\n",
    "\n",
    "\n",
    "- Создать модель предсказания ДТП (целевое значение — `at_fault` (виновник) в таблице `parties`)\n",
    "    - Для модели выбрать тип виновника — только машина (`car`).\n",
    "    - Выбрать случаи, когда ДТП привело к любым повреждениям транспортного средства, кроме типа SCRATCH (царапина).\n",
    "    - Для моделирования ограничиться данными за 2012 год — они самые свежие.\n",
    "    - Обязательное условие — учесть фактор возраста автомобиля.\n",
    "- На основе модели исследовать основные факторы ДТП.\n",
    "- Понять, помогут ли результаты моделирования и анализ важности факторов ответить на вопросы:\n",
    "  - Возможно ли создать адекватную системы оценки водительского риска при выдаче авто?\n",
    "  - Какие ещё факторы нужно учесть?\n",
    "  - Нужно ли оборудовать автомобиль какими-либо датчиками или камерой?\n",
    "\n",
    "\n",
    "- Создать модель для оценки водительского риска\n",
    "  1. Подготовьте набор данных на основе первичного предположения заказчика:\n",
    "    - Выберите тип виновника — только машина (`car`)\n",
    "    - Возьмите случаи, когда ДТП привело к любым значимым повреждениям автомобиля любого из участников — все, кроме типа SCRATCH (царапина).\n",
    "    - Для моделирования возьмите данные только за 2012 год.\n",
    "    - Подготовка исходной таблицы должна проводиться с помощью sql-запроса.\n",
    "  2. Проведите первичный отбор факторов, необходимых для модели.\n",
    "      Изучите описание факторов. Нужно отобрать те, которые могут влиять на вероятность ДТП. Будет хорошо, если вы аргументируете свой выбор. Пример:\n",
    "      \n",
    "      ```python\n",
    "      columms =['party_type',     # Тип участника происшествия. Таблица parties\n",
    "                'party_sobriety', # Уровень трезвости виновника (точно может влиять) Таблица parties\n",
    "                ......\n",
    "              ]\n",
    "      ```\n",
    "  3. Проведите статистическое исследование отобранных факторов.\n",
    "    - По результату исследовательского анализа внесите корректировки, если они нужны. Сделайте вывод.\n",
    "    - Если необходимо, категоризируйте исходные данные, проведите масштабирование.\n",
    "    - Подготовьте обучающую и тестовую выборки\n",
    "\n",
    "\n",
    "- Найдите лучшую модель\n",
    "  1. Смоделируйте не менее 3-х типов моделей с перебором гиперпараметров.\n",
    "  2. 1–2 модели из спринта 2 (классическое обучение)\n",
    "  3. 1–2 модели из спринта 3 (XGBoost, LightGBM, CatBoost)\n",
    "  4. Выберите метрику для оценки модели, исходя из поставленной бизнесом задачи. Обоснуйте свой выбор.\n",
    "  5. Оформите вывод в виде сравнительной таблицы.\n",
    "\n",
    "\n",
    "- Проверьте лучшую модель в работе\n",
    "  1. Проведите графический анализ «Матрица ошибок». Выведите полноту и точность на график.\n",
    "  2. Проанализируйте важность основных факторов, влияющих на вероятность ДТП.\n",
    "  3. Для одного из выявленных важных факторов проведите дополнительное исследование:\n",
    "    - Покажите график зависимости фактора и целевой переменной.\n",
    "    - Предложите, чем можно оборудовать автомобиль, чтобы учесть этот фактор во время посадки водителя.\n"
   ]
  },
  {
   "cell_type": "markdown",
   "id": "97ec1cf4",
   "metadata": {
    "id": "97ec1cf4"
   },
   "source": [
    "## Описание задачи в терминах бизнеса"
   ]
  },
  {
   "cell_type": "markdown",
   "id": "f6321400",
   "metadata": {
    "id": "f6321400"
   },
   "source": [
    "Максимизировать количество выданных каршерингом автомобилей и минимизировать ДТП с их участием"
   ]
  },
  {
   "cell_type": "markdown",
   "id": "73aca700",
   "metadata": {
    "id": "73aca700"
   },
   "source": [
    "## Описание задачи в терминах машинного обучения"
   ]
  },
  {
   "cell_type": "markdown",
   "id": "bc8b4b59",
   "metadata": {
    "id": "bc8b4b59"
   },
   "source": [
    "- Целевой признак — `parties.at_fault` — виновен или нет в ДТП\n",
    "- Бинарная классификация\n",
    "- Метрика `F1`, так как нужно не только предотвратить ДТП но и не потерять клиента запретив управлять автомобилем, по этому нужно определять не только правильно ли модель определила класс целевого признака, но и насколько полно она это сделала"
   ]
  },
  {
   "cell_type": "markdown",
   "id": "09765742",
   "metadata": {
    "id": "09765742"
   },
   "source": [
    "## Описание данных"
   ]
  },
  {
   "cell_type": "markdown",
   "id": "cbd090ba",
   "metadata": {
    "id": "cbd090ba"
   },
   "source": [
    "SQL таблицы\n",
    "\n",
    "- `collisions` — общая информация о ДТП, например, где оно произошло и когда\n",
    "  - уникальный `case_id`\n",
    "- `parties` — информация об участниках ДТП\n",
    "    - неуникальный `case_id`, который сопоставляется с соответствующим ДТП в таблице `collisions`\n",
    "    - Каждая строка описывает одну из сторон, участвующих в ДТП\n",
    "    - Если столкнулись две машины, в этой таблице должно быть две строки с совпадением `case_id`\n",
    "    - Если нужен уникальный идентификатор, это `case_id and party_number`\n",
    "- `vehicles` — информация о пострадавших машинах\n",
    "    - Имеет неуникальные `case_id` и неуникальные `party_number`, которые сопоставляются с таблицей `collisions` и таблицей `parties`\n",
    "    - Если нужен уникальный идентификатор, это `case_id and party_number`"
   ]
  },
  {
   "cell_type": "markdown",
   "id": "6ac06498",
   "metadata": {
    "id": "6ac06498"
   },
   "source": [
    "## Подключение библиотек"
   ]
  },
  {
   "cell_type": "code",
   "execution_count": null,
   "id": "a10230f3",
   "metadata": {
    "id": "a10230f3"
   },
   "outputs": [],
   "source": [
    "!pip install -U scikit-learn -q\n",
    "!pip install catboost -q"
   ]
  },
  {
   "cell_type": "code",
   "execution_count": null,
   "id": "da6c429d",
   "metadata": {
    "id": "da6c429d"
   },
   "outputs": [],
   "source": [
    "import math\n",
    "import random\n",
    "import numpy as np\n",
    "import pandas as pd\n",
    "import psycopg2\n",
    "\n",
    "import matplotlib.pyplot as plt\n",
    "import seaborn as sns\n",
    "import plotly.express as px\n",
    "\n",
    "from sqlalchemy import create_engine\n",
    "\n",
    "from sklearn.pipeline import Pipeline\n",
    "from sklearn.preprocessing import StandardScaler, OneHotEncoder\n",
    "from sklearn.model_selection import train_test_split, GridSearchCV\n",
    "\n",
    "from sklearn.linear_model import LogisticRegression\n",
    "from sklearn.ensemble import RandomForestClassifier\n",
    "\n",
    "from sklearn.metrics import confusion_matrix, ConfusionMatrixDisplay, classification_report\n",
    "from sklearn.metrics import precision_recall_curve, PrecisionRecallDisplay\n",
    "\n",
    "# Transform + Pipeline\n",
    "from sklearn.preprocessing import OneHotEncoder, OrdinalEncoder, StandardScaler, LabelEncoder\n",
    "from sklearn.compose import make_column_transformer, make_column_selector\n",
    "from sklearn.pipeline import make_pipeline\n",
    "\n",
    "\n",
    "import lightgbm as lgb\n",
    "\n",
    "from catboost import CatBoostClassifier\n",
    "# Посмотреть выполненный блокнот по ним\n",
    "\n",
    "from IPython.display import display, Markdown\n",
    "\n",
    "import warnings\n",
    "# Отключение предупреждений\n",
    "warnings.filterwarnings('ignore')"
   ]
  },
  {
   "cell_type": "code",
   "execution_count": null,
   "id": "7e4b48bc",
   "metadata": {
    "id": "7e4b48bc"
   },
   "outputs": [],
   "source": [
    "RANDOM_STATE = 12345\n",
    "\n",
    "\n",
    "USER = 'praktikum_student'\n",
    "PWD = 'Sdf4$2;d-d30pp'\n",
    "HOST = 'rc1b-wcoijxj3yxfsf3fs.mdb.yandexcloud.net'\n",
    "PORT = 6432\n",
    "DB = 'data-science-vehicle-db'\n",
    "\n",
    "# Устраняет ошибку numpy при которой маленькие числа не отображаются как нули\n",
    "# Количество знаков после запятой\n",
    "np.set_printoptions(precision=9, suppress=True)\n",
    "\n",
    "# Делаем случайность воспроизводимой\n",
    "random.seed(RANDOM_STATE)\n",
    "np.random.seed(RANDOM_STATE)"
   ]
  },
  {
   "cell_type": "markdown",
   "id": "cadc1782",
   "metadata": {
    "ExecuteTime": {
     "end_time": "2022-05-05T04:58:05.692448Z",
     "start_time": "2022-05-05T04:58:05.688565Z"
    },
    "id": "cadc1782"
   },
   "source": [
    "## Подключитесь к базе. Загрузите таблицы sql"
   ]
  },
  {
   "cell_type": "code",
   "execution_count": null,
   "id": "3d9d2687",
   "metadata": {
    "id": "3d9d2687"
   },
   "outputs": [],
   "source": [
    "connection_string = f'postgresql://{USER}:{PWD}@{HOST}:{PORT}/{DB}'\n",
    "\n",
    "engine = create_engine(connection_string)"
   ]
  },
  {
   "cell_type": "markdown",
   "id": "1d82346a",
   "metadata": {
    "id": "1d82346a"
   },
   "source": [
    "## Проведите первичное исследование таблиц"
   ]
  },
  {
   "cell_type": "code",
   "execution_count": null,
   "id": "8fdc40db",
   "metadata": {
    "colab": {
     "base_uri": "https://localhost:8080/",
     "height": 175
    },
    "id": "8fdc40db",
    "outputId": "a30d11f3-7d65-40d2-85b9-0935d868b3b0"
   },
   "outputs": [],
   "source": [
    "pd.read_sql_query('''\n",
    "SELECT table_name\n",
    "FROM information_schema.tables\n",
    "WHERE table_schema NOT IN ('information_schema', 'pg_catalog')\n",
    "''', con=engine)"
   ]
  },
  {
   "cell_type": "markdown",
   "id": "7a851c57",
   "metadata": {
    "id": "7a851c57"
   },
   "source": [
    "Все таблицы из условия задачи присутствуют"
   ]
  },
  {
   "cell_type": "code",
   "execution_count": null,
   "id": "c6ecc14a",
   "metadata": {
    "colab": {
     "base_uri": "https://localhost:8080/",
     "height": 1000
    },
    "id": "c6ecc14a",
    "outputId": "300b7e4a-0656-4252-a057-7f31a8ac565e",
    "scrolled": true
   },
   "outputs": [],
   "source": [
    "pd.read_sql_query('''\n",
    "SELECT\n",
    "    table_name,\n",
    "    column_name,\n",
    "    data_type\n",
    "FROM information_schema.columns\n",
    "WHERE table_name IN ('case_ids', 'collisions', 'parties', 'vehicles');\n",
    "''', con=engine)"
   ]
  },
  {
   "cell_type": "markdown",
   "id": "245adb2e",
   "metadata": {
    "id": "245adb2e"
   },
   "source": [
    "Все колонки так же присутствуют. Таблицы можно связать по `case_id`"
   ]
  },
  {
   "cell_type": "markdown",
   "id": "abe09b36",
   "metadata": {
    "id": "abe09b36"
   },
   "source": [
    "##  Проведите статистический анализ факторов ДТП"
   ]
  },
  {
   "cell_type": "markdown",
   "id": "850c1298",
   "metadata": {
    "id": "850c1298"
   },
   "source": [
    "### Зависимость количества аварий от месяца"
   ]
  },
  {
   "cell_type": "code",
   "execution_count": null,
   "id": "d53c83d9",
   "metadata": {
    "colab": {
     "base_uri": "https://localhost:8080/",
     "height": 784
    },
    "id": "d53c83d9",
    "outputId": "84a696f3-8556-476f-be3a-d0857ebaf888",
    "scrolled": true
   },
   "outputs": [],
   "source": [
    "car_accidents_per_month = pd.read_sql_query('''\n",
    "SELECT\n",
    "    COUNT(case_id) AS count,\n",
    "    DATE_TRUNC('month', collision_date)::DATE AS month\n",
    "FROM collisions\n",
    "GROUP BY DATE_TRUNC('month', collision_date)\n",
    "ORDER BY DATE_TRUNC('month', collision_date);\n",
    "''', con=engine)\n",
    "\n",
    "car_accidents_per_month.plot(kind='bar', x='month', title='Зависимость количества аварий от месяца', figsize=(16, 8));"
   ]
  },
  {
   "cell_type": "code",
   "execution_count": null,
   "id": "8d955a74",
   "metadata": {
    "colab": {
     "base_uri": "https://localhost:8080/",
     "height": 735
    },
    "id": "8d955a74",
    "outputId": "911151eb-ff69-4b93-b1f7-f89ecff1cffd",
    "scrolled": true
   },
   "outputs": [],
   "source": [
    "car_accidents_group_month = pd.read_sql_query('''\n",
    "SELECT\n",
    "    COUNT(case_id) AS count,\n",
    "    EXTRACT(MONTH FROM collision_date) AS month\n",
    "FROM collisions\n",
    "WHERE EXTRACT(YEAR FROM collision_date) != 2012\n",
    "GROUP BY EXTRACT(MONTH FROM collision_date)\n",
    "''', con=engine)\n",
    "\n",
    "car_accidents_group_month.plot(kind='bar', x='month', title='Количество аварий по месяцам в сумме по всем годам',\n",
    "                               figsize=(16, 8));"
   ]
  },
  {
   "cell_type": "markdown",
   "id": "7ee5d61a",
   "metadata": {
    "id": "7ee5d61a"
   },
   "source": [
    "**Вывод к разделу:**\n",
    "- Основная часть данных есть с 2009.01.01 по 2012.06.01, а после этого периода их почти нет\n",
    "- Больше всего аварий было в Октябре (начало заморозков)\n",
    "- Меньше всего аварий было в Феврале"
   ]
  },
  {
   "cell_type": "markdown",
   "id": "5640c560",
   "metadata": {
    "id": "5640c560"
   },
   "source": [
    "### Составить и поручить аналитические задачи коллегам"
   ]
  },
  {
   "cell_type": "markdown",
   "id": "831356be",
   "metadata": {
    "id": "831356be"
   },
   "source": [
    "- Выполнить задачи:\n",
    "    - Проанализируйте как состояние и трезвость участника влияет на его виновность (collisions, parties)\n",
    "    - Проанализируйте как тип участника влияет на серьёзность проишествия (collisions, parties)\n",
    "    - Проанализируйте как тип КПП влияет на виновность участника (parties, vehicles)\n",
    "    - Проанализируйте как возраст автомобиля влияет на серьёзность проишествия (parties, vehicles)\n",
    "    - Проанализируйте как сумма страховки влияет на категорию нарушения и серьёзность проишествия  (collisions, parties)\n",
    "    - Проанализируйте как расстояние от главной дороги и серьёзность проишествия влияет на виновность участника (collisions, parties)\n",
    "\n",
    "\n",
    "- По шаблону:\n",
    "    - Получить данные\n",
    "    - Сделать предобработку\n",
    "    - Построить графики\n",
    "    - Найти закономерности\n",
    "    - Сделать выводы"
   ]
  },
  {
   "cell_type": "markdown",
   "id": "20b3d831",
   "metadata": {
    "id": "20b3d831"
   },
   "source": [
    "### Зависимость состояния и трезвости участника на его виновность"
   ]
  },
  {
   "cell_type": "markdown",
   "id": "b8e72271",
   "metadata": {
    "id": "b8e72271"
   },
   "source": [
    "- Получите данные из таблиц `parties` и `collisions` SQL-запросом"
   ]
  },
  {
   "cell_type": "code",
   "execution_count": null,
   "id": "70769289",
   "metadata": {
    "colab": {
     "base_uri": "https://localhost:8080/",
     "height": 690
    },
    "id": "70769289",
    "outputId": "b8741f3e-1501-4562-9a74-fb6383e78786",
    "scrolled": true
   },
   "outputs": [],
   "source": [
    "query = '''\n",
    "SELECT *\n",
    "FROM parties AS p\n",
    "FULL JOIN collisions AS c ON c.case_id = p.case_id\n",
    "WHERE\n",
    "    p.party_type = 'car' AND\n",
    "    c.collision_damage != 'scratch' AND\n",
    "    EXTRACT(YEAR FROM c.collision_date) = 2012\n",
    "'''\n",
    "\n",
    "df = pd.read_sql_query(query, con=engine)\n",
    "df.sample(10, random_state=RANDOM_STATE)"
   ]
  },
  {
   "cell_type": "markdown",
   "id": "5bec3f63",
   "metadata": {
    "id": "5bec3f63"
   },
   "source": [
    "- Постройте график зависимости состояния и трезвости участника от его виновностьи"
   ]
  },
  {
   "cell_type": "code",
   "execution_count": null,
   "id": "d2ad0846",
   "metadata": {
    "colab": {
     "base_uri": "https://localhost:8080/",
     "height": 542
    },
    "id": "d2ad0846",
    "outputId": "e8c9d610-ae91-48cb-fab1-420fc28028c6",
    "scrolled": true
   },
   "outputs": [],
   "source": [
    "fig = px.histogram(\n",
    "    df, x=['party_sobriety', 'party_drug_physical'], color='at_fault',\n",
    "    barmode='group',\n",
    "    title='Зависимость состояния и трезвости участника на его виновность',\n",
    "    histfunc='count'\n",
    ")\n",
    "fig.show()"
   ]
  },
  {
   "cell_type": "markdown",
   "id": "86ffe998",
   "metadata": {
    "id": "86ffe998"
   },
   "source": [
    "- Найти закономерности"
   ]
  },
  {
   "cell_type": "code",
   "execution_count": null,
   "id": "d16d1a38",
   "metadata": {
    "colab": {
     "base_uri": "https://localhost:8080/",
     "height": 739
    },
    "id": "d16d1a38",
    "outputId": "3e493557-9900-4b41-d225-0eac6f1c1b7e",
    "scrolled": true
   },
   "outputs": [],
   "source": [
    "ca = df.groupby(['party_sobriety', 'party_drug_physical', 'at_fault']).count()['id']\n",
    "\n",
    "# Удаляем multiindex-строки которые не влияют на анализ\n",
    "ca = ca.drop(('impairment unknown', 'G'), axis=0)\n",
    "ca = ca.drop(('not applicable'), axis=0)\n",
    "ca.to_frame()"
   ]
  },
  {
   "cell_type": "code",
   "execution_count": null,
   "id": "54e95a2d",
   "metadata": {
    "colab": {
     "base_uri": "https://localhost:8080/",
     "height": 794
    },
    "id": "54e95a2d",
    "outputId": "99ae4499-446c-4c7b-8333-36fa70e0deee",
    "scrolled": true
   },
   "outputs": [],
   "source": [
    "ca.plot(kind='barh', figsize=(16, 12));"
   ]
  },
  {
   "cell_type": "markdown",
   "id": "f53dd32d",
   "metadata": {
    "id": "f53dd32d"
   },
   "source": [
    "- Сделать выводы"
   ]
  },
  {
   "cell_type": "markdown",
   "id": "919d8e8c",
   "metadata": {
    "id": "919d8e8c"
   },
   "source": [
    "**Вывод к разделу:**\n",
    "\n",
    "В целом из графиков видно что при определённых \"негативных\" состояниях `Had Been Drinking, Under Influence (Был пьян, под влиянием)`, `Had Been Drinking, Not Under Influence (Был пьян, не под влиянием)`, `Had Been Drinking, Impairment Unknown (Был пьян, ухудшение неизвестно)`, `Under Drug Influence (Под воздействием лекарств)`, `Sleepy/Fatigued (Сонный/Усталый)` больше виновных участников чем невиновных в ДТП"
   ]
  },
  {
   "cell_type": "markdown",
   "id": "af09b773",
   "metadata": {
    "id": "af09b773"
   },
   "source": [
    "### Зависимость виновности участника от типа КПП"
   ]
  },
  {
   "cell_type": "markdown",
   "id": "ba2aab31",
   "metadata": {
    "id": "ba2aab31"
   },
   "source": [
    "- Получите данные из таблиц `parties` и `collisions` SQL-запросом"
   ]
  },
  {
   "cell_type": "code",
   "execution_count": null,
   "id": "037d7caa",
   "metadata": {
    "colab": {
     "base_uri": "https://localhost:8080/",
     "height": 206
    },
    "id": "037d7caa",
    "outputId": "d3ef12a9-f35d-45a3-d30a-fabcbea76e4b"
   },
   "outputs": [],
   "source": [
    "query = '''\n",
    "SELECT\n",
    "    p.case_id || p.party_number AS id,\n",
    "    v.vehicle_transmission,\n",
    "    p.at_fault\n",
    "FROM parties AS p\n",
    "FULL JOIN vehicles AS v ON v.case_id = p.case_id AND v.party_number = p.party_number\n",
    "'''\n",
    "\n",
    "df = pd.read_sql_query(query, con=engine)\n",
    "df.head(5)"
   ]
  },
  {
   "cell_type": "markdown",
   "id": "18d42273",
   "metadata": {
    "id": "18d42273"
   },
   "source": [
    "- Постройте график зависимости виновности участника от типа КПП"
   ]
  },
  {
   "cell_type": "code",
   "execution_count": null,
   "id": "5df98413",
   "metadata": {
    "colab": {
     "base_uri": "https://localhost:8080/",
     "height": 542
    },
    "id": "5df98413",
    "outputId": "81524950-28d3-40b5-d9d8-9497a6a12f28",
    "scrolled": true
   },
   "outputs": [],
   "source": [
    "fig = px.histogram(\n",
    "    df, x='vehicle_transmission', color='at_fault',\n",
    "    barmode='group',\n",
    "    title='Зависимость виновности участника от типа КПП',\n",
    "    histfunc='count'\n",
    ")\n",
    "fig.show()"
   ]
  },
  {
   "cell_type": "markdown",
   "id": "f5c4a8fc",
   "metadata": {
    "id": "f5c4a8fc"
   },
   "source": [
    "- Найти закономерности\n",
    "- Сделать выводы"
   ]
  },
  {
   "cell_type": "markdown",
   "id": "c1d7ff24",
   "metadata": {
    "id": "c1d7ff24"
   },
   "source": [
    "**Вывод к разделу:**\n",
    "\n",
    "По графику видно что разница между виновными и невиновными больше у автоматической коробки по сравнению с механической, так же по абсолютным уровням невиновынх больше с автоматической и виновных уже меньше у автмоматической, что означает что с КПП меньше вероятность быть виновным"
   ]
  },
  {
   "cell_type": "markdown",
   "id": "b2473f03",
   "metadata": {
    "id": "b2473f03"
   },
   "source": [
    "## Получение данных"
   ]
  },
  {
   "cell_type": "code",
   "execution_count": null,
   "id": "ba03576d",
   "metadata": {
    "colab": {
     "base_uri": "https://localhost:8080/",
     "height": 330
    },
    "id": "ba03576d",
    "outputId": "e1f4ac55-6dd2-47be-c14a-008463a4ea73",
    "scrolled": true
   },
   "outputs": [],
   "source": [
    "# Объеденить все таблицы по case_id\n",
    "# Взять по collision_date только 2012 год\n",
    "# collision_damage не должен быть scratch\n",
    "# case_id должен быть таким что в нём участвовала\n",
    "# машина которая оказалась виновата в ДТП\n",
    "query = '''\n",
    "SELECT\n",
    "    p.cellphone_in_use,\n",
    "    v.vehicle_type,\n",
    "    v.vehicle_transmission,\n",
    "    c.county_location,\n",
    "    c.direction,\n",
    "    c.intersection,\n",
    "    c.weather_1,\n",
    "    c.location_type,\n",
    "    c.road_surface,\n",
    "    c.road_condition_1,\n",
    "    c.lighting,\n",
    "    c.control_device,\n",
    "    p.insurance_premium,\n",
    "    v.vehicle_age,\n",
    "    c.distance,\n",
    "    c.party_count,\n",
    "    p.at_fault\n",
    "FROM parties AS p\n",
    "INNER JOIN vehicles AS v ON v.case_id = p.case_id AND v.party_number = p.party_number\n",
    "INNER JOIN collisions AS c ON c.case_id = p.case_id\n",
    "WHERE\n",
    "    p.party_type = 'car' AND\n",
    "    c.collision_damage != 'scratch' AND\n",
    "    EXTRACT(YEAR FROM c.collision_date) = 2012\n",
    "'''\n",
    "\n",
    "cdf = pd.read_sql_query(query, con=engine)\n",
    "\n",
    "cdf.head()"
   ]
  },
  {
   "cell_type": "markdown",
   "id": "c76a6a1f",
   "metadata": {
    "id": "c76a6a1f"
   },
   "source": [
    "## Изучение данных"
   ]
  },
  {
   "cell_type": "code",
   "execution_count": null,
   "id": "3d57623a",
   "metadata": {
    "colab": {
     "base_uri": "https://localhost:8080/"
    },
    "id": "3d57623a",
    "outputId": "85533c1f-489b-47f9-ed7d-dfecbc2d4b02",
    "scrolled": true
   },
   "outputs": [],
   "source": [
    "cdf.info()"
   ]
  },
  {
   "cell_type": "code",
   "execution_count": null,
   "id": "9ce2e2e0",
   "metadata": {
    "colab": {
     "base_uri": "https://localhost:8080/",
     "height": 269
    },
    "id": "9ce2e2e0",
    "outputId": "f5f68a57-6f54-4d05-c0b8-ceee90b0e21a",
    "scrolled": true
   },
   "outputs": [],
   "source": [
    "cdf.describe().T"
   ]
  },
  {
   "cell_type": "markdown",
   "id": "833a3f1f",
   "metadata": {
    "id": "833a3f1f"
   },
   "source": [
    "## Предобработка данных"
   ]
  },
  {
   "cell_type": "markdown",
   "id": "1a52664d",
   "metadata": {
    "id": "1a52664d"
   },
   "source": [
    "Переименуем столбцы"
   ]
  },
  {
   "cell_type": "code",
   "execution_count": null,
   "id": "4dcada07",
   "metadata": {
    "id": "4dcada07"
   },
   "outputs": [],
   "source": [
    "cdf.rename(columns={'weather_1':'weather', 'road_condition_1':'road_condition'}, inplace=True)"
   ]
  },
  {
   "cell_type": "markdown",
   "id": "c4de0302",
   "metadata": {
    "id": "c4de0302"
   },
   "source": [
    "Обозначим столбцы с категориальными и численными данными"
   ]
  },
  {
   "cell_type": "code",
   "execution_count": null,
   "id": "7b25a377",
   "metadata": {
    "id": "7b25a377"
   },
   "outputs": [],
   "source": [
    "categorial = [\n",
    "    'cellphone_in_use', 'vehicle_type', 'vehicle_transmission', 'county_location',\n",
    "    'direction', 'weather', 'location_type', 'intersection',\n",
    "    'road_surface','road_condition', 'lighting', 'control_device'\n",
    "]\n",
    "\n",
    "numeric = [\n",
    "    'insurance_premium', 'vehicle_age',\n",
    "    'distance', 'party_count'\n",
    "]"
   ]
  },
  {
   "cell_type": "markdown",
   "id": "db19ce45",
   "metadata": {
    "id": "db19ce45"
   },
   "source": [
    "- Категориальные\n",
    "    - `party_sobriety` — трезовость участника\n",
    "    - `party_drug_physical` — физическое состояние участника\n",
    "    - `cellphone_in_use` — наличие телефона в автомобиле\n",
    "    - `vehicle_type` — тип кузова ТС\n",
    "    - `vehicle_transmission` — тип КПП ТС\n",
    "    - `county_location` — название географического района, где произошло ДТП\n",
    "    - `direction` — направление движения\n",
    "    - `intersection` — место ДТП является перекрёстком\n",
    "    - `weather` — погода\n",
    "    - `location_type` — тип дороги\n",
    "    - `collision_damage` — серьёзность происшествия\n",
    "    - `primary_collision_factor` — основной фактор аварии\n",
    "    - `pcf_violation_category` — категория нарушения\n",
    "    - `type_of_collision` — тип аварии\n",
    "    - `motor_vehicle_involved_with` — дополнительные участники ДТП\n",
    "    - `road_surface` — состояние дороги\n",
    "    - `road_condition` — дорожное состояние\n",
    "    - `lighting` — освещение\n",
    "    - `control_device` — устройство контроля (камера)\n",
    "\n",
    "\n",
    "- Численные\n",
    "    - `insurance_premium` — сумма страховки (тыс. $)\n",
    "    - `vehicle_age` — возраст ТС (годы)\n",
    "    - `distance` — расстояние от главной дороги (метры)\n",
    "    - `party_count` — количество участников\n",
    "\n",
    "\n",
    "- Целевой признак (категориальный)\n",
    "    - `at_fault` — является виновником ДТП"
   ]
  },
  {
   "cell_type": "code",
   "execution_count": null,
   "id": "b12ea138",
   "metadata": {
    "id": "b12ea138"
   },
   "outputs": [],
   "source": [
    "def check_data_problems(df, categorial, numeric):\n",
    "    nans = df.isna().sum().to_frame()\n",
    "    nans.columns = ['пропуски']\n",
    "    nans['пропуски %'] = df.isna().sum() / df.shape[0]\n",
    "    print('Всего наблюдений:', df.shape[0])\n",
    "    print('Если удалить 10%:', int(df.shape[0]*0.9))\n",
    "\n",
    "    qu = pd.Series(0, index=nans.index, name='значений > 0.99 квантиля')\n",
    "    for column in numeric:\n",
    "        qu[column] = (df[column] > df[column].quantile(0.99)).value_counts()[True]\n",
    "\n",
    "    cat = pd.Series(0, index=nans.index, name='уникальных значений')\n",
    "    for column in categorial:\n",
    "        cat[column] = len(df[column].unique())\n",
    "        display(Markdown(f'Уникальные значения `{column}` ' + str(df[column].unique())))\n",
    "\n",
    "    # Можно ещё смотреть соотношения классов\n",
    "    # и смотреть есть ли пропуски которые затрагивают малочисленные классы\n",
    "\n",
    "    display(pd.concat([nans, qu, cat], axis=1).style.format({'пропуски %': '{:.0%}', 'значений > 0.99 квантиля': '{:.0f}'}))"
   ]
  },
  {
   "cell_type": "code",
   "execution_count": null,
   "id": "b243efe7",
   "metadata": {
    "colab": {
     "base_uri": "https://localhost:8080/",
     "height": 955
    },
    "id": "b243efe7",
    "outputId": "fbc63c39-027e-428d-894c-405f99cafc78",
    "scrolled": true
   },
   "outputs": [],
   "source": [
    "check_data_problems(cdf, categorial, numeric)"
   ]
  },
  {
   "cell_type": "markdown",
   "id": "21d1df00",
   "metadata": {
    "id": "21d1df00"
   },
   "source": [
    "Устраняем проблемы в данных:\n",
    "- `insurance_premium`, `vehicle_age`, `distance`, `party_count` пропуски заполним медианой, проверим выбивающиеся значения на графике, удалим если отклонение большое\n",
    "- `party_sobriety` пропущенные значения заменим уже существующей категорией для неизвестного значения `impairment unknown`\n",
    "- `party_drug_physical` есть категория `G` которая является `impairment unknown` так и переименуем эти значения, и так же пропуски\n",
    "- `cellphone_in_use`, `vehicle_type`, `vehicle_transmission`, `direction`, `location_type`, `primary_collision_factor`, `pcf_violation_category` пропуски заполним отдельной категорией `unknown`\n",
    "- `intersection`, `weather`, `type_of_collision`, `motor_vehicle_involved_with`, `road_surface`, `road_condition`, `lighting`, `control_device` пропусков менее 10% от всех данных, можно удалить"
   ]
  },
  {
   "cell_type": "code",
   "execution_count": null,
   "id": "47131351",
   "metadata": {
    "colab": {
     "base_uri": "https://localhost:8080/",
     "height": 984
    },
    "id": "47131351",
    "outputId": "4262de72-7482-48f2-dce1-9bd1c75e29fa",
    "scrolled": true
   },
   "outputs": [],
   "source": [
    "cdf.insurance_premium.plot(kind='box', ylabel='сумма страховки (тыс. $)', figsize=(16, 12));"
   ]
  },
  {
   "cell_type": "code",
   "execution_count": null,
   "id": "1ee32810",
   "metadata": {
    "colab": {
     "base_uri": "https://localhost:8080/",
     "height": 984
    },
    "id": "1ee32810",
    "outputId": "6849ba4b-8778-41bf-894e-8c4d03d7ba0d",
    "scrolled": true
   },
   "outputs": [],
   "source": [
    "cdf.vehicle_age.plot(kind='box', ylabel='возраст ТС (годы)', figsize=(16, 12));"
   ]
  },
  {
   "cell_type": "code",
   "execution_count": null,
   "id": "e8577178",
   "metadata": {
    "colab": {
     "base_uri": "https://localhost:8080/",
     "height": 999
    },
    "id": "e8577178",
    "outputId": "5ff0d1ab-92a2-43d6-e73d-4a5136a9840f",
    "scrolled": true
   },
   "outputs": [],
   "source": [
    "cdf.distance.plot(kind='box', ylabel='расстояние от главной дороги (метры)', figsize=(16, 12));"
   ]
  },
  {
   "cell_type": "code",
   "execution_count": null,
   "id": "a3bdf423",
   "metadata": {
    "colab": {
     "base_uri": "https://localhost:8080/",
     "height": 984
    },
    "id": "a3bdf423",
    "outputId": "7cb8a348-b3c6-47aa-c883-eff52d8b5236",
    "scrolled": true
   },
   "outputs": [],
   "source": [
    "cdf.party_count.plot(kind='box', ylabel='количество участников', figsize=(16, 12));"
   ]
  },
  {
   "cell_type": "markdown",
   "id": "0969b9c6",
   "metadata": {
    "id": "0969b9c6"
   },
   "source": [
    "## Анализ данных"
   ]
  },
  {
   "cell_type": "code",
   "execution_count": null,
   "id": "fc8123ad",
   "metadata": {
    "colab": {
     "base_uri": "https://localhost:8080/",
     "height": 1000
    },
    "id": "fc8123ad",
    "outputId": "43b9d8aa-324e-489e-d690-ef49046425e4"
   },
   "outputs": [],
   "source": [
    "for category in categorial:\n",
    "    cdf[category].value_counts().plot.bar().set_title(category)\n",
    "    plt.ylabel('Количество')\n",
    "    plt.show()"
   ]
  },
  {
   "cell_type": "markdown",
   "id": "cf5313cc",
   "metadata": {
    "id": "cf5313cc"
   },
   "source": [
    "**Вывод к разделу:**\n",
    "- Чем меньше количество участников тем больше дистанция\n",
    "- 90% участников ДТП не пили\n",
    "- 90% не использовали телефон\n",
    "- Чуть меньше половины данных из Лос-Анджелес\n",
    "- 20% ДТП случается на перекрёстке\n",
    "- 80% случаев похода ясная\n",
    "- 90% случев повреждения маленький урон\n",
    "- 95% причина ДТП это нарушение ПДД\n",
    "- Больше всего ДТП случается с 2 участниками\n",
    "- Топ 5 нарушений ПДД:\n",
    "    - Speeding (Скорость)\n",
    "    - Improper Turning (Неправильный поворот)\n",
    "    - Automobile Right of Way (Автомобильное право проезда)\n",
    "    - Unsafe Lane Change (Небезопасная смена полосы движения)\n",
    "    - Pedestrian dui (Нарушение пешехода)\n",
    "- Самый частый тип аварии, Rear End (Столкновение задней частью)\n",
    "- 70% дополнительных участников ДТП, другой автомобиль\n",
    "- 90% случаев дорога сухая\n",
    "- 95% случаев дорога в нормальном состоянии\n",
    "- 70% случаев происходит при дневном освещении\n",
    "- 65% случаев нет устройства контроля, а тех у кого есть в 2 раза меншье"
   ]
  },
  {
   "cell_type": "markdown",
   "id": "9cd9e8c8",
   "metadata": {
    "id": "9cd9e8c8"
   },
   "source": [
    "## Предобработка признаков"
   ]
  },
  {
   "cell_type": "code",
   "execution_count": null,
   "id": "84f9537a",
   "metadata": {
    "id": "84f9537a"
   },
   "outputs": [],
   "source": [
    "cdf.cellphone_in_use = cdf.cellphone_in_use.fillna('unknown')\n",
    "cdf.vehicle_type = cdf.vehicle_type.fillna('unknown')\n",
    "cdf.vehicle_transmission = cdf.vehicle_transmission.fillna('unknown')\n",
    "cdf.direction = cdf.direction.fillna('unknown')\n",
    "cdf.location_type = cdf.location_type.fillna('unknown')"
   ]
  },
  {
   "cell_type": "code",
   "execution_count": null,
   "id": "f10ad475",
   "metadata": {
    "id": "f10ad475"
   },
   "outputs": [],
   "source": [
    "cdf = cdf.dropna(subset=[\n",
    "    'intersection', 'weather','road_surface', 'road_condition', 'lighting', 'control_device'\n",
    "])"
   ]
  },
  {
   "cell_type": "code",
   "execution_count": null,
   "id": "537bba74",
   "metadata": {
    "id": "537bba74"
   },
   "outputs": [],
   "source": [
    "#Убираем смешение типов в cellphone_in_use и intersection\n",
    "cdf.cellphone_in_use = cdf.cellphone_in_use.replace(0, 'no')\n",
    "cdf.cellphone_in_use = cdf.cellphone_in_use.replace(1, 'yes')\n",
    "cdf.intersection = cdf.intersection.replace(0, 'no')\n",
    "cdf.intersection = cdf.intersection.replace(1, 'yes')"
   ]
  },
  {
   "cell_type": "code",
   "execution_count": null,
   "id": "b6650f73",
   "metadata": {
    "id": "b6650f73"
   },
   "outputs": [],
   "source": [
    "X = cdf.drop('at_fault', axis=1)\n",
    "y = cdf.at_fault\n",
    "\n",
    "X_train, X_test, y_train, y_test = train_test_split(X, y, test_size=0.20, random_state=RANDOM_STATE)"
   ]
  },
  {
   "cell_type": "code",
   "execution_count": null,
   "id": "b3dae8da",
   "metadata": {
    "colab": {
     "base_uri": "https://localhost:8080/",
     "height": 467
    },
    "id": "b3dae8da",
    "outputId": "632f6c2b-4bf8-4781-eccb-ea26ec9995a0",
    "scrolled": true
   },
   "outputs": [],
   "source": [
    "y_train.value_counts().plot.bar().set_title('Баланс классов at_fault');"
   ]
  },
  {
   "cell_type": "markdown",
   "id": "8e9cebef",
   "metadata": {
    "id": "8e9cebef"
   },
   "source": [
    "Обработаем тренировочные данные"
   ]
  },
  {
   "cell_type": "code",
   "execution_count": null,
   "id": "67e45588",
   "metadata": {
    "colab": {
     "base_uri": "https://localhost:8080/",
     "height": 452
    },
    "id": "67e45588",
    "outputId": "ba20b006-e8f5-424e-ed70-ea008cc11db2",
    "scrolled": true
   },
   "outputs": [],
   "source": [
    "#Для обработки тренировочных данных объеденим X_train и y_train\n",
    "merged_train = pd.merge(X_train, y_train, left_index=True, right_index=True)\n",
    "merged_train.head(10)"
   ]
  },
  {
   "cell_type": "code",
   "execution_count": null,
   "id": "2aff1969",
   "metadata": {
    "colab": {
     "base_uri": "https://localhost:8080/",
     "height": 955
    },
    "id": "2aff1969",
    "outputId": "91d4eef4-c8ac-4b88-fa6a-88929a6694b1",
    "scrolled": true
   },
   "outputs": [],
   "source": [
    "check_data_problems(merged_train, categorial, numeric)"
   ]
  },
  {
   "cell_type": "markdown",
   "id": "a79273db",
   "metadata": {
    "id": "a79273db"
   },
   "source": [
    "Устраняем проблемы в данных:\n",
    "- `insurance_premium`, `vehicle_age`, `distance`, `party_count` пропуски заполним медианой, проверим выбивающиеся значения на графике, удалим если отклонение большое\n",
    "- `cellphone_in_use`, `vehicle_type`, `vehicle_transmission`, `direction`, `location_type`, `primary_collision_factor`, `pcf_violation_category`, `party_drug_physical`, `party_sobriety` пропуски заполним отдельной категорией `unknown`\n",
    "- `intersection`, `weather`, `type_of_collision`, `motor_vehicle_involved_with`, `road_surface`, `road_condition`, `lighting`, `control_device` пропусков менее 10% от всех данных, можно удалить"
   ]
  },
  {
   "cell_type": "code",
   "execution_count": null,
   "id": "2fdcfba9",
   "metadata": {
    "id": "2fdcfba9"
   },
   "outputs": [],
   "source": [
    "med_ins_prem = merged_train.insurance_premium.median()\n",
    "med_vech_age = merged_train.vehicle_age.median()\n",
    "merged_train.insurance_premium = merged_train.insurance_premium.fillna(merged_train.insurance_premium.median())\n",
    "merged_train.vehicle_age = merged_train.vehicle_age.fillna(merged_train.vehicle_age.median())\n",
    "X_test.insurance_premium = X_test.insurance_premium.fillna(med_ins_prem)\n",
    "X_test.vehicle_age = X_test.vehicle_age.fillna(med_vech_age)"
   ]
  },
  {
   "cell_type": "code",
   "execution_count": null,
   "id": "861eaa69",
   "metadata": {
    "colab": {
     "base_uri": "https://localhost:8080/",
     "height": 984
    },
    "id": "861eaa69",
    "outputId": "419676fb-696f-4f84-a232-7a11711950f4",
    "scrolled": true
   },
   "outputs": [],
   "source": [
    "merged_train.insurance_premium.plot(kind='box', ylabel='сумма страховки (тыс. $)', figsize=(16, 12));"
   ]
  },
  {
   "cell_type": "code",
   "execution_count": null,
   "id": "347b7e08",
   "metadata": {
    "colab": {
     "base_uri": "https://localhost:8080/",
     "height": 984
    },
    "id": "347b7e08",
    "outputId": "d14ca1f9-8fc5-46c4-b865-6b07636b3b24",
    "scrolled": true
   },
   "outputs": [],
   "source": [
    "merged_train.vehicle_age.plot(kind='box', ylabel='возраст ТС (годы)', figsize=(16, 12));"
   ]
  },
  {
   "cell_type": "code",
   "execution_count": null,
   "id": "982d2293",
   "metadata": {
    "colab": {
     "base_uri": "https://localhost:8080/",
     "height": 999
    },
    "id": "982d2293",
    "outputId": "2db150aa-7ff0-469f-c60b-00b4ae487928",
    "scrolled": true
   },
   "outputs": [],
   "source": [
    "merged_train.distance.plot(kind='box', ylabel='расстояние от главной дороги (метры)', figsize=(16, 12));"
   ]
  },
  {
   "cell_type": "code",
   "execution_count": null,
   "id": "5ae0b0ed",
   "metadata": {
    "colab": {
     "base_uri": "https://localhost:8080/",
     "height": 984
    },
    "id": "5ae0b0ed",
    "outputId": "f8553f32-b439-4485-911e-91023dbe484b",
    "scrolled": true
   },
   "outputs": [],
   "source": [
    "merged_train.party_count.plot(kind='box', ylabel='количество участников', figsize=(16, 12));"
   ]
  },
  {
   "cell_type": "markdown",
   "id": "ca29b855",
   "metadata": {
    "id": "ca29b855"
   },
   "source": [
    "Удаляем для `insurance_premium`, `vehicle_age` и `distance` значеня меньше 0.99 квантиля"
   ]
  },
  {
   "cell_type": "code",
   "execution_count": null,
   "id": "2318e8ec",
   "metadata": {
    "id": "2318e8ec"
   },
   "outputs": [],
   "source": [
    "merged_train.drop(index=merged_train[merged_train.distance > merged_train.distance.quantile(0.99)].index, inplace=True)\n",
    "merged_train.drop(index=merged_train[merged_train.vehicle_age > merged_train.vehicle_age.quantile(0.99)].index, inplace=True)\n",
    "merged_train.drop(index=merged_train[merged_train.insurance_premium >\n",
    "                                     merged_train.insurance_premium.quantile(0.99)].index, inplace=True)"
   ]
  },
  {
   "cell_type": "code",
   "execution_count": null,
   "id": "37401718",
   "metadata": {
    "colab": {
     "base_uri": "https://localhost:8080/",
     "height": 955
    },
    "id": "37401718",
    "outputId": "cb509006-59a9-4174-918c-34d8e904d42c",
    "scrolled": true
   },
   "outputs": [],
   "source": [
    "check_data_problems(merged_train, categorial, numeric)"
   ]
  },
  {
   "cell_type": "markdown",
   "id": "f9dfcad5",
   "metadata": {
    "id": "f9dfcad5"
   },
   "source": [
    "Удалим дубликаты"
   ]
  },
  {
   "cell_type": "code",
   "execution_count": null,
   "id": "c05036c8",
   "metadata": {
    "id": "c05036c8"
   },
   "outputs": [],
   "source": [
    "merged_train.drop_duplicates(ignore_index=True, inplace=True)"
   ]
  },
  {
   "cell_type": "markdown",
   "id": "dc284294",
   "metadata": {
    "id": "dc284294"
   },
   "source": [
    "Преобразуем типы для гарантии соответствия содержащимся значениям"
   ]
  },
  {
   "cell_type": "code",
   "execution_count": null,
   "id": "7a0008cc",
   "metadata": {
    "id": "7a0008cc"
   },
   "outputs": [],
   "source": [
    "merged_train = merged_train.astype({\n",
    "    **{_:'int' for _ in numeric},\n",
    "    **{_:'category' for _ in categorial}\n",
    "})"
   ]
  },
  {
   "cell_type": "code",
   "execution_count": null,
   "id": "6c2a959c",
   "metadata": {
    "colab": {
     "base_uri": "https://localhost:8080/",
     "height": 417
    },
    "id": "6c2a959c",
    "outputId": "1223f646-08f2-44b5-c4fb-6ef782210a15",
    "scrolled": true
   },
   "outputs": [],
   "source": [
    "merged_train.sample(10, random_state=RANDOM_STATE)"
   ]
  },
  {
   "cell_type": "code",
   "execution_count": null,
   "id": "f22ee693",
   "metadata": {
    "colab": {
     "base_uri": "https://localhost:8080/"
    },
    "id": "f22ee693",
    "outputId": "9493a90d-1d78-4994-953e-23fd1a43886b",
    "scrolled": true
   },
   "outputs": [],
   "source": [
    "merged_train.info()"
   ]
  },
  {
   "cell_type": "code",
   "execution_count": null,
   "id": "fd2657e1",
   "metadata": {
    "id": "fd2657e1"
   },
   "outputs": [],
   "source": [
    "X_train = merged_train.drop('at_fault', axis=1)\n",
    "y_train = merged_train.at_fault"
   ]
  },
  {
   "cell_type": "markdown",
   "id": "4f9e7d98",
   "metadata": {
    "id": "4f9e7d98"
   },
   "source": [
    "Трансформер данных для линейных моделей"
   ]
  },
  {
   "cell_type": "code",
   "execution_count": null,
   "id": "300eea11",
   "metadata": {
    "id": "300eea11"
   },
   "outputs": [],
   "source": [
    "linear_transformer = make_column_transformer(\n",
    "    (\n",
    "        OneHotEncoder(drop='first', handle_unknown='ignore', sparse_output=False),\n",
    "        make_column_selector(dtype_include=['category', 'object'])\n",
    "    ),\n",
    "    (\n",
    "        StandardScaler(),\n",
    "        make_column_selector(dtype_include='number')\n",
    "    ),\n",
    "    remainder='passthrough'\n",
    ")"
   ]
  },
  {
   "cell_type": "markdown",
   "id": "67c30a54",
   "metadata": {
    "id": "67c30a54"
   },
   "source": [
    "Трансформер данных для древесных моделей"
   ]
  },
  {
   "cell_type": "code",
   "execution_count": null,
   "id": "f2459907",
   "metadata": {
    "id": "f2459907"
   },
   "outputs": [],
   "source": [
    "tree_transformer = make_column_transformer(\n",
    "    (\n",
    "        OrdinalEncoder(dtype='int16', handle_unknown='use_encoded_value', unknown_value=-1),\n",
    "        make_column_selector(dtype_include=['category', 'object'])\n",
    "    ),\n",
    "    remainder='passthrough'\n",
    ")"
   ]
  },
  {
   "cell_type": "markdown",
   "id": "a00f7330",
   "metadata": {
    "id": "a00f7330"
   },
   "source": [
    "## Создайте модель для оценки водительского риска"
   ]
  },
  {
   "cell_type": "markdown",
   "id": "d6788c6d",
   "metadata": {
    "id": "d6788c6d"
   },
   "source": [
    "### Обоснование выбора метрики"
   ]
  },
  {
   "cell_type": "markdown",
   "id": "53f0c0f0",
   "metadata": {
    "id": "53f0c0f0"
   },
   "source": [
    "Выбрана метрика `F1`, так как нужно не только предотвратить ДТП но и не потерять клиента запретив управлять автомобилем, по этому нужно определять не только правильно ли модель определила класс целевого признака (часть от `precision`), но и насколько полно она это сделала (часть от `recall`)"
   ]
  },
  {
   "cell_type": "code",
   "execution_count": null,
   "id": "cf4f8dca",
   "metadata": {
    "id": "cf4f8dca"
   },
   "outputs": [],
   "source": [
    "results = {}"
   ]
  },
  {
   "cell_type": "markdown",
   "id": "715a952a",
   "metadata": {
    "id": "715a952a"
   },
   "source": [
    "### Модель 1. LogisticRegression"
   ]
  },
  {
   "cell_type": "code",
   "execution_count": null,
   "id": "abb51815",
   "metadata": {
    "id": "abb51815"
   },
   "outputs": [],
   "source": [
    "linear_pipeline = make_pipeline(\n",
    "    linear_transformer,\n",
    "    LogisticRegression(\n",
    "        class_weight='balanced',\n",
    "        n_jobs=-1,\n",
    "        random_state=RANDOM_STATE\n",
    "    )\n",
    ")"
   ]
  },
  {
   "cell_type": "code",
   "execution_count": null,
   "id": "abd4fec9",
   "metadata": {
    "id": "abd4fec9"
   },
   "outputs": [],
   "source": [
    "linear_params_grid = {\n",
    "    'logisticregression__solver':['newton-cg', 'lbfgs', 'liblinear', 'sag', 'saga'],\n",
    "    'logisticregression__C':[.001, .01],\n",
    "    'logisticregression__max_iter':[500, 1000]\n",
    "}\n",
    "\n",
    "linear_model = GridSearchCV(\n",
    "    linear_pipeline,\n",
    "    linear_params_grid,\n",
    "    scoring='f1',\n",
    "    n_jobs=-1,\n",
    "    verbose=1\n",
    ")"
   ]
  },
  {
   "cell_type": "code",
   "execution_count": null,
   "id": "b0476697",
   "metadata": {
    "colab": {
     "base_uri": "https://localhost:8080/",
     "height": 330
    },
    "id": "b0476697",
    "outputId": "1d5de6e6-0d0f-45e5-f795-3ef941ffa07b",
    "scrolled": true
   },
   "outputs": [],
   "source": [
    "%%time\n",
    "X_train_lin = X_train.copy()\n",
    "y_train_lin = y_train.copy()\n",
    "linear_model.fit(X_train_lin, y_train_lin)"
   ]
  },
  {
   "cell_type": "code",
   "execution_count": null,
   "id": "6ef10f4b",
   "metadata": {
    "colab": {
     "base_uri": "https://localhost:8080/"
    },
    "id": "6ef10f4b",
    "outputId": "684814c2-5c27-444e-f6b0-0e44e207a0fd"
   },
   "outputs": [],
   "source": [
    "results['LogisticRegression'] = linear_model.best_score_\n",
    "results['LogisticRegression']"
   ]
  },
  {
   "cell_type": "markdown",
   "id": "7d5b1468",
   "metadata": {
    "id": "7d5b1468"
   },
   "source": [
    "### Модель 2. RandomForestClassifier"
   ]
  },
  {
   "cell_type": "code",
   "execution_count": null,
   "id": "dfa39247",
   "metadata": {
    "id": "dfa39247"
   },
   "outputs": [],
   "source": [
    "tree_pipeline = make_pipeline(\n",
    "    tree_transformer,\n",
    "    RandomForestClassifier(\n",
    "        class_weight='balanced',\n",
    "        verbose=0,\n",
    "        n_jobs=-1,\n",
    "        random_state=RANDOM_STATE\n",
    "    )\n",
    ")"
   ]
  },
  {
   "cell_type": "code",
   "execution_count": null,
   "id": "bfac2de9",
   "metadata": {
    "id": "bfac2de9"
   },
   "outputs": [],
   "source": [
    "tree_params_grid = {\n",
    "    'randomforestclassifier__n_estimators':np.arange(100, 151, 50),\n",
    "    'randomforestclassifier__max_depth':np.arange(1, 10, 2),\n",
    "}\n",
    "\n",
    "tree_model = GridSearchCV(\n",
    "    tree_pipeline,\n",
    "    tree_params_grid,\n",
    "    scoring='f1',\n",
    "    n_jobs=-1,\n",
    "    verbose=1\n",
    ")"
   ]
  },
  {
   "cell_type": "code",
   "execution_count": null,
   "id": "8a0f89d2",
   "metadata": {
    "colab": {
     "base_uri": "https://localhost:8080/",
     "height": 330
    },
    "id": "8a0f89d2",
    "outputId": "2bcb1550-e298-4b12-f74c-643811649eb9"
   },
   "outputs": [],
   "source": [
    "%time\n",
    "X_train_tree = X_train.copy()\n",
    "y_train_tree = y_train.copy()\n",
    "tree_model.fit(X_train_tree, y_train_tree)"
   ]
  },
  {
   "cell_type": "code",
   "execution_count": null,
   "id": "47b01f86",
   "metadata": {
    "colab": {
     "base_uri": "https://localhost:8080/"
    },
    "id": "47b01f86",
    "outputId": "db92296a-279e-4585-8fb3-d2619df3e2ea"
   },
   "outputs": [],
   "source": [
    "results['RandomForestClassifier'] = tree_model.best_score_\n",
    "results['RandomForestClassifier']"
   ]
  },
  {
   "cell_type": "markdown",
   "id": "17becc59",
   "metadata": {
    "id": "17becc59"
   },
   "source": [
    "### Модель 3. LGBMClassifier"
   ]
  },
  {
   "cell_type": "code",
   "execution_count": null,
   "id": "fd7e2741",
   "metadata": {
    "id": "fd7e2741"
   },
   "outputs": [],
   "source": [
    "lgb_pipeline = make_pipeline(\n",
    "    tree_transformer,\n",
    "    lgb.LGBMClassifier(\n",
    "        objective='binary',\n",
    "        metric='f1',\n",
    "        n_jobs=-1,\n",
    "        verbosity=-1,\n",
    "        random_state=RANDOM_STATE\n",
    "    )\n",
    ")"
   ]
  },
  {
   "cell_type": "code",
   "execution_count": null,
   "id": "d78ea72b",
   "metadata": {
    "id": "d78ea72b"
   },
   "outputs": [],
   "source": [
    "lgb_params_grid = {\n",
    "    'lgbmclassifier__max_depth':[-1, 10],\n",
    "    'lgbmclassifier__num_leaves':[10],\n",
    "    'lgbmclassifier__learning_rate':[.1, .5]\n",
    "}\n",
    "\n",
    "lgb_model = GridSearchCV(\n",
    "    lgb_pipeline,\n",
    "    lgb_params_grid,\n",
    "    scoring='f1',\n",
    "    n_jobs=-1,\n",
    "    verbose=1\n",
    ")"
   ]
  },
  {
   "cell_type": "code",
   "execution_count": null,
   "id": "7def25d0",
   "metadata": {
    "colab": {
     "base_uri": "https://localhost:8080/"
    },
    "id": "7def25d0",
    "outputId": "5c8ceff5-14c8-44d3-9ef4-6b2b5c6a9356"
   },
   "outputs": [],
   "source": [
    "%time\n",
    "X_train_lgb = X_train.copy()\n",
    "y_train_lgb = y_train.copy()\n",
    "lgb_model.fit(X_train_lgb, y_train_lgb)\n",
    "None"
   ]
  },
  {
   "cell_type": "code",
   "execution_count": null,
   "id": "da3defaa",
   "metadata": {
    "colab": {
     "base_uri": "https://localhost:8080/"
    },
    "id": "da3defaa",
    "outputId": "3ec0c05d-205c-41af-e057-534bf2a60b12"
   },
   "outputs": [],
   "source": [
    "results['LGBMClassifier'] = lgb_model.best_score_\n",
    "results['LGBMClassifier']"
   ]
  },
  {
   "cell_type": "markdown",
   "id": "3109effb",
   "metadata": {
    "id": "3109effb"
   },
   "source": [
    "### Модель 4. CatBoostClassifier"
   ]
  },
  {
   "cell_type": "code",
   "execution_count": null,
   "id": "2ee5ba02",
   "metadata": {
    "id": "2ee5ba02"
   },
   "outputs": [],
   "source": [
    "catboost_model = CatBoostClassifier(\n",
    "    eval_metric='F1',\n",
    "    #cat_features=categorial,\n",
    "    logging_level='Silent',\n",
    "    random_state=RANDOM_STATE\n",
    ")"
   ]
  },
  {
   "cell_type": "code",
   "execution_count": null,
   "id": "5e3c68e2",
   "metadata": {
    "id": "5e3c68e2"
   },
   "outputs": [],
   "source": [
    "X_train_cb = tree_transformer.fit_transform(X_train)\n",
    "y_train_cb = y_train.copy()"
   ]
  },
  {
   "cell_type": "code",
   "execution_count": null,
   "id": "cb09aa28",
   "metadata": {
    "colab": {
     "base_uri": "https://localhost:8080/"
    },
    "id": "cb09aa28",
    "outputId": "4c48beb3-fcf4-447d-be52-9a74b5ff2158"
   },
   "outputs": [],
   "source": [
    "%time\n",
    "catboost_model.fit(X_train_cb, y_train_cb)\n",
    "None"
   ]
  },
  {
   "cell_type": "code",
   "execution_count": null,
   "id": "e923b78d",
   "metadata": {
    "colab": {
     "base_uri": "https://localhost:8080/"
    },
    "id": "e923b78d",
    "outputId": "60c5f13b-a1e6-4c8d-ed30-016a4941bd13"
   },
   "outputs": [],
   "source": [
    "results['CatBoostClassifier'] = catboost_model.get_best_score()['learn']['F1']\n",
    "results['CatBoostClassifier']"
   ]
  },
  {
   "cell_type": "markdown",
   "id": "a0837f41",
   "metadata": {
    "id": "a0837f41"
   },
   "source": [
    "Сравненение всех моделей"
   ]
  },
  {
   "cell_type": "code",
   "execution_count": null,
   "id": "d4d4d215",
   "metadata": {
    "colab": {
     "base_uri": "https://localhost:8080/",
     "height": 175
    },
    "id": "d4d4d215",
    "outputId": "4fb9d65c-dce5-4800-e5c8-51f0b191f19f"
   },
   "outputs": [],
   "source": [
    "res = pd.DataFrame(results.values(), index=results.keys(), columns=['F1'])\n",
    "res"
   ]
  },
  {
   "cell_type": "code",
   "execution_count": null,
   "id": "0477b412",
   "metadata": {
    "id": "0477b412"
   },
   "outputs": [],
   "source": [
    "best_model = catboost_model"
   ]
  },
  {
   "cell_type": "markdown",
   "id": "8038d8f6",
   "metadata": {
    "id": "8038d8f6"
   },
   "source": [
    "### Тестирование лучшей модели"
   ]
  },
  {
   "cell_type": "code",
   "execution_count": null,
   "id": "888cfe66",
   "metadata": {
    "id": "888cfe66"
   },
   "outputs": [],
   "source": [
    "X_test_cb = tree_transformer.transform(X_test)"
   ]
  },
  {
   "cell_type": "code",
   "execution_count": null,
   "id": "b4302423",
   "metadata": {
    "colab": {
     "base_uri": "https://localhost:8080/",
     "height": 206
    },
    "id": "b4302423",
    "outputId": "bb1dc876-6ed2-4615-f1e0-dc69648fe233"
   },
   "outputs": [],
   "source": [
    "best_model_prediction = best_model.predict(X_test_cb)\n",
    "\n",
    "best_model_report = classification_report(\n",
    "    y_test, best_model_prediction,\n",
    "    output_dict=True, zero_division=0\n",
    ")\n",
    "\n",
    "pd.DataFrame(best_model_report).round(decimals=3).transpose()"
   ]
  },
  {
   "cell_type": "markdown",
   "id": "15e08d82",
   "metadata": {
    "id": "15e08d82"
   },
   "source": [
    "Метрика `F1` лучшей модели"
   ]
  },
  {
   "cell_type": "code",
   "execution_count": null,
   "id": "d419fd1b",
   "metadata": {
    "colab": {
     "base_uri": "https://localhost:8080/"
    },
    "id": "d419fd1b",
    "outputId": "b0213867-fc67-46e0-adab-bdf98054163e"
   },
   "outputs": [],
   "source": [
    "best_model_report['weighted avg']['f1-score']"
   ]
  },
  {
   "cell_type": "markdown",
   "id": "ab0148f4",
   "metadata": {
    "id": "ab0148f4"
   },
   "source": [
    "Гиперпараметры лучшей модели"
   ]
  },
  {
   "cell_type": "code",
   "execution_count": null,
   "id": "327c3ade",
   "metadata": {
    "colab": {
     "base_uri": "https://localhost:8080/"
    },
    "id": "327c3ade",
    "outputId": "e8e614b6-684a-47b3-9bcc-a84c9246f664"
   },
   "outputs": [],
   "source": [
    "best_model.get_params()"
   ]
  },
  {
   "cell_type": "markdown",
   "id": "7a80d4e6",
   "metadata": {
    "id": "7a80d4e6"
   },
   "source": [
    "**Вывод к разделу:**\n",
    "- Было использовано 4 модели для сравнения, лучшей оказалась `CatBoostClassifier` с метрикой **F1 0.686** на кросс-валидации и **F1 0.66** на тестовой выборке"
   ]
  },
  {
   "cell_type": "markdown",
   "id": "cc0ddd22",
   "metadata": {
    "id": "cc0ddd22"
   },
   "source": [
    "## Проведите анализ важности факторов ДТП"
   ]
  },
  {
   "cell_type": "markdown",
   "id": "97730dc9",
   "metadata": {
    "id": "97730dc9"
   },
   "source": [
    "### Матрица ошибок"
   ]
  },
  {
   "cell_type": "code",
   "execution_count": null,
   "id": "9c06d9b1",
   "metadata": {
    "colab": {
     "base_uri": "https://localhost:8080/",
     "height": 487
    },
    "id": "9c06d9b1",
    "outputId": "6379a988-092d-4d54-a79b-50d78366f5ed"
   },
   "outputs": [],
   "source": [
    "cm = confusion_matrix(y_test, best_model_prediction, labels=catboost_model.classes_)\n",
    "\n",
    "fig, (ax1, ax2) = plt.subplots(1, 2, figsize=(15, 5))\n",
    "cmd = ConfusionMatrixDisplay(cm, display_labels=catboost_model.classes_)\n",
    "cmd.plot(ax=ax1)\n",
    "ax1.set_title('Матрица ошибок')\n",
    "prec, recall, _ = precision_recall_curve(y_test, best_model_prediction)\n",
    "PrecisionRecallDisplay(prec, recall).plot(ax=ax2)\n",
    "ax2.set_title('Полнота-точность')\n",
    "plt.show()"
   ]
  },
  {
   "cell_type": "markdown",
   "id": "40390db5",
   "metadata": {
    "id": "40390db5"
   },
   "source": [
    "### Важность признаков"
   ]
  },
  {
   "cell_type": "code",
   "execution_count": null,
   "id": "347a0c3d",
   "metadata": {
    "colab": {
     "base_uri": "https://localhost:8080/",
     "height": 545
    },
    "id": "347a0c3d",
    "outputId": "9731ecdc-dbee-49a0-b14e-a7bd1cdb75b4"
   },
   "outputs": [],
   "source": [
    "cat_model_importances = pd.Series(best_model.get_feature_importance(), index=X.columns).sort_values()\n",
    "plt.figure(figsize=(10, 6))\n",
    "cat_model_importances.plot.barh().set_title(\"Важность факторов ДТП\");"
   ]
  },
  {
   "cell_type": "code",
   "execution_count": null,
   "id": "4d8818a4",
   "metadata": {
    "colab": {
     "base_uri": "https://localhost:8080/",
     "height": 542
    },
    "id": "4d8818a4",
    "outputId": "325b042a-315f-4e29-ae45-1ca7da0b65d2"
   },
   "outputs": [],
   "source": [
    "fig = px.histogram(\n",
    "    cdf, x='party_count', color='at_fault',\n",
    "    barmode='group',\n",
    "    title='Зависимость виновности в ДТП от основного фактора аварии',\n",
    "    histfunc='count'\n",
    ")\n",
    "fig.show()"
   ]
  },
  {
   "cell_type": "markdown",
   "id": "787decdd",
   "metadata": {
    "id": "787decdd"
   },
   "source": [
    "**Вывод к разделу:**\n",
    "- Самым важным фактором виновности в ДТП по версии этой модели это `party_count` — количество участников.\n",
    "- Топ 6 самых важных факторов\n",
    "    - `party_count` — количество участников\n",
    "    - `insurance_premium` — сумма страховки (тыс. долл)\n",
    "    - `distance` — расстояние от главной дороги (метры)\n",
    "    - `vehicle_age` — возраст ТС (годы)\n",
    "    - `county_location` — название географического района, где произошло ДТП\n",
    "    - `vehicle_type` — тип кузова ТС"
   ]
  },
  {
   "cell_type": "markdown",
   "id": "d71626e7",
   "metadata": {
    "id": "d71626e7"
   },
   "source": [
    "## Выводы"
   ]
  },
  {
   "cell_type": "markdown",
   "id": "328953e3",
   "metadata": {
    "id": "328953e3"
   },
   "source": [
    "- Основная часть данных есть с 2009.01.01 по 2012.06.01, а после этого периода их почти нет\n",
    "- В среднем аварий примерно на 20000 больше в первые 5 месяцев года, чем в остальные месяца\n",
    "- Больше всего аварий было в Октябре (начало заморозков)\n",
    "- Меньше всего аварий было в Феврале\n",
    "\n",
    "\n",
    "- Были поручены аналитические задачи коллегам для исследования данных\n",
    "\n",
    "\n",
    "- Чем меньше количество участников тем больше дистанция\n",
    "- 90% участников ДТП не пили\n",
    "- 90% не использовали телефон\n",
    "- Чуть меньше половины данных из Лос-Анджелес\n",
    "- 20% ДТП случается на перекрёстке\n",
    "- 80% случаев похода ясная\n",
    "- 90% случев повреждения маленький урон\n",
    "- 95% причина ДТП это нарушение ПДД\n",
    "- Больше всего ДТП случается с 2 участниками\n",
    "- Топ 5 нарушений ПДД:\n",
    "    - Speeding (Скорость)\n",
    "    - Improper Turning (Неправильный поворот)\n",
    "    - Automobile Right of Way (Автомобильное право проезда)\n",
    "    - Unsafe Lane Change (Небезопасная смена полосы движения)\n",
    "    - Pedestrian dui (Нарушение пешехода)\n",
    "- Самый частый тип аварии, Rear End (Столкновение задней частью)\n",
    "- 70% дополнительных участников ДТП, другой автомобиль\n",
    "- 90% случаев дорога сухая\n",
    "- 95% случаев дорога в нормальном состоянии\n",
    "- 70% случаев происходит при дневном освещении\n",
    "- 65% случаев нет устройства контроля, а тех у кого есть в 2 раза меншье"
   ]
  },
  {
   "cell_type": "code",
   "execution_count": null,
   "id": "97e9a2ba",
   "metadata": {
    "colab": {
     "base_uri": "https://localhost:8080/",
     "height": 175
    },
    "id": "97e9a2ba",
    "outputId": "98106cfc-3a8e-4965-9f5f-89821691372a"
   },
   "outputs": [],
   "source": [
    "# Результаты на кросс-валидации по всем моделям\n",
    "res"
   ]
  },
  {
   "cell_type": "markdown",
   "id": "edeeed0a",
   "metadata": {
    "id": "edeeed0a"
   },
   "source": [
    "- Было использовано 4 модели для сравнения, лучшей оказалась `CatBoostClassifier` с метрикой **F1 0.686** на кросс-валидации и **F1 0.66** на тестовой выборке\n",
    "- Самым важным фактором виновности в ДТП по версии этой модели это `party_count` — количество участников.\n",
    "- Топ 6 самых важных факторов\n",
    "    - `party_count` — количество участников\n",
    "    - `insurance_premium` — сумма страховки (тыс. долл)\n",
    "    - `distance` — расстояние от главной дороги (метры)\n",
    "    - `vehicle_age` — возраст ТС (годы)\n",
    "    - `county_location` — название географического района, где произошло ДТП\n",
    "    - `vehicle_type` — тип кузова ТС\n",
    "- Учитывая другие важные факторы аварии, можно подумать о сборе таких дополнительных данных для возможного улучшения предсказания рисков:\n",
    "    - Плотность движения и пробок для, возможно, построения маршрута где может находится наименьшее количество потенциальных участников ДТП\n",
    "    - Сложность/особенности/топология дорог для выбора наименее рискованных"
   ]
  }
 ],
 "metadata": {
  "ExecuteTimeLog": [
   {
    "duration": 109,
    "start_time": "2025-03-25T17:26:07.517Z"
   },
   {
    "duration": 2595,
    "start_time": "2025-03-25T17:26:53.459Z"
   },
   {
    "duration": 6,
    "start_time": "2025-03-25T17:27:37.466Z"
   },
   {
    "duration": 6,
    "start_time": "2025-03-25T17:28:29.760Z"
   },
   {
    "duration": 6,
    "start_time": "2025-03-25T17:35:07.832Z"
   },
   {
    "duration": 6495,
    "start_time": "2025-03-25T17:35:23.410Z"
   },
   {
    "duration": 242,
    "start_time": "2025-03-25T17:35:55.117Z"
   },
   {
    "duration": 52,
    "start_time": "2025-03-25T17:36:40.161Z"
   },
   {
    "duration": 1337,
    "start_time": "2025-03-25T17:38:14.915Z"
   },
   {
    "duration": 608,
    "start_time": "2025-03-25T17:56:39.965Z"
   },
   {
    "duration": 11583,
    "start_time": "2025-03-25T18:00:48.502Z"
   },
   {
    "duration": 3592,
    "start_time": "2025-03-25T18:01:48.544Z"
   },
   {
    "duration": 831,
    "start_time": "2025-03-25T18:02:40.276Z"
   },
   {
    "duration": 381,
    "start_time": "2025-03-25T18:03:19.012Z"
   },
   {
    "duration": 14534,
    "start_time": "2025-03-25T18:06:13.340Z"
   },
   {
    "duration": 1778,
    "start_time": "2025-03-27T15:36:24.296Z"
   },
   {
    "duration": 3,
    "start_time": "2025-03-27T15:36:26.076Z"
   },
   {
    "duration": 6624,
    "start_time": "2025-03-27T15:36:26.081Z"
   },
   {
    "duration": 221,
    "start_time": "2025-03-27T15:36:32.707Z"
   },
   {
    "duration": 49,
    "start_time": "2025-03-27T15:36:32.930Z"
   },
   {
    "duration": 1272,
    "start_time": "2025-03-27T15:36:32.980Z"
   },
   {
    "duration": 547,
    "start_time": "2025-03-27T15:36:34.253Z"
   },
   {
    "duration": 10712,
    "start_time": "2025-03-27T15:36:34.801Z"
   },
   {
    "duration": 3043,
    "start_time": "2025-03-27T15:36:45.515Z"
   },
   {
    "duration": 1116,
    "start_time": "2025-03-27T15:36:48.560Z"
   },
   {
    "duration": 365,
    "start_time": "2025-03-27T15:36:49.677Z"
   },
   {
    "duration": 12526,
    "start_time": "2025-03-27T15:36:50.044Z"
   },
   {
    "duration": 1686,
    "start_time": "2025-03-27T16:23:18.824Z"
   },
   {
    "duration": 4,
    "start_time": "2025-03-27T16:23:20.512Z"
   },
   {
    "duration": 7801,
    "start_time": "2025-03-27T16:23:20.517Z"
   },
   {
    "duration": 205,
    "start_time": "2025-03-27T16:23:28.320Z"
   },
   {
    "duration": 44,
    "start_time": "2025-03-27T16:23:28.528Z"
   },
   {
    "duration": 1238,
    "start_time": "2025-03-27T16:23:28.574Z"
   },
   {
    "duration": 548,
    "start_time": "2025-03-27T16:23:29.814Z"
   },
   {
    "duration": 10593,
    "start_time": "2025-03-27T16:23:30.364Z"
   },
   {
    "duration": 3119,
    "start_time": "2025-03-27T16:23:40.958Z"
   },
   {
    "duration": 1216,
    "start_time": "2025-03-27T16:23:44.080Z"
   },
   {
    "duration": 366,
    "start_time": "2025-03-27T16:23:45.298Z"
   },
   {
    "duration": 14193,
    "start_time": "2025-03-27T16:23:45.667Z"
   },
   {
    "duration": 16523,
    "start_time": "2025-03-27T16:33:05.186Z"
   },
   {
    "duration": 14189,
    "start_time": "2025-03-27T16:35:12.292Z"
   },
   {
    "duration": 643,
    "start_time": "2025-03-27T16:35:48.460Z"
   },
   {
    "duration": 119,
    "start_time": "2025-03-27T16:36:16.807Z"
   },
   {
    "duration": 108,
    "start_time": "2025-03-27T16:37:16.760Z"
   },
   {
    "duration": 5,
    "start_time": "2025-03-27T16:37:54.748Z"
   },
   {
    "duration": 1795,
    "start_time": "2025-03-27T16:38:24.109Z"
   },
   {
    "duration": 3,
    "start_time": "2025-03-27T16:38:25.906Z"
   },
   {
    "duration": 6583,
    "start_time": "2025-03-27T16:38:25.913Z"
   },
   {
    "duration": 222,
    "start_time": "2025-03-27T16:38:32.498Z"
   },
   {
    "duration": 49,
    "start_time": "2025-03-27T16:38:32.721Z"
   },
   {
    "duration": 1325,
    "start_time": "2025-03-27T16:38:32.773Z"
   },
   {
    "duration": 555,
    "start_time": "2025-03-27T16:38:34.100Z"
   },
   {
    "duration": 10773,
    "start_time": "2025-03-27T16:38:34.657Z"
   },
   {
    "duration": 3337,
    "start_time": "2025-03-27T16:38:45.438Z"
   },
   {
    "duration": 1219,
    "start_time": "2025-03-27T16:38:48.777Z"
   },
   {
    "duration": 384,
    "start_time": "2025-03-27T16:38:49.999Z"
   },
   {
    "duration": 13137,
    "start_time": "2025-03-27T16:38:50.385Z"
   },
   {
    "duration": 18226,
    "start_time": "2025-03-27T16:39:03.524Z"
   },
   {
    "duration": 12844,
    "start_time": "2025-03-27T16:39:21.754Z"
   },
   {
    "duration": 687,
    "start_time": "2025-03-27T16:39:34.599Z"
   },
   {
    "duration": 134,
    "start_time": "2025-03-27T16:39:35.288Z"
   },
   {
    "duration": 133,
    "start_time": "2025-03-27T16:39:35.424Z"
   },
   {
    "duration": 3,
    "start_time": "2025-03-27T16:39:35.559Z"
   },
   {
    "duration": 1798,
    "start_time": "2025-03-27T16:40:41.619Z"
   },
   {
    "duration": 4,
    "start_time": "2025-03-27T16:40:43.418Z"
   },
   {
    "duration": 1645,
    "start_time": "2025-03-27T16:41:39.864Z"
   },
   {
    "duration": 3,
    "start_time": "2025-03-27T16:41:41.511Z"
   },
   {
    "duration": 6766,
    "start_time": "2025-03-27T16:41:41.516Z"
   },
   {
    "duration": 234,
    "start_time": "2025-03-27T16:41:48.283Z"
   },
   {
    "duration": 50,
    "start_time": "2025-03-27T16:41:48.519Z"
   },
   {
    "duration": 1247,
    "start_time": "2025-03-27T16:41:48.571Z"
   },
   {
    "duration": 573,
    "start_time": "2025-03-27T16:41:49.819Z"
   },
   {
    "duration": 9286,
    "start_time": "2025-03-27T16:41:50.394Z"
   },
   {
    "duration": 3082,
    "start_time": "2025-03-27T16:41:59.681Z"
   },
   {
    "duration": 1245,
    "start_time": "2025-03-27T16:42:02.765Z"
   },
   {
    "duration": 391,
    "start_time": "2025-03-27T16:42:04.012Z"
   },
   {
    "duration": 12750,
    "start_time": "2025-03-27T16:42:04.405Z"
   },
   {
    "duration": 17321,
    "start_time": "2025-03-27T16:42:17.157Z"
   },
   {
    "duration": 12335,
    "start_time": "2025-03-27T16:42:34.481Z"
   },
   {
    "duration": 685,
    "start_time": "2025-03-27T16:42:46.818Z"
   },
   {
    "duration": 141,
    "start_time": "2025-03-27T16:42:47.505Z"
   },
   {
    "duration": 121,
    "start_time": "2025-03-27T16:42:47.648Z"
   },
   {
    "duration": 4,
    "start_time": "2025-03-27T16:42:47.770Z"
   },
   {
    "duration": 6,
    "start_time": "2025-03-27T16:43:37.744Z"
   },
   {
    "duration": 3538,
    "start_time": "2025-03-27T16:44:59.857Z"
   },
   {
    "duration": 1238,
    "start_time": "2025-03-27T16:45:53.486Z"
   },
   {
    "duration": 1720,
    "start_time": "2025-03-27T16:46:11.356Z"
   },
   {
    "duration": 4,
    "start_time": "2025-03-27T16:46:13.078Z"
   },
   {
    "duration": 8039,
    "start_time": "2025-03-27T16:46:13.084Z"
   },
   {
    "duration": 229,
    "start_time": "2025-03-27T16:46:21.125Z"
   },
   {
    "duration": 48,
    "start_time": "2025-03-27T16:46:21.356Z"
   },
   {
    "duration": 1308,
    "start_time": "2025-03-27T16:46:21.406Z"
   },
   {
    "duration": 559,
    "start_time": "2025-03-27T16:46:22.716Z"
   },
   {
    "duration": 10165,
    "start_time": "2025-03-27T16:46:23.277Z"
   },
   {
    "duration": 3350,
    "start_time": "2025-03-27T16:46:33.451Z"
   },
   {
    "duration": 1212,
    "start_time": "2025-03-27T16:46:36.806Z"
   },
   {
    "duration": 379,
    "start_time": "2025-03-27T16:46:38.019Z"
   },
   {
    "duration": 14289,
    "start_time": "2025-03-27T16:46:38.400Z"
   },
   {
    "duration": 18106,
    "start_time": "2025-03-27T16:46:52.690Z"
   },
   {
    "duration": 14171,
    "start_time": "2025-03-27T16:47:10.797Z"
   },
   {
    "duration": 680,
    "start_time": "2025-03-27T16:47:24.970Z"
   },
   {
    "duration": 118,
    "start_time": "2025-03-27T16:47:25.652Z"
   },
   {
    "duration": 123,
    "start_time": "2025-03-27T16:47:25.771Z"
   },
   {
    "duration": 3,
    "start_time": "2025-03-27T16:47:25.896Z"
   },
   {
    "duration": 5,
    "start_time": "2025-03-27T16:47:25.901Z"
   },
   {
    "duration": 3625,
    "start_time": "2025-03-27T16:47:25.908Z"
   },
   {
    "duration": 1313,
    "start_time": "2025-03-27T16:47:29.534Z"
   },
   {
    "duration": 158,
    "start_time": "2025-03-27T16:52:04.642Z"
   },
   {
    "duration": 198,
    "start_time": "2025-03-27T16:52:27.026Z"
   },
   {
    "duration": 171,
    "start_time": "2025-03-27T16:52:51.183Z"
   },
   {
    "duration": 202,
    "start_time": "2025-03-27T16:53:15.097Z"
   },
   {
    "duration": 436,
    "start_time": "2025-03-27T16:53:53.294Z"
   },
   {
    "duration": 3954,
    "start_time": "2025-03-27T16:54:07.553Z"
   },
   {
    "duration": 151,
    "start_time": "2025-03-27T16:55:26.307Z"
   },
   {
    "duration": 180,
    "start_time": "2025-03-27T16:55:50.824Z"
   },
   {
    "duration": 1224,
    "start_time": "2025-03-27T16:56:20.787Z"
   },
   {
    "duration": 1249,
    "start_time": "2025-03-27T16:57:16.564Z"
   },
   {
    "duration": 1116,
    "start_time": "2025-03-27T16:57:31.780Z"
   },
   {
    "duration": 28,
    "start_time": "2025-03-27T16:57:47.888Z"
   },
   {
    "duration": 34,
    "start_time": "2025-03-27T16:58:03.073Z"
   },
   {
    "duration": 1759,
    "start_time": "2025-03-27T16:58:44.663Z"
   },
   {
    "duration": 4,
    "start_time": "2025-03-27T16:58:46.424Z"
   },
   {
    "duration": 6130,
    "start_time": "2025-03-27T16:58:46.429Z"
   },
   {
    "duration": 223,
    "start_time": "2025-03-27T16:58:52.562Z"
   },
   {
    "duration": 51,
    "start_time": "2025-03-27T16:58:52.787Z"
   },
   {
    "duration": 1410,
    "start_time": "2025-03-27T16:58:52.841Z"
   },
   {
    "duration": 553,
    "start_time": "2025-03-27T16:58:54.257Z"
   },
   {
    "duration": 9711,
    "start_time": "2025-03-27T16:58:54.812Z"
   },
   {
    "duration": 3455,
    "start_time": "2025-03-27T16:59:04.526Z"
   },
   {
    "duration": 1276,
    "start_time": "2025-03-27T16:59:07.984Z"
   },
   {
    "duration": 399,
    "start_time": "2025-03-27T16:59:09.261Z"
   },
   {
    "duration": 17227,
    "start_time": "2025-03-27T16:59:09.662Z"
   },
   {
    "duration": 18468,
    "start_time": "2025-03-27T16:59:26.891Z"
   },
   {
    "duration": 13487,
    "start_time": "2025-03-27T16:59:45.361Z"
   },
   {
    "duration": 622,
    "start_time": "2025-03-27T16:59:58.853Z"
   },
   {
    "duration": 134,
    "start_time": "2025-03-27T16:59:59.477Z"
   },
   {
    "duration": 141,
    "start_time": "2025-03-27T16:59:59.613Z"
   },
   {
    "duration": 4,
    "start_time": "2025-03-27T16:59:59.755Z"
   },
   {
    "duration": 4,
    "start_time": "2025-03-27T16:59:59.761Z"
   },
   {
    "duration": 3524,
    "start_time": "2025-03-27T16:59:59.766Z"
   },
   {
    "duration": 1265,
    "start_time": "2025-03-27T17:00:03.293Z"
   },
   {
    "duration": 167,
    "start_time": "2025-03-27T17:00:04.560Z"
   },
   {
    "duration": 224,
    "start_time": "2025-03-27T17:00:04.729Z"
   },
   {
    "duration": 195,
    "start_time": "2025-03-27T17:00:04.954Z"
   },
   {
    "duration": 206,
    "start_time": "2025-03-27T17:00:05.151Z"
   },
   {
    "duration": 487,
    "start_time": "2025-03-27T17:00:05.358Z"
   },
   {
    "duration": 3617,
    "start_time": "2025-03-27T17:00:05.847Z"
   },
   {
    "duration": 155,
    "start_time": "2025-03-27T17:00:09.469Z"
   },
   {
    "duration": 189,
    "start_time": "2025-03-27T17:00:09.634Z"
   },
   {
    "duration": 1106,
    "start_time": "2025-03-27T17:00:09.825Z"
   },
   {
    "duration": 982,
    "start_time": "2025-03-27T17:00:10.937Z"
   },
   {
    "duration": 46,
    "start_time": "2025-03-27T17:00:11.920Z"
   },
   {
    "duration": 35,
    "start_time": "2025-03-27T17:00:11.968Z"
   },
   {
    "duration": 10244,
    "start_time": "2025-03-27T17:00:44.896Z"
   },
   {
    "duration": 3365,
    "start_time": "2025-03-27T17:01:34.308Z"
   },
   {
    "duration": 34,
    "start_time": "2025-03-27T17:05:38.177Z"
   },
   {
    "duration": 112,
    "start_time": "2025-03-27T17:05:51.389Z"
   },
   {
    "duration": 5,
    "start_time": "2025-03-27T17:06:38.739Z"
   },
   {
    "duration": 3,
    "start_time": "2025-03-27T17:07:07.116Z"
   },
   {
    "duration": 2,
    "start_time": "2025-03-27T17:07:58.869Z"
   },
   {
    "duration": 3,
    "start_time": "2025-03-27T17:08:31.492Z"
   },
   {
    "duration": 3,
    "start_time": "2025-03-27T17:08:58.652Z"
   },
   {
    "duration": 4,
    "start_time": "2025-03-27T17:09:11.493Z"
   },
   {
    "duration": 266086,
    "start_time": "2025-03-27T17:11:16.314Z"
   },
   {
    "duration": 1756,
    "start_time": "2025-03-27T17:17:40.105Z"
   },
   {
    "duration": 3,
    "start_time": "2025-03-27T17:17:41.863Z"
   },
   {
    "duration": 1842,
    "start_time": "2025-03-27T17:23:44.865Z"
   },
   {
    "duration": 4,
    "start_time": "2025-03-27T17:23:46.709Z"
   },
   {
    "duration": 7107,
    "start_time": "2025-03-27T17:23:46.714Z"
   },
   {
    "duration": 224,
    "start_time": "2025-03-27T17:23:53.823Z"
   },
   {
    "duration": 45,
    "start_time": "2025-03-27T17:23:54.049Z"
   },
   {
    "duration": 1302,
    "start_time": "2025-03-27T17:23:54.096Z"
   },
   {
    "duration": 538,
    "start_time": "2025-03-27T17:23:55.400Z"
   },
   {
    "duration": 10922,
    "start_time": "2025-03-27T17:23:55.947Z"
   },
   {
    "duration": 3331,
    "start_time": "2025-03-27T17:24:06.871Z"
   },
   {
    "duration": 1257,
    "start_time": "2025-03-27T17:24:10.205Z"
   },
   {
    "duration": 410,
    "start_time": "2025-03-27T17:24:11.464Z"
   },
   {
    "duration": 14037,
    "start_time": "2025-03-27T17:24:11.876Z"
   },
   {
    "duration": 18352,
    "start_time": "2025-03-27T17:24:25.915Z"
   },
   {
    "duration": 14708,
    "start_time": "2025-03-27T17:24:44.269Z"
   },
   {
    "duration": 682,
    "start_time": "2025-03-27T17:24:58.979Z"
   },
   {
    "duration": 120,
    "start_time": "2025-03-27T17:24:59.663Z"
   },
   {
    "duration": 121,
    "start_time": "2025-03-27T17:24:59.784Z"
   },
   {
    "duration": 3,
    "start_time": "2025-03-27T17:24:59.906Z"
   },
   {
    "duration": 38,
    "start_time": "2025-03-27T17:24:59.911Z"
   },
   {
    "duration": 3715,
    "start_time": "2025-03-27T17:24:59.951Z"
   },
   {
    "duration": 1317,
    "start_time": "2025-03-27T17:25:03.668Z"
   },
   {
    "duration": 163,
    "start_time": "2025-03-27T17:25:04.987Z"
   },
   {
    "duration": 202,
    "start_time": "2025-03-27T17:25:05.151Z"
   },
   {
    "duration": 186,
    "start_time": "2025-03-27T17:25:05.355Z"
   },
   {
    "duration": 202,
    "start_time": "2025-03-27T17:25:05.552Z"
   },
   {
    "duration": 495,
    "start_time": "2025-03-27T17:25:05.756Z"
   },
   {
    "duration": 3767,
    "start_time": "2025-03-27T17:25:06.253Z"
   },
   {
    "duration": 155,
    "start_time": "2025-03-27T17:25:10.024Z"
   },
   {
    "duration": 196,
    "start_time": "2025-03-27T17:25:10.181Z"
   },
   {
    "duration": 1244,
    "start_time": "2025-03-27T17:25:10.378Z"
   },
   {
    "duration": 1071,
    "start_time": "2025-03-27T17:25:11.624Z"
   },
   {
    "duration": 30,
    "start_time": "2025-03-27T17:25:12.696Z"
   },
   {
    "duration": 120,
    "start_time": "2025-03-27T17:25:12.743Z"
   },
   {
    "duration": 10045,
    "start_time": "2025-03-27T17:25:12.865Z"
   },
   {
    "duration": 3362,
    "start_time": "2025-03-27T17:25:22.912Z"
   },
   {
    "duration": 34,
    "start_time": "2025-03-27T17:25:26.276Z"
   },
   {
    "duration": 149,
    "start_time": "2025-03-27T17:25:26.312Z"
   },
   {
    "duration": 4,
    "start_time": "2025-03-27T17:25:26.464Z"
   },
   {
    "duration": 4,
    "start_time": "2025-03-27T17:25:26.470Z"
   },
   {
    "duration": 3,
    "start_time": "2025-03-27T17:25:26.476Z"
   },
   {
    "duration": 4,
    "start_time": "2025-03-27T17:25:26.481Z"
   },
   {
    "duration": 4,
    "start_time": "2025-03-27T17:25:26.487Z"
   },
   {
    "duration": 291165,
    "start_time": "2025-03-27T17:25:26.493Z"
   },
   {
    "duration": 5,
    "start_time": "2025-03-27T17:30:50.584Z"
   },
   {
    "duration": 3,
    "start_time": "2025-03-27T17:31:19.148Z"
   },
   {
    "duration": 5,
    "start_time": "2025-03-27T17:31:35.656Z"
   },
   {
    "duration": 1697,
    "start_time": "2025-03-27T17:35:39.279Z"
   },
   {
    "duration": 4,
    "start_time": "2025-03-27T17:35:40.977Z"
   },
   {
    "duration": 0,
    "start_time": "2025-03-27T18:04:48.515Z"
   },
   {
    "duration": 1792,
    "start_time": "2025-03-27T18:07:20.477Z"
   },
   {
    "duration": 3,
    "start_time": "2025-03-27T18:07:22.271Z"
   },
   {
    "duration": 7767,
    "start_time": "2025-03-27T18:07:22.275Z"
   },
   {
    "duration": 217,
    "start_time": "2025-03-27T18:07:30.048Z"
   },
   {
    "duration": 46,
    "start_time": "2025-03-27T18:07:30.266Z"
   },
   {
    "duration": 1326,
    "start_time": "2025-03-27T18:07:30.314Z"
   },
   {
    "duration": 567,
    "start_time": "2025-03-27T18:07:31.646Z"
   },
   {
    "duration": 9808,
    "start_time": "2025-03-27T18:07:32.215Z"
   },
   {
    "duration": 1662,
    "start_time": "2025-03-27T18:57:13.216Z"
   },
   {
    "duration": 4,
    "start_time": "2025-03-27T18:57:14.880Z"
   },
   {
    "duration": 6482,
    "start_time": "2025-03-27T18:57:14.885Z"
   },
   {
    "duration": 234,
    "start_time": "2025-03-27T18:57:21.368Z"
   },
   {
    "duration": 49,
    "start_time": "2025-03-27T18:57:21.604Z"
   },
   {
    "duration": 1288,
    "start_time": "2025-03-27T18:57:21.655Z"
   },
   {
    "duration": 563,
    "start_time": "2025-03-27T18:57:22.944Z"
   },
   {
    "duration": 10773,
    "start_time": "2025-03-27T18:57:23.509Z"
   },
   {
    "duration": 3171,
    "start_time": "2025-03-27T18:57:34.284Z"
   },
   {
    "duration": 1165,
    "start_time": "2025-03-27T18:57:37.457Z"
   },
   {
    "duration": 390,
    "start_time": "2025-03-27T18:57:38.624Z"
   },
   {
    "duration": 13710,
    "start_time": "2025-03-27T18:57:39.017Z"
   },
   {
    "duration": 1815,
    "start_time": "2025-03-27T21:29:02.953Z"
   },
   {
    "duration": 3,
    "start_time": "2025-03-27T21:29:04.770Z"
   },
   {
    "duration": 8444,
    "start_time": "2025-03-27T21:29:04.775Z"
   },
   {
    "duration": 219,
    "start_time": "2025-03-27T21:29:13.221Z"
   },
   {
    "duration": 48,
    "start_time": "2025-03-27T21:29:13.442Z"
   },
   {
    "duration": 1255,
    "start_time": "2025-03-27T21:29:13.492Z"
   },
   {
    "duration": 615,
    "start_time": "2025-03-27T21:29:14.749Z"
   },
   {
    "duration": 10190,
    "start_time": "2025-03-27T21:29:15.366Z"
   },
   {
    "duration": 4044,
    "start_time": "2025-03-27T21:29:25.557Z"
   },
   {
    "duration": 1129,
    "start_time": "2025-03-27T21:29:29.606Z"
   },
   {
    "duration": 484,
    "start_time": "2025-03-27T21:29:30.737Z"
   },
   {
    "duration": 14805,
    "start_time": "2025-03-27T21:29:31.222Z"
   },
   {
    "duration": 17405,
    "start_time": "2025-03-27T21:29:46.028Z"
   },
   {
    "duration": 13381,
    "start_time": "2025-03-27T21:30:03.436Z"
   },
   {
    "duration": 700,
    "start_time": "2025-03-27T21:30:16.818Z"
   },
   {
    "duration": 124,
    "start_time": "2025-03-27T21:30:17.519Z"
   },
   {
    "duration": 124,
    "start_time": "2025-03-27T21:30:17.644Z"
   },
   {
    "duration": 4,
    "start_time": "2025-03-27T21:30:17.770Z"
   },
   {
    "duration": 23,
    "start_time": "2025-03-27T21:30:17.776Z"
   },
   {
    "duration": 3685,
    "start_time": "2025-03-27T21:30:17.800Z"
   },
   {
    "duration": 1321,
    "start_time": "2025-03-27T21:30:21.486Z"
   },
   {
    "duration": 268,
    "start_time": "2025-03-27T21:30:22.808Z"
   },
   {
    "duration": 287,
    "start_time": "2025-03-27T21:30:23.077Z"
   },
   {
    "duration": 274,
    "start_time": "2025-03-27T21:30:23.366Z"
   },
   {
    "duration": 313,
    "start_time": "2025-03-27T21:30:23.642Z"
   },
   {
    "duration": 486,
    "start_time": "2025-03-27T21:30:23.963Z"
   },
   {
    "duration": 3764,
    "start_time": "2025-03-27T21:30:24.451Z"
   },
   {
    "duration": 247,
    "start_time": "2025-03-27T21:30:28.219Z"
   },
   {
    "duration": 280,
    "start_time": "2025-03-27T21:30:28.468Z"
   },
   {
    "duration": 1312,
    "start_time": "2025-03-27T21:30:28.750Z"
   },
   {
    "duration": 1113,
    "start_time": "2025-03-27T21:30:30.064Z"
   },
   {
    "duration": 30,
    "start_time": "2025-03-27T21:30:31.179Z"
   },
   {
    "duration": 48,
    "start_time": "2025-03-27T21:30:31.211Z"
   },
   {
    "duration": 10319,
    "start_time": "2025-03-27T21:30:31.261Z"
   },
   {
    "duration": 4914,
    "start_time": "2025-03-27T21:30:41.582Z"
   },
   {
    "duration": 38,
    "start_time": "2025-03-27T21:30:46.497Z"
   },
   {
    "duration": 243,
    "start_time": "2025-03-27T21:30:46.536Z"
   },
   {
    "duration": 3,
    "start_time": "2025-03-27T21:30:46.781Z"
   },
   {
    "duration": 23,
    "start_time": "2025-03-27T21:30:46.785Z"
   },
   {
    "duration": 22,
    "start_time": "2025-03-27T21:30:46.809Z"
   },
   {
    "duration": 6,
    "start_time": "2025-03-27T21:30:46.832Z"
   },
   {
    "duration": 5,
    "start_time": "2025-03-27T21:30:46.839Z"
   },
   {
    "duration": 268512,
    "start_time": "2025-03-27T21:30:46.845Z"
   },
   {
    "duration": 4,
    "start_time": "2025-03-27T21:35:15.358Z"
   },
   {
    "duration": 5,
    "start_time": "2025-03-27T21:35:15.364Z"
   },
   {
    "duration": 13,
    "start_time": "2025-03-27T21:35:15.370Z"
   },
   {
    "duration": 314199,
    "start_time": "2025-03-27T21:35:15.385Z"
   },
   {
    "duration": 4,
    "start_time": "2025-03-27T21:40:29.586Z"
   },
   {
    "duration": 4,
    "start_time": "2025-03-27T21:40:29.591Z"
   },
   {
    "duration": 9,
    "start_time": "2025-03-27T21:40:29.596Z"
   },
   {
    "duration": 73764,
    "start_time": "2025-03-27T21:40:29.606Z"
   },
   {
    "duration": 4,
    "start_time": "2025-03-27T21:41:43.372Z"
   },
   {
    "duration": 88,
    "start_time": "2025-03-27T21:41:43.378Z"
   },
   {
    "duration": 459,
    "start_time": "2025-03-27T21:41:43.468Z"
   },
   {
    "duration": 2032,
    "start_time": "2025-03-29T13:45:21.753Z"
   },
   {
    "duration": 4,
    "start_time": "2025-03-29T13:45:31.145Z"
   },
   {
    "duration": 8094,
    "start_time": "2025-03-29T13:45:34.707Z"
   },
   {
    "duration": 60,
    "start_time": "2025-03-29T13:45:46.514Z"
   },
   {
    "duration": 27,
    "start_time": "2025-03-29T13:45:53.740Z"
   },
   {
    "duration": 1293,
    "start_time": "2025-03-29T13:46:07.603Z"
   },
   {
    "duration": 526,
    "start_time": "2025-03-29T13:46:43.609Z"
   },
   {
    "duration": 10930,
    "start_time": "2025-03-29T13:47:06.419Z"
   },
   {
    "duration": 3418,
    "start_time": "2025-03-29T13:47:21.135Z"
   },
   {
    "duration": 749,
    "start_time": "2025-03-29T13:48:05.982Z"
   },
   {
    "duration": 508,
    "start_time": "2025-03-29T13:48:12.926Z"
   },
   {
    "duration": 12815,
    "start_time": "2025-03-29T13:48:23.014Z"
   },
   {
    "duration": 1883,
    "start_time": "2025-03-29T17:09:48.199Z"
   },
   {
    "duration": 4,
    "start_time": "2025-03-29T17:09:53.417Z"
   },
   {
    "duration": 8557,
    "start_time": "2025-03-29T17:10:23.793Z"
   },
   {
    "duration": 46,
    "start_time": "2025-03-29T17:13:28.569Z"
   },
   {
    "duration": 20,
    "start_time": "2025-03-29T17:14:05.714Z"
   },
   {
    "duration": 1310,
    "start_time": "2025-03-29T17:14:14.815Z"
   },
   {
    "duration": 527,
    "start_time": "2025-03-29T17:14:19.107Z"
   },
   {
    "duration": 10651,
    "start_time": "2025-03-29T17:15:18.122Z"
   },
   {
    "duration": 3118,
    "start_time": "2025-03-29T17:15:49.999Z"
   },
   {
    "duration": 723,
    "start_time": "2025-03-29T17:16:28.220Z"
   },
   {
    "duration": 454,
    "start_time": "2025-03-29T17:16:32.497Z"
   },
   {
    "duration": 14347,
    "start_time": "2025-03-29T17:17:07.408Z"
   },
   {
    "duration": 16951,
    "start_time": "2025-03-29T17:17:25.901Z"
   },
   {
    "duration": 7155,
    "start_time": "2025-03-29T20:13:45.190Z"
   },
   {
    "duration": 183,
    "start_time": "2025-03-29T20:14:00.863Z"
   },
   {
    "duration": 4,
    "start_time": "2025-03-29T20:14:06.322Z"
   },
   {
    "duration": 4,
    "start_time": "2025-03-29T20:14:09.069Z"
   },
   {
    "duration": 37,
    "start_time": "2025-03-29T20:14:14.136Z"
   },
   {
    "duration": 19,
    "start_time": "2025-03-29T20:14:18.952Z"
   },
   {
    "duration": 2460,
    "start_time": "2025-03-29T20:14:37.873Z"
   },
   {
    "duration": 10694,
    "start_time": "2025-03-29T20:14:40.336Z"
   },
   {
    "duration": 3,
    "start_time": "2025-03-29T20:14:51.033Z"
   },
   {
    "duration": 30,
    "start_time": "2025-03-29T20:14:51.038Z"
   },
   {
    "duration": 51,
    "start_time": "2025-03-29T20:14:51.070Z"
   },
   {
    "duration": 14,
    "start_time": "2025-03-29T20:14:51.123Z"
   },
   {
    "duration": 1355,
    "start_time": "2025-03-29T20:14:51.139Z"
   },
   {
    "duration": 516,
    "start_time": "2025-03-29T20:14:52.495Z"
   },
   {
    "duration": 10234,
    "start_time": "2025-03-29T20:14:53.013Z"
   },
   {
    "duration": 3240,
    "start_time": "2025-03-29T20:15:03.250Z"
   },
   {
    "duration": 1215,
    "start_time": "2025-03-29T20:15:06.491Z"
   },
   {
    "duration": 378,
    "start_time": "2025-03-29T20:15:07.707Z"
   },
   {
    "duration": 13906,
    "start_time": "2025-03-29T20:15:08.087Z"
   },
   {
    "duration": 1585,
    "start_time": "2025-03-29T20:15:21.995Z"
   },
   {
    "duration": 1,
    "start_time": "2025-03-29T20:15:23.584Z"
   },
   {
    "duration": 0,
    "start_time": "2025-03-29T20:15:23.586Z"
   },
   {
    "duration": 0,
    "start_time": "2025-03-29T20:15:23.587Z"
   },
   {
    "duration": 1,
    "start_time": "2025-03-29T20:15:23.587Z"
   },
   {
    "duration": 0,
    "start_time": "2025-03-29T20:15:23.589Z"
   },
   {
    "duration": 0,
    "start_time": "2025-03-29T20:15:23.590Z"
   },
   {
    "duration": 0,
    "start_time": "2025-03-29T20:15:23.590Z"
   },
   {
    "duration": 0,
    "start_time": "2025-03-29T20:15:23.591Z"
   },
   {
    "duration": 0,
    "start_time": "2025-03-29T20:15:23.592Z"
   },
   {
    "duration": 0,
    "start_time": "2025-03-29T20:15:23.593Z"
   },
   {
    "duration": 0,
    "start_time": "2025-03-29T20:15:23.594Z"
   },
   {
    "duration": 0,
    "start_time": "2025-03-29T20:15:23.595Z"
   },
   {
    "duration": 1,
    "start_time": "2025-03-29T20:15:23.596Z"
   },
   {
    "duration": 0,
    "start_time": "2025-03-29T20:15:23.597Z"
   },
   {
    "duration": 0,
    "start_time": "2025-03-29T20:15:23.629Z"
   },
   {
    "duration": 0,
    "start_time": "2025-03-29T20:15:23.631Z"
   },
   {
    "duration": 0,
    "start_time": "2025-03-29T20:15:23.632Z"
   },
   {
    "duration": 0,
    "start_time": "2025-03-29T20:15:23.633Z"
   },
   {
    "duration": 0,
    "start_time": "2025-03-29T20:15:23.634Z"
   },
   {
    "duration": 0,
    "start_time": "2025-03-29T20:15:23.635Z"
   },
   {
    "duration": 0,
    "start_time": "2025-03-29T20:15:23.636Z"
   },
   {
    "duration": 0,
    "start_time": "2025-03-29T20:15:23.637Z"
   },
   {
    "duration": 0,
    "start_time": "2025-03-29T20:15:23.638Z"
   },
   {
    "duration": 0,
    "start_time": "2025-03-29T20:15:23.639Z"
   },
   {
    "duration": 0,
    "start_time": "2025-03-29T20:15:23.640Z"
   },
   {
    "duration": 0,
    "start_time": "2025-03-29T20:15:23.641Z"
   },
   {
    "duration": 0,
    "start_time": "2025-03-29T20:15:23.642Z"
   },
   {
    "duration": 0,
    "start_time": "2025-03-29T20:15:23.643Z"
   },
   {
    "duration": 0,
    "start_time": "2025-03-29T20:15:23.644Z"
   },
   {
    "duration": 0,
    "start_time": "2025-03-29T20:15:23.645Z"
   },
   {
    "duration": 0,
    "start_time": "2025-03-29T20:15:23.646Z"
   },
   {
    "duration": 0,
    "start_time": "2025-03-29T20:15:23.647Z"
   },
   {
    "duration": 0,
    "start_time": "2025-03-29T20:15:23.648Z"
   },
   {
    "duration": 0,
    "start_time": "2025-03-29T20:15:23.649Z"
   },
   {
    "duration": 0,
    "start_time": "2025-03-29T20:15:23.650Z"
   },
   {
    "duration": 0,
    "start_time": "2025-03-29T20:15:23.651Z"
   },
   {
    "duration": 0,
    "start_time": "2025-03-29T20:15:23.652Z"
   },
   {
    "duration": 0,
    "start_time": "2025-03-29T20:15:23.653Z"
   },
   {
    "duration": 0,
    "start_time": "2025-03-29T20:15:23.654Z"
   },
   {
    "duration": 0,
    "start_time": "2025-03-29T20:15:23.655Z"
   },
   {
    "duration": 0,
    "start_time": "2025-03-29T20:15:23.656Z"
   },
   {
    "duration": 0,
    "start_time": "2025-03-29T20:15:23.657Z"
   },
   {
    "duration": 0,
    "start_time": "2025-03-29T20:15:23.657Z"
   },
   {
    "duration": 0,
    "start_time": "2025-03-29T20:15:23.658Z"
   },
   {
    "duration": 0,
    "start_time": "2025-03-29T20:15:23.659Z"
   },
   {
    "duration": 0,
    "start_time": "2025-03-29T20:15:23.660Z"
   },
   {
    "duration": 0,
    "start_time": "2025-03-29T20:15:23.661Z"
   },
   {
    "duration": 0,
    "start_time": "2025-03-29T20:15:23.662Z"
   },
   {
    "duration": 0,
    "start_time": "2025-03-29T20:15:23.663Z"
   },
   {
    "duration": 0,
    "start_time": "2025-03-29T20:15:23.664Z"
   },
   {
    "duration": 0,
    "start_time": "2025-03-29T20:15:23.665Z"
   },
   {
    "duration": 0,
    "start_time": "2025-03-29T20:15:23.666Z"
   },
   {
    "duration": 0,
    "start_time": "2025-03-29T20:15:23.667Z"
   },
   {
    "duration": 0,
    "start_time": "2025-03-29T20:15:23.668Z"
   },
   {
    "duration": 0,
    "start_time": "2025-03-29T20:15:23.730Z"
   },
   {
    "duration": 0,
    "start_time": "2025-03-29T20:15:23.731Z"
   },
   {
    "duration": 0,
    "start_time": "2025-03-29T20:15:23.733Z"
   },
   {
    "duration": 0,
    "start_time": "2025-03-29T20:15:23.734Z"
   },
   {
    "duration": 0,
    "start_time": "2025-03-29T20:15:23.735Z"
   },
   {
    "duration": 0,
    "start_time": "2025-03-29T20:15:23.736Z"
   },
   {
    "duration": 0,
    "start_time": "2025-03-29T20:15:23.737Z"
   },
   {
    "duration": 0,
    "start_time": "2025-03-29T20:15:23.738Z"
   },
   {
    "duration": 0,
    "start_time": "2025-03-29T20:15:23.739Z"
   },
   {
    "duration": 0,
    "start_time": "2025-03-29T20:15:23.739Z"
   },
   {
    "duration": 0,
    "start_time": "2025-03-29T20:15:23.740Z"
   },
   {
    "duration": 0,
    "start_time": "2025-03-29T20:15:23.742Z"
   },
   {
    "duration": 0,
    "start_time": "2025-03-29T20:15:23.743Z"
   },
   {
    "duration": 0,
    "start_time": "2025-03-29T20:15:23.744Z"
   },
   {
    "duration": 0,
    "start_time": "2025-03-29T20:15:23.745Z"
   },
   {
    "duration": 0,
    "start_time": "2025-03-29T20:15:23.746Z"
   },
   {
    "duration": 0,
    "start_time": "2025-03-29T20:15:23.747Z"
   },
   {
    "duration": 0,
    "start_time": "2025-03-29T20:15:23.748Z"
   },
   {
    "duration": 17647,
    "start_time": "2025-03-29T20:15:34.083Z"
   },
   {
    "duration": 11087,
    "start_time": "2025-03-29T20:15:55.902Z"
   },
   {
    "duration": 148,
    "start_time": "2025-03-29T20:16:14.798Z"
   },
   {
    "duration": 44,
    "start_time": "2025-03-29T20:16:17.053Z"
   },
   {
    "duration": 2,
    "start_time": "2025-03-29T20:16:21.310Z"
   },
   {
    "duration": 3,
    "start_time": "2025-03-29T20:16:24.169Z"
   },
   {
    "duration": 4,
    "start_time": "2025-03-29T20:16:27.394Z"
   },
   {
    "duration": 6,
    "start_time": "2025-03-29T20:16:32.033Z"
   },
   {
    "duration": 1734,
    "start_time": "2025-03-29T20:16:34.016Z"
   },
   {
    "duration": 2,
    "start_time": "2025-03-29T20:16:39.119Z"
   },
   {
    "duration": 3,
    "start_time": "2025-03-29T20:16:41.431Z"
   },
   {
    "duration": 3,
    "start_time": "2025-03-29T20:16:43.644Z"
   },
   {
    "duration": 149,
    "start_time": "2025-03-29T20:16:44.222Z"
   },
   {
    "duration": 160,
    "start_time": "2025-03-29T20:16:46.253Z"
   },
   {
    "duration": 173,
    "start_time": "2025-03-29T20:16:47.012Z"
   },
   {
    "duration": 154,
    "start_time": "2025-03-29T20:16:47.749Z"
   },
   {
    "duration": 2,
    "start_time": "2025-03-29T20:16:49.313Z"
   },
   {
    "duration": 2,
    "start_time": "2025-03-29T20:16:51.091Z"
   },
   {
    "duration": 2,
    "start_time": "2025-03-29T20:16:51.697Z"
   },
   {
    "duration": 2,
    "start_time": "2025-03-29T20:16:52.288Z"
   },
   {
    "duration": 2,
    "start_time": "2025-03-29T20:16:53.379Z"
   },
   {
    "duration": 2,
    "start_time": "2025-03-29T20:16:54.505Z"
   },
   {
    "duration": 2,
    "start_time": "2025-03-29T20:16:55.115Z"
   },
   {
    "duration": 2,
    "start_time": "2025-03-29T20:16:55.686Z"
   },
   {
    "duration": 114069,
    "start_time": "2025-03-29T20:16:56.847Z"
   },
   {
    "duration": 14675,
    "start_time": "2025-03-29T20:18:50.918Z"
   },
   {
    "duration": 93,
    "start_time": "2025-03-29T20:19:15.976Z"
   },
   {
    "duration": 95,
    "start_time": "2025-03-29T20:19:18.308Z"
   },
   {
    "duration": 175,
    "start_time": "2025-03-29T20:19:21.334Z"
   },
   {
    "duration": 16,
    "start_time": "2025-03-29T20:19:25.921Z"
   },
   {
    "duration": 70,
    "start_time": "2025-03-29T20:19:58.585Z"
   },
   {
    "duration": 1684,
    "start_time": "2025-03-29T20:20:08.527Z"
   },
   {
    "duration": 8,
    "start_time": "2025-03-29T20:20:13.012Z"
   },
   {
    "duration": 349,
    "start_time": "2025-03-29T20:20:14.603Z"
   },
   {
    "duration": 155,
    "start_time": "2025-03-29T20:20:16.275Z"
   },
   {
    "duration": 160,
    "start_time": "2025-03-29T20:20:17.728Z"
   },
   {
    "duration": 363,
    "start_time": "2025-03-29T20:20:18.726Z"
   },
   {
    "duration": 156,
    "start_time": "2025-03-29T20:20:19.875Z"
   },
   {
    "duration": 194,
    "start_time": "2025-03-29T20:20:22.970Z"
   },
   {
    "duration": 1553,
    "start_time": "2025-03-29T20:20:25.306Z"
   },
   {
    "duration": 281,
    "start_time": "2025-03-29T20:20:31.484Z"
   },
   {
    "duration": 250,
    "start_time": "2025-03-29T20:20:34.183Z"
   },
   {
    "duration": 28,
    "start_time": "2025-03-29T20:20:35.432Z"
   },
   {
    "duration": 27,
    "start_time": "2025-03-29T20:20:40.247Z"
   },
   {
    "duration": 33,
    "start_time": "2025-03-29T20:21:43.173Z"
   },
   {
    "duration": 3,
    "start_time": "2025-03-29T20:22:58.163Z"
   },
   {
    "duration": 2,
    "start_time": "2025-03-29T20:23:42.468Z"
   },
   {
    "duration": 2739,
    "start_time": "2025-03-29T20:24:00.938Z"
   },
   {
    "duration": 10066,
    "start_time": "2025-03-29T20:24:03.679Z"
   },
   {
    "duration": 4,
    "start_time": "2025-03-29T20:24:13.747Z"
   },
   {
    "duration": 20,
    "start_time": "2025-03-29T20:24:13.752Z"
   },
   {
    "duration": 51,
    "start_time": "2025-03-29T20:24:13.774Z"
   },
   {
    "duration": 20,
    "start_time": "2025-03-29T20:24:13.827Z"
   },
   {
    "duration": 1387,
    "start_time": "2025-03-29T20:24:13.849Z"
   },
   {
    "duration": 875,
    "start_time": "2025-03-29T20:24:15.239Z"
   },
   {
    "duration": 10356,
    "start_time": "2025-03-29T20:24:16.116Z"
   },
   {
    "duration": 3317,
    "start_time": "2025-03-29T20:24:26.475Z"
   },
   {
    "duration": 1251,
    "start_time": "2025-03-29T20:24:29.793Z"
   },
   {
    "duration": 408,
    "start_time": "2025-03-29T20:24:31.047Z"
   },
   {
    "duration": 13948,
    "start_time": "2025-03-29T20:24:31.457Z"
   },
   {
    "duration": 18583,
    "start_time": "2025-03-29T20:24:45.406Z"
   },
   {
    "duration": 12115,
    "start_time": "2025-03-29T20:25:03.991Z"
   },
   {
    "duration": 172,
    "start_time": "2025-03-29T20:25:16.109Z"
   },
   {
    "duration": 52,
    "start_time": "2025-03-29T20:25:16.283Z"
   },
   {
    "duration": 3,
    "start_time": "2025-03-29T20:25:16.337Z"
   },
   {
    "duration": 4,
    "start_time": "2025-03-29T20:25:16.341Z"
   },
   {
    "duration": 10,
    "start_time": "2025-03-29T20:25:16.347Z"
   },
   {
    "duration": 5,
    "start_time": "2025-03-29T20:25:16.359Z"
   },
   {
    "duration": 1658,
    "start_time": "2025-03-29T20:25:16.366Z"
   },
   {
    "duration": 3,
    "start_time": "2025-03-29T20:25:18.025Z"
   },
   {
    "duration": 3,
    "start_time": "2025-03-29T20:25:18.029Z"
   },
   {
    "duration": 6,
    "start_time": "2025-03-29T20:25:18.033Z"
   },
   {
    "duration": 165,
    "start_time": "2025-03-29T20:25:18.040Z"
   },
   {
    "duration": 164,
    "start_time": "2025-03-29T20:25:18.207Z"
   },
   {
    "duration": 174,
    "start_time": "2025-03-29T20:25:18.376Z"
   },
   {
    "duration": 166,
    "start_time": "2025-03-29T20:25:18.552Z"
   },
   {
    "duration": 2,
    "start_time": "2025-03-29T20:25:18.720Z"
   },
   {
    "duration": 8,
    "start_time": "2025-03-29T20:25:18.723Z"
   },
   {
    "duration": 3,
    "start_time": "2025-03-29T20:25:18.732Z"
   },
   {
    "duration": 4,
    "start_time": "2025-03-29T20:25:18.736Z"
   },
   {
    "duration": 3,
    "start_time": "2025-03-29T20:25:18.741Z"
   },
   {
    "duration": 3,
    "start_time": "2025-03-29T20:25:18.745Z"
   },
   {
    "duration": 4,
    "start_time": "2025-03-29T20:25:18.750Z"
   },
   {
    "duration": 3,
    "start_time": "2025-03-29T20:25:18.756Z"
   },
   {
    "duration": 108195,
    "start_time": "2025-03-29T20:25:18.760Z"
   },
   {
    "duration": 14342,
    "start_time": "2025-03-29T20:27:06.957Z"
   },
   {
    "duration": 114,
    "start_time": "2025-03-29T20:27:21.302Z"
   },
   {
    "duration": 123,
    "start_time": "2025-03-29T20:27:21.418Z"
   },
   {
    "duration": 72,
    "start_time": "2025-03-29T20:27:21.543Z"
   },
   {
    "duration": 1635,
    "start_time": "2025-03-29T20:27:21.630Z"
   },
   {
    "duration": 8,
    "start_time": "2025-03-29T20:27:23.267Z"
   },
   {
    "duration": 350,
    "start_time": "2025-03-29T20:27:23.276Z"
   },
   {
    "duration": 159,
    "start_time": "2025-03-29T20:27:23.630Z"
   },
   {
    "duration": 164,
    "start_time": "2025-03-29T20:27:23.790Z"
   },
   {
    "duration": 206,
    "start_time": "2025-03-29T20:27:23.956Z"
   },
   {
    "duration": 324,
    "start_time": "2025-03-29T20:27:24.163Z"
   },
   {
    "duration": 202,
    "start_time": "2025-03-29T20:27:24.488Z"
   },
   {
    "duration": 1624,
    "start_time": "2025-03-29T20:27:24.692Z"
   },
   {
    "duration": 290,
    "start_time": "2025-03-29T20:27:26.319Z"
   },
   {
    "duration": 259,
    "start_time": "2025-03-29T20:27:26.611Z"
   },
   {
    "duration": 26,
    "start_time": "2025-03-29T20:27:26.871Z"
   },
   {
    "duration": 41,
    "start_time": "2025-03-29T20:27:26.899Z"
   },
   {
    "duration": 30,
    "start_time": "2025-03-29T20:27:26.942Z"
   },
   {
    "duration": 7,
    "start_time": "2025-03-29T20:27:26.974Z"
   },
   {
    "duration": 4,
    "start_time": "2025-03-29T20:27:26.982Z"
   },
   {
    "duration": 3,
    "start_time": "2025-03-29T20:27:26.988Z"
   },
   {
    "duration": 5,
    "start_time": "2025-03-29T20:27:26.992Z"
   },
   {
    "duration": 31,
    "start_time": "2025-03-29T20:27:26.999Z"
   },
   {
    "duration": 3784,
    "start_time": "2025-03-29T20:27:27.032Z"
   },
   {
    "duration": 11,
    "start_time": "2025-03-29T20:27:30.817Z"
   },
   {
    "duration": 0,
    "start_time": "2025-03-29T20:27:30.830Z"
   },
   {
    "duration": 0,
    "start_time": "2025-03-29T20:27:30.831Z"
   },
   {
    "duration": 0,
    "start_time": "2025-03-29T20:27:30.832Z"
   },
   {
    "duration": 0,
    "start_time": "2025-03-29T20:27:30.833Z"
   },
   {
    "duration": 0,
    "start_time": "2025-03-29T20:27:30.834Z"
   },
   {
    "duration": 0,
    "start_time": "2025-03-29T20:27:30.835Z"
   },
   {
    "duration": 0,
    "start_time": "2025-03-29T20:27:30.837Z"
   },
   {
    "duration": 0,
    "start_time": "2025-03-29T20:27:30.837Z"
   },
   {
    "duration": 0,
    "start_time": "2025-03-29T20:27:30.839Z"
   },
   {
    "duration": 0,
    "start_time": "2025-03-29T20:27:30.840Z"
   },
   {
    "duration": 0,
    "start_time": "2025-03-29T20:27:30.841Z"
   },
   {
    "duration": 0,
    "start_time": "2025-03-29T20:27:30.842Z"
   },
   {
    "duration": 0,
    "start_time": "2025-03-29T20:27:30.844Z"
   },
   {
    "duration": 0,
    "start_time": "2025-03-29T20:27:30.845Z"
   },
   {
    "duration": 0,
    "start_time": "2025-03-29T20:27:30.846Z"
   },
   {
    "duration": 0,
    "start_time": "2025-03-29T20:27:30.847Z"
   },
   {
    "duration": 0,
    "start_time": "2025-03-29T20:27:30.848Z"
   },
   {
    "duration": 0,
    "start_time": "2025-03-29T20:27:30.849Z"
   },
   {
    "duration": 0,
    "start_time": "2025-03-29T20:27:30.850Z"
   },
   {
    "duration": 0,
    "start_time": "2025-03-29T20:27:30.851Z"
   },
   {
    "duration": 0,
    "start_time": "2025-03-29T20:27:30.852Z"
   },
   {
    "duration": 0,
    "start_time": "2025-03-29T20:27:30.853Z"
   },
   {
    "duration": 2616,
    "start_time": "2025-03-29T20:30:58.797Z"
   },
   {
    "duration": 2541,
    "start_time": "2025-03-29T21:44:32.375Z"
   },
   {
    "duration": 9700,
    "start_time": "2025-03-29T21:44:34.919Z"
   },
   {
    "duration": 3,
    "start_time": "2025-03-29T21:44:44.620Z"
   },
   {
    "duration": 20,
    "start_time": "2025-03-29T21:44:44.630Z"
   },
   {
    "duration": 49,
    "start_time": "2025-03-29T21:44:44.651Z"
   },
   {
    "duration": 18,
    "start_time": "2025-03-29T21:44:44.701Z"
   },
   {
    "duration": 1329,
    "start_time": "2025-03-29T21:44:44.721Z"
   },
   {
    "duration": 533,
    "start_time": "2025-03-29T21:44:46.052Z"
   },
   {
    "duration": 10412,
    "start_time": "2025-03-29T21:44:46.586Z"
   },
   {
    "duration": 6220,
    "start_time": "2025-03-31T07:33:20.846Z"
   },
   {
    "duration": 12367,
    "start_time": "2025-03-31T07:33:27.068Z"
   },
   {
    "duration": 4,
    "start_time": "2025-03-31T07:33:39.437Z"
   },
   {
    "duration": 48,
    "start_time": "2025-03-31T07:33:39.442Z"
   },
   {
    "duration": 268,
    "start_time": "2025-03-31T07:33:39.492Z"
   },
   {
    "duration": 52,
    "start_time": "2025-03-31T07:33:39.763Z"
   },
   {
    "duration": 1364,
    "start_time": "2025-03-31T07:33:39.818Z"
   },
   {
    "duration": 552,
    "start_time": "2025-03-31T07:33:41.184Z"
   },
   {
    "duration": 10932,
    "start_time": "2025-03-31T07:33:41.738Z"
   },
   {
    "duration": 3799,
    "start_time": "2025-03-31T07:33:52.673Z"
   },
   {
    "duration": 1160,
    "start_time": "2025-03-31T07:33:56.474Z"
   },
   {
    "duration": 404,
    "start_time": "2025-03-31T07:33:57.635Z"
   },
   {
    "duration": 16918,
    "start_time": "2025-03-31T07:33:58.041Z"
   },
   {
    "duration": 17795,
    "start_time": "2025-03-31T07:34:14.961Z"
   },
   {
    "duration": 16106,
    "start_time": "2025-03-31T07:34:32.759Z"
   },
   {
    "duration": 154,
    "start_time": "2025-03-31T07:34:48.867Z"
   },
   {
    "duration": 49,
    "start_time": "2025-03-31T07:34:49.022Z"
   },
   {
    "duration": 2,
    "start_time": "2025-03-31T07:34:49.074Z"
   },
   {
    "duration": 26,
    "start_time": "2025-03-31T07:34:49.078Z"
   },
   {
    "duration": 47,
    "start_time": "2025-03-31T07:34:49.106Z"
   },
   {
    "duration": 13,
    "start_time": "2025-03-31T07:34:49.155Z"
   },
   {
    "duration": 1622,
    "start_time": "2025-03-31T07:34:49.170Z"
   },
   {
    "duration": 3,
    "start_time": "2025-03-31T07:34:50.793Z"
   },
   {
    "duration": 29,
    "start_time": "2025-03-31T07:34:50.798Z"
   },
   {
    "duration": 75,
    "start_time": "2025-03-31T07:34:50.829Z"
   },
   {
    "duration": 189,
    "start_time": "2025-03-31T07:34:50.906Z"
   },
   {
    "duration": 177,
    "start_time": "2025-03-31T07:34:51.097Z"
   },
   {
    "duration": 167,
    "start_time": "2025-03-31T07:34:51.278Z"
   },
   {
    "duration": 175,
    "start_time": "2025-03-31T07:34:51.447Z"
   },
   {
    "duration": 3,
    "start_time": "2025-03-31T07:34:51.624Z"
   },
   {
    "duration": 36,
    "start_time": "2025-03-31T07:34:51.629Z"
   },
   {
    "duration": 10,
    "start_time": "2025-03-31T07:34:51.667Z"
   },
   {
    "duration": 24,
    "start_time": "2025-03-31T07:34:51.679Z"
   },
   {
    "duration": 40,
    "start_time": "2025-03-31T07:34:51.705Z"
   },
   {
    "duration": 5,
    "start_time": "2025-03-31T07:34:51.747Z"
   },
   {
    "duration": 10,
    "start_time": "2025-03-31T07:34:51.753Z"
   },
   {
    "duration": 9,
    "start_time": "2025-03-31T07:34:51.765Z"
   },
   {
    "duration": 3657,
    "start_time": "2025-03-31T07:34:51.776Z"
   },
   {
    "duration": 105,
    "start_time": "2025-03-31T07:34:55.435Z"
   },
   {
    "duration": 105,
    "start_time": "2025-03-31T07:34:55.542Z"
   },
   {
    "duration": 93,
    "start_time": "2025-03-31T07:34:55.649Z"
   },
   {
    "duration": 1592,
    "start_time": "2025-03-31T07:34:55.744Z"
   },
   {
    "duration": 10,
    "start_time": "2025-03-31T07:34:57.337Z"
   },
   {
    "duration": 379,
    "start_time": "2025-03-31T07:34:57.349Z"
   },
   {
    "duration": 18,
    "start_time": "2025-03-31T07:34:57.730Z"
   },
   {
    "duration": 181,
    "start_time": "2025-03-31T07:34:57.750Z"
   },
   {
    "duration": 184,
    "start_time": "2025-03-31T07:34:57.933Z"
   },
   {
    "duration": 200,
    "start_time": "2025-03-31T07:34:58.120Z"
   },
   {
    "duration": 174,
    "start_time": "2025-03-31T07:34:58.322Z"
   },
   {
    "duration": 305,
    "start_time": "2025-03-31T07:34:58.503Z"
   },
   {
    "duration": 1865,
    "start_time": "2025-03-31T07:34:58.810Z"
   },
   {
    "duration": 308,
    "start_time": "2025-03-31T07:35:00.676Z"
   },
   {
    "duration": 293,
    "start_time": "2025-03-31T07:35:00.985Z"
   },
   {
    "duration": 36,
    "start_time": "2025-03-31T07:35:01.279Z"
   },
   {
    "duration": 45,
    "start_time": "2025-03-31T07:35:01.316Z"
   },
   {
    "duration": 28,
    "start_time": "2025-03-31T07:35:01.362Z"
   },
   {
    "duration": 41,
    "start_time": "2025-03-31T07:35:01.392Z"
   },
   {
    "duration": 30,
    "start_time": "2025-03-31T07:35:01.435Z"
   },
   {
    "duration": 21,
    "start_time": "2025-03-31T07:35:01.466Z"
   },
   {
    "duration": 75,
    "start_time": "2025-03-31T07:35:01.489Z"
   },
   {
    "duration": 79,
    "start_time": "2025-03-31T07:35:01.566Z"
   },
   {
    "duration": 316394,
    "start_time": "2025-03-31T07:35:01.647Z"
   },
   {
    "duration": 4,
    "start_time": "2025-03-31T07:40:18.042Z"
   },
   {
    "duration": 8,
    "start_time": "2025-03-31T07:40:18.047Z"
   },
   {
    "duration": 10,
    "start_time": "2025-03-31T07:40:18.056Z"
   },
   {
    "duration": 90560,
    "start_time": "2025-03-31T07:40:18.067Z"
   },
   {
    "duration": 5,
    "start_time": "2025-03-31T07:41:48.629Z"
   },
   {
    "duration": 3,
    "start_time": "2025-03-31T07:41:48.635Z"
   },
   {
    "duration": 6,
    "start_time": "2025-03-31T07:41:48.640Z"
   },
   {
    "duration": 29460,
    "start_time": "2025-03-31T07:41:48.648Z"
   },
   {
    "duration": 5,
    "start_time": "2025-03-31T07:42:18.109Z"
   },
   {
    "duration": 24,
    "start_time": "2025-03-31T07:42:18.115Z"
   },
   {
    "duration": 214,
    "start_time": "2025-03-31T07:42:18.141Z"
   },
   {
    "duration": 0,
    "start_time": "2025-03-31T07:42:18.357Z"
   },
   {
    "duration": 0,
    "start_time": "2025-03-31T07:42:18.358Z"
   },
   {
    "duration": 0,
    "start_time": "2025-03-31T07:42:18.359Z"
   },
   {
    "duration": 0,
    "start_time": "2025-03-31T07:42:18.361Z"
   },
   {
    "duration": 0,
    "start_time": "2025-03-31T07:42:18.362Z"
   },
   {
    "duration": 0,
    "start_time": "2025-03-31T07:42:18.363Z"
   },
   {
    "duration": 0,
    "start_time": "2025-03-31T07:42:18.364Z"
   },
   {
    "duration": 0,
    "start_time": "2025-03-31T07:42:18.366Z"
   },
   {
    "duration": 0,
    "start_time": "2025-03-31T07:42:18.366Z"
   },
   {
    "duration": 0,
    "start_time": "2025-03-31T07:42:18.368Z"
   },
   {
    "duration": 0,
    "start_time": "2025-03-31T07:42:18.369Z"
   },
   {
    "duration": 0,
    "start_time": "2025-03-31T07:42:18.370Z"
   },
   {
    "duration": 12,
    "start_time": "2025-03-31T07:43:03.170Z"
   },
   {
    "duration": 8322,
    "start_time": "2025-03-31T17:39:48.601Z"
   },
   {
    "duration": 8124,
    "start_time": "2025-03-31T17:39:56.925Z"
   },
   {
    "duration": 3,
    "start_time": "2025-03-31T17:40:05.050Z"
   },
   {
    "duration": 109,
    "start_time": "2025-03-31T17:40:05.055Z"
   },
   {
    "duration": 209,
    "start_time": "2025-03-31T17:40:05.166Z"
   },
   {
    "duration": 47,
    "start_time": "2025-03-31T17:40:05.377Z"
   },
   {
    "duration": 1229,
    "start_time": "2025-03-31T17:40:05.425Z"
   },
   {
    "duration": 507,
    "start_time": "2025-03-31T17:40:06.656Z"
   },
   {
    "duration": 9952,
    "start_time": "2025-03-31T17:40:07.164Z"
   },
   {
    "duration": 2986,
    "start_time": "2025-03-31T17:40:17.119Z"
   },
   {
    "duration": 1052,
    "start_time": "2025-03-31T17:40:20.107Z"
   },
   {
    "duration": 425,
    "start_time": "2025-03-31T17:40:21.161Z"
   },
   {
    "duration": 12937,
    "start_time": "2025-03-31T17:40:21.588Z"
   },
   {
    "duration": 17523,
    "start_time": "2025-03-31T17:40:34.527Z"
   },
   {
    "duration": 8901,
    "start_time": "2025-03-31T17:40:52.052Z"
   },
   {
    "duration": 83,
    "start_time": "2025-03-31T17:41:00.955Z"
   },
   {
    "duration": 50,
    "start_time": "2025-03-31T17:41:01.039Z"
   },
   {
    "duration": 2,
    "start_time": "2025-03-31T17:41:01.091Z"
   },
   {
    "duration": 21,
    "start_time": "2025-03-31T17:41:01.094Z"
   },
   {
    "duration": 9,
    "start_time": "2025-03-31T17:41:01.116Z"
   },
   {
    "duration": 32,
    "start_time": "2025-03-31T17:41:01.126Z"
   },
   {
    "duration": 889,
    "start_time": "2025-03-31T17:41:01.159Z"
   },
   {
    "duration": 2,
    "start_time": "2025-03-31T17:41:02.049Z"
   },
   {
    "duration": 17,
    "start_time": "2025-03-31T17:41:02.053Z"
   },
   {
    "duration": 23,
    "start_time": "2025-03-31T17:41:02.071Z"
   },
   {
    "duration": 179,
    "start_time": "2025-03-31T17:41:02.096Z"
   },
   {
    "duration": 194,
    "start_time": "2025-03-31T17:41:02.276Z"
   },
   {
    "duration": 172,
    "start_time": "2025-03-31T17:41:02.474Z"
   },
   {
    "duration": 157,
    "start_time": "2025-03-31T17:41:02.647Z"
   },
   {
    "duration": 1,
    "start_time": "2025-03-31T17:41:02.806Z"
   },
   {
    "duration": 16,
    "start_time": "2025-03-31T17:41:02.809Z"
   },
   {
    "duration": 8,
    "start_time": "2025-03-31T17:41:02.826Z"
   },
   {
    "duration": 5,
    "start_time": "2025-03-31T17:41:02.835Z"
   },
   {
    "duration": 7,
    "start_time": "2025-03-31T17:41:02.841Z"
   },
   {
    "duration": 49,
    "start_time": "2025-03-31T17:41:02.849Z"
   },
   {
    "duration": 37,
    "start_time": "2025-03-31T17:41:02.900Z"
   },
   {
    "duration": 16,
    "start_time": "2025-03-31T17:41:02.939Z"
   },
   {
    "duration": 2186,
    "start_time": "2025-03-31T17:41:02.956Z"
   },
   {
    "duration": 55,
    "start_time": "2025-03-31T17:41:05.144Z"
   },
   {
    "duration": 110,
    "start_time": "2025-03-31T17:41:05.201Z"
   },
   {
    "duration": 17,
    "start_time": "2025-03-31T17:41:05.313Z"
   },
   {
    "duration": 137,
    "start_time": "2025-03-31T17:41:05.331Z"
   },
   {
    "duration": 88,
    "start_time": "2025-03-31T17:41:05.470Z"
   },
   {
    "duration": 45,
    "start_time": "2025-03-31T17:41:05.560Z"
   },
   {
    "duration": 847,
    "start_time": "2025-03-31T17:41:05.607Z"
   },
   {
    "duration": 10,
    "start_time": "2025-03-31T17:41:06.456Z"
   },
   {
    "duration": 21,
    "start_time": "2025-03-31T17:41:06.467Z"
   },
   {
    "duration": 20,
    "start_time": "2025-03-31T17:41:06.489Z"
   },
   {
    "duration": 16,
    "start_time": "2025-03-31T17:41:06.510Z"
   },
   {
    "duration": 154,
    "start_time": "2025-03-31T17:41:06.527Z"
   },
   {
    "duration": 151,
    "start_time": "2025-03-31T17:41:06.683Z"
   },
   {
    "duration": 165,
    "start_time": "2025-03-31T17:41:06.836Z"
   },
   {
    "duration": 156,
    "start_time": "2025-03-31T17:41:07.003Z"
   },
   {
    "duration": 107,
    "start_time": "2025-03-31T17:41:07.160Z"
   },
   {
    "duration": 865,
    "start_time": "2025-03-31T17:41:07.272Z"
   },
   {
    "duration": 155,
    "start_time": "2025-03-31T17:41:08.139Z"
   },
   {
    "duration": 154,
    "start_time": "2025-03-31T17:41:08.296Z"
   },
   {
    "duration": 25,
    "start_time": "2025-03-31T17:41:08.452Z"
   },
   {
    "duration": 25,
    "start_time": "2025-03-31T17:41:08.478Z"
   },
   {
    "duration": 17,
    "start_time": "2025-03-31T17:41:08.504Z"
   },
   {
    "duration": 3,
    "start_time": "2025-03-31T17:41:08.523Z"
   },
   {
    "duration": 6,
    "start_time": "2025-03-31T17:41:08.528Z"
   },
   {
    "duration": 22,
    "start_time": "2025-03-31T17:41:08.535Z"
   },
   {
    "duration": 6,
    "start_time": "2025-03-31T17:41:08.559Z"
   },
   {
    "duration": 3,
    "start_time": "2025-03-31T17:41:08.573Z"
   },
   {
    "duration": 219325,
    "start_time": "2025-03-31T17:41:08.577Z"
   },
   {
    "duration": 3,
    "start_time": "2025-03-31T17:44:47.904Z"
   },
   {
    "duration": 4,
    "start_time": "2025-03-31T17:44:47.909Z"
   },
   {
    "duration": 5,
    "start_time": "2025-03-31T17:44:47.914Z"
   },
   {
    "duration": 84842,
    "start_time": "2025-03-31T17:44:47.920Z"
   },
   {
    "duration": 8,
    "start_time": "2025-03-31T17:46:12.764Z"
   },
   {
    "duration": 3,
    "start_time": "2025-03-31T17:46:12.774Z"
   },
   {
    "duration": 5,
    "start_time": "2025-03-31T17:46:12.778Z"
   },
   {
    "duration": 125394,
    "start_time": "2025-03-31T17:46:12.784Z"
   },
   {
    "duration": 4,
    "start_time": "2025-03-31T17:48:18.180Z"
   },
   {
    "duration": 6,
    "start_time": "2025-03-31T17:48:18.185Z"
   },
   {
    "duration": 179,
    "start_time": "2025-03-31T17:48:18.192Z"
   },
   {
    "duration": 176,
    "start_time": "2025-03-31T17:48:18.373Z"
   },
   {
    "duration": 0,
    "start_time": "2025-03-31T17:48:18.551Z"
   },
   {
    "duration": 0,
    "start_time": "2025-03-31T17:48:18.553Z"
   },
   {
    "duration": 0,
    "start_time": "2025-03-31T17:48:18.554Z"
   },
   {
    "duration": 0,
    "start_time": "2025-03-31T17:48:18.556Z"
   },
   {
    "duration": 0,
    "start_time": "2025-03-31T17:48:18.572Z"
   },
   {
    "duration": 0,
    "start_time": "2025-03-31T17:48:18.573Z"
   },
   {
    "duration": 0,
    "start_time": "2025-03-31T17:48:18.575Z"
   },
   {
    "duration": 0,
    "start_time": "2025-03-31T17:48:18.576Z"
   },
   {
    "duration": 0,
    "start_time": "2025-03-31T17:48:18.579Z"
   },
   {
    "duration": 0,
    "start_time": "2025-03-31T17:48:18.581Z"
   },
   {
    "duration": 0,
    "start_time": "2025-03-31T17:48:18.582Z"
   },
   {
    "duration": 92,
    "start_time": "2025-03-31T17:49:46.054Z"
   },
   {
    "duration": 17,
    "start_time": "2025-03-31T17:49:51.530Z"
   },
   {
    "duration": 2356,
    "start_time": "2025-03-31T17:50:07.021Z"
   },
   {
    "duration": 7512,
    "start_time": "2025-03-31T17:50:09.379Z"
   },
   {
    "duration": 3,
    "start_time": "2025-03-31T17:50:16.892Z"
   },
   {
    "duration": 22,
    "start_time": "2025-03-31T17:50:16.897Z"
   },
   {
    "duration": 202,
    "start_time": "2025-03-31T17:50:16.920Z"
   },
   {
    "duration": 45,
    "start_time": "2025-03-31T17:50:17.123Z"
   },
   {
    "duration": 1285,
    "start_time": "2025-03-31T17:50:17.170Z"
   },
   {
    "duration": 497,
    "start_time": "2025-03-31T17:50:18.457Z"
   },
   {
    "duration": 10240,
    "start_time": "2025-03-31T17:50:18.956Z"
   },
   {
    "duration": 2935,
    "start_time": "2025-03-31T17:50:29.198Z"
   },
   {
    "duration": 1056,
    "start_time": "2025-03-31T17:50:32.135Z"
   },
   {
    "duration": 356,
    "start_time": "2025-03-31T17:50:33.193Z"
   },
   {
    "duration": 16384,
    "start_time": "2025-03-31T17:50:33.551Z"
   },
   {
    "duration": 16028,
    "start_time": "2025-03-31T17:50:49.937Z"
   },
   {
    "duration": 10117,
    "start_time": "2025-03-31T17:51:05.967Z"
   },
   {
    "duration": 90,
    "start_time": "2025-03-31T17:51:16.085Z"
   },
   {
    "duration": 41,
    "start_time": "2025-03-31T17:51:16.177Z"
   },
   {
    "duration": 2,
    "start_time": "2025-03-31T17:51:16.220Z"
   },
   {
    "duration": 10,
    "start_time": "2025-03-31T17:51:16.223Z"
   },
   {
    "duration": 5,
    "start_time": "2025-03-31T17:51:16.234Z"
   },
   {
    "duration": 12,
    "start_time": "2025-03-31T17:51:16.240Z"
   },
   {
    "duration": 916,
    "start_time": "2025-03-31T17:51:16.254Z"
   },
   {
    "duration": 2,
    "start_time": "2025-03-31T17:51:17.173Z"
   },
   {
    "duration": 23,
    "start_time": "2025-03-31T17:51:17.176Z"
   },
   {
    "duration": 18,
    "start_time": "2025-03-31T17:51:17.201Z"
   },
   {
    "duration": 153,
    "start_time": "2025-03-31T17:51:17.221Z"
   },
   {
    "duration": 159,
    "start_time": "2025-03-31T17:51:17.375Z"
   },
   {
    "duration": 168,
    "start_time": "2025-03-31T17:51:17.538Z"
   },
   {
    "duration": 154,
    "start_time": "2025-03-31T17:51:17.707Z"
   },
   {
    "duration": 2,
    "start_time": "2025-03-31T17:51:17.863Z"
   },
   {
    "duration": 2,
    "start_time": "2025-03-31T17:51:17.872Z"
   },
   {
    "duration": 4,
    "start_time": "2025-03-31T17:51:17.875Z"
   },
   {
    "duration": 7,
    "start_time": "2025-03-31T17:51:17.880Z"
   },
   {
    "duration": 4,
    "start_time": "2025-03-31T17:51:17.888Z"
   },
   {
    "duration": 4,
    "start_time": "2025-03-31T17:51:17.893Z"
   },
   {
    "duration": 4,
    "start_time": "2025-03-31T17:51:17.898Z"
   },
   {
    "duration": 3,
    "start_time": "2025-03-31T17:51:17.904Z"
   },
   {
    "duration": 2258,
    "start_time": "2025-03-31T17:51:17.908Z"
   },
   {
    "duration": 50,
    "start_time": "2025-03-31T17:51:20.167Z"
   },
   {
    "duration": 123,
    "start_time": "2025-03-31T17:51:20.219Z"
   },
   {
    "duration": 17,
    "start_time": "2025-03-31T17:51:20.344Z"
   },
   {
    "duration": 95,
    "start_time": "2025-03-31T17:51:20.363Z"
   },
   {
    "duration": 94,
    "start_time": "2025-03-31T17:51:20.460Z"
   },
   {
    "duration": 46,
    "start_time": "2025-03-31T17:51:20.555Z"
   },
   {
    "duration": 822,
    "start_time": "2025-03-31T17:51:20.602Z"
   },
   {
    "duration": 9,
    "start_time": "2025-03-31T17:51:21.426Z"
   },
   {
    "duration": 2,
    "start_time": "2025-03-31T17:51:21.436Z"
   },
   {
    "duration": 3,
    "start_time": "2025-03-31T17:51:21.440Z"
   },
   {
    "duration": 2,
    "start_time": "2025-03-31T17:51:21.445Z"
   },
   {
    "duration": 137,
    "start_time": "2025-03-31T17:51:21.449Z"
   },
   {
    "duration": 156,
    "start_time": "2025-03-31T17:51:21.588Z"
   },
   {
    "duration": 167,
    "start_time": "2025-03-31T17:51:21.746Z"
   },
   {
    "duration": 157,
    "start_time": "2025-03-31T17:51:21.915Z"
   },
   {
    "duration": 99,
    "start_time": "2025-03-31T17:51:22.074Z"
   },
   {
    "duration": 923,
    "start_time": "2025-03-31T17:51:22.174Z"
   },
   {
    "duration": 147,
    "start_time": "2025-03-31T17:51:23.098Z"
   },
   {
    "duration": 128,
    "start_time": "2025-03-31T17:51:23.247Z"
   },
   {
    "duration": 20,
    "start_time": "2025-03-31T17:51:23.377Z"
   },
   {
    "duration": 45,
    "start_time": "2025-03-31T17:51:23.398Z"
   },
   {
    "duration": 18,
    "start_time": "2025-03-31T17:51:23.444Z"
   },
   {
    "duration": 3,
    "start_time": "2025-03-31T17:51:23.463Z"
   },
   {
    "duration": 3,
    "start_time": "2025-03-31T17:51:23.472Z"
   },
   {
    "duration": 11,
    "start_time": "2025-03-31T17:51:23.476Z"
   },
   {
    "duration": 34,
    "start_time": "2025-03-31T17:51:23.489Z"
   },
   {
    "duration": 51,
    "start_time": "2025-03-31T17:51:23.525Z"
   },
   {
    "duration": 200629,
    "start_time": "2025-03-31T17:51:23.578Z"
   },
   {
    "duration": 3,
    "start_time": "2025-03-31T17:54:44.209Z"
   },
   {
    "duration": 5,
    "start_time": "2025-03-31T17:54:44.213Z"
   },
   {
    "duration": 4,
    "start_time": "2025-03-31T17:54:44.219Z"
   },
   {
    "duration": 84414,
    "start_time": "2025-03-31T17:54:44.225Z"
   },
   {
    "duration": 3,
    "start_time": "2025-03-31T17:56:08.641Z"
   },
   {
    "duration": 8,
    "start_time": "2025-03-31T17:56:08.645Z"
   },
   {
    "duration": 8,
    "start_time": "2025-03-31T17:56:08.654Z"
   },
   {
    "duration": 32913,
    "start_time": "2025-03-31T17:56:08.663Z"
   },
   {
    "duration": 4,
    "start_time": "2025-03-31T17:56:41.578Z"
   },
   {
    "duration": 3,
    "start_time": "2025-03-31T17:56:41.583Z"
   },
   {
    "duration": 216,
    "start_time": "2025-03-31T17:56:41.588Z"
   },
   {
    "duration": 0,
    "start_time": "2025-03-31T17:56:41.806Z"
   },
   {
    "duration": 0,
    "start_time": "2025-03-31T17:56:41.807Z"
   },
   {
    "duration": 0,
    "start_time": "2025-03-31T17:56:41.808Z"
   },
   {
    "duration": 0,
    "start_time": "2025-03-31T17:56:41.809Z"
   },
   {
    "duration": 0,
    "start_time": "2025-03-31T17:56:41.809Z"
   },
   {
    "duration": 0,
    "start_time": "2025-03-31T17:56:41.810Z"
   },
   {
    "duration": 0,
    "start_time": "2025-03-31T17:56:41.812Z"
   },
   {
    "duration": 0,
    "start_time": "2025-03-31T17:56:41.812Z"
   },
   {
    "duration": 0,
    "start_time": "2025-03-31T17:56:41.813Z"
   },
   {
    "duration": 0,
    "start_time": "2025-03-31T17:56:41.814Z"
   },
   {
    "duration": 0,
    "start_time": "2025-03-31T17:56:41.815Z"
   },
   {
    "duration": 0,
    "start_time": "2025-03-31T17:56:41.816Z"
   },
   {
    "duration": 121,
    "start_time": "2025-03-31T18:01:45.043Z"
   },
   {
    "duration": 20,
    "start_time": "2025-03-31T18:01:53.188Z"
   },
   {
    "duration": 11,
    "start_time": "2025-03-31T18:04:00.030Z"
   },
   {
    "duration": 21,
    "start_time": "2025-03-31T18:10:14.063Z"
   },
   {
    "duration": 17,
    "start_time": "2025-03-31T18:10:42.695Z"
   },
   {
    "duration": 10,
    "start_time": "2025-03-31T18:11:02.560Z"
   },
   {
    "duration": 17,
    "start_time": "2025-03-31T18:12:00.507Z"
   },
   {
    "duration": 2460,
    "start_time": "2025-03-31T18:47:08.024Z"
   },
   {
    "duration": 8253,
    "start_time": "2025-03-31T18:47:10.487Z"
   },
   {
    "duration": 3,
    "start_time": "2025-03-31T18:47:18.742Z"
   },
   {
    "duration": 36,
    "start_time": "2025-03-31T18:47:18.748Z"
   },
   {
    "duration": 211,
    "start_time": "2025-03-31T18:47:18.785Z"
   },
   {
    "duration": 46,
    "start_time": "2025-03-31T18:47:18.998Z"
   },
   {
    "duration": 1355,
    "start_time": "2025-03-31T18:47:19.046Z"
   },
   {
    "duration": 519,
    "start_time": "2025-03-31T18:47:20.402Z"
   },
   {
    "duration": 14069,
    "start_time": "2025-03-31T18:47:20.923Z"
   },
   {
    "duration": 3246,
    "start_time": "2025-03-31T18:47:34.994Z"
   },
   {
    "duration": 1247,
    "start_time": "2025-03-31T18:47:38.242Z"
   },
   {
    "duration": 396,
    "start_time": "2025-03-31T18:47:39.491Z"
   },
   {
    "duration": 11917,
    "start_time": "2025-03-31T18:47:39.889Z"
   },
   {
    "duration": 18009,
    "start_time": "2025-03-31T18:47:51.808Z"
   },
   {
    "duration": 10321,
    "start_time": "2025-03-31T18:48:09.819Z"
   },
   {
    "duration": 111,
    "start_time": "2025-03-31T18:48:20.142Z"
   },
   {
    "duration": 66,
    "start_time": "2025-03-31T18:48:20.255Z"
   },
   {
    "duration": 2,
    "start_time": "2025-03-31T18:48:20.323Z"
   },
   {
    "duration": 15,
    "start_time": "2025-03-31T18:48:20.327Z"
   },
   {
    "duration": 17,
    "start_time": "2025-03-31T18:48:20.343Z"
   },
   {
    "duration": 7,
    "start_time": "2025-03-31T18:48:20.362Z"
   },
   {
    "duration": 960,
    "start_time": "2025-03-31T18:48:20.370Z"
   },
   {
    "duration": 2,
    "start_time": "2025-03-31T18:48:21.332Z"
   },
   {
    "duration": 3,
    "start_time": "2025-03-31T18:48:21.336Z"
   },
   {
    "duration": 6,
    "start_time": "2025-03-31T18:48:21.341Z"
   },
   {
    "duration": 163,
    "start_time": "2025-03-31T18:48:21.348Z"
   },
   {
    "duration": 189,
    "start_time": "2025-03-31T18:48:21.513Z"
   },
   {
    "duration": 187,
    "start_time": "2025-03-31T18:48:21.706Z"
   },
   {
    "duration": 172,
    "start_time": "2025-03-31T18:48:21.895Z"
   },
   {
    "duration": 17,
    "start_time": "2025-03-31T18:48:22.069Z"
   },
   {
    "duration": 5,
    "start_time": "2025-03-31T18:48:22.088Z"
   },
   {
    "duration": 4,
    "start_time": "2025-03-31T18:48:22.094Z"
   },
   {
    "duration": 3,
    "start_time": "2025-03-31T18:48:22.099Z"
   },
   {
    "duration": 3,
    "start_time": "2025-03-31T18:48:22.104Z"
   },
   {
    "duration": 4,
    "start_time": "2025-03-31T18:48:22.108Z"
   },
   {
    "duration": 5,
    "start_time": "2025-03-31T18:48:22.113Z"
   },
   {
    "duration": 3,
    "start_time": "2025-03-31T18:48:22.120Z"
   },
   {
    "duration": 2477,
    "start_time": "2025-03-31T18:48:22.124Z"
   },
   {
    "duration": 55,
    "start_time": "2025-03-31T18:48:24.603Z"
   },
   {
    "duration": 152,
    "start_time": "2025-03-31T18:48:24.660Z"
   },
   {
    "duration": 18,
    "start_time": "2025-03-31T18:48:24.813Z"
   },
   {
    "duration": 124,
    "start_time": "2025-03-31T18:48:24.833Z"
   },
   {
    "duration": 108,
    "start_time": "2025-03-31T18:48:24.959Z"
   },
   {
    "duration": 49,
    "start_time": "2025-03-31T18:48:25.068Z"
   },
   {
    "duration": 1018,
    "start_time": "2025-03-31T18:48:25.119Z"
   },
   {
    "duration": 10,
    "start_time": "2025-03-31T18:48:26.139Z"
   },
   {
    "duration": 3,
    "start_time": "2025-03-31T18:48:26.150Z"
   },
   {
    "duration": 5,
    "start_time": "2025-03-31T18:48:26.154Z"
   },
   {
    "duration": 4,
    "start_time": "2025-03-31T18:48:26.160Z"
   },
   {
    "duration": 155,
    "start_time": "2025-03-31T18:48:26.166Z"
   },
   {
    "duration": 172,
    "start_time": "2025-03-31T18:48:26.323Z"
   },
   {
    "duration": 182,
    "start_time": "2025-03-31T18:48:26.497Z"
   },
   {
    "duration": 156,
    "start_time": "2025-03-31T18:48:26.681Z"
   },
   {
    "duration": 124,
    "start_time": "2025-03-31T18:48:26.839Z"
   },
   {
    "duration": 890,
    "start_time": "2025-03-31T18:48:26.965Z"
   },
   {
    "duration": 174,
    "start_time": "2025-03-31T18:48:27.857Z"
   },
   {
    "duration": 157,
    "start_time": "2025-03-31T18:48:28.033Z"
   },
   {
    "duration": 22,
    "start_time": "2025-03-31T18:48:28.192Z"
   },
   {
    "duration": 31,
    "start_time": "2025-03-31T18:48:28.216Z"
   },
   {
    "duration": 40,
    "start_time": "2025-03-31T18:48:28.249Z"
   },
   {
    "duration": 3,
    "start_time": "2025-03-31T18:48:28.291Z"
   },
   {
    "duration": 3,
    "start_time": "2025-03-31T18:48:28.296Z"
   },
   {
    "duration": 4,
    "start_time": "2025-03-31T18:48:28.301Z"
   },
   {
    "duration": 5,
    "start_time": "2025-03-31T18:48:28.306Z"
   },
   {
    "duration": 8,
    "start_time": "2025-03-31T18:48:28.312Z"
   },
   {
    "duration": 224070,
    "start_time": "2025-03-31T18:48:28.321Z"
   },
   {
    "duration": 5,
    "start_time": "2025-03-31T18:52:12.393Z"
   },
   {
    "duration": 5,
    "start_time": "2025-03-31T18:52:12.401Z"
   },
   {
    "duration": 7,
    "start_time": "2025-03-31T18:52:12.408Z"
   },
   {
    "duration": 91207,
    "start_time": "2025-03-31T18:52:12.417Z"
   },
   {
    "duration": 3,
    "start_time": "2025-03-31T18:53:43.626Z"
   },
   {
    "duration": 3,
    "start_time": "2025-03-31T18:53:43.631Z"
   },
   {
    "duration": 55,
    "start_time": "2025-03-31T18:53:43.636Z"
   },
   {
    "duration": 569287,
    "start_time": "2025-03-31T18:53:43.693Z"
   },
   {
    "duration": 9,
    "start_time": "2025-03-31T19:03:12.981Z"
   },
   {
    "duration": 14,
    "start_time": "2025-03-31T19:03:12.991Z"
   },
   {
    "duration": 3,
    "start_time": "2025-03-31T19:03:13.007Z"
   },
   {
    "duration": 2,
    "start_time": "2025-03-31T19:03:13.012Z"
   },
   {
    "duration": 3,
    "start_time": "2025-03-31T19:03:13.015Z"
   },
   {
    "duration": 142,
    "start_time": "2025-03-31T19:03:13.020Z"
   },
   {
    "duration": 0,
    "start_time": "2025-03-31T19:03:13.163Z"
   },
   {
    "duration": 0,
    "start_time": "2025-03-31T19:03:13.165Z"
   },
   {
    "duration": 0,
    "start_time": "2025-03-31T19:03:13.166Z"
   },
   {
    "duration": 0,
    "start_time": "2025-03-31T19:03:13.166Z"
   },
   {
    "duration": 0,
    "start_time": "2025-03-31T19:03:13.167Z"
   },
   {
    "duration": 0,
    "start_time": "2025-03-31T19:03:13.168Z"
   },
   {
    "duration": 0,
    "start_time": "2025-03-31T19:03:13.169Z"
   },
   {
    "duration": 0,
    "start_time": "2025-03-31T19:03:13.171Z"
   },
   {
    "duration": 0,
    "start_time": "2025-03-31T19:03:13.171Z"
   },
   {
    "duration": 1,
    "start_time": "2025-03-31T19:03:13.172Z"
   },
   {
    "duration": 0,
    "start_time": "2025-03-31T19:03:13.173Z"
   },
   {
    "duration": 53185,
    "start_time": "2025-03-31T19:03:45.261Z"
   },
   {
    "duration": 3,
    "start_time": "2025-03-31T19:05:26.499Z"
   },
   {
    "duration": 4348,
    "start_time": "2025-03-31T19:05:31.115Z"
   },
   {
    "duration": 2595,
    "start_time": "2025-03-31T19:06:47.135Z"
   },
   {
    "duration": 8272,
    "start_time": "2025-03-31T19:06:49.732Z"
   },
   {
    "duration": 3,
    "start_time": "2025-03-31T19:06:58.006Z"
   },
   {
    "duration": 19,
    "start_time": "2025-03-31T19:06:58.011Z"
   },
   {
    "duration": 224,
    "start_time": "2025-03-31T19:06:58.032Z"
   },
   {
    "duration": 44,
    "start_time": "2025-03-31T19:06:58.258Z"
   },
   {
    "duration": 1384,
    "start_time": "2025-03-31T19:06:58.304Z"
   },
   {
    "duration": 551,
    "start_time": "2025-03-31T19:06:59.690Z"
   },
   {
    "duration": 2552,
    "start_time": "2025-04-01T17:25:38.657Z"
   },
   {
    "duration": 7707,
    "start_time": "2025-04-01T17:25:41.212Z"
   },
   {
    "duration": 4,
    "start_time": "2025-04-01T17:25:48.920Z"
   },
   {
    "duration": 70,
    "start_time": "2025-04-01T17:25:48.926Z"
   },
   {
    "duration": 211,
    "start_time": "2025-04-01T17:25:48.998Z"
   },
   {
    "duration": 49,
    "start_time": "2025-04-01T17:25:49.211Z"
   },
   {
    "duration": 1446,
    "start_time": "2025-04-01T17:25:49.262Z"
   },
   {
    "duration": 533,
    "start_time": "2025-04-01T17:25:50.710Z"
   },
   {
    "duration": 10718,
    "start_time": "2025-04-01T17:25:51.245Z"
   },
   {
    "duration": 3344,
    "start_time": "2025-04-01T17:26:01.966Z"
   },
   {
    "duration": 1333,
    "start_time": "2025-04-01T17:26:05.312Z"
   },
   {
    "duration": 403,
    "start_time": "2025-04-01T17:26:06.646Z"
   },
   {
    "duration": 26895,
    "start_time": "2025-04-01T17:26:07.050Z"
   },
   {
    "duration": 18366,
    "start_time": "2025-04-01T17:26:33.947Z"
   },
   {
    "duration": 10090,
    "start_time": "2025-04-01T17:26:52.314Z"
   },
   {
    "duration": 113,
    "start_time": "2025-04-01T17:27:02.406Z"
   },
   {
    "duration": 74,
    "start_time": "2025-04-01T17:27:02.521Z"
   },
   {
    "duration": 2,
    "start_time": "2025-04-01T17:27:02.597Z"
   },
   {
    "duration": 70,
    "start_time": "2025-04-01T17:27:02.601Z"
   },
   {
    "duration": 21,
    "start_time": "2025-04-01T17:27:02.672Z"
   },
   {
    "duration": 17,
    "start_time": "2025-04-01T17:27:02.695Z"
   },
   {
    "duration": 1096,
    "start_time": "2025-04-01T17:27:02.713Z"
   },
   {
    "duration": 2,
    "start_time": "2025-04-01T17:27:03.811Z"
   },
   {
    "duration": 37,
    "start_time": "2025-04-01T17:27:03.815Z"
   },
   {
    "duration": 17,
    "start_time": "2025-04-01T17:27:03.854Z"
   },
   {
    "duration": 182,
    "start_time": "2025-04-01T17:27:03.873Z"
   },
   {
    "duration": 179,
    "start_time": "2025-04-01T17:27:04.056Z"
   },
   {
    "duration": 198,
    "start_time": "2025-04-01T17:27:04.239Z"
   },
   {
    "duration": 172,
    "start_time": "2025-04-01T17:27:04.438Z"
   },
   {
    "duration": 2,
    "start_time": "2025-04-01T17:27:04.612Z"
   },
   {
    "duration": 19,
    "start_time": "2025-04-01T17:27:04.615Z"
   },
   {
    "duration": 5,
    "start_time": "2025-04-01T17:27:04.635Z"
   },
   {
    "duration": 31,
    "start_time": "2025-04-01T17:27:04.641Z"
   },
   {
    "duration": 8,
    "start_time": "2025-04-01T17:27:04.673Z"
   },
   {
    "duration": 6,
    "start_time": "2025-04-01T17:27:04.683Z"
   },
   {
    "duration": 30,
    "start_time": "2025-04-01T17:27:04.691Z"
   },
   {
    "duration": 23,
    "start_time": "2025-04-01T17:27:04.722Z"
   },
   {
    "duration": 2547,
    "start_time": "2025-04-01T17:27:04.746Z"
   },
   {
    "duration": 59,
    "start_time": "2025-04-01T17:27:07.294Z"
   },
   {
    "duration": 151,
    "start_time": "2025-04-01T17:27:07.354Z"
   },
   {
    "duration": 18,
    "start_time": "2025-04-01T17:27:07.507Z"
   },
   {
    "duration": 189,
    "start_time": "2025-04-01T17:27:07.527Z"
   },
   {
    "duration": 103,
    "start_time": "2025-04-01T17:27:07.718Z"
   },
   {
    "duration": 55,
    "start_time": "2025-04-01T17:27:07.823Z"
   },
   {
    "duration": 1187,
    "start_time": "2025-04-01T17:27:07.880Z"
   },
   {
    "duration": 11,
    "start_time": "2025-04-01T17:27:09.069Z"
   },
   {
    "duration": 6,
    "start_time": "2025-04-01T17:27:09.082Z"
   },
   {
    "duration": 22,
    "start_time": "2025-04-01T17:27:09.089Z"
   },
   {
    "duration": 6,
    "start_time": "2025-04-01T17:27:09.113Z"
   },
   {
    "duration": 159,
    "start_time": "2025-04-01T17:27:09.120Z"
   },
   {
    "duration": 171,
    "start_time": "2025-04-01T17:27:09.282Z"
   },
   {
    "duration": 175,
    "start_time": "2025-04-01T17:27:09.454Z"
   },
   {
    "duration": 169,
    "start_time": "2025-04-01T17:27:09.630Z"
   },
   {
    "duration": 116,
    "start_time": "2025-04-01T17:27:09.800Z"
   },
   {
    "duration": 880,
    "start_time": "2025-04-01T17:27:09.918Z"
   },
   {
    "duration": 175,
    "start_time": "2025-04-01T17:27:10.800Z"
   },
   {
    "duration": 162,
    "start_time": "2025-04-01T17:27:10.976Z"
   },
   {
    "duration": 22,
    "start_time": "2025-04-01T17:27:11.139Z"
   },
   {
    "duration": 34,
    "start_time": "2025-04-01T17:27:11.163Z"
   },
   {
    "duration": 20,
    "start_time": "2025-04-01T17:27:11.199Z"
   },
   {
    "duration": 4,
    "start_time": "2025-04-01T17:27:11.220Z"
   },
   {
    "duration": 8,
    "start_time": "2025-04-01T17:27:11.226Z"
   },
   {
    "duration": 4,
    "start_time": "2025-04-01T17:27:11.235Z"
   },
   {
    "duration": 4,
    "start_time": "2025-04-01T17:27:11.240Z"
   },
   {
    "duration": 4,
    "start_time": "2025-04-01T17:27:11.245Z"
   },
   {
    "duration": 203541,
    "start_time": "2025-04-01T17:27:11.251Z"
   },
   {
    "duration": 5,
    "start_time": "2025-04-01T17:30:34.794Z"
   },
   {
    "duration": 9,
    "start_time": "2025-04-01T17:30:34.801Z"
   },
   {
    "duration": 18,
    "start_time": "2025-04-01T17:30:34.812Z"
   },
   {
    "duration": 94749,
    "start_time": "2025-04-01T17:30:34.831Z"
   },
   {
    "duration": 4,
    "start_time": "2025-04-01T17:32:09.582Z"
   },
   {
    "duration": 7,
    "start_time": "2025-04-01T17:32:09.587Z"
   },
   {
    "duration": 5,
    "start_time": "2025-04-01T17:32:09.595Z"
   },
   {
    "duration": 338804,
    "start_time": "2025-04-01T17:32:09.602Z"
   },
   {
    "duration": 70,
    "start_time": "2025-04-01T17:37:48.408Z"
   },
   {
    "duration": 4,
    "start_time": "2025-04-01T17:37:48.481Z"
   },
   {
    "duration": 146,
    "start_time": "2025-04-01T17:37:48.487Z"
   },
   {
    "duration": 3,
    "start_time": "2025-04-01T17:37:48.634Z"
   },
   {
    "duration": 10,
    "start_time": "2025-04-01T17:37:48.638Z"
   },
   {
    "duration": 13770,
    "start_time": "2025-04-01T17:37:48.650Z"
   },
   {
    "duration": 4,
    "start_time": "2025-04-01T17:38:02.421Z"
   },
   {
    "duration": 23,
    "start_time": "2025-04-01T17:38:02.430Z"
   },
   {
    "duration": 225,
    "start_time": "2025-04-01T17:38:02.455Z"
   },
   {
    "duration": 0,
    "start_time": "2025-04-01T17:38:02.682Z"
   },
   {
    "duration": 0,
    "start_time": "2025-04-01T17:38:02.683Z"
   },
   {
    "duration": 0,
    "start_time": "2025-04-01T17:38:02.684Z"
   },
   {
    "duration": 0,
    "start_time": "2025-04-01T17:38:02.685Z"
   },
   {
    "duration": 0,
    "start_time": "2025-04-01T17:38:02.686Z"
   },
   {
    "duration": 0,
    "start_time": "2025-04-01T17:38:02.688Z"
   },
   {
    "duration": 0,
    "start_time": "2025-04-01T17:38:02.689Z"
   },
   {
    "duration": 0,
    "start_time": "2025-04-01T17:38:02.690Z"
   },
   {
    "duration": 2,
    "start_time": "2025-04-01T17:38:46.771Z"
   },
   {
    "duration": 2642,
    "start_time": "2025-04-01T17:39:05.096Z"
   },
   {
    "duration": 84,
    "start_time": "2025-04-01T17:40:09.275Z"
   },
   {
    "duration": 88,
    "start_time": "2025-04-01T17:40:21.579Z"
   },
   {
    "duration": 3,
    "start_time": "2025-04-01T17:40:36.209Z"
   },
   {
    "duration": 3,
    "start_time": "2025-04-01T17:40:44.941Z"
   },
   {
    "duration": 283,
    "start_time": "2025-04-01T17:42:29.789Z"
   },
   {
    "duration": 210,
    "start_time": "2025-04-01T17:51:08.612Z"
   },
   {
    "duration": 16,
    "start_time": "2025-04-01T17:51:17.321Z"
   },
   {
    "duration": 215,
    "start_time": "2025-04-01T17:52:08.214Z"
   },
   {
    "duration": 6,
    "start_time": "2025-04-01T18:00:11.749Z"
   },
   {
    "duration": 2560,
    "start_time": "2025-04-01T18:04:09.977Z"
   },
   {
    "duration": 8241,
    "start_time": "2025-04-01T18:04:12.539Z"
   },
   {
    "duration": 3,
    "start_time": "2025-04-01T18:04:20.782Z"
   },
   {
    "duration": 36,
    "start_time": "2025-04-01T18:04:20.787Z"
   },
   {
    "duration": 216,
    "start_time": "2025-04-01T18:04:20.825Z"
   },
   {
    "duration": 47,
    "start_time": "2025-04-01T18:04:21.042Z"
   },
   {
    "duration": 1356,
    "start_time": "2025-04-01T18:04:21.091Z"
   },
   {
    "duration": 528,
    "start_time": "2025-04-01T18:04:22.449Z"
   },
   {
    "duration": 8574,
    "start_time": "2025-04-01T18:04:22.979Z"
   },
   {
    "duration": 0,
    "start_time": "2025-04-01T18:04:31.558Z"
   },
   {
    "duration": 0,
    "start_time": "2025-04-01T18:04:31.560Z"
   },
   {
    "duration": 0,
    "start_time": "2025-04-01T18:04:31.561Z"
   },
   {
    "duration": 0,
    "start_time": "2025-04-01T18:04:31.562Z"
   },
   {
    "duration": 0,
    "start_time": "2025-04-01T18:04:31.564Z"
   },
   {
    "duration": 0,
    "start_time": "2025-04-01T18:04:31.565Z"
   },
   {
    "duration": 0,
    "start_time": "2025-04-01T18:04:31.566Z"
   },
   {
    "duration": 0,
    "start_time": "2025-04-01T18:04:31.568Z"
   },
   {
    "duration": 0,
    "start_time": "2025-04-01T18:04:31.569Z"
   },
   {
    "duration": 0,
    "start_time": "2025-04-01T18:04:31.570Z"
   },
   {
    "duration": 0,
    "start_time": "2025-04-01T18:04:31.572Z"
   },
   {
    "duration": 0,
    "start_time": "2025-04-01T18:04:31.573Z"
   },
   {
    "duration": 0,
    "start_time": "2025-04-01T18:04:31.574Z"
   },
   {
    "duration": 0,
    "start_time": "2025-04-01T18:04:31.576Z"
   },
   {
    "duration": 0,
    "start_time": "2025-04-01T18:04:31.577Z"
   },
   {
    "duration": 0,
    "start_time": "2025-04-01T18:04:31.579Z"
   },
   {
    "duration": 0,
    "start_time": "2025-04-01T18:04:31.580Z"
   },
   {
    "duration": 0,
    "start_time": "2025-04-01T18:04:31.581Z"
   },
   {
    "duration": 0,
    "start_time": "2025-04-01T18:04:31.583Z"
   },
   {
    "duration": 0,
    "start_time": "2025-04-01T18:04:31.584Z"
   },
   {
    "duration": 0,
    "start_time": "2025-04-01T18:04:31.585Z"
   },
   {
    "duration": 0,
    "start_time": "2025-04-01T18:04:31.587Z"
   },
   {
    "duration": 0,
    "start_time": "2025-04-01T18:04:31.588Z"
   },
   {
    "duration": 0,
    "start_time": "2025-04-01T18:04:31.589Z"
   },
   {
    "duration": 0,
    "start_time": "2025-04-01T18:04:31.591Z"
   },
   {
    "duration": 0,
    "start_time": "2025-04-01T18:04:31.592Z"
   },
   {
    "duration": 0,
    "start_time": "2025-04-01T18:04:31.593Z"
   },
   {
    "duration": 0,
    "start_time": "2025-04-01T18:04:31.594Z"
   },
   {
    "duration": 0,
    "start_time": "2025-04-01T18:04:31.595Z"
   },
   {
    "duration": 0,
    "start_time": "2025-04-01T18:04:31.596Z"
   },
   {
    "duration": 0,
    "start_time": "2025-04-01T18:04:31.597Z"
   },
   {
    "duration": 0,
    "start_time": "2025-04-01T18:04:31.598Z"
   },
   {
    "duration": 0,
    "start_time": "2025-04-01T18:04:31.599Z"
   },
   {
    "duration": 0,
    "start_time": "2025-04-01T18:04:31.600Z"
   },
   {
    "duration": 0,
    "start_time": "2025-04-01T18:04:31.601Z"
   },
   {
    "duration": 0,
    "start_time": "2025-04-01T18:04:31.602Z"
   },
   {
    "duration": 0,
    "start_time": "2025-04-01T18:04:31.603Z"
   },
   {
    "duration": 0,
    "start_time": "2025-04-01T18:04:31.604Z"
   },
   {
    "duration": 0,
    "start_time": "2025-04-01T18:04:31.605Z"
   },
   {
    "duration": 0,
    "start_time": "2025-04-01T18:04:31.606Z"
   },
   {
    "duration": 0,
    "start_time": "2025-04-01T18:04:31.607Z"
   },
   {
    "duration": 0,
    "start_time": "2025-04-01T18:04:31.608Z"
   },
   {
    "duration": 0,
    "start_time": "2025-04-01T18:04:31.609Z"
   },
   {
    "duration": 0,
    "start_time": "2025-04-01T18:04:31.609Z"
   },
   {
    "duration": 0,
    "start_time": "2025-04-01T18:04:31.610Z"
   },
   {
    "duration": 0,
    "start_time": "2025-04-01T18:04:31.611Z"
   },
   {
    "duration": 0,
    "start_time": "2025-04-01T18:04:31.612Z"
   },
   {
    "duration": 0,
    "start_time": "2025-04-01T18:04:31.613Z"
   },
   {
    "duration": 0,
    "start_time": "2025-04-01T18:04:31.614Z"
   },
   {
    "duration": 0,
    "start_time": "2025-04-01T18:04:31.615Z"
   },
   {
    "duration": 0,
    "start_time": "2025-04-01T18:04:31.616Z"
   },
   {
    "duration": 0,
    "start_time": "2025-04-01T18:04:31.677Z"
   },
   {
    "duration": 0,
    "start_time": "2025-04-01T18:04:31.678Z"
   },
   {
    "duration": 0,
    "start_time": "2025-04-01T18:04:31.679Z"
   },
   {
    "duration": 0,
    "start_time": "2025-04-01T18:04:31.680Z"
   },
   {
    "duration": 0,
    "start_time": "2025-04-01T18:04:31.681Z"
   },
   {
    "duration": 0,
    "start_time": "2025-04-01T18:04:31.682Z"
   },
   {
    "duration": 0,
    "start_time": "2025-04-01T18:04:31.683Z"
   },
   {
    "duration": 0,
    "start_time": "2025-04-01T18:04:31.684Z"
   },
   {
    "duration": 0,
    "start_time": "2025-04-01T18:04:31.685Z"
   },
   {
    "duration": 0,
    "start_time": "2025-04-01T18:04:31.686Z"
   },
   {
    "duration": 0,
    "start_time": "2025-04-01T18:04:31.687Z"
   },
   {
    "duration": 0,
    "start_time": "2025-04-01T18:04:31.688Z"
   },
   {
    "duration": 0,
    "start_time": "2025-04-01T18:04:31.689Z"
   },
   {
    "duration": 0,
    "start_time": "2025-04-01T18:04:31.690Z"
   },
   {
    "duration": 0,
    "start_time": "2025-04-01T18:04:31.691Z"
   },
   {
    "duration": 0,
    "start_time": "2025-04-01T18:04:31.692Z"
   },
   {
    "duration": 0,
    "start_time": "2025-04-01T18:04:31.693Z"
   },
   {
    "duration": 0,
    "start_time": "2025-04-01T18:04:31.694Z"
   },
   {
    "duration": 0,
    "start_time": "2025-04-01T18:04:31.695Z"
   },
   {
    "duration": 0,
    "start_time": "2025-04-01T18:04:31.696Z"
   },
   {
    "duration": 0,
    "start_time": "2025-04-01T18:04:31.697Z"
   },
   {
    "duration": 0,
    "start_time": "2025-04-01T18:04:31.698Z"
   },
   {
    "duration": 0,
    "start_time": "2025-04-01T18:04:31.699Z"
   },
   {
    "duration": 0,
    "start_time": "2025-04-01T18:04:31.700Z"
   },
   {
    "duration": 0,
    "start_time": "2025-04-01T18:04:31.701Z"
   },
   {
    "duration": 0,
    "start_time": "2025-04-01T18:04:31.702Z"
   },
   {
    "duration": 0,
    "start_time": "2025-04-01T18:04:31.703Z"
   },
   {
    "duration": 0,
    "start_time": "2025-04-01T18:04:31.704Z"
   },
   {
    "duration": 0,
    "start_time": "2025-04-01T18:04:31.705Z"
   },
   {
    "duration": 0,
    "start_time": "2025-04-01T18:04:31.706Z"
   },
   {
    "duration": 0,
    "start_time": "2025-04-01T18:04:31.706Z"
   },
   {
    "duration": 7900,
    "start_time": "2025-04-03T17:20:56.705Z"
   },
   {
    "duration": 7433,
    "start_time": "2025-04-03T17:21:04.607Z"
   },
   {
    "duration": 4,
    "start_time": "2025-04-03T17:21:12.041Z"
   },
   {
    "duration": 210,
    "start_time": "2025-04-03T17:21:12.047Z"
   },
   {
    "duration": 207,
    "start_time": "2025-04-03T17:21:12.258Z"
   },
   {
    "duration": 47,
    "start_time": "2025-04-03T17:21:12.467Z"
   },
   {
    "duration": 1130,
    "start_time": "2025-04-03T17:21:12.516Z"
   },
   {
    "duration": 505,
    "start_time": "2025-04-03T17:21:13.648Z"
   },
   {
    "duration": 9229,
    "start_time": "2025-04-03T17:21:14.155Z"
   },
   {
    "duration": 2819,
    "start_time": "2025-04-03T17:21:23.388Z"
   },
   {
    "duration": 918,
    "start_time": "2025-04-03T17:21:26.209Z"
   },
   {
    "duration": 373,
    "start_time": "2025-04-03T17:21:27.128Z"
   },
   {
    "duration": 14296,
    "start_time": "2025-04-03T17:21:27.502Z"
   },
   {
    "duration": 14731,
    "start_time": "2025-04-03T17:21:41.799Z"
   },
   {
    "duration": 10004,
    "start_time": "2025-04-03T17:21:56.532Z"
   },
   {
    "duration": 87,
    "start_time": "2025-04-03T17:22:06.538Z"
   },
   {
    "duration": 53,
    "start_time": "2025-04-03T17:22:06.627Z"
   },
   {
    "duration": 2,
    "start_time": "2025-04-03T17:22:06.681Z"
   },
   {
    "duration": 137,
    "start_time": "2025-04-03T17:22:06.684Z"
   },
   {
    "duration": 13,
    "start_time": "2025-04-03T17:22:06.823Z"
   },
   {
    "duration": 5,
    "start_time": "2025-04-03T17:22:06.838Z"
   },
   {
    "duration": 764,
    "start_time": "2025-04-03T17:22:06.845Z"
   },
   {
    "duration": 3,
    "start_time": "2025-04-03T17:22:07.611Z"
   },
   {
    "duration": 13,
    "start_time": "2025-04-03T17:22:07.615Z"
   },
   {
    "duration": 5,
    "start_time": "2025-04-03T17:22:07.629Z"
   },
   {
    "duration": 143,
    "start_time": "2025-04-03T17:22:07.635Z"
   },
   {
    "duration": 156,
    "start_time": "2025-04-03T17:22:07.780Z"
   },
   {
    "duration": 172,
    "start_time": "2025-04-03T17:22:07.940Z"
   },
   {
    "duration": 163,
    "start_time": "2025-04-03T17:22:08.114Z"
   },
   {
    "duration": 2,
    "start_time": "2025-04-03T17:22:08.279Z"
   },
   {
    "duration": 5,
    "start_time": "2025-04-03T17:22:08.282Z"
   },
   {
    "duration": 14,
    "start_time": "2025-04-03T17:22:08.288Z"
   },
   {
    "duration": 14,
    "start_time": "2025-04-03T17:22:08.304Z"
   },
   {
    "duration": 3,
    "start_time": "2025-04-03T17:22:08.320Z"
   },
   {
    "duration": 6,
    "start_time": "2025-04-03T17:22:08.325Z"
   },
   {
    "duration": 5,
    "start_time": "2025-04-03T17:22:08.334Z"
   },
   {
    "duration": 3,
    "start_time": "2025-04-03T17:22:08.341Z"
   },
   {
    "duration": 1906,
    "start_time": "2025-04-03T17:22:08.346Z"
   },
   {
    "duration": 52,
    "start_time": "2025-04-03T17:22:10.254Z"
   },
   {
    "duration": 100,
    "start_time": "2025-04-03T17:22:10.308Z"
   },
   {
    "duration": 2,
    "start_time": "2025-04-03T17:22:10.410Z"
   },
   {
    "duration": 50,
    "start_time": "2025-04-03T17:22:10.413Z"
   },
   {
    "duration": 82,
    "start_time": "2025-04-03T17:22:10.464Z"
   },
   {
    "duration": 46,
    "start_time": "2025-04-03T17:22:10.548Z"
   },
   {
    "duration": 688,
    "start_time": "2025-04-03T17:22:10.595Z"
   },
   {
    "duration": 10,
    "start_time": "2025-04-03T17:22:11.285Z"
   },
   {
    "duration": 31,
    "start_time": "2025-04-03T17:22:11.296Z"
   },
   {
    "duration": 27,
    "start_time": "2025-04-03T17:22:11.328Z"
   },
   {
    "duration": 25,
    "start_time": "2025-04-03T17:22:11.356Z"
   },
   {
    "duration": 176,
    "start_time": "2025-04-03T17:22:11.383Z"
   },
   {
    "duration": 155,
    "start_time": "2025-04-03T17:22:11.561Z"
   },
   {
    "duration": 175,
    "start_time": "2025-04-03T17:22:11.718Z"
   },
   {
    "duration": 163,
    "start_time": "2025-04-03T17:22:11.895Z"
   },
   {
    "duration": 134,
    "start_time": "2025-04-03T17:22:12.059Z"
   },
   {
    "duration": 929,
    "start_time": "2025-04-03T17:22:12.195Z"
   },
   {
    "duration": 128,
    "start_time": "2025-04-03T17:22:13.125Z"
   },
   {
    "duration": 114,
    "start_time": "2025-04-03T17:22:13.255Z"
   },
   {
    "duration": 19,
    "start_time": "2025-04-03T17:22:13.371Z"
   },
   {
    "duration": 33,
    "start_time": "2025-04-03T17:22:13.392Z"
   },
   {
    "duration": 16,
    "start_time": "2025-04-03T17:22:13.426Z"
   },
   {
    "duration": 35,
    "start_time": "2025-04-03T17:22:13.444Z"
   },
   {
    "duration": 32,
    "start_time": "2025-04-03T17:22:13.481Z"
   },
   {
    "duration": 25,
    "start_time": "2025-04-03T17:22:13.515Z"
   },
   {
    "duration": 24,
    "start_time": "2025-04-03T17:22:13.542Z"
   },
   {
    "duration": 23,
    "start_time": "2025-04-03T17:22:13.568Z"
   },
   {
    "duration": 2902,
    "start_time": "2025-04-03T17:22:13.593Z"
   },
   {
    "duration": 11,
    "start_time": "2025-04-03T17:22:16.496Z"
   },
   {
    "duration": 0,
    "start_time": "2025-04-03T17:22:16.508Z"
   },
   {
    "duration": 0,
    "start_time": "2025-04-03T17:22:16.509Z"
   },
   {
    "duration": 0,
    "start_time": "2025-04-03T17:22:16.510Z"
   },
   {
    "duration": 0,
    "start_time": "2025-04-03T17:22:16.512Z"
   },
   {
    "duration": 0,
    "start_time": "2025-04-03T17:22:16.512Z"
   },
   {
    "duration": 0,
    "start_time": "2025-04-03T17:22:16.513Z"
   },
   {
    "duration": 0,
    "start_time": "2025-04-03T17:22:16.515Z"
   },
   {
    "duration": 0,
    "start_time": "2025-04-03T17:22:16.516Z"
   },
   {
    "duration": 0,
    "start_time": "2025-04-03T17:22:16.516Z"
   },
   {
    "duration": 0,
    "start_time": "2025-04-03T17:22:16.517Z"
   },
   {
    "duration": 0,
    "start_time": "2025-04-03T17:22:16.518Z"
   },
   {
    "duration": 0,
    "start_time": "2025-04-03T17:22:16.519Z"
   },
   {
    "duration": 0,
    "start_time": "2025-04-03T17:22:16.520Z"
   },
   {
    "duration": 0,
    "start_time": "2025-04-03T17:22:16.521Z"
   },
   {
    "duration": 0,
    "start_time": "2025-04-03T17:22:16.522Z"
   },
   {
    "duration": 0,
    "start_time": "2025-04-03T17:22:16.523Z"
   },
   {
    "duration": 0,
    "start_time": "2025-04-03T17:22:16.524Z"
   },
   {
    "duration": 0,
    "start_time": "2025-04-03T17:22:16.524Z"
   },
   {
    "duration": 0,
    "start_time": "2025-04-03T17:22:16.525Z"
   },
   {
    "duration": 0,
    "start_time": "2025-04-03T17:22:16.526Z"
   },
   {
    "duration": 0,
    "start_time": "2025-04-03T17:22:16.527Z"
   },
   {
    "duration": 0,
    "start_time": "2025-04-03T17:22:16.528Z"
   },
   {
    "duration": 0,
    "start_time": "2025-04-03T17:22:16.529Z"
   },
   {
    "duration": 0,
    "start_time": "2025-04-03T17:22:16.530Z"
   },
   {
    "duration": 2791,
    "start_time": "2025-04-03T17:29:41.559Z"
   },
   {
    "duration": 7170,
    "start_time": "2025-04-03T17:29:44.352Z"
   },
   {
    "duration": 3,
    "start_time": "2025-04-03T17:29:51.524Z"
   },
   {
    "duration": 29,
    "start_time": "2025-04-03T17:29:51.529Z"
   },
   {
    "duration": 227,
    "start_time": "2025-04-03T17:29:51.560Z"
   },
   {
    "duration": 43,
    "start_time": "2025-04-03T17:29:51.788Z"
   },
   {
    "duration": 1171,
    "start_time": "2025-04-03T17:29:51.832Z"
   },
   {
    "duration": 505,
    "start_time": "2025-04-03T17:29:53.004Z"
   },
   {
    "duration": 9627,
    "start_time": "2025-04-03T17:29:53.510Z"
   },
   {
    "duration": 2865,
    "start_time": "2025-04-03T17:30:03.139Z"
   },
   {
    "duration": 939,
    "start_time": "2025-04-03T17:30:06.006Z"
   },
   {
    "duration": 367,
    "start_time": "2025-04-03T17:30:06.947Z"
   },
   {
    "duration": 12698,
    "start_time": "2025-04-03T17:30:07.316Z"
   },
   {
    "duration": 2986,
    "start_time": "2025-04-04T11:58:49.544Z"
   },
   {
    "duration": 10463,
    "start_time": "2025-04-04T11:58:52.532Z"
   },
   {
    "duration": 7,
    "start_time": "2025-04-04T11:59:02.997Z"
   },
   {
    "duration": 77,
    "start_time": "2025-04-04T11:59:03.006Z"
   },
   {
    "duration": 379,
    "start_time": "2025-04-04T11:59:03.085Z"
   },
   {
    "duration": 49,
    "start_time": "2025-04-04T11:59:03.466Z"
   },
   {
    "duration": 1224,
    "start_time": "2025-04-04T11:59:03.517Z"
   },
   {
    "duration": 668,
    "start_time": "2025-04-04T11:59:04.743Z"
   },
   {
    "duration": 11264,
    "start_time": "2025-04-04T11:59:05.413Z"
   },
   {
    "duration": 4150,
    "start_time": "2025-04-04T11:59:16.679Z"
   },
   {
    "duration": 1316,
    "start_time": "2025-04-04T11:59:20.832Z"
   },
   {
    "duration": 494,
    "start_time": "2025-04-04T11:59:22.149Z"
   }
  ],
  "colab": {
   "provenance": []
  },
  "kernelspec": {
   "display_name": "Python 3 (ipykernel)",
   "language": "python",
   "name": "python3"
  },
  "language_info": {
   "codemirror_mode": {
    "name": "ipython",
    "version": 3
   },
   "file_extension": ".py",
   "mimetype": "text/x-python",
   "name": "python",
   "nbconvert_exporter": "python",
   "pygments_lexer": "ipython3",
   "version": "3.11.5"
  },
  "toc": {
   "base_numbering": 1,
   "nav_menu": {},
   "number_sections": false,
   "sideBar": true,
   "skip_h1_title": false,
   "title_cell": "Table of Contents",
   "title_sidebar": "Contents",
   "toc_cell": false,
   "toc_position": {},
   "toc_section_display": true,
   "toc_window_display": false
  },
  "varInspector": {
   "cols": {
    "lenName": 16,
    "lenType": 16,
    "lenVar": 40
   },
   "kernels_config": {
    "python": {
     "delete_cmd_postfix": "",
     "delete_cmd_prefix": "del ",
     "library": "var_list.py",
     "varRefreshCmd": "print(var_dic_list())"
    },
    "r": {
     "delete_cmd_postfix": ") ",
     "delete_cmd_prefix": "rm(",
     "library": "var_list.r",
     "varRefreshCmd": "cat(var_dic_list()) "
    }
   },
   "types_to_exclude": [
    "module",
    "function",
    "builtin_function_or_method",
    "instance",
    "_Feature"
   ],
   "window_display": false
  }
 },
 "nbformat": 4,
 "nbformat_minor": 5
}
